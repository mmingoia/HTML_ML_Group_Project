{
 "cells": [
  {
   "cell_type": "code",
   "execution_count": 2,
   "metadata": {},
   "outputs": [],
   "source": [
    "import datetime as dt\n",
    "import numpy as np\n",
    "import pandas as pd\n",
    "import sqlalchemy\n",
    "from sqlalchemy.ext.automap import automap_base\n",
    "from sqlalchemy.orm import Session\n",
    "from sqlalchemy import create_engine, func\n",
    "from flask import Flask, jsonify\n",
    "from flask import Flask, render_template\n",
    "import psycopg2\n",
    "from bokeh.models import ColumnDataSource\n",
    "from bokeh.plotting import figure, output_file, show\n",
    "import matplotlib.pyplot as plt\n",
    "import plotly.graph_objects as go\n"
   ]
  },
  {
   "cell_type": "code",
   "execution_count": 3,
   "metadata": {},
   "outputs": [],
   "source": [
    "t_host = \"provisionaldb2.cpvxmi357s0k.us-east-2.rds.amazonaws.com\" # either \"localhost\", a domain name, or an IP address.\n",
    "t_port = \"5432\" # default postgres port\n",
    "t_dbname = \"GroupProjectDB\"\n",
    "t_user = \"postgres\"\n",
    "t_pw = \"postgres\"\n",
    "db_conn = psycopg2.connect(host=t_host, port=t_port, dbname=t_dbname, user=t_user, password=t_pw)\n",
    "db_cursor = db_conn.cursor()"
   ]
  },
  {
   "cell_type": "code",
   "execution_count": 4,
   "metadata": {},
   "outputs": [],
   "source": [
    "# Read data from PostgreSQL database table and load into a DataFrame instance\n",
    "DashboardDataDF =  pd.read_sql(\"select * from \\\"turnoutanalysisdata\\\"\", db_conn)\n",
    "PercentRegisteredData =  [DashboardDataDF[\"electionyear\"],DashboardDataDF[\"stateabbreviation\"], DashboardDataDF[\"statename\"] , DashboardDataDF[\"pct_reg_of_vep_vrs\"],DashboardDataDF[\"voterturnout\"]]\n",
    "PercentRegisteredHeaders = [\"ElectionYear\",\"StateAbbreviation\",\"StateName\",\"PercentOfRegisteredVoters\",\"PercentTurnout\" ]\n",
    "PercentRegisteredDF = pd.concat(PercentRegisteredData, axis=1, keys=PercentRegisteredHeaders)"
   ]
  },
  {
   "cell_type": "code",
   "execution_count": 5,
   "metadata": {},
   "outputs": [],
   "source": [
    "PercentRegisteredDF2008=PercentRegisteredDF[PercentRegisteredDF['ElectionYear']==2008]"
   ]
  },
  {
   "cell_type": "code",
   "execution_count": 6,
   "metadata": {},
   "outputs": [
    {
     "output_type": "execute_result",
     "data": {
      "text/plain": [
       "    ElectionYear StateAbbreviation       StateName  PercentOfRegisteredVoters  \\\n",
       "0           2008                AL         Alabama                   0.852208   \n",
       "1           2008                AK          Alaska                   0.875693   \n",
       "2           2008                AZ         Arizona                   0.829416   \n",
       "3           2008                AR        Arkansas                   0.742385   \n",
       "4           2008                CA      California                   0.824846   \n",
       "5           2008                CO        Colorado                   0.840033   \n",
       "6           2008                CT     Connecticut                   0.855638   \n",
       "7           2008                DE        Delaware                   0.857940   \n",
       "8           2008                FL         Florida                   0.876890   \n",
       "9           2008                GA         Georgia                   0.849353   \n",
       "10          2008                HI          Hawaii                   0.696120   \n",
       "11          2008                ID           Idaho                   0.771011   \n",
       "12          2008                IL        Illinois                   0.852006   \n",
       "13          2008                IN         Indiana                   0.810648   \n",
       "14          2008                IA            Iowa                   0.853158   \n",
       "15          2008                KS          Kansas                   0.771795   \n",
       "16          2008                KY        Kentucky                   0.831679   \n",
       "17          2008                LA       Louisiana                   0.880880   \n",
       "18          2008                ME           Maine                   0.864557   \n",
       "19          2008                MD        Maryland                   0.870055   \n",
       "20          2008                MA   Massachusetts                   0.870557   \n",
       "21          2008                MI        Michigan                   0.904447   \n",
       "22          2008                MN       Minnesota                   0.918129   \n",
       "23          2008                MS     Mississippi                   0.868227   \n",
       "24          2008                MO        Missouri                   0.854682   \n",
       "25          2008                MT         Montana                   0.802069   \n",
       "26          2008                NE        Nebraska                   0.827338   \n",
       "27          2008                NV          Nevada                   0.776005   \n",
       "28          2008                NH   New Hampshire                   0.843120   \n",
       "29          2008                NJ      New Jersey                   0.854699   \n",
       "30          2008                NM      New Mexico                   0.808256   \n",
       "31          2008                NY        New York                   0.839322   \n",
       "32          2008                NC  North Carolina                   0.845099   \n",
       "33          2008                ND    North Dakota                        NaN   \n",
       "34          2008                OH            Ohio                   0.844206   \n",
       "35          2008                OK        Oklahoma                   0.810813   \n",
       "36          2008                OR          Oregon                   0.850467   \n",
       "37          2008                PA    Pennsylvania                   0.813880   \n",
       "38          2008                RI    Rhode Island                   0.841730   \n",
       "39          2008                SC  South Carolina                   0.806624   \n",
       "40          2008                SD    South Dakota                   0.836161   \n",
       "41          2008                TN       Tennessee                   0.802247   \n",
       "42          2008                TX           Texas                   0.794732   \n",
       "43          2008                UT            Utah                   0.758163   \n",
       "44          2008                VT         Vermont                   0.834251   \n",
       "45          2008                VA        Virginia                   0.873056   \n",
       "46          2008                WA      Washington                   0.841908   \n",
       "47          2008                WV   West Virginia                   0.781425   \n",
       "48          2008                WI       Wisconsin                   0.869157   \n",
       "49          2008                WY         Wyoming                   0.782883   \n",
       "\n",
       "    PercentTurnout  \n",
       "0            0.608  \n",
       "1            0.680  \n",
       "2            0.567  \n",
       "3            0.525  \n",
       "4            0.609  \n",
       "5            0.710  \n",
       "6            0.666  \n",
       "7            0.656  \n",
       "8            0.661  \n",
       "9            0.625  \n",
       "10           0.488  \n",
       "11           0.636  \n",
       "12           0.636  \n",
       "13           0.591  \n",
       "14           0.694  \n",
       "15           0.620  \n",
       "16           0.579  \n",
       "17           0.612  \n",
       "18           0.706  \n",
       "19           0.670  \n",
       "20           0.668  \n",
       "21           0.692  \n",
       "22           0.778  \n",
       "23           0.610  \n",
       "24           0.676  \n",
       "25           0.663  \n",
       "26           0.629  \n",
       "27           0.570  \n",
       "28           0.717  \n",
       "29           0.670  \n",
       "30           0.609  \n",
       "31           0.590  \n",
       "32           0.655  \n",
       "33           0.627  \n",
       "34           0.669  \n",
       "35           0.558  \n",
       "36           0.677  \n",
       "37           0.636  \n",
       "38           0.618  \n",
       "39           0.580  \n",
       "40           0.647  \n",
       "41           0.570  \n",
       "42           0.541  \n",
       "43           0.560  \n",
       "44           0.673  \n",
       "45           0.670  \n",
       "46           0.666  \n",
       "47           0.499  \n",
       "48           0.724  \n",
       "49           0.628  "
      ],
      "text/html": "<div>\n<style scoped>\n    .dataframe tbody tr th:only-of-type {\n        vertical-align: middle;\n    }\n\n    .dataframe tbody tr th {\n        vertical-align: top;\n    }\n\n    .dataframe thead th {\n        text-align: right;\n    }\n</style>\n<table border=\"1\" class=\"dataframe\">\n  <thead>\n    <tr style=\"text-align: right;\">\n      <th></th>\n      <th>ElectionYear</th>\n      <th>StateAbbreviation</th>\n      <th>StateName</th>\n      <th>PercentOfRegisteredVoters</th>\n      <th>PercentTurnout</th>\n    </tr>\n  </thead>\n  <tbody>\n    <tr>\n      <th>0</th>\n      <td>2008</td>\n      <td>AL</td>\n      <td>Alabama</td>\n      <td>0.852208</td>\n      <td>0.608</td>\n    </tr>\n    <tr>\n      <th>1</th>\n      <td>2008</td>\n      <td>AK</td>\n      <td>Alaska</td>\n      <td>0.875693</td>\n      <td>0.680</td>\n    </tr>\n    <tr>\n      <th>2</th>\n      <td>2008</td>\n      <td>AZ</td>\n      <td>Arizona</td>\n      <td>0.829416</td>\n      <td>0.567</td>\n    </tr>\n    <tr>\n      <th>3</th>\n      <td>2008</td>\n      <td>AR</td>\n      <td>Arkansas</td>\n      <td>0.742385</td>\n      <td>0.525</td>\n    </tr>\n    <tr>\n      <th>4</th>\n      <td>2008</td>\n      <td>CA</td>\n      <td>California</td>\n      <td>0.824846</td>\n      <td>0.609</td>\n    </tr>\n    <tr>\n      <th>5</th>\n      <td>2008</td>\n      <td>CO</td>\n      <td>Colorado</td>\n      <td>0.840033</td>\n      <td>0.710</td>\n    </tr>\n    <tr>\n      <th>6</th>\n      <td>2008</td>\n      <td>CT</td>\n      <td>Connecticut</td>\n      <td>0.855638</td>\n      <td>0.666</td>\n    </tr>\n    <tr>\n      <th>7</th>\n      <td>2008</td>\n      <td>DE</td>\n      <td>Delaware</td>\n      <td>0.857940</td>\n      <td>0.656</td>\n    </tr>\n    <tr>\n      <th>8</th>\n      <td>2008</td>\n      <td>FL</td>\n      <td>Florida</td>\n      <td>0.876890</td>\n      <td>0.661</td>\n    </tr>\n    <tr>\n      <th>9</th>\n      <td>2008</td>\n      <td>GA</td>\n      <td>Georgia</td>\n      <td>0.849353</td>\n      <td>0.625</td>\n    </tr>\n    <tr>\n      <th>10</th>\n      <td>2008</td>\n      <td>HI</td>\n      <td>Hawaii</td>\n      <td>0.696120</td>\n      <td>0.488</td>\n    </tr>\n    <tr>\n      <th>11</th>\n      <td>2008</td>\n      <td>ID</td>\n      <td>Idaho</td>\n      <td>0.771011</td>\n      <td>0.636</td>\n    </tr>\n    <tr>\n      <th>12</th>\n      <td>2008</td>\n      <td>IL</td>\n      <td>Illinois</td>\n      <td>0.852006</td>\n      <td>0.636</td>\n    </tr>\n    <tr>\n      <th>13</th>\n      <td>2008</td>\n      <td>IN</td>\n      <td>Indiana</td>\n      <td>0.810648</td>\n      <td>0.591</td>\n    </tr>\n    <tr>\n      <th>14</th>\n      <td>2008</td>\n      <td>IA</td>\n      <td>Iowa</td>\n      <td>0.853158</td>\n      <td>0.694</td>\n    </tr>\n    <tr>\n      <th>15</th>\n      <td>2008</td>\n      <td>KS</td>\n      <td>Kansas</td>\n      <td>0.771795</td>\n      <td>0.620</td>\n    </tr>\n    <tr>\n      <th>16</th>\n      <td>2008</td>\n      <td>KY</td>\n      <td>Kentucky</td>\n      <td>0.831679</td>\n      <td>0.579</td>\n    </tr>\n    <tr>\n      <th>17</th>\n      <td>2008</td>\n      <td>LA</td>\n      <td>Louisiana</td>\n      <td>0.880880</td>\n      <td>0.612</td>\n    </tr>\n    <tr>\n      <th>18</th>\n      <td>2008</td>\n      <td>ME</td>\n      <td>Maine</td>\n      <td>0.864557</td>\n      <td>0.706</td>\n    </tr>\n    <tr>\n      <th>19</th>\n      <td>2008</td>\n      <td>MD</td>\n      <td>Maryland</td>\n      <td>0.870055</td>\n      <td>0.670</td>\n    </tr>\n    <tr>\n      <th>20</th>\n      <td>2008</td>\n      <td>MA</td>\n      <td>Massachusetts</td>\n      <td>0.870557</td>\n      <td>0.668</td>\n    </tr>\n    <tr>\n      <th>21</th>\n      <td>2008</td>\n      <td>MI</td>\n      <td>Michigan</td>\n      <td>0.904447</td>\n      <td>0.692</td>\n    </tr>\n    <tr>\n      <th>22</th>\n      <td>2008</td>\n      <td>MN</td>\n      <td>Minnesota</td>\n      <td>0.918129</td>\n      <td>0.778</td>\n    </tr>\n    <tr>\n      <th>23</th>\n      <td>2008</td>\n      <td>MS</td>\n      <td>Mississippi</td>\n      <td>0.868227</td>\n      <td>0.610</td>\n    </tr>\n    <tr>\n      <th>24</th>\n      <td>2008</td>\n      <td>MO</td>\n      <td>Missouri</td>\n      <td>0.854682</td>\n      <td>0.676</td>\n    </tr>\n    <tr>\n      <th>25</th>\n      <td>2008</td>\n      <td>MT</td>\n      <td>Montana</td>\n      <td>0.802069</td>\n      <td>0.663</td>\n    </tr>\n    <tr>\n      <th>26</th>\n      <td>2008</td>\n      <td>NE</td>\n      <td>Nebraska</td>\n      <td>0.827338</td>\n      <td>0.629</td>\n    </tr>\n    <tr>\n      <th>27</th>\n      <td>2008</td>\n      <td>NV</td>\n      <td>Nevada</td>\n      <td>0.776005</td>\n      <td>0.570</td>\n    </tr>\n    <tr>\n      <th>28</th>\n      <td>2008</td>\n      <td>NH</td>\n      <td>New Hampshire</td>\n      <td>0.843120</td>\n      <td>0.717</td>\n    </tr>\n    <tr>\n      <th>29</th>\n      <td>2008</td>\n      <td>NJ</td>\n      <td>New Jersey</td>\n      <td>0.854699</td>\n      <td>0.670</td>\n    </tr>\n    <tr>\n      <th>30</th>\n      <td>2008</td>\n      <td>NM</td>\n      <td>New Mexico</td>\n      <td>0.808256</td>\n      <td>0.609</td>\n    </tr>\n    <tr>\n      <th>31</th>\n      <td>2008</td>\n      <td>NY</td>\n      <td>New York</td>\n      <td>0.839322</td>\n      <td>0.590</td>\n    </tr>\n    <tr>\n      <th>32</th>\n      <td>2008</td>\n      <td>NC</td>\n      <td>North Carolina</td>\n      <td>0.845099</td>\n      <td>0.655</td>\n    </tr>\n    <tr>\n      <th>33</th>\n      <td>2008</td>\n      <td>ND</td>\n      <td>North Dakota</td>\n      <td>NaN</td>\n      <td>0.627</td>\n    </tr>\n    <tr>\n      <th>34</th>\n      <td>2008</td>\n      <td>OH</td>\n      <td>Ohio</td>\n      <td>0.844206</td>\n      <td>0.669</td>\n    </tr>\n    <tr>\n      <th>35</th>\n      <td>2008</td>\n      <td>OK</td>\n      <td>Oklahoma</td>\n      <td>0.810813</td>\n      <td>0.558</td>\n    </tr>\n    <tr>\n      <th>36</th>\n      <td>2008</td>\n      <td>OR</td>\n      <td>Oregon</td>\n      <td>0.850467</td>\n      <td>0.677</td>\n    </tr>\n    <tr>\n      <th>37</th>\n      <td>2008</td>\n      <td>PA</td>\n      <td>Pennsylvania</td>\n      <td>0.813880</td>\n      <td>0.636</td>\n    </tr>\n    <tr>\n      <th>38</th>\n      <td>2008</td>\n      <td>RI</td>\n      <td>Rhode Island</td>\n      <td>0.841730</td>\n      <td>0.618</td>\n    </tr>\n    <tr>\n      <th>39</th>\n      <td>2008</td>\n      <td>SC</td>\n      <td>South Carolina</td>\n      <td>0.806624</td>\n      <td>0.580</td>\n    </tr>\n    <tr>\n      <th>40</th>\n      <td>2008</td>\n      <td>SD</td>\n      <td>South Dakota</td>\n      <td>0.836161</td>\n      <td>0.647</td>\n    </tr>\n    <tr>\n      <th>41</th>\n      <td>2008</td>\n      <td>TN</td>\n      <td>Tennessee</td>\n      <td>0.802247</td>\n      <td>0.570</td>\n    </tr>\n    <tr>\n      <th>42</th>\n      <td>2008</td>\n      <td>TX</td>\n      <td>Texas</td>\n      <td>0.794732</td>\n      <td>0.541</td>\n    </tr>\n    <tr>\n      <th>43</th>\n      <td>2008</td>\n      <td>UT</td>\n      <td>Utah</td>\n      <td>0.758163</td>\n      <td>0.560</td>\n    </tr>\n    <tr>\n      <th>44</th>\n      <td>2008</td>\n      <td>VT</td>\n      <td>Vermont</td>\n      <td>0.834251</td>\n      <td>0.673</td>\n    </tr>\n    <tr>\n      <th>45</th>\n      <td>2008</td>\n      <td>VA</td>\n      <td>Virginia</td>\n      <td>0.873056</td>\n      <td>0.670</td>\n    </tr>\n    <tr>\n      <th>46</th>\n      <td>2008</td>\n      <td>WA</td>\n      <td>Washington</td>\n      <td>0.841908</td>\n      <td>0.666</td>\n    </tr>\n    <tr>\n      <th>47</th>\n      <td>2008</td>\n      <td>WV</td>\n      <td>West Virginia</td>\n      <td>0.781425</td>\n      <td>0.499</td>\n    </tr>\n    <tr>\n      <th>48</th>\n      <td>2008</td>\n      <td>WI</td>\n      <td>Wisconsin</td>\n      <td>0.869157</td>\n      <td>0.724</td>\n    </tr>\n    <tr>\n      <th>49</th>\n      <td>2008</td>\n      <td>WY</td>\n      <td>Wyoming</td>\n      <td>0.782883</td>\n      <td>0.628</td>\n    </tr>\n  </tbody>\n</table>\n</div>"
     },
     "metadata": {},
     "execution_count": 6
    }
   ],
   "source": [
    "PercentRegisteredDF2008"
   ]
  },
  {
   "cell_type": "code",
   "execution_count": 7,
   "metadata": {},
   "outputs": [],
   "source": [
    "import plotly.express as pe"
   ]
  },
  {
   "cell_type": "code",
   "execution_count": 8,
   "metadata": {},
   "outputs": [],
   "source": [
    "PercentRegisteredData =  [DashboardDataDF[\"electionyear\"],DashboardDataDF[\"stateabbreviation\"], DashboardDataDF[\"statename\"] , DashboardDataDF[\"pct_reg_of_vep_vrs\"], DashboardDataDF[\"voterturnout\"]]"
   ]
  },
  {
   "cell_type": "code",
   "execution_count": 9,
   "metadata": {},
   "outputs": [
    {
     "output_type": "execute_result",
     "data": {
      "text/plain": [
       "[0      2008\n",
       " 1      2008\n",
       " 2      2008\n",
       " 3      2008\n",
       " 4      2008\n",
       "        ... \n",
       " 295    2018\n",
       " 296    2018\n",
       " 297    2018\n",
       " 298    2018\n",
       " 299    2018\n",
       " Name: electionyear, Length: 300, dtype: int64,\n",
       " 0      AL\n",
       " 1      AK\n",
       " 2      AZ\n",
       " 3      AR\n",
       " 4      CA\n",
       "        ..\n",
       " 295    VA\n",
       " 296    WA\n",
       " 297    WV\n",
       " 298    WI\n",
       " 299    WY\n",
       " Name: stateabbreviation, Length: 300, dtype: object,\n",
       " 0            Alabama\n",
       " 1             Alaska\n",
       " 2            Arizona\n",
       " 3           Arkansas\n",
       " 4         California\n",
       "            ...      \n",
       " 295         Virginia\n",
       " 296       Washington\n",
       " 297    West Virginia\n",
       " 298        Wisconsin\n",
       " 299          Wyoming\n",
       " Name: statename, Length: 300, dtype: object,\n",
       " 0      0.852208\n",
       " 1      0.875693\n",
       " 2      0.829416\n",
       " 3      0.742385\n",
       " 4      0.824846\n",
       "          ...   \n",
       " 295    0.874413\n",
       " 296    0.855181\n",
       " 297    0.778394\n",
       " 298    0.828831\n",
       " 299    0.750195\n",
       " Name: pct_reg_of_vep_vrs, Length: 300, dtype: float64,\n",
       " 0      0.608\n",
       " 1      0.680\n",
       " 2      0.567\n",
       " 3      0.525\n",
       " 4      0.609\n",
       "        ...  \n",
       " 295    0.544\n",
       " 296    0.583\n",
       " 297    0.425\n",
       " 298    0.614\n",
       " 299    0.479\n",
       " Name: voterturnout, Length: 300, dtype: float64]"
      ]
     },
     "metadata": {},
     "execution_count": 9
    }
   ],
   "source": [
    "PercentRegisteredData"
   ]
  },
  {
   "cell_type": "code",
   "execution_count": 10,
   "metadata": {},
   "outputs": [],
   "source": [
    "PercentTurnoutDF2008 = PercentRegisteredDF2008"
   ]
  },
  {
   "cell_type": "code",
   "execution_count": 11,
   "metadata": {},
   "outputs": [
    {
     "output_type": "display_data",
     "data": {
      "application/vnd.plotly.v1+json": {
       "config": {
        "plotlyServerURL": "https://plot.ly"
       },
       "data": [
        {
         "alignmentgroup": "True",
         "hovertemplate": "StateAbbreviation=%{x}<br>PercentTurnout=%{y}<extra></extra>",
         "legendgroup": "",
         "marker": {
          "color": "green"
         },
         "name": "",
         "offsetgroup": "",
         "orientation": "v",
         "showlegend": false,
         "textposition": "auto",
         "type": "bar",
         "x": [
          "AL",
          "AK",
          "AZ",
          "AR",
          "CA",
          "CO",
          "CT",
          "DE",
          "FL",
          "GA",
          "HI",
          "ID",
          "IL",
          "IN",
          "IA",
          "KS",
          "KY",
          "LA",
          "ME",
          "MD",
          "MA",
          "MI",
          "MN",
          "MS",
          "MO",
          "MT",
          "NE",
          "NV",
          "NH",
          "NJ",
          "NM",
          "NY",
          "NC",
          "ND",
          "OH",
          "OK",
          "OR",
          "PA",
          "RI",
          "SC",
          "SD",
          "TN",
          "TX",
          "UT",
          "VT",
          "VA",
          "WA",
          "WV",
          "WI",
          "WY"
         ],
         "xaxis": "x",
         "y": [
          0.608,
          0.68,
          0.567,
          0.525,
          0.609,
          0.71,
          0.666,
          0.656,
          0.661,
          0.625,
          0.488,
          0.636,
          0.636,
          0.591,
          0.694,
          0.62,
          0.579,
          0.612,
          0.706,
          0.67,
          0.668,
          0.692,
          0.778,
          0.61,
          0.676,
          0.663,
          0.629,
          0.57,
          0.717,
          0.67,
          0.609,
          0.59,
          0.655,
          0.627,
          0.669,
          0.558,
          0.677,
          0.636,
          0.618,
          0.58,
          0.647,
          0.57,
          0.541,
          0.56,
          0.673,
          0.67,
          0.666,
          0.499,
          0.724,
          0.628
         ],
         "yaxis": "y"
        }
       ],
       "layout": {
        "barmode": "group",
        "height": 400,
        "legend": {
         "tracegroupgap": 0
        },
        "template": {
         "data": {
          "bar": [
           {
            "error_x": {
             "color": "#2a3f5f"
            },
            "error_y": {
             "color": "#2a3f5f"
            },
            "marker": {
             "line": {
              "color": "#E5ECF6",
              "width": 0.5
             }
            },
            "type": "bar"
           }
          ],
          "barpolar": [
           {
            "marker": {
             "line": {
              "color": "#E5ECF6",
              "width": 0.5
             }
            },
            "type": "barpolar"
           }
          ],
          "carpet": [
           {
            "aaxis": {
             "endlinecolor": "#2a3f5f",
             "gridcolor": "white",
             "linecolor": "white",
             "minorgridcolor": "white",
             "startlinecolor": "#2a3f5f"
            },
            "baxis": {
             "endlinecolor": "#2a3f5f",
             "gridcolor": "white",
             "linecolor": "white",
             "minorgridcolor": "white",
             "startlinecolor": "#2a3f5f"
            },
            "type": "carpet"
           }
          ],
          "choropleth": [
           {
            "colorbar": {
             "outlinewidth": 0,
             "ticks": ""
            },
            "type": "choropleth"
           }
          ],
          "contour": [
           {
            "colorbar": {
             "outlinewidth": 0,
             "ticks": ""
            },
            "colorscale": [
             [
              0,
              "#0d0887"
             ],
             [
              0.1111111111111111,
              "#46039f"
             ],
             [
              0.2222222222222222,
              "#7201a8"
             ],
             [
              0.3333333333333333,
              "#9c179e"
             ],
             [
              0.4444444444444444,
              "#bd3786"
             ],
             [
              0.5555555555555556,
              "#d8576b"
             ],
             [
              0.6666666666666666,
              "#ed7953"
             ],
             [
              0.7777777777777778,
              "#fb9f3a"
             ],
             [
              0.8888888888888888,
              "#fdca26"
             ],
             [
              1,
              "#f0f921"
             ]
            ],
            "type": "contour"
           }
          ],
          "contourcarpet": [
           {
            "colorbar": {
             "outlinewidth": 0,
             "ticks": ""
            },
            "type": "contourcarpet"
           }
          ],
          "heatmap": [
           {
            "colorbar": {
             "outlinewidth": 0,
             "ticks": ""
            },
            "colorscale": [
             [
              0,
              "#0d0887"
             ],
             [
              0.1111111111111111,
              "#46039f"
             ],
             [
              0.2222222222222222,
              "#7201a8"
             ],
             [
              0.3333333333333333,
              "#9c179e"
             ],
             [
              0.4444444444444444,
              "#bd3786"
             ],
             [
              0.5555555555555556,
              "#d8576b"
             ],
             [
              0.6666666666666666,
              "#ed7953"
             ],
             [
              0.7777777777777778,
              "#fb9f3a"
             ],
             [
              0.8888888888888888,
              "#fdca26"
             ],
             [
              1,
              "#f0f921"
             ]
            ],
            "type": "heatmap"
           }
          ],
          "heatmapgl": [
           {
            "colorbar": {
             "outlinewidth": 0,
             "ticks": ""
            },
            "colorscale": [
             [
              0,
              "#0d0887"
             ],
             [
              0.1111111111111111,
              "#46039f"
             ],
             [
              0.2222222222222222,
              "#7201a8"
             ],
             [
              0.3333333333333333,
              "#9c179e"
             ],
             [
              0.4444444444444444,
              "#bd3786"
             ],
             [
              0.5555555555555556,
              "#d8576b"
             ],
             [
              0.6666666666666666,
              "#ed7953"
             ],
             [
              0.7777777777777778,
              "#fb9f3a"
             ],
             [
              0.8888888888888888,
              "#fdca26"
             ],
             [
              1,
              "#f0f921"
             ]
            ],
            "type": "heatmapgl"
           }
          ],
          "histogram": [
           {
            "marker": {
             "colorbar": {
              "outlinewidth": 0,
              "ticks": ""
             }
            },
            "type": "histogram"
           }
          ],
          "histogram2d": [
           {
            "colorbar": {
             "outlinewidth": 0,
             "ticks": ""
            },
            "colorscale": [
             [
              0,
              "#0d0887"
             ],
             [
              0.1111111111111111,
              "#46039f"
             ],
             [
              0.2222222222222222,
              "#7201a8"
             ],
             [
              0.3333333333333333,
              "#9c179e"
             ],
             [
              0.4444444444444444,
              "#bd3786"
             ],
             [
              0.5555555555555556,
              "#d8576b"
             ],
             [
              0.6666666666666666,
              "#ed7953"
             ],
             [
              0.7777777777777778,
              "#fb9f3a"
             ],
             [
              0.8888888888888888,
              "#fdca26"
             ],
             [
              1,
              "#f0f921"
             ]
            ],
            "type": "histogram2d"
           }
          ],
          "histogram2dcontour": [
           {
            "colorbar": {
             "outlinewidth": 0,
             "ticks": ""
            },
            "colorscale": [
             [
              0,
              "#0d0887"
             ],
             [
              0.1111111111111111,
              "#46039f"
             ],
             [
              0.2222222222222222,
              "#7201a8"
             ],
             [
              0.3333333333333333,
              "#9c179e"
             ],
             [
              0.4444444444444444,
              "#bd3786"
             ],
             [
              0.5555555555555556,
              "#d8576b"
             ],
             [
              0.6666666666666666,
              "#ed7953"
             ],
             [
              0.7777777777777778,
              "#fb9f3a"
             ],
             [
              0.8888888888888888,
              "#fdca26"
             ],
             [
              1,
              "#f0f921"
             ]
            ],
            "type": "histogram2dcontour"
           }
          ],
          "mesh3d": [
           {
            "colorbar": {
             "outlinewidth": 0,
             "ticks": ""
            },
            "type": "mesh3d"
           }
          ],
          "parcoords": [
           {
            "line": {
             "colorbar": {
              "outlinewidth": 0,
              "ticks": ""
             }
            },
            "type": "parcoords"
           }
          ],
          "pie": [
           {
            "automargin": true,
            "type": "pie"
           }
          ],
          "scatter": [
           {
            "marker": {
             "colorbar": {
              "outlinewidth": 0,
              "ticks": ""
             }
            },
            "type": "scatter"
           }
          ],
          "scatter3d": [
           {
            "line": {
             "colorbar": {
              "outlinewidth": 0,
              "ticks": ""
             }
            },
            "marker": {
             "colorbar": {
              "outlinewidth": 0,
              "ticks": ""
             }
            },
            "type": "scatter3d"
           }
          ],
          "scattercarpet": [
           {
            "marker": {
             "colorbar": {
              "outlinewidth": 0,
              "ticks": ""
             }
            },
            "type": "scattercarpet"
           }
          ],
          "scattergeo": [
           {
            "marker": {
             "colorbar": {
              "outlinewidth": 0,
              "ticks": ""
             }
            },
            "type": "scattergeo"
           }
          ],
          "scattergl": [
           {
            "marker": {
             "colorbar": {
              "outlinewidth": 0,
              "ticks": ""
             }
            },
            "type": "scattergl"
           }
          ],
          "scattermapbox": [
           {
            "marker": {
             "colorbar": {
              "outlinewidth": 0,
              "ticks": ""
             }
            },
            "type": "scattermapbox"
           }
          ],
          "scatterpolar": [
           {
            "marker": {
             "colorbar": {
              "outlinewidth": 0,
              "ticks": ""
             }
            },
            "type": "scatterpolar"
           }
          ],
          "scatterpolargl": [
           {
            "marker": {
             "colorbar": {
              "outlinewidth": 0,
              "ticks": ""
             }
            },
            "type": "scatterpolargl"
           }
          ],
          "scatterternary": [
           {
            "marker": {
             "colorbar": {
              "outlinewidth": 0,
              "ticks": ""
             }
            },
            "type": "scatterternary"
           }
          ],
          "surface": [
           {
            "colorbar": {
             "outlinewidth": 0,
             "ticks": ""
            },
            "colorscale": [
             [
              0,
              "#0d0887"
             ],
             [
              0.1111111111111111,
              "#46039f"
             ],
             [
              0.2222222222222222,
              "#7201a8"
             ],
             [
              0.3333333333333333,
              "#9c179e"
             ],
             [
              0.4444444444444444,
              "#bd3786"
             ],
             [
              0.5555555555555556,
              "#d8576b"
             ],
             [
              0.6666666666666666,
              "#ed7953"
             ],
             [
              0.7777777777777778,
              "#fb9f3a"
             ],
             [
              0.8888888888888888,
              "#fdca26"
             ],
             [
              1,
              "#f0f921"
             ]
            ],
            "type": "surface"
           }
          ],
          "table": [
           {
            "cells": {
             "fill": {
              "color": "#EBF0F8"
             },
             "line": {
              "color": "white"
             }
            },
            "header": {
             "fill": {
              "color": "#C8D4E3"
             },
             "line": {
              "color": "white"
             }
            },
            "type": "table"
           }
          ]
         },
         "layout": {
          "annotationdefaults": {
           "arrowcolor": "#2a3f5f",
           "arrowhead": 0,
           "arrowwidth": 1
          },
          "coloraxis": {
           "colorbar": {
            "outlinewidth": 0,
            "ticks": ""
           }
          },
          "colorscale": {
           "diverging": [
            [
             0,
             "#8e0152"
            ],
            [
             0.1,
             "#c51b7d"
            ],
            [
             0.2,
             "#de77ae"
            ],
            [
             0.3,
             "#f1b6da"
            ],
            [
             0.4,
             "#fde0ef"
            ],
            [
             0.5,
             "#f7f7f7"
            ],
            [
             0.6,
             "#e6f5d0"
            ],
            [
             0.7,
             "#b8e186"
            ],
            [
             0.8,
             "#7fbc41"
            ],
            [
             0.9,
             "#4d9221"
            ],
            [
             1,
             "#276419"
            ]
           ],
           "sequential": [
            [
             0,
             "#0d0887"
            ],
            [
             0.1111111111111111,
             "#46039f"
            ],
            [
             0.2222222222222222,
             "#7201a8"
            ],
            [
             0.3333333333333333,
             "#9c179e"
            ],
            [
             0.4444444444444444,
             "#bd3786"
            ],
            [
             0.5555555555555556,
             "#d8576b"
            ],
            [
             0.6666666666666666,
             "#ed7953"
            ],
            [
             0.7777777777777778,
             "#fb9f3a"
            ],
            [
             0.8888888888888888,
             "#fdca26"
            ],
            [
             1,
             "#f0f921"
            ]
           ],
           "sequentialminus": [
            [
             0,
             "#0d0887"
            ],
            [
             0.1111111111111111,
             "#46039f"
            ],
            [
             0.2222222222222222,
             "#7201a8"
            ],
            [
             0.3333333333333333,
             "#9c179e"
            ],
            [
             0.4444444444444444,
             "#bd3786"
            ],
            [
             0.5555555555555556,
             "#d8576b"
            ],
            [
             0.6666666666666666,
             "#ed7953"
            ],
            [
             0.7777777777777778,
             "#fb9f3a"
            ],
            [
             0.8888888888888888,
             "#fdca26"
            ],
            [
             1,
             "#f0f921"
            ]
           ]
          },
          "colorway": [
           "#636efa",
           "#EF553B",
           "#00cc96",
           "#ab63fa",
           "#FFA15A",
           "#19d3f3",
           "#FF6692",
           "#B6E880",
           "#FF97FF",
           "#FECB52"
          ],
          "font": {
           "color": "#2a3f5f"
          },
          "geo": {
           "bgcolor": "white",
           "lakecolor": "white",
           "landcolor": "#E5ECF6",
           "showlakes": true,
           "showland": true,
           "subunitcolor": "white"
          },
          "hoverlabel": {
           "align": "left"
          },
          "hovermode": "closest",
          "mapbox": {
           "style": "light"
          },
          "paper_bgcolor": "white",
          "plot_bgcolor": "#E5ECF6",
          "polar": {
           "angularaxis": {
            "gridcolor": "white",
            "linecolor": "white",
            "ticks": ""
           },
           "bgcolor": "#E5ECF6",
           "radialaxis": {
            "gridcolor": "white",
            "linecolor": "white",
            "ticks": ""
           }
          },
          "scene": {
           "xaxis": {
            "backgroundcolor": "#E5ECF6",
            "gridcolor": "white",
            "gridwidth": 2,
            "linecolor": "white",
            "showbackground": true,
            "ticks": "",
            "zerolinecolor": "white"
           },
           "yaxis": {
            "backgroundcolor": "#E5ECF6",
            "gridcolor": "white",
            "gridwidth": 2,
            "linecolor": "white",
            "showbackground": true,
            "ticks": "",
            "zerolinecolor": "white"
           },
           "zaxis": {
            "backgroundcolor": "#E5ECF6",
            "gridcolor": "white",
            "gridwidth": 2,
            "linecolor": "white",
            "showbackground": true,
            "ticks": "",
            "zerolinecolor": "white"
           }
          },
          "shapedefaults": {
           "line": {
            "color": "#2a3f5f"
           }
          },
          "ternary": {
           "aaxis": {
            "gridcolor": "white",
            "linecolor": "white",
            "ticks": ""
           },
           "baxis": {
            "gridcolor": "white",
            "linecolor": "white",
            "ticks": ""
           },
           "bgcolor": "#E5ECF6",
           "caxis": {
            "gridcolor": "white",
            "linecolor": "white",
            "ticks": ""
           }
          },
          "title": {
           "x": 0.05
          },
          "xaxis": {
           "automargin": true,
           "gridcolor": "white",
           "linecolor": "white",
           "ticks": "",
           "title": {
            "standoff": 15
           },
           "zerolinecolor": "white",
           "zerolinewidth": 2
          },
          "yaxis": {
           "automargin": true,
           "gridcolor": "white",
           "linecolor": "white",
           "ticks": "",
           "title": {
            "standoff": 15
           },
           "zerolinecolor": "white",
           "zerolinewidth": 2
          }
         }
        },
        "title": {
         "text": "Turnout Data 2008"
        },
        "width": 1000,
        "xaxis": {
         "anchor": "y",
         "domain": [
          0,
          1
         ],
         "title": {
          "text": "StateAbbreviation"
         }
        },
        "yaxis": {
         "anchor": "x",
         "domain": [
          0,
          1
         ],
         "title": {
          "text": "PercentTurnout"
         }
        }
       }
      }
     },
     "metadata": {}
    }
   ],
   "source": [
    "Turnout2008 = pe.bar(PercentTurnoutDF2008, x=\"StateAbbreviation\", y=\"PercentTurnout\", title=\"Turnout Data 2008\",\n",
    "            color_discrete_sequence =['green']*len(PercentTurnoutDF2008),\n",
    "             barmode='group',\n",
    "             height=400, width=1000)\n",
    "Turnout2008.show()"
   ]
  },
  {
   "cell_type": "code",
   "execution_count": 12,
   "metadata": {},
   "outputs": [
    {
     "output_type": "execute_result",
     "data": {
      "text/plain": [
       "     ElectionYear StateAbbreviation       StateName  \\\n",
       "100          2016                AL         Alabama   \n",
       "101          2016                AK          Alaska   \n",
       "102          2016                AZ         Arizona   \n",
       "103          2016                AR        Arkansas   \n",
       "104          2016                CA      California   \n",
       "105          2016                CO        Colorado   \n",
       "106          2016                CT     Connecticut   \n",
       "107          2016                DE        Delaware   \n",
       "108          2016                FL         Florida   \n",
       "109          2016                GA         Georgia   \n",
       "110          2016                HI          Hawaii   \n",
       "111          2016                ID           Idaho   \n",
       "112          2016                IL        Illinois   \n",
       "113          2016                IN         Indiana   \n",
       "114          2016                IA            Iowa   \n",
       "115          2016                KS          Kansas   \n",
       "116          2016                KY        Kentucky   \n",
       "117          2016                LA       Louisiana   \n",
       "118          2016                ME           Maine   \n",
       "119          2016                MD        Maryland   \n",
       "120          2016                MA   Massachusetts   \n",
       "121          2016                MI        Michigan   \n",
       "122          2016                MN       Minnesota   \n",
       "123          2016                MS     Mississippi   \n",
       "124          2016                MO        Missouri   \n",
       "125          2016                MT         Montana   \n",
       "126          2016                NE        Nebraska   \n",
       "127          2016                NV          Nevada   \n",
       "128          2016                NH   New Hampshire   \n",
       "129          2016                NJ      New Jersey   \n",
       "130          2016                NM      New Mexico   \n",
       "131          2016                NY        New York   \n",
       "132          2016                NC  North Carolina   \n",
       "133          2016                ND    North Dakota   \n",
       "134          2016                OH            Ohio   \n",
       "135          2016                OK        Oklahoma   \n",
       "136          2016                OR          Oregon   \n",
       "137          2016                PA    Pennsylvania   \n",
       "138          2016                RI    Rhode Island   \n",
       "139          2016                SC  South Carolina   \n",
       "140          2016                SD    South Dakota   \n",
       "141          2016                TN       Tennessee   \n",
       "142          2016                TX           Texas   \n",
       "143          2016                UT            Utah   \n",
       "144          2016                VT         Vermont   \n",
       "145          2016                VA        Virginia   \n",
       "146          2016                WA      Washington   \n",
       "147          2016                WV   West Virginia   \n",
       "148          2016                WI       Wisconsin   \n",
       "149          2016                WY         Wyoming   \n",
       "\n",
       "     PercentOfRegisteredVoters  PercentTurnout  \n",
       "100                   0.862128           0.588  \n",
       "101                   0.875029           0.610  \n",
       "102                   0.809389           0.549  \n",
       "103                   0.837059           0.528  \n",
       "104                   0.797656           0.565  \n",
       "105                   0.900481           0.700  \n",
       "106                   0.865454           0.637  \n",
       "107                   0.869869           0.642  \n",
       "108                   0.870113           0.645  \n",
       "109                   0.833031           0.591  \n",
       "110                   0.718759           0.423  \n",
       "111                   0.780347           0.592  \n",
       "112                   0.884108           0.622  \n",
       "113                   0.813590           0.564  \n",
       "114                   0.858447           0.684  \n",
       "115                   0.807515           0.577  \n",
       "116                   0.829663           0.586  \n",
       "117                   0.864150           0.600  \n",
       "118                   0.876575           0.707  \n",
       "119                   0.884727           0.664  \n",
       "120                   0.876749           0.672  \n",
       "121                   0.889097           0.647  \n",
       "122                   0.886566           0.741  \n",
       "123                   0.870409           0.552  \n",
       "124                   0.853853           0.622  \n",
       "125                   0.822394           0.618  \n",
       "126                   0.855644           0.628  \n",
       "127                   0.804357           0.574  \n",
       "128                   0.868324           0.714  \n",
       "129                   0.867823           0.644  \n",
       "130                   0.755271           0.545  \n",
       "131                   0.830549           0.568  \n",
       "132                   0.879837           0.645  \n",
       "133                        NaN           0.608  \n",
       "134                   0.815843           0.629  \n",
       "135                   0.782611           0.523  \n",
       "136                   0.886364           0.662  \n",
       "137                   0.820514           0.636  \n",
       "138                   0.858531           0.591  \n",
       "139                   0.833021           0.567  \n",
       "140                   0.841782           0.586  \n",
       "141                   0.785164           0.511  \n",
       "142                   0.803469           0.514  \n",
       "143                   0.813415           0.568  \n",
       "144                   0.866877           0.637  \n",
       "145                   0.865253           0.661  \n",
       "146                   0.871618           0.647  \n",
       "147                   0.774906           0.502  \n",
       "148                   0.841669           0.695  \n",
       "149                   0.795159           0.595  "
      ],
      "text/html": "<div>\n<style scoped>\n    .dataframe tbody tr th:only-of-type {\n        vertical-align: middle;\n    }\n\n    .dataframe tbody tr th {\n        vertical-align: top;\n    }\n\n    .dataframe thead th {\n        text-align: right;\n    }\n</style>\n<table border=\"1\" class=\"dataframe\">\n  <thead>\n    <tr style=\"text-align: right;\">\n      <th></th>\n      <th>ElectionYear</th>\n      <th>StateAbbreviation</th>\n      <th>StateName</th>\n      <th>PercentOfRegisteredVoters</th>\n      <th>PercentTurnout</th>\n    </tr>\n  </thead>\n  <tbody>\n    <tr>\n      <th>100</th>\n      <td>2016</td>\n      <td>AL</td>\n      <td>Alabama</td>\n      <td>0.862128</td>\n      <td>0.588</td>\n    </tr>\n    <tr>\n      <th>101</th>\n      <td>2016</td>\n      <td>AK</td>\n      <td>Alaska</td>\n      <td>0.875029</td>\n      <td>0.610</td>\n    </tr>\n    <tr>\n      <th>102</th>\n      <td>2016</td>\n      <td>AZ</td>\n      <td>Arizona</td>\n      <td>0.809389</td>\n      <td>0.549</td>\n    </tr>\n    <tr>\n      <th>103</th>\n      <td>2016</td>\n      <td>AR</td>\n      <td>Arkansas</td>\n      <td>0.837059</td>\n      <td>0.528</td>\n    </tr>\n    <tr>\n      <th>104</th>\n      <td>2016</td>\n      <td>CA</td>\n      <td>California</td>\n      <td>0.797656</td>\n      <td>0.565</td>\n    </tr>\n    <tr>\n      <th>105</th>\n      <td>2016</td>\n      <td>CO</td>\n      <td>Colorado</td>\n      <td>0.900481</td>\n      <td>0.700</td>\n    </tr>\n    <tr>\n      <th>106</th>\n      <td>2016</td>\n      <td>CT</td>\n      <td>Connecticut</td>\n      <td>0.865454</td>\n      <td>0.637</td>\n    </tr>\n    <tr>\n      <th>107</th>\n      <td>2016</td>\n      <td>DE</td>\n      <td>Delaware</td>\n      <td>0.869869</td>\n      <td>0.642</td>\n    </tr>\n    <tr>\n      <th>108</th>\n      <td>2016</td>\n      <td>FL</td>\n      <td>Florida</td>\n      <td>0.870113</td>\n      <td>0.645</td>\n    </tr>\n    <tr>\n      <th>109</th>\n      <td>2016</td>\n      <td>GA</td>\n      <td>Georgia</td>\n      <td>0.833031</td>\n      <td>0.591</td>\n    </tr>\n    <tr>\n      <th>110</th>\n      <td>2016</td>\n      <td>HI</td>\n      <td>Hawaii</td>\n      <td>0.718759</td>\n      <td>0.423</td>\n    </tr>\n    <tr>\n      <th>111</th>\n      <td>2016</td>\n      <td>ID</td>\n      <td>Idaho</td>\n      <td>0.780347</td>\n      <td>0.592</td>\n    </tr>\n    <tr>\n      <th>112</th>\n      <td>2016</td>\n      <td>IL</td>\n      <td>Illinois</td>\n      <td>0.884108</td>\n      <td>0.622</td>\n    </tr>\n    <tr>\n      <th>113</th>\n      <td>2016</td>\n      <td>IN</td>\n      <td>Indiana</td>\n      <td>0.813590</td>\n      <td>0.564</td>\n    </tr>\n    <tr>\n      <th>114</th>\n      <td>2016</td>\n      <td>IA</td>\n      <td>Iowa</td>\n      <td>0.858447</td>\n      <td>0.684</td>\n    </tr>\n    <tr>\n      <th>115</th>\n      <td>2016</td>\n      <td>KS</td>\n      <td>Kansas</td>\n      <td>0.807515</td>\n      <td>0.577</td>\n    </tr>\n    <tr>\n      <th>116</th>\n      <td>2016</td>\n      <td>KY</td>\n      <td>Kentucky</td>\n      <td>0.829663</td>\n      <td>0.586</td>\n    </tr>\n    <tr>\n      <th>117</th>\n      <td>2016</td>\n      <td>LA</td>\n      <td>Louisiana</td>\n      <td>0.864150</td>\n      <td>0.600</td>\n    </tr>\n    <tr>\n      <th>118</th>\n      <td>2016</td>\n      <td>ME</td>\n      <td>Maine</td>\n      <td>0.876575</td>\n      <td>0.707</td>\n    </tr>\n    <tr>\n      <th>119</th>\n      <td>2016</td>\n      <td>MD</td>\n      <td>Maryland</td>\n      <td>0.884727</td>\n      <td>0.664</td>\n    </tr>\n    <tr>\n      <th>120</th>\n      <td>2016</td>\n      <td>MA</td>\n      <td>Massachusetts</td>\n      <td>0.876749</td>\n      <td>0.672</td>\n    </tr>\n    <tr>\n      <th>121</th>\n      <td>2016</td>\n      <td>MI</td>\n      <td>Michigan</td>\n      <td>0.889097</td>\n      <td>0.647</td>\n    </tr>\n    <tr>\n      <th>122</th>\n      <td>2016</td>\n      <td>MN</td>\n      <td>Minnesota</td>\n      <td>0.886566</td>\n      <td>0.741</td>\n    </tr>\n    <tr>\n      <th>123</th>\n      <td>2016</td>\n      <td>MS</td>\n      <td>Mississippi</td>\n      <td>0.870409</td>\n      <td>0.552</td>\n    </tr>\n    <tr>\n      <th>124</th>\n      <td>2016</td>\n      <td>MO</td>\n      <td>Missouri</td>\n      <td>0.853853</td>\n      <td>0.622</td>\n    </tr>\n    <tr>\n      <th>125</th>\n      <td>2016</td>\n      <td>MT</td>\n      <td>Montana</td>\n      <td>0.822394</td>\n      <td>0.618</td>\n    </tr>\n    <tr>\n      <th>126</th>\n      <td>2016</td>\n      <td>NE</td>\n      <td>Nebraska</td>\n      <td>0.855644</td>\n      <td>0.628</td>\n    </tr>\n    <tr>\n      <th>127</th>\n      <td>2016</td>\n      <td>NV</td>\n      <td>Nevada</td>\n      <td>0.804357</td>\n      <td>0.574</td>\n    </tr>\n    <tr>\n      <th>128</th>\n      <td>2016</td>\n      <td>NH</td>\n      <td>New Hampshire</td>\n      <td>0.868324</td>\n      <td>0.714</td>\n    </tr>\n    <tr>\n      <th>129</th>\n      <td>2016</td>\n      <td>NJ</td>\n      <td>New Jersey</td>\n      <td>0.867823</td>\n      <td>0.644</td>\n    </tr>\n    <tr>\n      <th>130</th>\n      <td>2016</td>\n      <td>NM</td>\n      <td>New Mexico</td>\n      <td>0.755271</td>\n      <td>0.545</td>\n    </tr>\n    <tr>\n      <th>131</th>\n      <td>2016</td>\n      <td>NY</td>\n      <td>New York</td>\n      <td>0.830549</td>\n      <td>0.568</td>\n    </tr>\n    <tr>\n      <th>132</th>\n      <td>2016</td>\n      <td>NC</td>\n      <td>North Carolina</td>\n      <td>0.879837</td>\n      <td>0.645</td>\n    </tr>\n    <tr>\n      <th>133</th>\n      <td>2016</td>\n      <td>ND</td>\n      <td>North Dakota</td>\n      <td>NaN</td>\n      <td>0.608</td>\n    </tr>\n    <tr>\n      <th>134</th>\n      <td>2016</td>\n      <td>OH</td>\n      <td>Ohio</td>\n      <td>0.815843</td>\n      <td>0.629</td>\n    </tr>\n    <tr>\n      <th>135</th>\n      <td>2016</td>\n      <td>OK</td>\n      <td>Oklahoma</td>\n      <td>0.782611</td>\n      <td>0.523</td>\n    </tr>\n    <tr>\n      <th>136</th>\n      <td>2016</td>\n      <td>OR</td>\n      <td>Oregon</td>\n      <td>0.886364</td>\n      <td>0.662</td>\n    </tr>\n    <tr>\n      <th>137</th>\n      <td>2016</td>\n      <td>PA</td>\n      <td>Pennsylvania</td>\n      <td>0.820514</td>\n      <td>0.636</td>\n    </tr>\n    <tr>\n      <th>138</th>\n      <td>2016</td>\n      <td>RI</td>\n      <td>Rhode Island</td>\n      <td>0.858531</td>\n      <td>0.591</td>\n    </tr>\n    <tr>\n      <th>139</th>\n      <td>2016</td>\n      <td>SC</td>\n      <td>South Carolina</td>\n      <td>0.833021</td>\n      <td>0.567</td>\n    </tr>\n    <tr>\n      <th>140</th>\n      <td>2016</td>\n      <td>SD</td>\n      <td>South Dakota</td>\n      <td>0.841782</td>\n      <td>0.586</td>\n    </tr>\n    <tr>\n      <th>141</th>\n      <td>2016</td>\n      <td>TN</td>\n      <td>Tennessee</td>\n      <td>0.785164</td>\n      <td>0.511</td>\n    </tr>\n    <tr>\n      <th>142</th>\n      <td>2016</td>\n      <td>TX</td>\n      <td>Texas</td>\n      <td>0.803469</td>\n      <td>0.514</td>\n    </tr>\n    <tr>\n      <th>143</th>\n      <td>2016</td>\n      <td>UT</td>\n      <td>Utah</td>\n      <td>0.813415</td>\n      <td>0.568</td>\n    </tr>\n    <tr>\n      <th>144</th>\n      <td>2016</td>\n      <td>VT</td>\n      <td>Vermont</td>\n      <td>0.866877</td>\n      <td>0.637</td>\n    </tr>\n    <tr>\n      <th>145</th>\n      <td>2016</td>\n      <td>VA</td>\n      <td>Virginia</td>\n      <td>0.865253</td>\n      <td>0.661</td>\n    </tr>\n    <tr>\n      <th>146</th>\n      <td>2016</td>\n      <td>WA</td>\n      <td>Washington</td>\n      <td>0.871618</td>\n      <td>0.647</td>\n    </tr>\n    <tr>\n      <th>147</th>\n      <td>2016</td>\n      <td>WV</td>\n      <td>West Virginia</td>\n      <td>0.774906</td>\n      <td>0.502</td>\n    </tr>\n    <tr>\n      <th>148</th>\n      <td>2016</td>\n      <td>WI</td>\n      <td>Wisconsin</td>\n      <td>0.841669</td>\n      <td>0.695</td>\n    </tr>\n    <tr>\n      <th>149</th>\n      <td>2016</td>\n      <td>WY</td>\n      <td>Wyoming</td>\n      <td>0.795159</td>\n      <td>0.595</td>\n    </tr>\n  </tbody>\n</table>\n</div>"
     },
     "metadata": {},
     "execution_count": 12
    }
   ],
   "source": [
    "TurnoutDF2016=PercentRegisteredDF[PercentRegisteredDF['ElectionYear']==2016]\n",
    "TurnoutDF2016"
   ]
  },
  {
   "cell_type": "code",
   "execution_count": 13,
   "metadata": {},
   "outputs": [
    {
     "output_type": "display_data",
     "data": {
      "application/vnd.plotly.v1+json": {
       "config": {
        "plotlyServerURL": "https://plot.ly"
       },
       "data": [
        {
         "alignmentgroup": "True",
         "hovertemplate": "StateAbbreviation=%{x}<br>PercentTurnout=%{y}<extra></extra>",
         "legendgroup": "",
         "marker": {
          "color": "blue"
         },
         "name": "",
         "offsetgroup": "",
         "orientation": "v",
         "showlegend": false,
         "textposition": "auto",
         "type": "bar",
         "x": [
          "AL",
          "AK",
          "AZ",
          "AR",
          "CA",
          "CO",
          "CT",
          "DE",
          "FL",
          "GA",
          "HI",
          "ID",
          "IL",
          "IN",
          "IA",
          "KS",
          "KY",
          "LA",
          "ME",
          "MD",
          "MA",
          "MI",
          "MN",
          "MS",
          "MO",
          "MT",
          "NE",
          "NV",
          "NH",
          "NJ",
          "NM",
          "NY",
          "NC",
          "ND",
          "OH",
          "OK",
          "OR",
          "PA",
          "RI",
          "SC",
          "SD",
          "TN",
          "TX",
          "UT",
          "VT",
          "VA",
          "WA",
          "WV",
          "WI",
          "WY"
         ],
         "xaxis": "x",
         "y": [
          0.588,
          0.61,
          0.549,
          0.528,
          0.565,
          0.7,
          0.637,
          0.642,
          0.645,
          0.591,
          0.423,
          0.592,
          0.622,
          0.564,
          0.684,
          0.577,
          0.586,
          0.6,
          0.707,
          0.664,
          0.672,
          0.647,
          0.741,
          0.552,
          0.622,
          0.618,
          0.628,
          0.574,
          0.714,
          0.644,
          0.545,
          0.568,
          0.645,
          0.608,
          0.629,
          0.523,
          0.662,
          0.636,
          0.591,
          0.567,
          0.586,
          0.511,
          0.514,
          0.568,
          0.637,
          0.661,
          0.647,
          0.502,
          0.695,
          0.595
         ],
         "yaxis": "y"
        }
       ],
       "layout": {
        "barmode": "group",
        "height": 400,
        "legend": {
         "tracegroupgap": 0
        },
        "template": {
         "data": {
          "bar": [
           {
            "error_x": {
             "color": "#2a3f5f"
            },
            "error_y": {
             "color": "#2a3f5f"
            },
            "marker": {
             "line": {
              "color": "#E5ECF6",
              "width": 0.5
             }
            },
            "type": "bar"
           }
          ],
          "barpolar": [
           {
            "marker": {
             "line": {
              "color": "#E5ECF6",
              "width": 0.5
             }
            },
            "type": "barpolar"
           }
          ],
          "carpet": [
           {
            "aaxis": {
             "endlinecolor": "#2a3f5f",
             "gridcolor": "white",
             "linecolor": "white",
             "minorgridcolor": "white",
             "startlinecolor": "#2a3f5f"
            },
            "baxis": {
             "endlinecolor": "#2a3f5f",
             "gridcolor": "white",
             "linecolor": "white",
             "minorgridcolor": "white",
             "startlinecolor": "#2a3f5f"
            },
            "type": "carpet"
           }
          ],
          "choropleth": [
           {
            "colorbar": {
             "outlinewidth": 0,
             "ticks": ""
            },
            "type": "choropleth"
           }
          ],
          "contour": [
           {
            "colorbar": {
             "outlinewidth": 0,
             "ticks": ""
            },
            "colorscale": [
             [
              0,
              "#0d0887"
             ],
             [
              0.1111111111111111,
              "#46039f"
             ],
             [
              0.2222222222222222,
              "#7201a8"
             ],
             [
              0.3333333333333333,
              "#9c179e"
             ],
             [
              0.4444444444444444,
              "#bd3786"
             ],
             [
              0.5555555555555556,
              "#d8576b"
             ],
             [
              0.6666666666666666,
              "#ed7953"
             ],
             [
              0.7777777777777778,
              "#fb9f3a"
             ],
             [
              0.8888888888888888,
              "#fdca26"
             ],
             [
              1,
              "#f0f921"
             ]
            ],
            "type": "contour"
           }
          ],
          "contourcarpet": [
           {
            "colorbar": {
             "outlinewidth": 0,
             "ticks": ""
            },
            "type": "contourcarpet"
           }
          ],
          "heatmap": [
           {
            "colorbar": {
             "outlinewidth": 0,
             "ticks": ""
            },
            "colorscale": [
             [
              0,
              "#0d0887"
             ],
             [
              0.1111111111111111,
              "#46039f"
             ],
             [
              0.2222222222222222,
              "#7201a8"
             ],
             [
              0.3333333333333333,
              "#9c179e"
             ],
             [
              0.4444444444444444,
              "#bd3786"
             ],
             [
              0.5555555555555556,
              "#d8576b"
             ],
             [
              0.6666666666666666,
              "#ed7953"
             ],
             [
              0.7777777777777778,
              "#fb9f3a"
             ],
             [
              0.8888888888888888,
              "#fdca26"
             ],
             [
              1,
              "#f0f921"
             ]
            ],
            "type": "heatmap"
           }
          ],
          "heatmapgl": [
           {
            "colorbar": {
             "outlinewidth": 0,
             "ticks": ""
            },
            "colorscale": [
             [
              0,
              "#0d0887"
             ],
             [
              0.1111111111111111,
              "#46039f"
             ],
             [
              0.2222222222222222,
              "#7201a8"
             ],
             [
              0.3333333333333333,
              "#9c179e"
             ],
             [
              0.4444444444444444,
              "#bd3786"
             ],
             [
              0.5555555555555556,
              "#d8576b"
             ],
             [
              0.6666666666666666,
              "#ed7953"
             ],
             [
              0.7777777777777778,
              "#fb9f3a"
             ],
             [
              0.8888888888888888,
              "#fdca26"
             ],
             [
              1,
              "#f0f921"
             ]
            ],
            "type": "heatmapgl"
           }
          ],
          "histogram": [
           {
            "marker": {
             "colorbar": {
              "outlinewidth": 0,
              "ticks": ""
             }
            },
            "type": "histogram"
           }
          ],
          "histogram2d": [
           {
            "colorbar": {
             "outlinewidth": 0,
             "ticks": ""
            },
            "colorscale": [
             [
              0,
              "#0d0887"
             ],
             [
              0.1111111111111111,
              "#46039f"
             ],
             [
              0.2222222222222222,
              "#7201a8"
             ],
             [
              0.3333333333333333,
              "#9c179e"
             ],
             [
              0.4444444444444444,
              "#bd3786"
             ],
             [
              0.5555555555555556,
              "#d8576b"
             ],
             [
              0.6666666666666666,
              "#ed7953"
             ],
             [
              0.7777777777777778,
              "#fb9f3a"
             ],
             [
              0.8888888888888888,
              "#fdca26"
             ],
             [
              1,
              "#f0f921"
             ]
            ],
            "type": "histogram2d"
           }
          ],
          "histogram2dcontour": [
           {
            "colorbar": {
             "outlinewidth": 0,
             "ticks": ""
            },
            "colorscale": [
             [
              0,
              "#0d0887"
             ],
             [
              0.1111111111111111,
              "#46039f"
             ],
             [
              0.2222222222222222,
              "#7201a8"
             ],
             [
              0.3333333333333333,
              "#9c179e"
             ],
             [
              0.4444444444444444,
              "#bd3786"
             ],
             [
              0.5555555555555556,
              "#d8576b"
             ],
             [
              0.6666666666666666,
              "#ed7953"
             ],
             [
              0.7777777777777778,
              "#fb9f3a"
             ],
             [
              0.8888888888888888,
              "#fdca26"
             ],
             [
              1,
              "#f0f921"
             ]
            ],
            "type": "histogram2dcontour"
           }
          ],
          "mesh3d": [
           {
            "colorbar": {
             "outlinewidth": 0,
             "ticks": ""
            },
            "type": "mesh3d"
           }
          ],
          "parcoords": [
           {
            "line": {
             "colorbar": {
              "outlinewidth": 0,
              "ticks": ""
             }
            },
            "type": "parcoords"
           }
          ],
          "pie": [
           {
            "automargin": true,
            "type": "pie"
           }
          ],
          "scatter": [
           {
            "marker": {
             "colorbar": {
              "outlinewidth": 0,
              "ticks": ""
             }
            },
            "type": "scatter"
           }
          ],
          "scatter3d": [
           {
            "line": {
             "colorbar": {
              "outlinewidth": 0,
              "ticks": ""
             }
            },
            "marker": {
             "colorbar": {
              "outlinewidth": 0,
              "ticks": ""
             }
            },
            "type": "scatter3d"
           }
          ],
          "scattercarpet": [
           {
            "marker": {
             "colorbar": {
              "outlinewidth": 0,
              "ticks": ""
             }
            },
            "type": "scattercarpet"
           }
          ],
          "scattergeo": [
           {
            "marker": {
             "colorbar": {
              "outlinewidth": 0,
              "ticks": ""
             }
            },
            "type": "scattergeo"
           }
          ],
          "scattergl": [
           {
            "marker": {
             "colorbar": {
              "outlinewidth": 0,
              "ticks": ""
             }
            },
            "type": "scattergl"
           }
          ],
          "scattermapbox": [
           {
            "marker": {
             "colorbar": {
              "outlinewidth": 0,
              "ticks": ""
             }
            },
            "type": "scattermapbox"
           }
          ],
          "scatterpolar": [
           {
            "marker": {
             "colorbar": {
              "outlinewidth": 0,
              "ticks": ""
             }
            },
            "type": "scatterpolar"
           }
          ],
          "scatterpolargl": [
           {
            "marker": {
             "colorbar": {
              "outlinewidth": 0,
              "ticks": ""
             }
            },
            "type": "scatterpolargl"
           }
          ],
          "scatterternary": [
           {
            "marker": {
             "colorbar": {
              "outlinewidth": 0,
              "ticks": ""
             }
            },
            "type": "scatterternary"
           }
          ],
          "surface": [
           {
            "colorbar": {
             "outlinewidth": 0,
             "ticks": ""
            },
            "colorscale": [
             [
              0,
              "#0d0887"
             ],
             [
              0.1111111111111111,
              "#46039f"
             ],
             [
              0.2222222222222222,
              "#7201a8"
             ],
             [
              0.3333333333333333,
              "#9c179e"
             ],
             [
              0.4444444444444444,
              "#bd3786"
             ],
             [
              0.5555555555555556,
              "#d8576b"
             ],
             [
              0.6666666666666666,
              "#ed7953"
             ],
             [
              0.7777777777777778,
              "#fb9f3a"
             ],
             [
              0.8888888888888888,
              "#fdca26"
             ],
             [
              1,
              "#f0f921"
             ]
            ],
            "type": "surface"
           }
          ],
          "table": [
           {
            "cells": {
             "fill": {
              "color": "#EBF0F8"
             },
             "line": {
              "color": "white"
             }
            },
            "header": {
             "fill": {
              "color": "#C8D4E3"
             },
             "line": {
              "color": "white"
             }
            },
            "type": "table"
           }
          ]
         },
         "layout": {
          "annotationdefaults": {
           "arrowcolor": "#2a3f5f",
           "arrowhead": 0,
           "arrowwidth": 1
          },
          "coloraxis": {
           "colorbar": {
            "outlinewidth": 0,
            "ticks": ""
           }
          },
          "colorscale": {
           "diverging": [
            [
             0,
             "#8e0152"
            ],
            [
             0.1,
             "#c51b7d"
            ],
            [
             0.2,
             "#de77ae"
            ],
            [
             0.3,
             "#f1b6da"
            ],
            [
             0.4,
             "#fde0ef"
            ],
            [
             0.5,
             "#f7f7f7"
            ],
            [
             0.6,
             "#e6f5d0"
            ],
            [
             0.7,
             "#b8e186"
            ],
            [
             0.8,
             "#7fbc41"
            ],
            [
             0.9,
             "#4d9221"
            ],
            [
             1,
             "#276419"
            ]
           ],
           "sequential": [
            [
             0,
             "#0d0887"
            ],
            [
             0.1111111111111111,
             "#46039f"
            ],
            [
             0.2222222222222222,
             "#7201a8"
            ],
            [
             0.3333333333333333,
             "#9c179e"
            ],
            [
             0.4444444444444444,
             "#bd3786"
            ],
            [
             0.5555555555555556,
             "#d8576b"
            ],
            [
             0.6666666666666666,
             "#ed7953"
            ],
            [
             0.7777777777777778,
             "#fb9f3a"
            ],
            [
             0.8888888888888888,
             "#fdca26"
            ],
            [
             1,
             "#f0f921"
            ]
           ],
           "sequentialminus": [
            [
             0,
             "#0d0887"
            ],
            [
             0.1111111111111111,
             "#46039f"
            ],
            [
             0.2222222222222222,
             "#7201a8"
            ],
            [
             0.3333333333333333,
             "#9c179e"
            ],
            [
             0.4444444444444444,
             "#bd3786"
            ],
            [
             0.5555555555555556,
             "#d8576b"
            ],
            [
             0.6666666666666666,
             "#ed7953"
            ],
            [
             0.7777777777777778,
             "#fb9f3a"
            ],
            [
             0.8888888888888888,
             "#fdca26"
            ],
            [
             1,
             "#f0f921"
            ]
           ]
          },
          "colorway": [
           "#636efa",
           "#EF553B",
           "#00cc96",
           "#ab63fa",
           "#FFA15A",
           "#19d3f3",
           "#FF6692",
           "#B6E880",
           "#FF97FF",
           "#FECB52"
          ],
          "font": {
           "color": "#2a3f5f"
          },
          "geo": {
           "bgcolor": "white",
           "lakecolor": "white",
           "landcolor": "#E5ECF6",
           "showlakes": true,
           "showland": true,
           "subunitcolor": "white"
          },
          "hoverlabel": {
           "align": "left"
          },
          "hovermode": "closest",
          "mapbox": {
           "style": "light"
          },
          "paper_bgcolor": "white",
          "plot_bgcolor": "#E5ECF6",
          "polar": {
           "angularaxis": {
            "gridcolor": "white",
            "linecolor": "white",
            "ticks": ""
           },
           "bgcolor": "#E5ECF6",
           "radialaxis": {
            "gridcolor": "white",
            "linecolor": "white",
            "ticks": ""
           }
          },
          "scene": {
           "xaxis": {
            "backgroundcolor": "#E5ECF6",
            "gridcolor": "white",
            "gridwidth": 2,
            "linecolor": "white",
            "showbackground": true,
            "ticks": "",
            "zerolinecolor": "white"
           },
           "yaxis": {
            "backgroundcolor": "#E5ECF6",
            "gridcolor": "white",
            "gridwidth": 2,
            "linecolor": "white",
            "showbackground": true,
            "ticks": "",
            "zerolinecolor": "white"
           },
           "zaxis": {
            "backgroundcolor": "#E5ECF6",
            "gridcolor": "white",
            "gridwidth": 2,
            "linecolor": "white",
            "showbackground": true,
            "ticks": "",
            "zerolinecolor": "white"
           }
          },
          "shapedefaults": {
           "line": {
            "color": "#2a3f5f"
           }
          },
          "ternary": {
           "aaxis": {
            "gridcolor": "white",
            "linecolor": "white",
            "ticks": ""
           },
           "baxis": {
            "gridcolor": "white",
            "linecolor": "white",
            "ticks": ""
           },
           "bgcolor": "#E5ECF6",
           "caxis": {
            "gridcolor": "white",
            "linecolor": "white",
            "ticks": ""
           }
          },
          "title": {
           "x": 0.05
          },
          "xaxis": {
           "automargin": true,
           "gridcolor": "white",
           "linecolor": "white",
           "ticks": "",
           "title": {
            "standoff": 15
           },
           "zerolinecolor": "white",
           "zerolinewidth": 2
          },
          "yaxis": {
           "automargin": true,
           "gridcolor": "white",
           "linecolor": "white",
           "ticks": "",
           "title": {
            "standoff": 15
           },
           "zerolinecolor": "white",
           "zerolinewidth": 2
          }
         }
        },
        "title": {
         "text": "Turnout Data 2016"
        },
        "width": 1000,
        "xaxis": {
         "anchor": "y",
         "domain": [
          0,
          1
         ],
         "title": {
          "text": "StateAbbreviation"
         }
        },
        "yaxis": {
         "anchor": "x",
         "domain": [
          0,
          1
         ],
         "title": {
          "text": "PercentTurnout"
         }
        }
       }
      }
     },
     "metadata": {}
    }
   ],
   "source": [
    "Turnout2016 = pe.bar(TurnoutDF2016, x=\"StateAbbreviation\", y=\"PercentTurnout\", title=\"Turnout Data 2016\",\n",
    "            color_discrete_sequence =['blue']*len(PercentTurnoutDF2008),\n",
    "             barmode='group',\n",
    "             height=400, width=1000)\n",
    "Turnout2016.show()"
   ]
  },
  {
   "cell_type": "code",
   "execution_count": 14,
   "metadata": {},
   "outputs": [
    {
     "output_type": "execute_result",
     "data": {
      "text/plain": [
       "    ElectionYear StateAbbreviation       StateName  PercentOfRegisteredVoters  \\\n",
       "50          2012                AL         Alabama                   0.863281   \n",
       "51          2012                AK          Alaska                   0.868472   \n",
       "52          2012                AZ         Arizona                   0.774522   \n",
       "53          2012                AR        Arkansas                   0.759484   \n",
       "54          2012                CA      California                   0.801004   \n",
       "55          2012                CO        Colorado                   0.878434   \n",
       "56          2012                CT     Connecticut                   0.844919   \n",
       "57          2012                DE        Delaware                   0.862704   \n",
       "58          2012                FL         Florida                   0.852604   \n",
       "59          2012                GA         Georgia                   0.863209   \n",
       "60          2012                HI          Hawaii                   0.709173   \n",
       "61          2012                ID           Idaho                   0.770536   \n",
       "62          2012                IL        Illinois                   0.848232   \n",
       "63          2012                IN         Indiana                   0.784238   \n",
       "64          2012                IA            Iowa                   0.864816   \n",
       "65          2012                KS          Kansas                   0.812868   \n",
       "66          2012                KY        Kentucky                   0.808119   \n",
       "67          2012                LA       Louisiana                   0.850255   \n",
       "68          2012                ME           Maine                   0.854557   \n",
       "69          2012                MD        Maryland                   0.870717   \n",
       "70          2012                MA   Massachusetts                   0.877361   \n",
       "71          2012                MI        Michigan                   0.895289   \n",
       "72          2012                MN       Minnesota                   0.876896   \n",
       "73          2012                MS     Mississippi                   0.901981   \n",
       "74          2012                MO        Missouri                   0.867941   \n",
       "75          2012                MT         Montana                   0.827205   \n",
       "76          2012                NE        Nebraska                   0.814917   \n",
       "77          2012                NV          Nevada                   0.789902   \n",
       "78          2012                NH   New Hampshire                   0.841584   \n",
       "79          2012                NJ      New Jersey                   0.865412   \n",
       "80          2012                NM      New Mexico                   0.824948   \n",
       "81          2012                NY        New York                   0.825425   \n",
       "82          2012                NC  North Carolina                   0.888212   \n",
       "83          2012                ND    North Dakota                        NaN   \n",
       "84          2012                OH            Ohio                   0.849661   \n",
       "85          2012                OK        Oklahoma                   0.769624   \n",
       "86          2012                OR          Oregon                   0.858678   \n",
       "87          2012                PA    Pennsylvania                   0.809868   \n",
       "88          2012                RI    Rhode Island                   0.835654   \n",
       "89          2012                SC  South Carolina                   0.824908   \n",
       "90          2012                SD    South Dakota                   0.831365   \n",
       "91          2012                TN       Tennessee                   0.786240   \n",
       "92          2012                TX           Texas                   0.770875   \n",
       "93          2012                UT            Utah                   0.767897   \n",
       "94          2012                VT         Vermont                   0.826686   \n",
       "95          2012                VA        Virginia                   0.861230   \n",
       "96          2012                WA      Washington                   0.840118   \n",
       "97          2012                WV   West Virginia                   0.788750   \n",
       "98          2012                WI       Wisconsin                   0.877778   \n",
       "99          2012                WY         Wyoming                   0.746732   \n",
       "\n",
       "    PercentTurnout  \n",
       "50           0.586  \n",
       "51           0.587  \n",
       "52           0.526  \n",
       "53           0.507  \n",
       "54           0.551  \n",
       "55           0.699  \n",
       "56           0.613  \n",
       "57           0.623  \n",
       "58           0.628  \n",
       "59           0.590  \n",
       "60           0.442  \n",
       "61           0.598  \n",
       "62           0.589  \n",
       "63           0.552  \n",
       "64           0.703  \n",
       "65           0.569  \n",
       "66           0.557  \n",
       "67           0.602  \n",
       "68           0.682  \n",
       "69           0.666  \n",
       "70           0.659  \n",
       "71           0.647  \n",
       "72           0.760  \n",
       "73           0.593  \n",
       "74           0.622  \n",
       "75           0.625  \n",
       "76           0.603  \n",
       "77           0.564  \n",
       "78           0.702  \n",
       "79           0.615  \n",
       "80           0.546  \n",
       "81           0.531  \n",
       "82           0.648  \n",
       "83           0.598  \n",
       "84           0.645  \n",
       "85           0.492  \n",
       "86           0.631  \n",
       "87           0.595  \n",
       "88           0.580  \n",
       "89           0.563  \n",
       "90           0.593  \n",
       "91           0.519  \n",
       "92           0.496  \n",
       "93           0.555  \n",
       "94           0.607  \n",
       "95           0.661  \n",
       "96           0.648  \n",
       "97           0.463  \n",
       "98           0.729  \n",
       "99           0.586  "
      ],
      "text/html": "<div>\n<style scoped>\n    .dataframe tbody tr th:only-of-type {\n        vertical-align: middle;\n    }\n\n    .dataframe tbody tr th {\n        vertical-align: top;\n    }\n\n    .dataframe thead th {\n        text-align: right;\n    }\n</style>\n<table border=\"1\" class=\"dataframe\">\n  <thead>\n    <tr style=\"text-align: right;\">\n      <th></th>\n      <th>ElectionYear</th>\n      <th>StateAbbreviation</th>\n      <th>StateName</th>\n      <th>PercentOfRegisteredVoters</th>\n      <th>PercentTurnout</th>\n    </tr>\n  </thead>\n  <tbody>\n    <tr>\n      <th>50</th>\n      <td>2012</td>\n      <td>AL</td>\n      <td>Alabama</td>\n      <td>0.863281</td>\n      <td>0.586</td>\n    </tr>\n    <tr>\n      <th>51</th>\n      <td>2012</td>\n      <td>AK</td>\n      <td>Alaska</td>\n      <td>0.868472</td>\n      <td>0.587</td>\n    </tr>\n    <tr>\n      <th>52</th>\n      <td>2012</td>\n      <td>AZ</td>\n      <td>Arizona</td>\n      <td>0.774522</td>\n      <td>0.526</td>\n    </tr>\n    <tr>\n      <th>53</th>\n      <td>2012</td>\n      <td>AR</td>\n      <td>Arkansas</td>\n      <td>0.759484</td>\n      <td>0.507</td>\n    </tr>\n    <tr>\n      <th>54</th>\n      <td>2012</td>\n      <td>CA</td>\n      <td>California</td>\n      <td>0.801004</td>\n      <td>0.551</td>\n    </tr>\n    <tr>\n      <th>55</th>\n      <td>2012</td>\n      <td>CO</td>\n      <td>Colorado</td>\n      <td>0.878434</td>\n      <td>0.699</td>\n    </tr>\n    <tr>\n      <th>56</th>\n      <td>2012</td>\n      <td>CT</td>\n      <td>Connecticut</td>\n      <td>0.844919</td>\n      <td>0.613</td>\n    </tr>\n    <tr>\n      <th>57</th>\n      <td>2012</td>\n      <td>DE</td>\n      <td>Delaware</td>\n      <td>0.862704</td>\n      <td>0.623</td>\n    </tr>\n    <tr>\n      <th>58</th>\n      <td>2012</td>\n      <td>FL</td>\n      <td>Florida</td>\n      <td>0.852604</td>\n      <td>0.628</td>\n    </tr>\n    <tr>\n      <th>59</th>\n      <td>2012</td>\n      <td>GA</td>\n      <td>Georgia</td>\n      <td>0.863209</td>\n      <td>0.590</td>\n    </tr>\n    <tr>\n      <th>60</th>\n      <td>2012</td>\n      <td>HI</td>\n      <td>Hawaii</td>\n      <td>0.709173</td>\n      <td>0.442</td>\n    </tr>\n    <tr>\n      <th>61</th>\n      <td>2012</td>\n      <td>ID</td>\n      <td>Idaho</td>\n      <td>0.770536</td>\n      <td>0.598</td>\n    </tr>\n    <tr>\n      <th>62</th>\n      <td>2012</td>\n      <td>IL</td>\n      <td>Illinois</td>\n      <td>0.848232</td>\n      <td>0.589</td>\n    </tr>\n    <tr>\n      <th>63</th>\n      <td>2012</td>\n      <td>IN</td>\n      <td>Indiana</td>\n      <td>0.784238</td>\n      <td>0.552</td>\n    </tr>\n    <tr>\n      <th>64</th>\n      <td>2012</td>\n      <td>IA</td>\n      <td>Iowa</td>\n      <td>0.864816</td>\n      <td>0.703</td>\n    </tr>\n    <tr>\n      <th>65</th>\n      <td>2012</td>\n      <td>KS</td>\n      <td>Kansas</td>\n      <td>0.812868</td>\n      <td>0.569</td>\n    </tr>\n    <tr>\n      <th>66</th>\n      <td>2012</td>\n      <td>KY</td>\n      <td>Kentucky</td>\n      <td>0.808119</td>\n      <td>0.557</td>\n    </tr>\n    <tr>\n      <th>67</th>\n      <td>2012</td>\n      <td>LA</td>\n      <td>Louisiana</td>\n      <td>0.850255</td>\n      <td>0.602</td>\n    </tr>\n    <tr>\n      <th>68</th>\n      <td>2012</td>\n      <td>ME</td>\n      <td>Maine</td>\n      <td>0.854557</td>\n      <td>0.682</td>\n    </tr>\n    <tr>\n      <th>69</th>\n      <td>2012</td>\n      <td>MD</td>\n      <td>Maryland</td>\n      <td>0.870717</td>\n      <td>0.666</td>\n    </tr>\n    <tr>\n      <th>70</th>\n      <td>2012</td>\n      <td>MA</td>\n      <td>Massachusetts</td>\n      <td>0.877361</td>\n      <td>0.659</td>\n    </tr>\n    <tr>\n      <th>71</th>\n      <td>2012</td>\n      <td>MI</td>\n      <td>Michigan</td>\n      <td>0.895289</td>\n      <td>0.647</td>\n    </tr>\n    <tr>\n      <th>72</th>\n      <td>2012</td>\n      <td>MN</td>\n      <td>Minnesota</td>\n      <td>0.876896</td>\n      <td>0.760</td>\n    </tr>\n    <tr>\n      <th>73</th>\n      <td>2012</td>\n      <td>MS</td>\n      <td>Mississippi</td>\n      <td>0.901981</td>\n      <td>0.593</td>\n    </tr>\n    <tr>\n      <th>74</th>\n      <td>2012</td>\n      <td>MO</td>\n      <td>Missouri</td>\n      <td>0.867941</td>\n      <td>0.622</td>\n    </tr>\n    <tr>\n      <th>75</th>\n      <td>2012</td>\n      <td>MT</td>\n      <td>Montana</td>\n      <td>0.827205</td>\n      <td>0.625</td>\n    </tr>\n    <tr>\n      <th>76</th>\n      <td>2012</td>\n      <td>NE</td>\n      <td>Nebraska</td>\n      <td>0.814917</td>\n      <td>0.603</td>\n    </tr>\n    <tr>\n      <th>77</th>\n      <td>2012</td>\n      <td>NV</td>\n      <td>Nevada</td>\n      <td>0.789902</td>\n      <td>0.564</td>\n    </tr>\n    <tr>\n      <th>78</th>\n      <td>2012</td>\n      <td>NH</td>\n      <td>New Hampshire</td>\n      <td>0.841584</td>\n      <td>0.702</td>\n    </tr>\n    <tr>\n      <th>79</th>\n      <td>2012</td>\n      <td>NJ</td>\n      <td>New Jersey</td>\n      <td>0.865412</td>\n      <td>0.615</td>\n    </tr>\n    <tr>\n      <th>80</th>\n      <td>2012</td>\n      <td>NM</td>\n      <td>New Mexico</td>\n      <td>0.824948</td>\n      <td>0.546</td>\n    </tr>\n    <tr>\n      <th>81</th>\n      <td>2012</td>\n      <td>NY</td>\n      <td>New York</td>\n      <td>0.825425</td>\n      <td>0.531</td>\n    </tr>\n    <tr>\n      <th>82</th>\n      <td>2012</td>\n      <td>NC</td>\n      <td>North Carolina</td>\n      <td>0.888212</td>\n      <td>0.648</td>\n    </tr>\n    <tr>\n      <th>83</th>\n      <td>2012</td>\n      <td>ND</td>\n      <td>North Dakota</td>\n      <td>NaN</td>\n      <td>0.598</td>\n    </tr>\n    <tr>\n      <th>84</th>\n      <td>2012</td>\n      <td>OH</td>\n      <td>Ohio</td>\n      <td>0.849661</td>\n      <td>0.645</td>\n    </tr>\n    <tr>\n      <th>85</th>\n      <td>2012</td>\n      <td>OK</td>\n      <td>Oklahoma</td>\n      <td>0.769624</td>\n      <td>0.492</td>\n    </tr>\n    <tr>\n      <th>86</th>\n      <td>2012</td>\n      <td>OR</td>\n      <td>Oregon</td>\n      <td>0.858678</td>\n      <td>0.631</td>\n    </tr>\n    <tr>\n      <th>87</th>\n      <td>2012</td>\n      <td>PA</td>\n      <td>Pennsylvania</td>\n      <td>0.809868</td>\n      <td>0.595</td>\n    </tr>\n    <tr>\n      <th>88</th>\n      <td>2012</td>\n      <td>RI</td>\n      <td>Rhode Island</td>\n      <td>0.835654</td>\n      <td>0.580</td>\n    </tr>\n    <tr>\n      <th>89</th>\n      <td>2012</td>\n      <td>SC</td>\n      <td>South Carolina</td>\n      <td>0.824908</td>\n      <td>0.563</td>\n    </tr>\n    <tr>\n      <th>90</th>\n      <td>2012</td>\n      <td>SD</td>\n      <td>South Dakota</td>\n      <td>0.831365</td>\n      <td>0.593</td>\n    </tr>\n    <tr>\n      <th>91</th>\n      <td>2012</td>\n      <td>TN</td>\n      <td>Tennessee</td>\n      <td>0.786240</td>\n      <td>0.519</td>\n    </tr>\n    <tr>\n      <th>92</th>\n      <td>2012</td>\n      <td>TX</td>\n      <td>Texas</td>\n      <td>0.770875</td>\n      <td>0.496</td>\n    </tr>\n    <tr>\n      <th>93</th>\n      <td>2012</td>\n      <td>UT</td>\n      <td>Utah</td>\n      <td>0.767897</td>\n      <td>0.555</td>\n    </tr>\n    <tr>\n      <th>94</th>\n      <td>2012</td>\n      <td>VT</td>\n      <td>Vermont</td>\n      <td>0.826686</td>\n      <td>0.607</td>\n    </tr>\n    <tr>\n      <th>95</th>\n      <td>2012</td>\n      <td>VA</td>\n      <td>Virginia</td>\n      <td>0.861230</td>\n      <td>0.661</td>\n    </tr>\n    <tr>\n      <th>96</th>\n      <td>2012</td>\n      <td>WA</td>\n      <td>Washington</td>\n      <td>0.840118</td>\n      <td>0.648</td>\n    </tr>\n    <tr>\n      <th>97</th>\n      <td>2012</td>\n      <td>WV</td>\n      <td>West Virginia</td>\n      <td>0.788750</td>\n      <td>0.463</td>\n    </tr>\n    <tr>\n      <th>98</th>\n      <td>2012</td>\n      <td>WI</td>\n      <td>Wisconsin</td>\n      <td>0.877778</td>\n      <td>0.729</td>\n    </tr>\n    <tr>\n      <th>99</th>\n      <td>2012</td>\n      <td>WY</td>\n      <td>Wyoming</td>\n      <td>0.746732</td>\n      <td>0.586</td>\n    </tr>\n  </tbody>\n</table>\n</div>"
     },
     "metadata": {},
     "execution_count": 14
    }
   ],
   "source": [
    "TurnoutDF2012=PercentRegisteredDF[PercentRegisteredDF['ElectionYear']==2012]\n",
    "TurnoutDF2012"
   ]
  },
  {
   "cell_type": "code",
   "execution_count": 15,
   "metadata": {},
   "outputs": [
    {
     "output_type": "display_data",
     "data": {
      "application/vnd.plotly.v1+json": {
       "config": {
        "plotlyServerURL": "https://plot.ly"
       },
       "data": [
        {
         "alignmentgroup": "True",
         "hovertemplate": "StateAbbreviation=%{x}<br>PercentTurnout=%{y}<extra></extra>",
         "legendgroup": "",
         "marker": {
          "color": "red"
         },
         "name": "",
         "offsetgroup": "",
         "orientation": "v",
         "showlegend": false,
         "textposition": "auto",
         "type": "bar",
         "x": [
          "AL",
          "AK",
          "AZ",
          "AR",
          "CA",
          "CO",
          "CT",
          "DE",
          "FL",
          "GA",
          "HI",
          "ID",
          "IL",
          "IN",
          "IA",
          "KS",
          "KY",
          "LA",
          "ME",
          "MD",
          "MA",
          "MI",
          "MN",
          "MS",
          "MO",
          "MT",
          "NE",
          "NV",
          "NH",
          "NJ",
          "NM",
          "NY",
          "NC",
          "ND",
          "OH",
          "OK",
          "OR",
          "PA",
          "RI",
          "SC",
          "SD",
          "TN",
          "TX",
          "UT",
          "VT",
          "VA",
          "WA",
          "WV",
          "WI",
          "WY"
         ],
         "xaxis": "x",
         "y": [
          0.586,
          0.587,
          0.526,
          0.507,
          0.551,
          0.699,
          0.613,
          0.623,
          0.628,
          0.59,
          0.442,
          0.598,
          0.589,
          0.552,
          0.703,
          0.569,
          0.557,
          0.602,
          0.682,
          0.666,
          0.659,
          0.647,
          0.76,
          0.593,
          0.622,
          0.625,
          0.603,
          0.564,
          0.702,
          0.615,
          0.546,
          0.531,
          0.648,
          0.598,
          0.645,
          0.492,
          0.631,
          0.595,
          0.58,
          0.563,
          0.593,
          0.519,
          0.496,
          0.555,
          0.607,
          0.661,
          0.648,
          0.463,
          0.729,
          0.586
         ],
         "yaxis": "y"
        }
       ],
       "layout": {
        "barmode": "group",
        "height": 400,
        "legend": {
         "tracegroupgap": 0
        },
        "template": {
         "data": {
          "bar": [
           {
            "error_x": {
             "color": "#2a3f5f"
            },
            "error_y": {
             "color": "#2a3f5f"
            },
            "marker": {
             "line": {
              "color": "#E5ECF6",
              "width": 0.5
             }
            },
            "type": "bar"
           }
          ],
          "barpolar": [
           {
            "marker": {
             "line": {
              "color": "#E5ECF6",
              "width": 0.5
             }
            },
            "type": "barpolar"
           }
          ],
          "carpet": [
           {
            "aaxis": {
             "endlinecolor": "#2a3f5f",
             "gridcolor": "white",
             "linecolor": "white",
             "minorgridcolor": "white",
             "startlinecolor": "#2a3f5f"
            },
            "baxis": {
             "endlinecolor": "#2a3f5f",
             "gridcolor": "white",
             "linecolor": "white",
             "minorgridcolor": "white",
             "startlinecolor": "#2a3f5f"
            },
            "type": "carpet"
           }
          ],
          "choropleth": [
           {
            "colorbar": {
             "outlinewidth": 0,
             "ticks": ""
            },
            "type": "choropleth"
           }
          ],
          "contour": [
           {
            "colorbar": {
             "outlinewidth": 0,
             "ticks": ""
            },
            "colorscale": [
             [
              0,
              "#0d0887"
             ],
             [
              0.1111111111111111,
              "#46039f"
             ],
             [
              0.2222222222222222,
              "#7201a8"
             ],
             [
              0.3333333333333333,
              "#9c179e"
             ],
             [
              0.4444444444444444,
              "#bd3786"
             ],
             [
              0.5555555555555556,
              "#d8576b"
             ],
             [
              0.6666666666666666,
              "#ed7953"
             ],
             [
              0.7777777777777778,
              "#fb9f3a"
             ],
             [
              0.8888888888888888,
              "#fdca26"
             ],
             [
              1,
              "#f0f921"
             ]
            ],
            "type": "contour"
           }
          ],
          "contourcarpet": [
           {
            "colorbar": {
             "outlinewidth": 0,
             "ticks": ""
            },
            "type": "contourcarpet"
           }
          ],
          "heatmap": [
           {
            "colorbar": {
             "outlinewidth": 0,
             "ticks": ""
            },
            "colorscale": [
             [
              0,
              "#0d0887"
             ],
             [
              0.1111111111111111,
              "#46039f"
             ],
             [
              0.2222222222222222,
              "#7201a8"
             ],
             [
              0.3333333333333333,
              "#9c179e"
             ],
             [
              0.4444444444444444,
              "#bd3786"
             ],
             [
              0.5555555555555556,
              "#d8576b"
             ],
             [
              0.6666666666666666,
              "#ed7953"
             ],
             [
              0.7777777777777778,
              "#fb9f3a"
             ],
             [
              0.8888888888888888,
              "#fdca26"
             ],
             [
              1,
              "#f0f921"
             ]
            ],
            "type": "heatmap"
           }
          ],
          "heatmapgl": [
           {
            "colorbar": {
             "outlinewidth": 0,
             "ticks": ""
            },
            "colorscale": [
             [
              0,
              "#0d0887"
             ],
             [
              0.1111111111111111,
              "#46039f"
             ],
             [
              0.2222222222222222,
              "#7201a8"
             ],
             [
              0.3333333333333333,
              "#9c179e"
             ],
             [
              0.4444444444444444,
              "#bd3786"
             ],
             [
              0.5555555555555556,
              "#d8576b"
             ],
             [
              0.6666666666666666,
              "#ed7953"
             ],
             [
              0.7777777777777778,
              "#fb9f3a"
             ],
             [
              0.8888888888888888,
              "#fdca26"
             ],
             [
              1,
              "#f0f921"
             ]
            ],
            "type": "heatmapgl"
           }
          ],
          "histogram": [
           {
            "marker": {
             "colorbar": {
              "outlinewidth": 0,
              "ticks": ""
             }
            },
            "type": "histogram"
           }
          ],
          "histogram2d": [
           {
            "colorbar": {
             "outlinewidth": 0,
             "ticks": ""
            },
            "colorscale": [
             [
              0,
              "#0d0887"
             ],
             [
              0.1111111111111111,
              "#46039f"
             ],
             [
              0.2222222222222222,
              "#7201a8"
             ],
             [
              0.3333333333333333,
              "#9c179e"
             ],
             [
              0.4444444444444444,
              "#bd3786"
             ],
             [
              0.5555555555555556,
              "#d8576b"
             ],
             [
              0.6666666666666666,
              "#ed7953"
             ],
             [
              0.7777777777777778,
              "#fb9f3a"
             ],
             [
              0.8888888888888888,
              "#fdca26"
             ],
             [
              1,
              "#f0f921"
             ]
            ],
            "type": "histogram2d"
           }
          ],
          "histogram2dcontour": [
           {
            "colorbar": {
             "outlinewidth": 0,
             "ticks": ""
            },
            "colorscale": [
             [
              0,
              "#0d0887"
             ],
             [
              0.1111111111111111,
              "#46039f"
             ],
             [
              0.2222222222222222,
              "#7201a8"
             ],
             [
              0.3333333333333333,
              "#9c179e"
             ],
             [
              0.4444444444444444,
              "#bd3786"
             ],
             [
              0.5555555555555556,
              "#d8576b"
             ],
             [
              0.6666666666666666,
              "#ed7953"
             ],
             [
              0.7777777777777778,
              "#fb9f3a"
             ],
             [
              0.8888888888888888,
              "#fdca26"
             ],
             [
              1,
              "#f0f921"
             ]
            ],
            "type": "histogram2dcontour"
           }
          ],
          "mesh3d": [
           {
            "colorbar": {
             "outlinewidth": 0,
             "ticks": ""
            },
            "type": "mesh3d"
           }
          ],
          "parcoords": [
           {
            "line": {
             "colorbar": {
              "outlinewidth": 0,
              "ticks": ""
             }
            },
            "type": "parcoords"
           }
          ],
          "pie": [
           {
            "automargin": true,
            "type": "pie"
           }
          ],
          "scatter": [
           {
            "marker": {
             "colorbar": {
              "outlinewidth": 0,
              "ticks": ""
             }
            },
            "type": "scatter"
           }
          ],
          "scatter3d": [
           {
            "line": {
             "colorbar": {
              "outlinewidth": 0,
              "ticks": ""
             }
            },
            "marker": {
             "colorbar": {
              "outlinewidth": 0,
              "ticks": ""
             }
            },
            "type": "scatter3d"
           }
          ],
          "scattercarpet": [
           {
            "marker": {
             "colorbar": {
              "outlinewidth": 0,
              "ticks": ""
             }
            },
            "type": "scattercarpet"
           }
          ],
          "scattergeo": [
           {
            "marker": {
             "colorbar": {
              "outlinewidth": 0,
              "ticks": ""
             }
            },
            "type": "scattergeo"
           }
          ],
          "scattergl": [
           {
            "marker": {
             "colorbar": {
              "outlinewidth": 0,
              "ticks": ""
             }
            },
            "type": "scattergl"
           }
          ],
          "scattermapbox": [
           {
            "marker": {
             "colorbar": {
              "outlinewidth": 0,
              "ticks": ""
             }
            },
            "type": "scattermapbox"
           }
          ],
          "scatterpolar": [
           {
            "marker": {
             "colorbar": {
              "outlinewidth": 0,
              "ticks": ""
             }
            },
            "type": "scatterpolar"
           }
          ],
          "scatterpolargl": [
           {
            "marker": {
             "colorbar": {
              "outlinewidth": 0,
              "ticks": ""
             }
            },
            "type": "scatterpolargl"
           }
          ],
          "scatterternary": [
           {
            "marker": {
             "colorbar": {
              "outlinewidth": 0,
              "ticks": ""
             }
            },
            "type": "scatterternary"
           }
          ],
          "surface": [
           {
            "colorbar": {
             "outlinewidth": 0,
             "ticks": ""
            },
            "colorscale": [
             [
              0,
              "#0d0887"
             ],
             [
              0.1111111111111111,
              "#46039f"
             ],
             [
              0.2222222222222222,
              "#7201a8"
             ],
             [
              0.3333333333333333,
              "#9c179e"
             ],
             [
              0.4444444444444444,
              "#bd3786"
             ],
             [
              0.5555555555555556,
              "#d8576b"
             ],
             [
              0.6666666666666666,
              "#ed7953"
             ],
             [
              0.7777777777777778,
              "#fb9f3a"
             ],
             [
              0.8888888888888888,
              "#fdca26"
             ],
             [
              1,
              "#f0f921"
             ]
            ],
            "type": "surface"
           }
          ],
          "table": [
           {
            "cells": {
             "fill": {
              "color": "#EBF0F8"
             },
             "line": {
              "color": "white"
             }
            },
            "header": {
             "fill": {
              "color": "#C8D4E3"
             },
             "line": {
              "color": "white"
             }
            },
            "type": "table"
           }
          ]
         },
         "layout": {
          "annotationdefaults": {
           "arrowcolor": "#2a3f5f",
           "arrowhead": 0,
           "arrowwidth": 1
          },
          "coloraxis": {
           "colorbar": {
            "outlinewidth": 0,
            "ticks": ""
           }
          },
          "colorscale": {
           "diverging": [
            [
             0,
             "#8e0152"
            ],
            [
             0.1,
             "#c51b7d"
            ],
            [
             0.2,
             "#de77ae"
            ],
            [
             0.3,
             "#f1b6da"
            ],
            [
             0.4,
             "#fde0ef"
            ],
            [
             0.5,
             "#f7f7f7"
            ],
            [
             0.6,
             "#e6f5d0"
            ],
            [
             0.7,
             "#b8e186"
            ],
            [
             0.8,
             "#7fbc41"
            ],
            [
             0.9,
             "#4d9221"
            ],
            [
             1,
             "#276419"
            ]
           ],
           "sequential": [
            [
             0,
             "#0d0887"
            ],
            [
             0.1111111111111111,
             "#46039f"
            ],
            [
             0.2222222222222222,
             "#7201a8"
            ],
            [
             0.3333333333333333,
             "#9c179e"
            ],
            [
             0.4444444444444444,
             "#bd3786"
            ],
            [
             0.5555555555555556,
             "#d8576b"
            ],
            [
             0.6666666666666666,
             "#ed7953"
            ],
            [
             0.7777777777777778,
             "#fb9f3a"
            ],
            [
             0.8888888888888888,
             "#fdca26"
            ],
            [
             1,
             "#f0f921"
            ]
           ],
           "sequentialminus": [
            [
             0,
             "#0d0887"
            ],
            [
             0.1111111111111111,
             "#46039f"
            ],
            [
             0.2222222222222222,
             "#7201a8"
            ],
            [
             0.3333333333333333,
             "#9c179e"
            ],
            [
             0.4444444444444444,
             "#bd3786"
            ],
            [
             0.5555555555555556,
             "#d8576b"
            ],
            [
             0.6666666666666666,
             "#ed7953"
            ],
            [
             0.7777777777777778,
             "#fb9f3a"
            ],
            [
             0.8888888888888888,
             "#fdca26"
            ],
            [
             1,
             "#f0f921"
            ]
           ]
          },
          "colorway": [
           "#636efa",
           "#EF553B",
           "#00cc96",
           "#ab63fa",
           "#FFA15A",
           "#19d3f3",
           "#FF6692",
           "#B6E880",
           "#FF97FF",
           "#FECB52"
          ],
          "font": {
           "color": "#2a3f5f"
          },
          "geo": {
           "bgcolor": "white",
           "lakecolor": "white",
           "landcolor": "#E5ECF6",
           "showlakes": true,
           "showland": true,
           "subunitcolor": "white"
          },
          "hoverlabel": {
           "align": "left"
          },
          "hovermode": "closest",
          "mapbox": {
           "style": "light"
          },
          "paper_bgcolor": "white",
          "plot_bgcolor": "#E5ECF6",
          "polar": {
           "angularaxis": {
            "gridcolor": "white",
            "linecolor": "white",
            "ticks": ""
           },
           "bgcolor": "#E5ECF6",
           "radialaxis": {
            "gridcolor": "white",
            "linecolor": "white",
            "ticks": ""
           }
          },
          "scene": {
           "xaxis": {
            "backgroundcolor": "#E5ECF6",
            "gridcolor": "white",
            "gridwidth": 2,
            "linecolor": "white",
            "showbackground": true,
            "ticks": "",
            "zerolinecolor": "white"
           },
           "yaxis": {
            "backgroundcolor": "#E5ECF6",
            "gridcolor": "white",
            "gridwidth": 2,
            "linecolor": "white",
            "showbackground": true,
            "ticks": "",
            "zerolinecolor": "white"
           },
           "zaxis": {
            "backgroundcolor": "#E5ECF6",
            "gridcolor": "white",
            "gridwidth": 2,
            "linecolor": "white",
            "showbackground": true,
            "ticks": "",
            "zerolinecolor": "white"
           }
          },
          "shapedefaults": {
           "line": {
            "color": "#2a3f5f"
           }
          },
          "ternary": {
           "aaxis": {
            "gridcolor": "white",
            "linecolor": "white",
            "ticks": ""
           },
           "baxis": {
            "gridcolor": "white",
            "linecolor": "white",
            "ticks": ""
           },
           "bgcolor": "#E5ECF6",
           "caxis": {
            "gridcolor": "white",
            "linecolor": "white",
            "ticks": ""
           }
          },
          "title": {
           "x": 0.05
          },
          "xaxis": {
           "automargin": true,
           "gridcolor": "white",
           "linecolor": "white",
           "ticks": "",
           "title": {
            "standoff": 15
           },
           "zerolinecolor": "white",
           "zerolinewidth": 2
          },
          "yaxis": {
           "automargin": true,
           "gridcolor": "white",
           "linecolor": "white",
           "ticks": "",
           "title": {
            "standoff": 15
           },
           "zerolinecolor": "white",
           "zerolinewidth": 2
          }
         }
        },
        "title": {
         "text": "Turnout Data 2012"
        },
        "width": 1000,
        "xaxis": {
         "anchor": "y",
         "domain": [
          0,
          1
         ],
         "title": {
          "text": "StateAbbreviation"
         }
        },
        "yaxis": {
         "anchor": "x",
         "domain": [
          0,
          1
         ],
         "title": {
          "text": "PercentTurnout"
         }
        }
       }
      }
     },
     "metadata": {}
    }
   ],
   "source": [
    "Turnout2012 = pe.bar(TurnoutDF2012, x=\"StateAbbreviation\", y=\"PercentTurnout\", title=\"Turnout Data 2012\",\n",
    "            color_discrete_sequence =['red']*len(TurnoutDF2012),\n",
    "             barmode='group',\n",
    "             height=400, width=1000)\n",
    "Turnout2012.show()"
   ]
  },
  {
   "cell_type": "code",
   "execution_count": 16,
   "metadata": {},
   "outputs": [
    {
     "output_type": "execute_result",
     "data": {
      "text/plain": [
       "     ElectionYear StateAbbreviation       StateName  \\\n",
       "200          2014                AL         Alabama   \n",
       "201          2014                AK          Alaska   \n",
       "202          2014                AZ         Arizona   \n",
       "203          2014                AR        Arkansas   \n",
       "204          2014                CA      California   \n",
       "205          2014                CO        Colorado   \n",
       "206          2014                CT     Connecticut   \n",
       "207          2014                DE        Delaware   \n",
       "208          2014                FL         Florida   \n",
       "209          2014                GA         Georgia   \n",
       "210          2014                HI          Hawaii   \n",
       "211          2014                ID           Idaho   \n",
       "212          2014                IL        Illinois   \n",
       "213          2014                IN         Indiana   \n",
       "214          2014                IA            Iowa   \n",
       "215          2014                KS          Kansas   \n",
       "216          2014                KY        Kentucky   \n",
       "217          2014                LA       Louisiana   \n",
       "218          2014                ME           Maine   \n",
       "219          2014                MD        Maryland   \n",
       "220          2014                MA   Massachusetts   \n",
       "221          2014                MI        Michigan   \n",
       "222          2014                MN       Minnesota   \n",
       "223          2014                MS     Mississippi   \n",
       "224          2014                MO        Missouri   \n",
       "225          2014                MT         Montana   \n",
       "226          2014                NE        Nebraska   \n",
       "227          2014                NV          Nevada   \n",
       "228          2014                NH   New Hampshire   \n",
       "229          2014                NJ      New Jersey   \n",
       "230          2014                NM      New Mexico   \n",
       "231          2014                NY        New York   \n",
       "232          2014                NC  North Carolina   \n",
       "233          2014                ND    North Dakota   \n",
       "234          2014                OH            Ohio   \n",
       "235          2014                OK        Oklahoma   \n",
       "236          2014                OR          Oregon   \n",
       "237          2014                PA    Pennsylvania   \n",
       "238          2014                RI    Rhode Island   \n",
       "239          2014                SC  South Carolina   \n",
       "240          2014                SD    South Dakota   \n",
       "241          2014                TN       Tennessee   \n",
       "242          2014                TX           Texas   \n",
       "243          2014                UT            Utah   \n",
       "244          2014                VT         Vermont   \n",
       "245          2014                VA        Virginia   \n",
       "246          2014                WA      Washington   \n",
       "247          2014                WV   West Virginia   \n",
       "248          2014                WI       Wisconsin   \n",
       "249          2014                WY         Wyoming   \n",
       "\n",
       "     PercentOfRegisteredVoters  PercentTurnout  \n",
       "200                   0.801846           0.329  \n",
       "201                   0.826949           0.542  \n",
       "202                   0.774479           0.334  \n",
       "203                   0.747297           0.401  \n",
       "204                   0.741494           0.299  \n",
       "205                   0.866747           0.537  \n",
       "206                   0.811415           0.423  \n",
       "207                   0.824842           0.343  \n",
       "208                   0.822848           0.428  \n",
       "209                   0.778035           0.382  \n",
       "210                   0.640036           0.362  \n",
       "211                   0.701522           0.393  \n",
       "212                   0.802402           0.402  \n",
       "213                   0.751587           0.278  \n",
       "214                   0.847691           0.498  \n",
       "215                   0.750579           0.425  \n",
       "216                   0.807573           0.442  \n",
       "217                   0.821286           0.439  \n",
       "218                   0.848236           0.581  \n",
       "219                   0.851854           0.417  \n",
       "220                   0.805996           0.441  \n",
       "221                   0.866478           0.427  \n",
       "222                   0.825280           0.504  \n",
       "223                   0.852437           0.290  \n",
       "224                   0.834504           0.317  \n",
       "225                   0.741809           0.469  \n",
       "226                   0.775799           0.405  \n",
       "227                   0.685297           0.293  \n",
       "228                   0.783223           0.476  \n",
       "229                   0.811916           0.311  \n",
       "230                   0.740992           0.354  \n",
       "231                   0.764596           0.282  \n",
       "232                   0.830446           0.408  \n",
       "233                        NaN           0.438  \n",
       "234                   0.772956           0.351  \n",
       "235                   0.740372           0.299  \n",
       "236                   0.841576           0.509  \n",
       "237                   0.765750           0.361  \n",
       "238                   0.792128           0.417  \n",
       "239                   0.794805           0.348  \n",
       "240                   0.752527           0.443  \n",
       "241                   0.743123           0.286  \n",
       "242                   0.728038           0.283  \n",
       "243                   0.698871           0.297  \n",
       "244                   0.767933           0.389  \n",
       "245                   0.835605           0.366  \n",
       "246                   0.816906           0.412  \n",
       "247                   0.756622           0.312  \n",
       "248                   0.818323           0.566  \n",
       "249                   0.674434           0.390  "
      ],
      "text/html": "<div>\n<style scoped>\n    .dataframe tbody tr th:only-of-type {\n        vertical-align: middle;\n    }\n\n    .dataframe tbody tr th {\n        vertical-align: top;\n    }\n\n    .dataframe thead th {\n        text-align: right;\n    }\n</style>\n<table border=\"1\" class=\"dataframe\">\n  <thead>\n    <tr style=\"text-align: right;\">\n      <th></th>\n      <th>ElectionYear</th>\n      <th>StateAbbreviation</th>\n      <th>StateName</th>\n      <th>PercentOfRegisteredVoters</th>\n      <th>PercentTurnout</th>\n    </tr>\n  </thead>\n  <tbody>\n    <tr>\n      <th>200</th>\n      <td>2014</td>\n      <td>AL</td>\n      <td>Alabama</td>\n      <td>0.801846</td>\n      <td>0.329</td>\n    </tr>\n    <tr>\n      <th>201</th>\n      <td>2014</td>\n      <td>AK</td>\n      <td>Alaska</td>\n      <td>0.826949</td>\n      <td>0.542</td>\n    </tr>\n    <tr>\n      <th>202</th>\n      <td>2014</td>\n      <td>AZ</td>\n      <td>Arizona</td>\n      <td>0.774479</td>\n      <td>0.334</td>\n    </tr>\n    <tr>\n      <th>203</th>\n      <td>2014</td>\n      <td>AR</td>\n      <td>Arkansas</td>\n      <td>0.747297</td>\n      <td>0.401</td>\n    </tr>\n    <tr>\n      <th>204</th>\n      <td>2014</td>\n      <td>CA</td>\n      <td>California</td>\n      <td>0.741494</td>\n      <td>0.299</td>\n    </tr>\n    <tr>\n      <th>205</th>\n      <td>2014</td>\n      <td>CO</td>\n      <td>Colorado</td>\n      <td>0.866747</td>\n      <td>0.537</td>\n    </tr>\n    <tr>\n      <th>206</th>\n      <td>2014</td>\n      <td>CT</td>\n      <td>Connecticut</td>\n      <td>0.811415</td>\n      <td>0.423</td>\n    </tr>\n    <tr>\n      <th>207</th>\n      <td>2014</td>\n      <td>DE</td>\n      <td>Delaware</td>\n      <td>0.824842</td>\n      <td>0.343</td>\n    </tr>\n    <tr>\n      <th>208</th>\n      <td>2014</td>\n      <td>FL</td>\n      <td>Florida</td>\n      <td>0.822848</td>\n      <td>0.428</td>\n    </tr>\n    <tr>\n      <th>209</th>\n      <td>2014</td>\n      <td>GA</td>\n      <td>Georgia</td>\n      <td>0.778035</td>\n      <td>0.382</td>\n    </tr>\n    <tr>\n      <th>210</th>\n      <td>2014</td>\n      <td>HI</td>\n      <td>Hawaii</td>\n      <td>0.640036</td>\n      <td>0.362</td>\n    </tr>\n    <tr>\n      <th>211</th>\n      <td>2014</td>\n      <td>ID</td>\n      <td>Idaho</td>\n      <td>0.701522</td>\n      <td>0.393</td>\n    </tr>\n    <tr>\n      <th>212</th>\n      <td>2014</td>\n      <td>IL</td>\n      <td>Illinois</td>\n      <td>0.802402</td>\n      <td>0.402</td>\n    </tr>\n    <tr>\n      <th>213</th>\n      <td>2014</td>\n      <td>IN</td>\n      <td>Indiana</td>\n      <td>0.751587</td>\n      <td>0.278</td>\n    </tr>\n    <tr>\n      <th>214</th>\n      <td>2014</td>\n      <td>IA</td>\n      <td>Iowa</td>\n      <td>0.847691</td>\n      <td>0.498</td>\n    </tr>\n    <tr>\n      <th>215</th>\n      <td>2014</td>\n      <td>KS</td>\n      <td>Kansas</td>\n      <td>0.750579</td>\n      <td>0.425</td>\n    </tr>\n    <tr>\n      <th>216</th>\n      <td>2014</td>\n      <td>KY</td>\n      <td>Kentucky</td>\n      <td>0.807573</td>\n      <td>0.442</td>\n    </tr>\n    <tr>\n      <th>217</th>\n      <td>2014</td>\n      <td>LA</td>\n      <td>Louisiana</td>\n      <td>0.821286</td>\n      <td>0.439</td>\n    </tr>\n    <tr>\n      <th>218</th>\n      <td>2014</td>\n      <td>ME</td>\n      <td>Maine</td>\n      <td>0.848236</td>\n      <td>0.581</td>\n    </tr>\n    <tr>\n      <th>219</th>\n      <td>2014</td>\n      <td>MD</td>\n      <td>Maryland</td>\n      <td>0.851854</td>\n      <td>0.417</td>\n    </tr>\n    <tr>\n      <th>220</th>\n      <td>2014</td>\n      <td>MA</td>\n      <td>Massachusetts</td>\n      <td>0.805996</td>\n      <td>0.441</td>\n    </tr>\n    <tr>\n      <th>221</th>\n      <td>2014</td>\n      <td>MI</td>\n      <td>Michigan</td>\n      <td>0.866478</td>\n      <td>0.427</td>\n    </tr>\n    <tr>\n      <th>222</th>\n      <td>2014</td>\n      <td>MN</td>\n      <td>Minnesota</td>\n      <td>0.825280</td>\n      <td>0.504</td>\n    </tr>\n    <tr>\n      <th>223</th>\n      <td>2014</td>\n      <td>MS</td>\n      <td>Mississippi</td>\n      <td>0.852437</td>\n      <td>0.290</td>\n    </tr>\n    <tr>\n      <th>224</th>\n      <td>2014</td>\n      <td>MO</td>\n      <td>Missouri</td>\n      <td>0.834504</td>\n      <td>0.317</td>\n    </tr>\n    <tr>\n      <th>225</th>\n      <td>2014</td>\n      <td>MT</td>\n      <td>Montana</td>\n      <td>0.741809</td>\n      <td>0.469</td>\n    </tr>\n    <tr>\n      <th>226</th>\n      <td>2014</td>\n      <td>NE</td>\n      <td>Nebraska</td>\n      <td>0.775799</td>\n      <td>0.405</td>\n    </tr>\n    <tr>\n      <th>227</th>\n      <td>2014</td>\n      <td>NV</td>\n      <td>Nevada</td>\n      <td>0.685297</td>\n      <td>0.293</td>\n    </tr>\n    <tr>\n      <th>228</th>\n      <td>2014</td>\n      <td>NH</td>\n      <td>New Hampshire</td>\n      <td>0.783223</td>\n      <td>0.476</td>\n    </tr>\n    <tr>\n      <th>229</th>\n      <td>2014</td>\n      <td>NJ</td>\n      <td>New Jersey</td>\n      <td>0.811916</td>\n      <td>0.311</td>\n    </tr>\n    <tr>\n      <th>230</th>\n      <td>2014</td>\n      <td>NM</td>\n      <td>New Mexico</td>\n      <td>0.740992</td>\n      <td>0.354</td>\n    </tr>\n    <tr>\n      <th>231</th>\n      <td>2014</td>\n      <td>NY</td>\n      <td>New York</td>\n      <td>0.764596</td>\n      <td>0.282</td>\n    </tr>\n    <tr>\n      <th>232</th>\n      <td>2014</td>\n      <td>NC</td>\n      <td>North Carolina</td>\n      <td>0.830446</td>\n      <td>0.408</td>\n    </tr>\n    <tr>\n      <th>233</th>\n      <td>2014</td>\n      <td>ND</td>\n      <td>North Dakota</td>\n      <td>NaN</td>\n      <td>0.438</td>\n    </tr>\n    <tr>\n      <th>234</th>\n      <td>2014</td>\n      <td>OH</td>\n      <td>Ohio</td>\n      <td>0.772956</td>\n      <td>0.351</td>\n    </tr>\n    <tr>\n      <th>235</th>\n      <td>2014</td>\n      <td>OK</td>\n      <td>Oklahoma</td>\n      <td>0.740372</td>\n      <td>0.299</td>\n    </tr>\n    <tr>\n      <th>236</th>\n      <td>2014</td>\n      <td>OR</td>\n      <td>Oregon</td>\n      <td>0.841576</td>\n      <td>0.509</td>\n    </tr>\n    <tr>\n      <th>237</th>\n      <td>2014</td>\n      <td>PA</td>\n      <td>Pennsylvania</td>\n      <td>0.765750</td>\n      <td>0.361</td>\n    </tr>\n    <tr>\n      <th>238</th>\n      <td>2014</td>\n      <td>RI</td>\n      <td>Rhode Island</td>\n      <td>0.792128</td>\n      <td>0.417</td>\n    </tr>\n    <tr>\n      <th>239</th>\n      <td>2014</td>\n      <td>SC</td>\n      <td>South Carolina</td>\n      <td>0.794805</td>\n      <td>0.348</td>\n    </tr>\n    <tr>\n      <th>240</th>\n      <td>2014</td>\n      <td>SD</td>\n      <td>South Dakota</td>\n      <td>0.752527</td>\n      <td>0.443</td>\n    </tr>\n    <tr>\n      <th>241</th>\n      <td>2014</td>\n      <td>TN</td>\n      <td>Tennessee</td>\n      <td>0.743123</td>\n      <td>0.286</td>\n    </tr>\n    <tr>\n      <th>242</th>\n      <td>2014</td>\n      <td>TX</td>\n      <td>Texas</td>\n      <td>0.728038</td>\n      <td>0.283</td>\n    </tr>\n    <tr>\n      <th>243</th>\n      <td>2014</td>\n      <td>UT</td>\n      <td>Utah</td>\n      <td>0.698871</td>\n      <td>0.297</td>\n    </tr>\n    <tr>\n      <th>244</th>\n      <td>2014</td>\n      <td>VT</td>\n      <td>Vermont</td>\n      <td>0.767933</td>\n      <td>0.389</td>\n    </tr>\n    <tr>\n      <th>245</th>\n      <td>2014</td>\n      <td>VA</td>\n      <td>Virginia</td>\n      <td>0.835605</td>\n      <td>0.366</td>\n    </tr>\n    <tr>\n      <th>246</th>\n      <td>2014</td>\n      <td>WA</td>\n      <td>Washington</td>\n      <td>0.816906</td>\n      <td>0.412</td>\n    </tr>\n    <tr>\n      <th>247</th>\n      <td>2014</td>\n      <td>WV</td>\n      <td>West Virginia</td>\n      <td>0.756622</td>\n      <td>0.312</td>\n    </tr>\n    <tr>\n      <th>248</th>\n      <td>2014</td>\n      <td>WI</td>\n      <td>Wisconsin</td>\n      <td>0.818323</td>\n      <td>0.566</td>\n    </tr>\n    <tr>\n      <th>249</th>\n      <td>2014</td>\n      <td>WY</td>\n      <td>Wyoming</td>\n      <td>0.674434</td>\n      <td>0.390</td>\n    </tr>\n  </tbody>\n</table>\n</div>"
     },
     "metadata": {},
     "execution_count": 16
    }
   ],
   "source": [
    "TurnoutDF2014=PercentRegisteredDF[PercentRegisteredDF['ElectionYear']==2014]\n",
    "TurnoutDF2014"
   ]
  },
  {
   "cell_type": "code",
   "execution_count": 17,
   "metadata": {},
   "outputs": [
    {
     "output_type": "display_data",
     "data": {
      "application/vnd.plotly.v1+json": {
       "config": {
        "plotlyServerURL": "https://plot.ly"
       },
       "data": [
        {
         "alignmentgroup": "True",
         "hovertemplate": "StateAbbreviation=%{x}<br>PercentTurnout=%{y}<extra></extra>",
         "legendgroup": "",
         "marker": {
          "color": "purple"
         },
         "name": "",
         "offsetgroup": "",
         "orientation": "v",
         "showlegend": false,
         "textposition": "auto",
         "type": "bar",
         "x": [
          "AL",
          "AK",
          "AZ",
          "AR",
          "CA",
          "CO",
          "CT",
          "DE",
          "FL",
          "GA",
          "HI",
          "ID",
          "IL",
          "IN",
          "IA",
          "KS",
          "KY",
          "LA",
          "ME",
          "MD",
          "MA",
          "MI",
          "MN",
          "MS",
          "MO",
          "MT",
          "NE",
          "NV",
          "NH",
          "NJ",
          "NM",
          "NY",
          "NC",
          "ND",
          "OH",
          "OK",
          "OR",
          "PA",
          "RI",
          "SC",
          "SD",
          "TN",
          "TX",
          "UT",
          "VT",
          "VA",
          "WA",
          "WV",
          "WI",
          "WY"
         ],
         "xaxis": "x",
         "y": [
          0.329,
          0.542,
          0.334,
          0.401,
          0.299,
          0.537,
          0.423,
          0.343,
          0.428,
          0.382,
          0.362,
          0.393,
          0.402,
          0.278,
          0.498,
          0.425,
          0.442,
          0.439,
          0.581,
          0.417,
          0.441,
          0.427,
          0.504,
          0.29,
          0.317,
          0.469,
          0.405,
          0.293,
          0.476,
          0.311,
          0.354,
          0.282,
          0.408,
          0.438,
          0.351,
          0.299,
          0.509,
          0.361,
          0.417,
          0.348,
          0.443,
          0.286,
          0.283,
          0.297,
          0.389,
          0.366,
          0.412,
          0.312,
          0.566,
          0.39
         ],
         "yaxis": "y"
        }
       ],
       "layout": {
        "barmode": "group",
        "height": 400,
        "legend": {
         "tracegroupgap": 0
        },
        "template": {
         "data": {
          "bar": [
           {
            "error_x": {
             "color": "#2a3f5f"
            },
            "error_y": {
             "color": "#2a3f5f"
            },
            "marker": {
             "line": {
              "color": "#E5ECF6",
              "width": 0.5
             }
            },
            "type": "bar"
           }
          ],
          "barpolar": [
           {
            "marker": {
             "line": {
              "color": "#E5ECF6",
              "width": 0.5
             }
            },
            "type": "barpolar"
           }
          ],
          "carpet": [
           {
            "aaxis": {
             "endlinecolor": "#2a3f5f",
             "gridcolor": "white",
             "linecolor": "white",
             "minorgridcolor": "white",
             "startlinecolor": "#2a3f5f"
            },
            "baxis": {
             "endlinecolor": "#2a3f5f",
             "gridcolor": "white",
             "linecolor": "white",
             "minorgridcolor": "white",
             "startlinecolor": "#2a3f5f"
            },
            "type": "carpet"
           }
          ],
          "choropleth": [
           {
            "colorbar": {
             "outlinewidth": 0,
             "ticks": ""
            },
            "type": "choropleth"
           }
          ],
          "contour": [
           {
            "colorbar": {
             "outlinewidth": 0,
             "ticks": ""
            },
            "colorscale": [
             [
              0,
              "#0d0887"
             ],
             [
              0.1111111111111111,
              "#46039f"
             ],
             [
              0.2222222222222222,
              "#7201a8"
             ],
             [
              0.3333333333333333,
              "#9c179e"
             ],
             [
              0.4444444444444444,
              "#bd3786"
             ],
             [
              0.5555555555555556,
              "#d8576b"
             ],
             [
              0.6666666666666666,
              "#ed7953"
             ],
             [
              0.7777777777777778,
              "#fb9f3a"
             ],
             [
              0.8888888888888888,
              "#fdca26"
             ],
             [
              1,
              "#f0f921"
             ]
            ],
            "type": "contour"
           }
          ],
          "contourcarpet": [
           {
            "colorbar": {
             "outlinewidth": 0,
             "ticks": ""
            },
            "type": "contourcarpet"
           }
          ],
          "heatmap": [
           {
            "colorbar": {
             "outlinewidth": 0,
             "ticks": ""
            },
            "colorscale": [
             [
              0,
              "#0d0887"
             ],
             [
              0.1111111111111111,
              "#46039f"
             ],
             [
              0.2222222222222222,
              "#7201a8"
             ],
             [
              0.3333333333333333,
              "#9c179e"
             ],
             [
              0.4444444444444444,
              "#bd3786"
             ],
             [
              0.5555555555555556,
              "#d8576b"
             ],
             [
              0.6666666666666666,
              "#ed7953"
             ],
             [
              0.7777777777777778,
              "#fb9f3a"
             ],
             [
              0.8888888888888888,
              "#fdca26"
             ],
             [
              1,
              "#f0f921"
             ]
            ],
            "type": "heatmap"
           }
          ],
          "heatmapgl": [
           {
            "colorbar": {
             "outlinewidth": 0,
             "ticks": ""
            },
            "colorscale": [
             [
              0,
              "#0d0887"
             ],
             [
              0.1111111111111111,
              "#46039f"
             ],
             [
              0.2222222222222222,
              "#7201a8"
             ],
             [
              0.3333333333333333,
              "#9c179e"
             ],
             [
              0.4444444444444444,
              "#bd3786"
             ],
             [
              0.5555555555555556,
              "#d8576b"
             ],
             [
              0.6666666666666666,
              "#ed7953"
             ],
             [
              0.7777777777777778,
              "#fb9f3a"
             ],
             [
              0.8888888888888888,
              "#fdca26"
             ],
             [
              1,
              "#f0f921"
             ]
            ],
            "type": "heatmapgl"
           }
          ],
          "histogram": [
           {
            "marker": {
             "colorbar": {
              "outlinewidth": 0,
              "ticks": ""
             }
            },
            "type": "histogram"
           }
          ],
          "histogram2d": [
           {
            "colorbar": {
             "outlinewidth": 0,
             "ticks": ""
            },
            "colorscale": [
             [
              0,
              "#0d0887"
             ],
             [
              0.1111111111111111,
              "#46039f"
             ],
             [
              0.2222222222222222,
              "#7201a8"
             ],
             [
              0.3333333333333333,
              "#9c179e"
             ],
             [
              0.4444444444444444,
              "#bd3786"
             ],
             [
              0.5555555555555556,
              "#d8576b"
             ],
             [
              0.6666666666666666,
              "#ed7953"
             ],
             [
              0.7777777777777778,
              "#fb9f3a"
             ],
             [
              0.8888888888888888,
              "#fdca26"
             ],
             [
              1,
              "#f0f921"
             ]
            ],
            "type": "histogram2d"
           }
          ],
          "histogram2dcontour": [
           {
            "colorbar": {
             "outlinewidth": 0,
             "ticks": ""
            },
            "colorscale": [
             [
              0,
              "#0d0887"
             ],
             [
              0.1111111111111111,
              "#46039f"
             ],
             [
              0.2222222222222222,
              "#7201a8"
             ],
             [
              0.3333333333333333,
              "#9c179e"
             ],
             [
              0.4444444444444444,
              "#bd3786"
             ],
             [
              0.5555555555555556,
              "#d8576b"
             ],
             [
              0.6666666666666666,
              "#ed7953"
             ],
             [
              0.7777777777777778,
              "#fb9f3a"
             ],
             [
              0.8888888888888888,
              "#fdca26"
             ],
             [
              1,
              "#f0f921"
             ]
            ],
            "type": "histogram2dcontour"
           }
          ],
          "mesh3d": [
           {
            "colorbar": {
             "outlinewidth": 0,
             "ticks": ""
            },
            "type": "mesh3d"
           }
          ],
          "parcoords": [
           {
            "line": {
             "colorbar": {
              "outlinewidth": 0,
              "ticks": ""
             }
            },
            "type": "parcoords"
           }
          ],
          "pie": [
           {
            "automargin": true,
            "type": "pie"
           }
          ],
          "scatter": [
           {
            "marker": {
             "colorbar": {
              "outlinewidth": 0,
              "ticks": ""
             }
            },
            "type": "scatter"
           }
          ],
          "scatter3d": [
           {
            "line": {
             "colorbar": {
              "outlinewidth": 0,
              "ticks": ""
             }
            },
            "marker": {
             "colorbar": {
              "outlinewidth": 0,
              "ticks": ""
             }
            },
            "type": "scatter3d"
           }
          ],
          "scattercarpet": [
           {
            "marker": {
             "colorbar": {
              "outlinewidth": 0,
              "ticks": ""
             }
            },
            "type": "scattercarpet"
           }
          ],
          "scattergeo": [
           {
            "marker": {
             "colorbar": {
              "outlinewidth": 0,
              "ticks": ""
             }
            },
            "type": "scattergeo"
           }
          ],
          "scattergl": [
           {
            "marker": {
             "colorbar": {
              "outlinewidth": 0,
              "ticks": ""
             }
            },
            "type": "scattergl"
           }
          ],
          "scattermapbox": [
           {
            "marker": {
             "colorbar": {
              "outlinewidth": 0,
              "ticks": ""
             }
            },
            "type": "scattermapbox"
           }
          ],
          "scatterpolar": [
           {
            "marker": {
             "colorbar": {
              "outlinewidth": 0,
              "ticks": ""
             }
            },
            "type": "scatterpolar"
           }
          ],
          "scatterpolargl": [
           {
            "marker": {
             "colorbar": {
              "outlinewidth": 0,
              "ticks": ""
             }
            },
            "type": "scatterpolargl"
           }
          ],
          "scatterternary": [
           {
            "marker": {
             "colorbar": {
              "outlinewidth": 0,
              "ticks": ""
             }
            },
            "type": "scatterternary"
           }
          ],
          "surface": [
           {
            "colorbar": {
             "outlinewidth": 0,
             "ticks": ""
            },
            "colorscale": [
             [
              0,
              "#0d0887"
             ],
             [
              0.1111111111111111,
              "#46039f"
             ],
             [
              0.2222222222222222,
              "#7201a8"
             ],
             [
              0.3333333333333333,
              "#9c179e"
             ],
             [
              0.4444444444444444,
              "#bd3786"
             ],
             [
              0.5555555555555556,
              "#d8576b"
             ],
             [
              0.6666666666666666,
              "#ed7953"
             ],
             [
              0.7777777777777778,
              "#fb9f3a"
             ],
             [
              0.8888888888888888,
              "#fdca26"
             ],
             [
              1,
              "#f0f921"
             ]
            ],
            "type": "surface"
           }
          ],
          "table": [
           {
            "cells": {
             "fill": {
              "color": "#EBF0F8"
             },
             "line": {
              "color": "white"
             }
            },
            "header": {
             "fill": {
              "color": "#C8D4E3"
             },
             "line": {
              "color": "white"
             }
            },
            "type": "table"
           }
          ]
         },
         "layout": {
          "annotationdefaults": {
           "arrowcolor": "#2a3f5f",
           "arrowhead": 0,
           "arrowwidth": 1
          },
          "coloraxis": {
           "colorbar": {
            "outlinewidth": 0,
            "ticks": ""
           }
          },
          "colorscale": {
           "diverging": [
            [
             0,
             "#8e0152"
            ],
            [
             0.1,
             "#c51b7d"
            ],
            [
             0.2,
             "#de77ae"
            ],
            [
             0.3,
             "#f1b6da"
            ],
            [
             0.4,
             "#fde0ef"
            ],
            [
             0.5,
             "#f7f7f7"
            ],
            [
             0.6,
             "#e6f5d0"
            ],
            [
             0.7,
             "#b8e186"
            ],
            [
             0.8,
             "#7fbc41"
            ],
            [
             0.9,
             "#4d9221"
            ],
            [
             1,
             "#276419"
            ]
           ],
           "sequential": [
            [
             0,
             "#0d0887"
            ],
            [
             0.1111111111111111,
             "#46039f"
            ],
            [
             0.2222222222222222,
             "#7201a8"
            ],
            [
             0.3333333333333333,
             "#9c179e"
            ],
            [
             0.4444444444444444,
             "#bd3786"
            ],
            [
             0.5555555555555556,
             "#d8576b"
            ],
            [
             0.6666666666666666,
             "#ed7953"
            ],
            [
             0.7777777777777778,
             "#fb9f3a"
            ],
            [
             0.8888888888888888,
             "#fdca26"
            ],
            [
             1,
             "#f0f921"
            ]
           ],
           "sequentialminus": [
            [
             0,
             "#0d0887"
            ],
            [
             0.1111111111111111,
             "#46039f"
            ],
            [
             0.2222222222222222,
             "#7201a8"
            ],
            [
             0.3333333333333333,
             "#9c179e"
            ],
            [
             0.4444444444444444,
             "#bd3786"
            ],
            [
             0.5555555555555556,
             "#d8576b"
            ],
            [
             0.6666666666666666,
             "#ed7953"
            ],
            [
             0.7777777777777778,
             "#fb9f3a"
            ],
            [
             0.8888888888888888,
             "#fdca26"
            ],
            [
             1,
             "#f0f921"
            ]
           ]
          },
          "colorway": [
           "#636efa",
           "#EF553B",
           "#00cc96",
           "#ab63fa",
           "#FFA15A",
           "#19d3f3",
           "#FF6692",
           "#B6E880",
           "#FF97FF",
           "#FECB52"
          ],
          "font": {
           "color": "#2a3f5f"
          },
          "geo": {
           "bgcolor": "white",
           "lakecolor": "white",
           "landcolor": "#E5ECF6",
           "showlakes": true,
           "showland": true,
           "subunitcolor": "white"
          },
          "hoverlabel": {
           "align": "left"
          },
          "hovermode": "closest",
          "mapbox": {
           "style": "light"
          },
          "paper_bgcolor": "white",
          "plot_bgcolor": "#E5ECF6",
          "polar": {
           "angularaxis": {
            "gridcolor": "white",
            "linecolor": "white",
            "ticks": ""
           },
           "bgcolor": "#E5ECF6",
           "radialaxis": {
            "gridcolor": "white",
            "linecolor": "white",
            "ticks": ""
           }
          },
          "scene": {
           "xaxis": {
            "backgroundcolor": "#E5ECF6",
            "gridcolor": "white",
            "gridwidth": 2,
            "linecolor": "white",
            "showbackground": true,
            "ticks": "",
            "zerolinecolor": "white"
           },
           "yaxis": {
            "backgroundcolor": "#E5ECF6",
            "gridcolor": "white",
            "gridwidth": 2,
            "linecolor": "white",
            "showbackground": true,
            "ticks": "",
            "zerolinecolor": "white"
           },
           "zaxis": {
            "backgroundcolor": "#E5ECF6",
            "gridcolor": "white",
            "gridwidth": 2,
            "linecolor": "white",
            "showbackground": true,
            "ticks": "",
            "zerolinecolor": "white"
           }
          },
          "shapedefaults": {
           "line": {
            "color": "#2a3f5f"
           }
          },
          "ternary": {
           "aaxis": {
            "gridcolor": "white",
            "linecolor": "white",
            "ticks": ""
           },
           "baxis": {
            "gridcolor": "white",
            "linecolor": "white",
            "ticks": ""
           },
           "bgcolor": "#E5ECF6",
           "caxis": {
            "gridcolor": "white",
            "linecolor": "white",
            "ticks": ""
           }
          },
          "title": {
           "x": 0.05
          },
          "xaxis": {
           "automargin": true,
           "gridcolor": "white",
           "linecolor": "white",
           "ticks": "",
           "title": {
            "standoff": 15
           },
           "zerolinecolor": "white",
           "zerolinewidth": 2
          },
          "yaxis": {
           "automargin": true,
           "gridcolor": "white",
           "linecolor": "white",
           "ticks": "",
           "title": {
            "standoff": 15
           },
           "zerolinecolor": "white",
           "zerolinewidth": 2
          }
         }
        },
        "title": {
         "text": "Turnout Data 2014"
        },
        "width": 1000,
        "xaxis": {
         "anchor": "y",
         "domain": [
          0,
          1
         ],
         "title": {
          "text": "StateAbbreviation"
         }
        },
        "yaxis": {
         "anchor": "x",
         "domain": [
          0,
          1
         ],
         "title": {
          "text": "PercentTurnout"
         }
        }
       }
      }
     },
     "metadata": {}
    }
   ],
   "source": [
    "Turnout2014 = pe.bar(TurnoutDF2014, x=\"StateAbbreviation\", y=\"PercentTurnout\", title=\"Turnout Data 2014\",\n",
    "            color_discrete_sequence =['purple']*len(TurnoutDF2014),\n",
    "             barmode='group',\n",
    "             height=400, width=1000)\n",
    "Turnout2014.show()"
   ]
  },
  {
   "cell_type": "code",
   "execution_count": 18,
   "metadata": {},
   "outputs": [],
   "source": [
    "with open('Turnout2016_graph.html', 'w') as f:\n",
    "    f.write(Turnout2016.to_html(include_plotlyjs='cdn'))"
   ]
  },
  {
   "cell_type": "code",
   "execution_count": 19,
   "metadata": {},
   "outputs": [],
   "source": [
    "with open('Turnout2008_graph.html', 'w') as f:\n",
    "    f.write(Turnout2008.to_html(include_plotlyjs='cdn'))"
   ]
  },
  {
   "cell_type": "code",
   "execution_count": 20,
   "metadata": {},
   "outputs": [],
   "source": [
    "with open('Turnout2012_graph.html', 'w') as f:\n",
    "    f.write(Turnout2012.to_html(include_plotlyjs='cdn'))"
   ]
  },
  {
   "cell_type": "code",
   "execution_count": 21,
   "metadata": {},
   "outputs": [],
   "source": [
    "with open('Turnout2014_graph.html', 'w') as f:\n",
    "    f.write(Turnout2014.to_html(include_plotlyjs='cdn'))"
   ]
  },
  {
   "cell_type": "code",
   "execution_count": 22,
   "metadata": {},
   "outputs": [],
   "source": [
    "####### Now we will get data from other demographics"
   ]
  },
  {
   "cell_type": "code",
   "execution_count": 23,
   "metadata": {},
   "outputs": [
    {
     "output_type": "execute_result",
     "data": {
      "text/plain": [
       "Index(['yearstate', 'electionyear', 'stateabbreviation', 'statename',\n",
       "       'voterturnout', 'competivness', 'website_pollingplace',\n",
       "       'website_reg_status', 'website_precinct_ballot',\n",
       "       'website_absentee_status', 'website_provisional_status', 'reg_rej',\n",
       "       'prov_partic', 'prov_rej_all', 'abs_rej_all_ballots', 'abs_nonret',\n",
       "       'uocava_rej', 'uocava_nonret', 'eavs_completeness',\n",
       "       'post_election_audit', 'nonvoter_illness_pct', 'nonvoter_reg_pct',\n",
       "       'online_reg', 'wait', 'residual', 'pct_reg_of_vep_vrs', 'midterm',\n",
       "       'percentcitizenwhite', 'percentcitizenblack', 'percentcitizenasian',\n",
       "       'percentcitizenhispanic'],\n",
       "      dtype='object')"
      ]
     },
     "metadata": {},
     "execution_count": 23
    }
   ],
   "source": [
    "DashboardDataDF.columns"
   ]
  },
  {
   "cell_type": "code",
   "execution_count": 24,
   "metadata": {},
   "outputs": [],
   "source": [
    "NationalReasonsBigDF =  pd.read_sql(\"select * from \\\"nationalreasonsdata\\\"\", db_conn)"
   ]
  },
  {
   "cell_type": "code",
   "execution_count": 25,
   "metadata": {},
   "outputs": [
    {
     "output_type": "execute_result",
     "data": {
      "text/plain": [
       "   electionyear  nonvotersinthousands  illnessordisability  \\\n",
       "0          2000                 18724                0.148   \n",
       "1          2004                 16334                0.154   \n",
       "2          2016                 18933                0.117   \n",
       "3          2012                 19141                0.140   \n",
       "4          2008                 15167                0.149   \n",
       "\n",
       "   outoftownawayfromhome  forgot  notinterested  toobusy  \\\n",
       "0                  0.102   0.040          0.122    0.209   \n",
       "1                  0.090   0.034          0.107    0.199   \n",
       "2                  0.079   0.030          0.154    0.143   \n",
       "3                  0.086   0.039          0.157    0.189   \n",
       "4                  0.088   0.026          0.134    0.175   \n",
       "\n",
       "   transportationproblems  didnotlikecandidatesorcampaignissues  \\\n",
       "0                   0.024                                 0.077   \n",
       "1                   0.021                                 0.099   \n",
       "2                   0.026                                 0.248   \n",
       "3                   0.033                                 0.127   \n",
       "4                   0.026                                 0.129   \n",
       "\n",
       "   registrationproblems  badweatherconditions  \\\n",
       "0                 0.069                 0.006   \n",
       "1                 0.068                 0.005   \n",
       "2                 0.044                 0.000   \n",
       "3                 0.055                 0.008   \n",
       "4                 0.060                 0.002   \n",
       "\n",
       "   inconvenientpollingplaceorhourorlinestoolong  otherreason  refused  \n",
       "0                                         0.026        0.102    0.075  \n",
       "1                                         0.030        0.109    0.085  \n",
       "2                                         0.021        0.111    0.027  \n",
       "3                                         0.027        0.111    0.030  \n",
       "4                                         0.027        0.113    0.070  "
      ],
      "text/html": "<div>\n<style scoped>\n    .dataframe tbody tr th:only-of-type {\n        vertical-align: middle;\n    }\n\n    .dataframe tbody tr th {\n        vertical-align: top;\n    }\n\n    .dataframe thead th {\n        text-align: right;\n    }\n</style>\n<table border=\"1\" class=\"dataframe\">\n  <thead>\n    <tr style=\"text-align: right;\">\n      <th></th>\n      <th>electionyear</th>\n      <th>nonvotersinthousands</th>\n      <th>illnessordisability</th>\n      <th>outoftownawayfromhome</th>\n      <th>forgot</th>\n      <th>notinterested</th>\n      <th>toobusy</th>\n      <th>transportationproblems</th>\n      <th>didnotlikecandidatesorcampaignissues</th>\n      <th>registrationproblems</th>\n      <th>badweatherconditions</th>\n      <th>inconvenientpollingplaceorhourorlinestoolong</th>\n      <th>otherreason</th>\n      <th>refused</th>\n    </tr>\n  </thead>\n  <tbody>\n    <tr>\n      <th>0</th>\n      <td>2000</td>\n      <td>18724</td>\n      <td>0.148</td>\n      <td>0.102</td>\n      <td>0.040</td>\n      <td>0.122</td>\n      <td>0.209</td>\n      <td>0.024</td>\n      <td>0.077</td>\n      <td>0.069</td>\n      <td>0.006</td>\n      <td>0.026</td>\n      <td>0.102</td>\n      <td>0.075</td>\n    </tr>\n    <tr>\n      <th>1</th>\n      <td>2004</td>\n      <td>16334</td>\n      <td>0.154</td>\n      <td>0.090</td>\n      <td>0.034</td>\n      <td>0.107</td>\n      <td>0.199</td>\n      <td>0.021</td>\n      <td>0.099</td>\n      <td>0.068</td>\n      <td>0.005</td>\n      <td>0.030</td>\n      <td>0.109</td>\n      <td>0.085</td>\n    </tr>\n    <tr>\n      <th>2</th>\n      <td>2016</td>\n      <td>18933</td>\n      <td>0.117</td>\n      <td>0.079</td>\n      <td>0.030</td>\n      <td>0.154</td>\n      <td>0.143</td>\n      <td>0.026</td>\n      <td>0.248</td>\n      <td>0.044</td>\n      <td>0.000</td>\n      <td>0.021</td>\n      <td>0.111</td>\n      <td>0.027</td>\n    </tr>\n    <tr>\n      <th>3</th>\n      <td>2012</td>\n      <td>19141</td>\n      <td>0.140</td>\n      <td>0.086</td>\n      <td>0.039</td>\n      <td>0.157</td>\n      <td>0.189</td>\n      <td>0.033</td>\n      <td>0.127</td>\n      <td>0.055</td>\n      <td>0.008</td>\n      <td>0.027</td>\n      <td>0.111</td>\n      <td>0.030</td>\n    </tr>\n    <tr>\n      <th>4</th>\n      <td>2008</td>\n      <td>15167</td>\n      <td>0.149</td>\n      <td>0.088</td>\n      <td>0.026</td>\n      <td>0.134</td>\n      <td>0.175</td>\n      <td>0.026</td>\n      <td>0.129</td>\n      <td>0.060</td>\n      <td>0.002</td>\n      <td>0.027</td>\n      <td>0.113</td>\n      <td>0.070</td>\n    </tr>\n  </tbody>\n</table>\n</div>"
     },
     "metadata": {},
     "execution_count": 25
    }
   ],
   "source": [
    "NationalReasonsBigDF"
   ]
  },
  {
   "cell_type": "code",
   "execution_count": 26,
   "metadata": {},
   "outputs": [],
   "source": [
    "NationalReasonsBigDF[\"nonvotersinthousands\"]=NationalReasonsBigDF[\"nonvotersinthousands\"].apply(lambda x: x*1000)"
   ]
  },
  {
   "cell_type": "code",
   "execution_count": 27,
   "metadata": {},
   "outputs": [
    {
     "output_type": "execute_result",
     "data": {
      "text/plain": [
       "   electionyear  nonvotersinthousands  illnessordisability  \\\n",
       "0          2000              18724000                0.148   \n",
       "1          2004              16334000                0.154   \n",
       "2          2016              18933000                0.117   \n",
       "3          2012              19141000                0.140   \n",
       "4          2008              15167000                0.149   \n",
       "\n",
       "   outoftownawayfromhome  forgot  notinterested  toobusy  \\\n",
       "0                  0.102   0.040          0.122    0.209   \n",
       "1                  0.090   0.034          0.107    0.199   \n",
       "2                  0.079   0.030          0.154    0.143   \n",
       "3                  0.086   0.039          0.157    0.189   \n",
       "4                  0.088   0.026          0.134    0.175   \n",
       "\n",
       "   transportationproblems  didnotlikecandidatesorcampaignissues  \\\n",
       "0                   0.024                                 0.077   \n",
       "1                   0.021                                 0.099   \n",
       "2                   0.026                                 0.248   \n",
       "3                   0.033                                 0.127   \n",
       "4                   0.026                                 0.129   \n",
       "\n",
       "   registrationproblems  badweatherconditions  \\\n",
       "0                 0.069                 0.006   \n",
       "1                 0.068                 0.005   \n",
       "2                 0.044                 0.000   \n",
       "3                 0.055                 0.008   \n",
       "4                 0.060                 0.002   \n",
       "\n",
       "   inconvenientpollingplaceorhourorlinestoolong  otherreason  refused  \n",
       "0                                         0.026        0.102    0.075  \n",
       "1                                         0.030        0.109    0.085  \n",
       "2                                         0.021        0.111    0.027  \n",
       "3                                         0.027        0.111    0.030  \n",
       "4                                         0.027        0.113    0.070  "
      ],
      "text/html": "<div>\n<style scoped>\n    .dataframe tbody tr th:only-of-type {\n        vertical-align: middle;\n    }\n\n    .dataframe tbody tr th {\n        vertical-align: top;\n    }\n\n    .dataframe thead th {\n        text-align: right;\n    }\n</style>\n<table border=\"1\" class=\"dataframe\">\n  <thead>\n    <tr style=\"text-align: right;\">\n      <th></th>\n      <th>electionyear</th>\n      <th>nonvotersinthousands</th>\n      <th>illnessordisability</th>\n      <th>outoftownawayfromhome</th>\n      <th>forgot</th>\n      <th>notinterested</th>\n      <th>toobusy</th>\n      <th>transportationproblems</th>\n      <th>didnotlikecandidatesorcampaignissues</th>\n      <th>registrationproblems</th>\n      <th>badweatherconditions</th>\n      <th>inconvenientpollingplaceorhourorlinestoolong</th>\n      <th>otherreason</th>\n      <th>refused</th>\n    </tr>\n  </thead>\n  <tbody>\n    <tr>\n      <th>0</th>\n      <td>2000</td>\n      <td>18724000</td>\n      <td>0.148</td>\n      <td>0.102</td>\n      <td>0.040</td>\n      <td>0.122</td>\n      <td>0.209</td>\n      <td>0.024</td>\n      <td>0.077</td>\n      <td>0.069</td>\n      <td>0.006</td>\n      <td>0.026</td>\n      <td>0.102</td>\n      <td>0.075</td>\n    </tr>\n    <tr>\n      <th>1</th>\n      <td>2004</td>\n      <td>16334000</td>\n      <td>0.154</td>\n      <td>0.090</td>\n      <td>0.034</td>\n      <td>0.107</td>\n      <td>0.199</td>\n      <td>0.021</td>\n      <td>0.099</td>\n      <td>0.068</td>\n      <td>0.005</td>\n      <td>0.030</td>\n      <td>0.109</td>\n      <td>0.085</td>\n    </tr>\n    <tr>\n      <th>2</th>\n      <td>2016</td>\n      <td>18933000</td>\n      <td>0.117</td>\n      <td>0.079</td>\n      <td>0.030</td>\n      <td>0.154</td>\n      <td>0.143</td>\n      <td>0.026</td>\n      <td>0.248</td>\n      <td>0.044</td>\n      <td>0.000</td>\n      <td>0.021</td>\n      <td>0.111</td>\n      <td>0.027</td>\n    </tr>\n    <tr>\n      <th>3</th>\n      <td>2012</td>\n      <td>19141000</td>\n      <td>0.140</td>\n      <td>0.086</td>\n      <td>0.039</td>\n      <td>0.157</td>\n      <td>0.189</td>\n      <td>0.033</td>\n      <td>0.127</td>\n      <td>0.055</td>\n      <td>0.008</td>\n      <td>0.027</td>\n      <td>0.111</td>\n      <td>0.030</td>\n    </tr>\n    <tr>\n      <th>4</th>\n      <td>2008</td>\n      <td>15167000</td>\n      <td>0.149</td>\n      <td>0.088</td>\n      <td>0.026</td>\n      <td>0.134</td>\n      <td>0.175</td>\n      <td>0.026</td>\n      <td>0.129</td>\n      <td>0.060</td>\n      <td>0.002</td>\n      <td>0.027</td>\n      <td>0.113</td>\n      <td>0.070</td>\n    </tr>\n  </tbody>\n</table>\n</div>"
     },
     "metadata": {},
     "execution_count": 27
    }
   ],
   "source": [
    "NationalReasonsBigDF"
   ]
  },
  {
   "cell_type": "code",
   "execution_count": 28,
   "metadata": {},
   "outputs": [],
   "source": [
    "NationalReasonsBigDF.rename(columns={'nonvotersinthousands': 'nonvoters'}, inplace=True)"
   ]
  },
  {
   "cell_type": "code",
   "execution_count": 29,
   "metadata": {},
   "outputs": [
    {
     "output_type": "execute_result",
     "data": {
      "text/plain": [
       "   electionyear  nonvoters  illnessordisability  outoftownawayfromhome  \\\n",
       "0          2000   18724000                0.148                  0.102   \n",
       "1          2004   16334000                0.154                  0.090   \n",
       "2          2016   18933000                0.117                  0.079   \n",
       "3          2012   19141000                0.140                  0.086   \n",
       "4          2008   15167000                0.149                  0.088   \n",
       "\n",
       "   forgot  notinterested  toobusy  transportationproblems  \\\n",
       "0   0.040          0.122    0.209                   0.024   \n",
       "1   0.034          0.107    0.199                   0.021   \n",
       "2   0.030          0.154    0.143                   0.026   \n",
       "3   0.039          0.157    0.189                   0.033   \n",
       "4   0.026          0.134    0.175                   0.026   \n",
       "\n",
       "   didnotlikecandidatesorcampaignissues  registrationproblems  \\\n",
       "0                                 0.077                 0.069   \n",
       "1                                 0.099                 0.068   \n",
       "2                                 0.248                 0.044   \n",
       "3                                 0.127                 0.055   \n",
       "4                                 0.129                 0.060   \n",
       "\n",
       "   badweatherconditions  inconvenientpollingplaceorhourorlinestoolong  \\\n",
       "0                 0.006                                         0.026   \n",
       "1                 0.005                                         0.030   \n",
       "2                 0.000                                         0.021   \n",
       "3                 0.008                                         0.027   \n",
       "4                 0.002                                         0.027   \n",
       "\n",
       "   otherreason  refused  \n",
       "0        0.102    0.075  \n",
       "1        0.109    0.085  \n",
       "2        0.111    0.027  \n",
       "3        0.111    0.030  \n",
       "4        0.113    0.070  "
      ],
      "text/html": "<div>\n<style scoped>\n    .dataframe tbody tr th:only-of-type {\n        vertical-align: middle;\n    }\n\n    .dataframe tbody tr th {\n        vertical-align: top;\n    }\n\n    .dataframe thead th {\n        text-align: right;\n    }\n</style>\n<table border=\"1\" class=\"dataframe\">\n  <thead>\n    <tr style=\"text-align: right;\">\n      <th></th>\n      <th>electionyear</th>\n      <th>nonvoters</th>\n      <th>illnessordisability</th>\n      <th>outoftownawayfromhome</th>\n      <th>forgot</th>\n      <th>notinterested</th>\n      <th>toobusy</th>\n      <th>transportationproblems</th>\n      <th>didnotlikecandidatesorcampaignissues</th>\n      <th>registrationproblems</th>\n      <th>badweatherconditions</th>\n      <th>inconvenientpollingplaceorhourorlinestoolong</th>\n      <th>otherreason</th>\n      <th>refused</th>\n    </tr>\n  </thead>\n  <tbody>\n    <tr>\n      <th>0</th>\n      <td>2000</td>\n      <td>18724000</td>\n      <td>0.148</td>\n      <td>0.102</td>\n      <td>0.040</td>\n      <td>0.122</td>\n      <td>0.209</td>\n      <td>0.024</td>\n      <td>0.077</td>\n      <td>0.069</td>\n      <td>0.006</td>\n      <td>0.026</td>\n      <td>0.102</td>\n      <td>0.075</td>\n    </tr>\n    <tr>\n      <th>1</th>\n      <td>2004</td>\n      <td>16334000</td>\n      <td>0.154</td>\n      <td>0.090</td>\n      <td>0.034</td>\n      <td>0.107</td>\n      <td>0.199</td>\n      <td>0.021</td>\n      <td>0.099</td>\n      <td>0.068</td>\n      <td>0.005</td>\n      <td>0.030</td>\n      <td>0.109</td>\n      <td>0.085</td>\n    </tr>\n    <tr>\n      <th>2</th>\n      <td>2016</td>\n      <td>18933000</td>\n      <td>0.117</td>\n      <td>0.079</td>\n      <td>0.030</td>\n      <td>0.154</td>\n      <td>0.143</td>\n      <td>0.026</td>\n      <td>0.248</td>\n      <td>0.044</td>\n      <td>0.000</td>\n      <td>0.021</td>\n      <td>0.111</td>\n      <td>0.027</td>\n    </tr>\n    <tr>\n      <th>3</th>\n      <td>2012</td>\n      <td>19141000</td>\n      <td>0.140</td>\n      <td>0.086</td>\n      <td>0.039</td>\n      <td>0.157</td>\n      <td>0.189</td>\n      <td>0.033</td>\n      <td>0.127</td>\n      <td>0.055</td>\n      <td>0.008</td>\n      <td>0.027</td>\n      <td>0.111</td>\n      <td>0.030</td>\n    </tr>\n    <tr>\n      <th>4</th>\n      <td>2008</td>\n      <td>15167000</td>\n      <td>0.149</td>\n      <td>0.088</td>\n      <td>0.026</td>\n      <td>0.134</td>\n      <td>0.175</td>\n      <td>0.026</td>\n      <td>0.129</td>\n      <td>0.060</td>\n      <td>0.002</td>\n      <td>0.027</td>\n      <td>0.113</td>\n      <td>0.070</td>\n    </tr>\n  </tbody>\n</table>\n</div>"
     },
     "metadata": {},
     "execution_count": 29
    }
   ],
   "source": [
    "NationalReasonsBigDF"
   ]
  },
  {
   "cell_type": "code",
   "execution_count": 30,
   "metadata": {},
   "outputs": [],
   "source": [
    "NonvotersYear= pe.bar(NationalReasonsBigDF, x=\"electionyear\", y=\"nonvoters\", title=\"Nonvoters by Election Year\",\n",
    "            color_discrete_sequence =['Blue']*len(NationalReasonsBigDF),\n",
    "             barmode='group',\n",
    "             height=400)"
   ]
  },
  {
   "cell_type": "code",
   "execution_count": 31,
   "metadata": {},
   "outputs": [
    {
     "output_type": "display_data",
     "data": {
      "application/vnd.plotly.v1+json": {
       "config": {
        "plotlyServerURL": "https://plot.ly"
       },
       "data": [
        {
         "alignmentgroup": "True",
         "hovertemplate": "electionyear=%{x}<br>nonvoters=%{y}<extra></extra>",
         "legendgroup": "",
         "marker": {
          "color": "Blue"
         },
         "name": "",
         "offsetgroup": "",
         "orientation": "v",
         "showlegend": false,
         "textposition": "auto",
         "type": "bar",
         "x": [
          2000,
          2004,
          2016,
          2012,
          2008
         ],
         "xaxis": "x",
         "y": [
          18724000,
          16334000,
          18933000,
          19141000,
          15167000
         ],
         "yaxis": "y"
        }
       ],
       "layout": {
        "barmode": "group",
        "height": 400,
        "legend": {
         "tracegroupgap": 0
        },
        "template": {
         "data": {
          "bar": [
           {
            "error_x": {
             "color": "#2a3f5f"
            },
            "error_y": {
             "color": "#2a3f5f"
            },
            "marker": {
             "line": {
              "color": "#E5ECF6",
              "width": 0.5
             }
            },
            "type": "bar"
           }
          ],
          "barpolar": [
           {
            "marker": {
             "line": {
              "color": "#E5ECF6",
              "width": 0.5
             }
            },
            "type": "barpolar"
           }
          ],
          "carpet": [
           {
            "aaxis": {
             "endlinecolor": "#2a3f5f",
             "gridcolor": "white",
             "linecolor": "white",
             "minorgridcolor": "white",
             "startlinecolor": "#2a3f5f"
            },
            "baxis": {
             "endlinecolor": "#2a3f5f",
             "gridcolor": "white",
             "linecolor": "white",
             "minorgridcolor": "white",
             "startlinecolor": "#2a3f5f"
            },
            "type": "carpet"
           }
          ],
          "choropleth": [
           {
            "colorbar": {
             "outlinewidth": 0,
             "ticks": ""
            },
            "type": "choropleth"
           }
          ],
          "contour": [
           {
            "colorbar": {
             "outlinewidth": 0,
             "ticks": ""
            },
            "colorscale": [
             [
              0,
              "#0d0887"
             ],
             [
              0.1111111111111111,
              "#46039f"
             ],
             [
              0.2222222222222222,
              "#7201a8"
             ],
             [
              0.3333333333333333,
              "#9c179e"
             ],
             [
              0.4444444444444444,
              "#bd3786"
             ],
             [
              0.5555555555555556,
              "#d8576b"
             ],
             [
              0.6666666666666666,
              "#ed7953"
             ],
             [
              0.7777777777777778,
              "#fb9f3a"
             ],
             [
              0.8888888888888888,
              "#fdca26"
             ],
             [
              1,
              "#f0f921"
             ]
            ],
            "type": "contour"
           }
          ],
          "contourcarpet": [
           {
            "colorbar": {
             "outlinewidth": 0,
             "ticks": ""
            },
            "type": "contourcarpet"
           }
          ],
          "heatmap": [
           {
            "colorbar": {
             "outlinewidth": 0,
             "ticks": ""
            },
            "colorscale": [
             [
              0,
              "#0d0887"
             ],
             [
              0.1111111111111111,
              "#46039f"
             ],
             [
              0.2222222222222222,
              "#7201a8"
             ],
             [
              0.3333333333333333,
              "#9c179e"
             ],
             [
              0.4444444444444444,
              "#bd3786"
             ],
             [
              0.5555555555555556,
              "#d8576b"
             ],
             [
              0.6666666666666666,
              "#ed7953"
             ],
             [
              0.7777777777777778,
              "#fb9f3a"
             ],
             [
              0.8888888888888888,
              "#fdca26"
             ],
             [
              1,
              "#f0f921"
             ]
            ],
            "type": "heatmap"
           }
          ],
          "heatmapgl": [
           {
            "colorbar": {
             "outlinewidth": 0,
             "ticks": ""
            },
            "colorscale": [
             [
              0,
              "#0d0887"
             ],
             [
              0.1111111111111111,
              "#46039f"
             ],
             [
              0.2222222222222222,
              "#7201a8"
             ],
             [
              0.3333333333333333,
              "#9c179e"
             ],
             [
              0.4444444444444444,
              "#bd3786"
             ],
             [
              0.5555555555555556,
              "#d8576b"
             ],
             [
              0.6666666666666666,
              "#ed7953"
             ],
             [
              0.7777777777777778,
              "#fb9f3a"
             ],
             [
              0.8888888888888888,
              "#fdca26"
             ],
             [
              1,
              "#f0f921"
             ]
            ],
            "type": "heatmapgl"
           }
          ],
          "histogram": [
           {
            "marker": {
             "colorbar": {
              "outlinewidth": 0,
              "ticks": ""
             }
            },
            "type": "histogram"
           }
          ],
          "histogram2d": [
           {
            "colorbar": {
             "outlinewidth": 0,
             "ticks": ""
            },
            "colorscale": [
             [
              0,
              "#0d0887"
             ],
             [
              0.1111111111111111,
              "#46039f"
             ],
             [
              0.2222222222222222,
              "#7201a8"
             ],
             [
              0.3333333333333333,
              "#9c179e"
             ],
             [
              0.4444444444444444,
              "#bd3786"
             ],
             [
              0.5555555555555556,
              "#d8576b"
             ],
             [
              0.6666666666666666,
              "#ed7953"
             ],
             [
              0.7777777777777778,
              "#fb9f3a"
             ],
             [
              0.8888888888888888,
              "#fdca26"
             ],
             [
              1,
              "#f0f921"
             ]
            ],
            "type": "histogram2d"
           }
          ],
          "histogram2dcontour": [
           {
            "colorbar": {
             "outlinewidth": 0,
             "ticks": ""
            },
            "colorscale": [
             [
              0,
              "#0d0887"
             ],
             [
              0.1111111111111111,
              "#46039f"
             ],
             [
              0.2222222222222222,
              "#7201a8"
             ],
             [
              0.3333333333333333,
              "#9c179e"
             ],
             [
              0.4444444444444444,
              "#bd3786"
             ],
             [
              0.5555555555555556,
              "#d8576b"
             ],
             [
              0.6666666666666666,
              "#ed7953"
             ],
             [
              0.7777777777777778,
              "#fb9f3a"
             ],
             [
              0.8888888888888888,
              "#fdca26"
             ],
             [
              1,
              "#f0f921"
             ]
            ],
            "type": "histogram2dcontour"
           }
          ],
          "mesh3d": [
           {
            "colorbar": {
             "outlinewidth": 0,
             "ticks": ""
            },
            "type": "mesh3d"
           }
          ],
          "parcoords": [
           {
            "line": {
             "colorbar": {
              "outlinewidth": 0,
              "ticks": ""
             }
            },
            "type": "parcoords"
           }
          ],
          "pie": [
           {
            "automargin": true,
            "type": "pie"
           }
          ],
          "scatter": [
           {
            "marker": {
             "colorbar": {
              "outlinewidth": 0,
              "ticks": ""
             }
            },
            "type": "scatter"
           }
          ],
          "scatter3d": [
           {
            "line": {
             "colorbar": {
              "outlinewidth": 0,
              "ticks": ""
             }
            },
            "marker": {
             "colorbar": {
              "outlinewidth": 0,
              "ticks": ""
             }
            },
            "type": "scatter3d"
           }
          ],
          "scattercarpet": [
           {
            "marker": {
             "colorbar": {
              "outlinewidth": 0,
              "ticks": ""
             }
            },
            "type": "scattercarpet"
           }
          ],
          "scattergeo": [
           {
            "marker": {
             "colorbar": {
              "outlinewidth": 0,
              "ticks": ""
             }
            },
            "type": "scattergeo"
           }
          ],
          "scattergl": [
           {
            "marker": {
             "colorbar": {
              "outlinewidth": 0,
              "ticks": ""
             }
            },
            "type": "scattergl"
           }
          ],
          "scattermapbox": [
           {
            "marker": {
             "colorbar": {
              "outlinewidth": 0,
              "ticks": ""
             }
            },
            "type": "scattermapbox"
           }
          ],
          "scatterpolar": [
           {
            "marker": {
             "colorbar": {
              "outlinewidth": 0,
              "ticks": ""
             }
            },
            "type": "scatterpolar"
           }
          ],
          "scatterpolargl": [
           {
            "marker": {
             "colorbar": {
              "outlinewidth": 0,
              "ticks": ""
             }
            },
            "type": "scatterpolargl"
           }
          ],
          "scatterternary": [
           {
            "marker": {
             "colorbar": {
              "outlinewidth": 0,
              "ticks": ""
             }
            },
            "type": "scatterternary"
           }
          ],
          "surface": [
           {
            "colorbar": {
             "outlinewidth": 0,
             "ticks": ""
            },
            "colorscale": [
             [
              0,
              "#0d0887"
             ],
             [
              0.1111111111111111,
              "#46039f"
             ],
             [
              0.2222222222222222,
              "#7201a8"
             ],
             [
              0.3333333333333333,
              "#9c179e"
             ],
             [
              0.4444444444444444,
              "#bd3786"
             ],
             [
              0.5555555555555556,
              "#d8576b"
             ],
             [
              0.6666666666666666,
              "#ed7953"
             ],
             [
              0.7777777777777778,
              "#fb9f3a"
             ],
             [
              0.8888888888888888,
              "#fdca26"
             ],
             [
              1,
              "#f0f921"
             ]
            ],
            "type": "surface"
           }
          ],
          "table": [
           {
            "cells": {
             "fill": {
              "color": "#EBF0F8"
             },
             "line": {
              "color": "white"
             }
            },
            "header": {
             "fill": {
              "color": "#C8D4E3"
             },
             "line": {
              "color": "white"
             }
            },
            "type": "table"
           }
          ]
         },
         "layout": {
          "annotationdefaults": {
           "arrowcolor": "#2a3f5f",
           "arrowhead": 0,
           "arrowwidth": 1
          },
          "coloraxis": {
           "colorbar": {
            "outlinewidth": 0,
            "ticks": ""
           }
          },
          "colorscale": {
           "diverging": [
            [
             0,
             "#8e0152"
            ],
            [
             0.1,
             "#c51b7d"
            ],
            [
             0.2,
             "#de77ae"
            ],
            [
             0.3,
             "#f1b6da"
            ],
            [
             0.4,
             "#fde0ef"
            ],
            [
             0.5,
             "#f7f7f7"
            ],
            [
             0.6,
             "#e6f5d0"
            ],
            [
             0.7,
             "#b8e186"
            ],
            [
             0.8,
             "#7fbc41"
            ],
            [
             0.9,
             "#4d9221"
            ],
            [
             1,
             "#276419"
            ]
           ],
           "sequential": [
            [
             0,
             "#0d0887"
            ],
            [
             0.1111111111111111,
             "#46039f"
            ],
            [
             0.2222222222222222,
             "#7201a8"
            ],
            [
             0.3333333333333333,
             "#9c179e"
            ],
            [
             0.4444444444444444,
             "#bd3786"
            ],
            [
             0.5555555555555556,
             "#d8576b"
            ],
            [
             0.6666666666666666,
             "#ed7953"
            ],
            [
             0.7777777777777778,
             "#fb9f3a"
            ],
            [
             0.8888888888888888,
             "#fdca26"
            ],
            [
             1,
             "#f0f921"
            ]
           ],
           "sequentialminus": [
            [
             0,
             "#0d0887"
            ],
            [
             0.1111111111111111,
             "#46039f"
            ],
            [
             0.2222222222222222,
             "#7201a8"
            ],
            [
             0.3333333333333333,
             "#9c179e"
            ],
            [
             0.4444444444444444,
             "#bd3786"
            ],
            [
             0.5555555555555556,
             "#d8576b"
            ],
            [
             0.6666666666666666,
             "#ed7953"
            ],
            [
             0.7777777777777778,
             "#fb9f3a"
            ],
            [
             0.8888888888888888,
             "#fdca26"
            ],
            [
             1,
             "#f0f921"
            ]
           ]
          },
          "colorway": [
           "#636efa",
           "#EF553B",
           "#00cc96",
           "#ab63fa",
           "#FFA15A",
           "#19d3f3",
           "#FF6692",
           "#B6E880",
           "#FF97FF",
           "#FECB52"
          ],
          "font": {
           "color": "#2a3f5f"
          },
          "geo": {
           "bgcolor": "white",
           "lakecolor": "white",
           "landcolor": "#E5ECF6",
           "showlakes": true,
           "showland": true,
           "subunitcolor": "white"
          },
          "hoverlabel": {
           "align": "left"
          },
          "hovermode": "closest",
          "mapbox": {
           "style": "light"
          },
          "paper_bgcolor": "white",
          "plot_bgcolor": "#E5ECF6",
          "polar": {
           "angularaxis": {
            "gridcolor": "white",
            "linecolor": "white",
            "ticks": ""
           },
           "bgcolor": "#E5ECF6",
           "radialaxis": {
            "gridcolor": "white",
            "linecolor": "white",
            "ticks": ""
           }
          },
          "scene": {
           "xaxis": {
            "backgroundcolor": "#E5ECF6",
            "gridcolor": "white",
            "gridwidth": 2,
            "linecolor": "white",
            "showbackground": true,
            "ticks": "",
            "zerolinecolor": "white"
           },
           "yaxis": {
            "backgroundcolor": "#E5ECF6",
            "gridcolor": "white",
            "gridwidth": 2,
            "linecolor": "white",
            "showbackground": true,
            "ticks": "",
            "zerolinecolor": "white"
           },
           "zaxis": {
            "backgroundcolor": "#E5ECF6",
            "gridcolor": "white",
            "gridwidth": 2,
            "linecolor": "white",
            "showbackground": true,
            "ticks": "",
            "zerolinecolor": "white"
           }
          },
          "shapedefaults": {
           "line": {
            "color": "#2a3f5f"
           }
          },
          "ternary": {
           "aaxis": {
            "gridcolor": "white",
            "linecolor": "white",
            "ticks": ""
           },
           "baxis": {
            "gridcolor": "white",
            "linecolor": "white",
            "ticks": ""
           },
           "bgcolor": "#E5ECF6",
           "caxis": {
            "gridcolor": "white",
            "linecolor": "white",
            "ticks": ""
           }
          },
          "title": {
           "x": 0.05
          },
          "xaxis": {
           "automargin": true,
           "gridcolor": "white",
           "linecolor": "white",
           "ticks": "",
           "title": {
            "standoff": 15
           },
           "zerolinecolor": "white",
           "zerolinewidth": 2
          },
          "yaxis": {
           "automargin": true,
           "gridcolor": "white",
           "linecolor": "white",
           "ticks": "",
           "title": {
            "standoff": 15
           },
           "zerolinecolor": "white",
           "zerolinewidth": 2
          }
         }
        },
        "title": {
         "text": "Nonvoters by Election Year"
        },
        "xaxis": {
         "anchor": "y",
         "domain": [
          0,
          1
         ],
         "title": {
          "text": "electionyear"
         }
        },
        "yaxis": {
         "anchor": "x",
         "domain": [
          0,
          1
         ],
         "title": {
          "text": "nonvoters"
         }
        }
       }
      }
     },
     "metadata": {}
    }
   ],
   "source": [
    "NonvotersYear.show()"
   ]
  },
  {
   "cell_type": "code",
   "execution_count": 32,
   "metadata": {},
   "outputs": [],
   "source": [
    "with open('plotly_graph.html', 'w') as f:\n",
    "    f.write(NonvotersYear.to_html(include_plotlyjs='cdn'))"
   ]
  },
  {
   "cell_type": "code",
   "execution_count": 33,
   "metadata": {},
   "outputs": [
    {
     "output_type": "execute_result",
     "data": {
      "text/plain": [
       "   electionyear  nonvoters  illnessordisability  outoftownawayfromhome  \\\n",
       "0         2.000   18724000                0.148                  0.102   \n",
       "1         2.004   16334000                0.154                  0.090   \n",
       "2         2.016   18933000                0.117                  0.079   \n",
       "3         2.012   19141000                0.140                  0.086   \n",
       "4         2.008   15167000                0.149                  0.088   \n",
       "\n",
       "   forgot  notinterested  toobusy  transportationproblems  \\\n",
       "0   0.040          0.122    0.209                   0.024   \n",
       "1   0.034          0.107    0.199                   0.021   \n",
       "2   0.030          0.154    0.143                   0.026   \n",
       "3   0.039          0.157    0.189                   0.033   \n",
       "4   0.026          0.134    0.175                   0.026   \n",
       "\n",
       "   didnotlikecandidatesorcampaignissues  registrationproblems  \\\n",
       "0                                 0.077                 0.069   \n",
       "1                                 0.099                 0.068   \n",
       "2                                 0.248                 0.044   \n",
       "3                                 0.127                 0.055   \n",
       "4                                 0.129                 0.060   \n",
       "\n",
       "   badweatherconditions  inconvenientpollingplaceorhourorlinestoolong  \\\n",
       "0                 0.006                                         0.026   \n",
       "1                 0.005                                         0.030   \n",
       "2                 0.000                                         0.021   \n",
       "3                 0.008                                         0.027   \n",
       "4                 0.002                                         0.027   \n",
       "\n",
       "   otherreason  refused  \n",
       "0        0.102    0.075  \n",
       "1        0.109    0.085  \n",
       "2        0.111    0.027  \n",
       "3        0.111    0.030  \n",
       "4        0.113    0.070  "
      ],
      "text/html": "<div>\n<style scoped>\n    .dataframe tbody tr th:only-of-type {\n        vertical-align: middle;\n    }\n\n    .dataframe tbody tr th {\n        vertical-align: top;\n    }\n\n    .dataframe thead th {\n        text-align: right;\n    }\n</style>\n<table border=\"1\" class=\"dataframe\">\n  <thead>\n    <tr style=\"text-align: right;\">\n      <th></th>\n      <th>electionyear</th>\n      <th>nonvoters</th>\n      <th>illnessordisability</th>\n      <th>outoftownawayfromhome</th>\n      <th>forgot</th>\n      <th>notinterested</th>\n      <th>toobusy</th>\n      <th>transportationproblems</th>\n      <th>didnotlikecandidatesorcampaignissues</th>\n      <th>registrationproblems</th>\n      <th>badweatherconditions</th>\n      <th>inconvenientpollingplaceorhourorlinestoolong</th>\n      <th>otherreason</th>\n      <th>refused</th>\n    </tr>\n  </thead>\n  <tbody>\n    <tr>\n      <th>0</th>\n      <td>2.000</td>\n      <td>18724000</td>\n      <td>0.148</td>\n      <td>0.102</td>\n      <td>0.040</td>\n      <td>0.122</td>\n      <td>0.209</td>\n      <td>0.024</td>\n      <td>0.077</td>\n      <td>0.069</td>\n      <td>0.006</td>\n      <td>0.026</td>\n      <td>0.102</td>\n      <td>0.075</td>\n    </tr>\n    <tr>\n      <th>1</th>\n      <td>2.004</td>\n      <td>16334000</td>\n      <td>0.154</td>\n      <td>0.090</td>\n      <td>0.034</td>\n      <td>0.107</td>\n      <td>0.199</td>\n      <td>0.021</td>\n      <td>0.099</td>\n      <td>0.068</td>\n      <td>0.005</td>\n      <td>0.030</td>\n      <td>0.109</td>\n      <td>0.085</td>\n    </tr>\n    <tr>\n      <th>2</th>\n      <td>2.016</td>\n      <td>18933000</td>\n      <td>0.117</td>\n      <td>0.079</td>\n      <td>0.030</td>\n      <td>0.154</td>\n      <td>0.143</td>\n      <td>0.026</td>\n      <td>0.248</td>\n      <td>0.044</td>\n      <td>0.000</td>\n      <td>0.021</td>\n      <td>0.111</td>\n      <td>0.027</td>\n    </tr>\n    <tr>\n      <th>3</th>\n      <td>2.012</td>\n      <td>19141000</td>\n      <td>0.140</td>\n      <td>0.086</td>\n      <td>0.039</td>\n      <td>0.157</td>\n      <td>0.189</td>\n      <td>0.033</td>\n      <td>0.127</td>\n      <td>0.055</td>\n      <td>0.008</td>\n      <td>0.027</td>\n      <td>0.111</td>\n      <td>0.030</td>\n    </tr>\n    <tr>\n      <th>4</th>\n      <td>2.008</td>\n      <td>15167000</td>\n      <td>0.149</td>\n      <td>0.088</td>\n      <td>0.026</td>\n      <td>0.134</td>\n      <td>0.175</td>\n      <td>0.026</td>\n      <td>0.129</td>\n      <td>0.060</td>\n      <td>0.002</td>\n      <td>0.027</td>\n      <td>0.113</td>\n      <td>0.070</td>\n    </tr>\n  </tbody>\n</table>\n</div>"
     },
     "metadata": {},
     "execution_count": 33
    }
   ],
   "source": [
    "NationalReasonsBigDF[\"electionyear\"]=NationalReasonsBigDF[\"electionyear\"].apply(lambda x: x/1000)\n",
    "NationalReasonsBigDF"
   ]
  },
  {
   "cell_type": "code",
   "execution_count": 34,
   "metadata": {},
   "outputs": [
    {
     "output_type": "execute_result",
     "data": {
      "text/plain": [
       "   electionyear   nonvoters  illnessordisability  outoftownawayfromhome  \\\n",
       "0         200.0  1872400000                 14.8                   10.2   \n",
       "1         200.4  1633400000                 15.4                    9.0   \n",
       "2         201.6  1893300000                 11.7                    7.9   \n",
       "3         201.2  1914100000                 14.0                    8.6   \n",
       "4         200.8  1516700000                 14.9                    8.8   \n",
       "\n",
       "   forgot  notinterested  toobusy  transportationproblems  \\\n",
       "0     4.0           12.2     20.9                     2.4   \n",
       "1     3.4           10.7     19.9                     2.1   \n",
       "2     3.0           15.4     14.3                     2.6   \n",
       "3     3.9           15.7     18.9                     3.3   \n",
       "4     2.6           13.4     17.5                     2.6   \n",
       "\n",
       "   didnotlikecandidatesorcampaignissues  registrationproblems  \\\n",
       "0                                   7.7                   6.9   \n",
       "1                                   9.9                   6.8   \n",
       "2                                  24.8                   4.4   \n",
       "3                                  12.7                   5.5   \n",
       "4                                  12.9                   6.0   \n",
       "\n",
       "   badweatherconditions  inconvenientpollingplaceorhourorlinestoolong  \\\n",
       "0                   0.6                                           2.6   \n",
       "1                   0.5                                           3.0   \n",
       "2                   0.0                                           2.1   \n",
       "3                   0.8                                           2.7   \n",
       "4                   0.2                                           2.7   \n",
       "\n",
       "   otherreason  refused  \n",
       "0         10.2      7.5  \n",
       "1         10.9      8.5  \n",
       "2         11.1      2.7  \n",
       "3         11.1      3.0  \n",
       "4         11.3      7.0  "
      ],
      "text/html": "<div>\n<style scoped>\n    .dataframe tbody tr th:only-of-type {\n        vertical-align: middle;\n    }\n\n    .dataframe tbody tr th {\n        vertical-align: top;\n    }\n\n    .dataframe thead th {\n        text-align: right;\n    }\n</style>\n<table border=\"1\" class=\"dataframe\">\n  <thead>\n    <tr style=\"text-align: right;\">\n      <th></th>\n      <th>electionyear</th>\n      <th>nonvoters</th>\n      <th>illnessordisability</th>\n      <th>outoftownawayfromhome</th>\n      <th>forgot</th>\n      <th>notinterested</th>\n      <th>toobusy</th>\n      <th>transportationproblems</th>\n      <th>didnotlikecandidatesorcampaignissues</th>\n      <th>registrationproblems</th>\n      <th>badweatherconditions</th>\n      <th>inconvenientpollingplaceorhourorlinestoolong</th>\n      <th>otherreason</th>\n      <th>refused</th>\n    </tr>\n  </thead>\n  <tbody>\n    <tr>\n      <th>0</th>\n      <td>200.0</td>\n      <td>1872400000</td>\n      <td>14.8</td>\n      <td>10.2</td>\n      <td>4.0</td>\n      <td>12.2</td>\n      <td>20.9</td>\n      <td>2.4</td>\n      <td>7.7</td>\n      <td>6.9</td>\n      <td>0.6</td>\n      <td>2.6</td>\n      <td>10.2</td>\n      <td>7.5</td>\n    </tr>\n    <tr>\n      <th>1</th>\n      <td>200.4</td>\n      <td>1633400000</td>\n      <td>15.4</td>\n      <td>9.0</td>\n      <td>3.4</td>\n      <td>10.7</td>\n      <td>19.9</td>\n      <td>2.1</td>\n      <td>9.9</td>\n      <td>6.8</td>\n      <td>0.5</td>\n      <td>3.0</td>\n      <td>10.9</td>\n      <td>8.5</td>\n    </tr>\n    <tr>\n      <th>2</th>\n      <td>201.6</td>\n      <td>1893300000</td>\n      <td>11.7</td>\n      <td>7.9</td>\n      <td>3.0</td>\n      <td>15.4</td>\n      <td>14.3</td>\n      <td>2.6</td>\n      <td>24.8</td>\n      <td>4.4</td>\n      <td>0.0</td>\n      <td>2.1</td>\n      <td>11.1</td>\n      <td>2.7</td>\n    </tr>\n    <tr>\n      <th>3</th>\n      <td>201.2</td>\n      <td>1914100000</td>\n      <td>14.0</td>\n      <td>8.6</td>\n      <td>3.9</td>\n      <td>15.7</td>\n      <td>18.9</td>\n      <td>3.3</td>\n      <td>12.7</td>\n      <td>5.5</td>\n      <td>0.8</td>\n      <td>2.7</td>\n      <td>11.1</td>\n      <td>3.0</td>\n    </tr>\n    <tr>\n      <th>4</th>\n      <td>200.8</td>\n      <td>1516700000</td>\n      <td>14.9</td>\n      <td>8.8</td>\n      <td>2.6</td>\n      <td>13.4</td>\n      <td>17.5</td>\n      <td>2.6</td>\n      <td>12.9</td>\n      <td>6.0</td>\n      <td>0.2</td>\n      <td>2.7</td>\n      <td>11.3</td>\n      <td>7.0</td>\n    </tr>\n  </tbody>\n</table>\n</div>"
     },
     "metadata": {},
     "execution_count": 34
    }
   ],
   "source": [
    "NationalReasonsBigDF=NationalReasonsBigDF.apply(lambda x: x*100)\n",
    "NationalReasonsBigDF"
   ]
  },
  {
   "cell_type": "code",
   "execution_count": 35,
   "metadata": {},
   "outputs": [],
   "source": [
    "NationalReasonsBigDF[\"electionyear\"]=NationalReasonsBigDF[\"electionyear\"].apply(lambda x: x*10)"
   ]
  },
  {
   "cell_type": "code",
   "execution_count": 36,
   "metadata": {},
   "outputs": [
    {
     "output_type": "execute_result",
     "data": {
      "text/plain": [
       "   electionyear   nonvoters  illnessordisability  outoftownawayfromhome  \\\n",
       "0        2000.0  1872400000                 14.8                   10.2   \n",
       "1        2004.0  1633400000                 15.4                    9.0   \n",
       "2        2016.0  1893300000                 11.7                    7.9   \n",
       "3        2012.0  1914100000                 14.0                    8.6   \n",
       "4        2008.0  1516700000                 14.9                    8.8   \n",
       "\n",
       "   forgot  notinterested  toobusy  transportationproblems  \\\n",
       "0     4.0           12.2     20.9                     2.4   \n",
       "1     3.4           10.7     19.9                     2.1   \n",
       "2     3.0           15.4     14.3                     2.6   \n",
       "3     3.9           15.7     18.9                     3.3   \n",
       "4     2.6           13.4     17.5                     2.6   \n",
       "\n",
       "   didnotlikecandidatesorcampaignissues  registrationproblems  \\\n",
       "0                                   7.7                   6.9   \n",
       "1                                   9.9                   6.8   \n",
       "2                                  24.8                   4.4   \n",
       "3                                  12.7                   5.5   \n",
       "4                                  12.9                   6.0   \n",
       "\n",
       "   badweatherconditions  inconvenientpollingplaceorhourorlinestoolong  \\\n",
       "0                   0.6                                           2.6   \n",
       "1                   0.5                                           3.0   \n",
       "2                   0.0                                           2.1   \n",
       "3                   0.8                                           2.7   \n",
       "4                   0.2                                           2.7   \n",
       "\n",
       "   otherreason  refused  \n",
       "0         10.2      7.5  \n",
       "1         10.9      8.5  \n",
       "2         11.1      2.7  \n",
       "3         11.1      3.0  \n",
       "4         11.3      7.0  "
      ],
      "text/html": "<div>\n<style scoped>\n    .dataframe tbody tr th:only-of-type {\n        vertical-align: middle;\n    }\n\n    .dataframe tbody tr th {\n        vertical-align: top;\n    }\n\n    .dataframe thead th {\n        text-align: right;\n    }\n</style>\n<table border=\"1\" class=\"dataframe\">\n  <thead>\n    <tr style=\"text-align: right;\">\n      <th></th>\n      <th>electionyear</th>\n      <th>nonvoters</th>\n      <th>illnessordisability</th>\n      <th>outoftownawayfromhome</th>\n      <th>forgot</th>\n      <th>notinterested</th>\n      <th>toobusy</th>\n      <th>transportationproblems</th>\n      <th>didnotlikecandidatesorcampaignissues</th>\n      <th>registrationproblems</th>\n      <th>badweatherconditions</th>\n      <th>inconvenientpollingplaceorhourorlinestoolong</th>\n      <th>otherreason</th>\n      <th>refused</th>\n    </tr>\n  </thead>\n  <tbody>\n    <tr>\n      <th>0</th>\n      <td>2000.0</td>\n      <td>1872400000</td>\n      <td>14.8</td>\n      <td>10.2</td>\n      <td>4.0</td>\n      <td>12.2</td>\n      <td>20.9</td>\n      <td>2.4</td>\n      <td>7.7</td>\n      <td>6.9</td>\n      <td>0.6</td>\n      <td>2.6</td>\n      <td>10.2</td>\n      <td>7.5</td>\n    </tr>\n    <tr>\n      <th>1</th>\n      <td>2004.0</td>\n      <td>1633400000</td>\n      <td>15.4</td>\n      <td>9.0</td>\n      <td>3.4</td>\n      <td>10.7</td>\n      <td>19.9</td>\n      <td>2.1</td>\n      <td>9.9</td>\n      <td>6.8</td>\n      <td>0.5</td>\n      <td>3.0</td>\n      <td>10.9</td>\n      <td>8.5</td>\n    </tr>\n    <tr>\n      <th>2</th>\n      <td>2016.0</td>\n      <td>1893300000</td>\n      <td>11.7</td>\n      <td>7.9</td>\n      <td>3.0</td>\n      <td>15.4</td>\n      <td>14.3</td>\n      <td>2.6</td>\n      <td>24.8</td>\n      <td>4.4</td>\n      <td>0.0</td>\n      <td>2.1</td>\n      <td>11.1</td>\n      <td>2.7</td>\n    </tr>\n    <tr>\n      <th>3</th>\n      <td>2012.0</td>\n      <td>1914100000</td>\n      <td>14.0</td>\n      <td>8.6</td>\n      <td>3.9</td>\n      <td>15.7</td>\n      <td>18.9</td>\n      <td>3.3</td>\n      <td>12.7</td>\n      <td>5.5</td>\n      <td>0.8</td>\n      <td>2.7</td>\n      <td>11.1</td>\n      <td>3.0</td>\n    </tr>\n    <tr>\n      <th>4</th>\n      <td>2008.0</td>\n      <td>1516700000</td>\n      <td>14.9</td>\n      <td>8.8</td>\n      <td>2.6</td>\n      <td>13.4</td>\n      <td>17.5</td>\n      <td>2.6</td>\n      <td>12.9</td>\n      <td>6.0</td>\n      <td>0.2</td>\n      <td>2.7</td>\n      <td>11.3</td>\n      <td>7.0</td>\n    </tr>\n  </tbody>\n</table>\n</div>"
     },
     "metadata": {},
     "execution_count": 36
    }
   ],
   "source": [
    "NationalReasonsBigDF"
   ]
  },
  {
   "cell_type": "code",
   "execution_count": 37,
   "metadata": {},
   "outputs": [],
   "source": [
    "Reasons2000DF=NationalReasonsBigDF[NationalReasonsBigDF['electionyear']==2000]"
   ]
  },
  {
   "cell_type": "code",
   "execution_count": 38,
   "metadata": {},
   "outputs": [
    {
     "output_type": "execute_result",
     "data": {
      "text/plain": [
       "   electionyear   nonvoters  illnessordisability  outoftownawayfromhome  \\\n",
       "0        2000.0  1872400000                 14.8                   10.2   \n",
       "\n",
       "   forgot  notinterested  toobusy  transportationproblems  \\\n",
       "0     4.0           12.2     20.9                     2.4   \n",
       "\n",
       "   didnotlikecandidatesorcampaignissues  registrationproblems  \\\n",
       "0                                   7.7                   6.9   \n",
       "\n",
       "   badweatherconditions  inconvenientpollingplaceorhourorlinestoolong  \\\n",
       "0                   0.6                                           2.6   \n",
       "\n",
       "   otherreason  refused  \n",
       "0         10.2      7.5  "
      ],
      "text/html": "<div>\n<style scoped>\n    .dataframe tbody tr th:only-of-type {\n        vertical-align: middle;\n    }\n\n    .dataframe tbody tr th {\n        vertical-align: top;\n    }\n\n    .dataframe thead th {\n        text-align: right;\n    }\n</style>\n<table border=\"1\" class=\"dataframe\">\n  <thead>\n    <tr style=\"text-align: right;\">\n      <th></th>\n      <th>electionyear</th>\n      <th>nonvoters</th>\n      <th>illnessordisability</th>\n      <th>outoftownawayfromhome</th>\n      <th>forgot</th>\n      <th>notinterested</th>\n      <th>toobusy</th>\n      <th>transportationproblems</th>\n      <th>didnotlikecandidatesorcampaignissues</th>\n      <th>registrationproblems</th>\n      <th>badweatherconditions</th>\n      <th>inconvenientpollingplaceorhourorlinestoolong</th>\n      <th>otherreason</th>\n      <th>refused</th>\n    </tr>\n  </thead>\n  <tbody>\n    <tr>\n      <th>0</th>\n      <td>2000.0</td>\n      <td>1872400000</td>\n      <td>14.8</td>\n      <td>10.2</td>\n      <td>4.0</td>\n      <td>12.2</td>\n      <td>20.9</td>\n      <td>2.4</td>\n      <td>7.7</td>\n      <td>6.9</td>\n      <td>0.6</td>\n      <td>2.6</td>\n      <td>10.2</td>\n      <td>7.5</td>\n    </tr>\n  </tbody>\n</table>\n</div>"
     },
     "metadata": {},
     "execution_count": 38
    }
   ],
   "source": [
    "Reasons2000DF"
   ]
  },
  {
   "cell_type": "code",
   "execution_count": null,
   "metadata": {},
   "outputs": [],
   "source": []
  },
  {
   "cell_type": "code",
   "execution_count": 39,
   "metadata": {},
   "outputs": [
    {
     "output_type": "display_data",
     "data": {
      "application/vnd.plotly.v1+json": {
       "config": {
        "plotlyServerURL": "https://plot.ly"
       },
       "data": [
        {
         "labels": [
          "Illness Or Disability",
          "Out Of Town",
          "Forgot",
          "Not Interested",
          "Too Busy",
          "Transportation Problems",
          "Did Not LikeCandidates Or Campaign Issues",
          "Registration Problems",
          "Bad Weather",
          "Inconvienient Polling or Lines Too Long",
          "Other Reason",
          "Refused"
         ],
         "title": {
          "text": "Reasons For Not Voting 2000"
         },
         "type": "pie",
         "values": [
          14.8,
          10.2,
          4,
          12.2,
          20.9,
          2.4,
          7.7,
          6.9,
          0.6,
          2.6,
          10.2,
          7.5
         ]
        }
       ],
       "layout": {
        "template": {
         "data": {
          "bar": [
           {
            "error_x": {
             "color": "#2a3f5f"
            },
            "error_y": {
             "color": "#2a3f5f"
            },
            "marker": {
             "line": {
              "color": "#E5ECF6",
              "width": 0.5
             }
            },
            "type": "bar"
           }
          ],
          "barpolar": [
           {
            "marker": {
             "line": {
              "color": "#E5ECF6",
              "width": 0.5
             }
            },
            "type": "barpolar"
           }
          ],
          "carpet": [
           {
            "aaxis": {
             "endlinecolor": "#2a3f5f",
             "gridcolor": "white",
             "linecolor": "white",
             "minorgridcolor": "white",
             "startlinecolor": "#2a3f5f"
            },
            "baxis": {
             "endlinecolor": "#2a3f5f",
             "gridcolor": "white",
             "linecolor": "white",
             "minorgridcolor": "white",
             "startlinecolor": "#2a3f5f"
            },
            "type": "carpet"
           }
          ],
          "choropleth": [
           {
            "colorbar": {
             "outlinewidth": 0,
             "ticks": ""
            },
            "type": "choropleth"
           }
          ],
          "contour": [
           {
            "colorbar": {
             "outlinewidth": 0,
             "ticks": ""
            },
            "colorscale": [
             [
              0,
              "#0d0887"
             ],
             [
              0.1111111111111111,
              "#46039f"
             ],
             [
              0.2222222222222222,
              "#7201a8"
             ],
             [
              0.3333333333333333,
              "#9c179e"
             ],
             [
              0.4444444444444444,
              "#bd3786"
             ],
             [
              0.5555555555555556,
              "#d8576b"
             ],
             [
              0.6666666666666666,
              "#ed7953"
             ],
             [
              0.7777777777777778,
              "#fb9f3a"
             ],
             [
              0.8888888888888888,
              "#fdca26"
             ],
             [
              1,
              "#f0f921"
             ]
            ],
            "type": "contour"
           }
          ],
          "contourcarpet": [
           {
            "colorbar": {
             "outlinewidth": 0,
             "ticks": ""
            },
            "type": "contourcarpet"
           }
          ],
          "heatmap": [
           {
            "colorbar": {
             "outlinewidth": 0,
             "ticks": ""
            },
            "colorscale": [
             [
              0,
              "#0d0887"
             ],
             [
              0.1111111111111111,
              "#46039f"
             ],
             [
              0.2222222222222222,
              "#7201a8"
             ],
             [
              0.3333333333333333,
              "#9c179e"
             ],
             [
              0.4444444444444444,
              "#bd3786"
             ],
             [
              0.5555555555555556,
              "#d8576b"
             ],
             [
              0.6666666666666666,
              "#ed7953"
             ],
             [
              0.7777777777777778,
              "#fb9f3a"
             ],
             [
              0.8888888888888888,
              "#fdca26"
             ],
             [
              1,
              "#f0f921"
             ]
            ],
            "type": "heatmap"
           }
          ],
          "heatmapgl": [
           {
            "colorbar": {
             "outlinewidth": 0,
             "ticks": ""
            },
            "colorscale": [
             [
              0,
              "#0d0887"
             ],
             [
              0.1111111111111111,
              "#46039f"
             ],
             [
              0.2222222222222222,
              "#7201a8"
             ],
             [
              0.3333333333333333,
              "#9c179e"
             ],
             [
              0.4444444444444444,
              "#bd3786"
             ],
             [
              0.5555555555555556,
              "#d8576b"
             ],
             [
              0.6666666666666666,
              "#ed7953"
             ],
             [
              0.7777777777777778,
              "#fb9f3a"
             ],
             [
              0.8888888888888888,
              "#fdca26"
             ],
             [
              1,
              "#f0f921"
             ]
            ],
            "type": "heatmapgl"
           }
          ],
          "histogram": [
           {
            "marker": {
             "colorbar": {
              "outlinewidth": 0,
              "ticks": ""
             }
            },
            "type": "histogram"
           }
          ],
          "histogram2d": [
           {
            "colorbar": {
             "outlinewidth": 0,
             "ticks": ""
            },
            "colorscale": [
             [
              0,
              "#0d0887"
             ],
             [
              0.1111111111111111,
              "#46039f"
             ],
             [
              0.2222222222222222,
              "#7201a8"
             ],
             [
              0.3333333333333333,
              "#9c179e"
             ],
             [
              0.4444444444444444,
              "#bd3786"
             ],
             [
              0.5555555555555556,
              "#d8576b"
             ],
             [
              0.6666666666666666,
              "#ed7953"
             ],
             [
              0.7777777777777778,
              "#fb9f3a"
             ],
             [
              0.8888888888888888,
              "#fdca26"
             ],
             [
              1,
              "#f0f921"
             ]
            ],
            "type": "histogram2d"
           }
          ],
          "histogram2dcontour": [
           {
            "colorbar": {
             "outlinewidth": 0,
             "ticks": ""
            },
            "colorscale": [
             [
              0,
              "#0d0887"
             ],
             [
              0.1111111111111111,
              "#46039f"
             ],
             [
              0.2222222222222222,
              "#7201a8"
             ],
             [
              0.3333333333333333,
              "#9c179e"
             ],
             [
              0.4444444444444444,
              "#bd3786"
             ],
             [
              0.5555555555555556,
              "#d8576b"
             ],
             [
              0.6666666666666666,
              "#ed7953"
             ],
             [
              0.7777777777777778,
              "#fb9f3a"
             ],
             [
              0.8888888888888888,
              "#fdca26"
             ],
             [
              1,
              "#f0f921"
             ]
            ],
            "type": "histogram2dcontour"
           }
          ],
          "mesh3d": [
           {
            "colorbar": {
             "outlinewidth": 0,
             "ticks": ""
            },
            "type": "mesh3d"
           }
          ],
          "parcoords": [
           {
            "line": {
             "colorbar": {
              "outlinewidth": 0,
              "ticks": ""
             }
            },
            "type": "parcoords"
           }
          ],
          "pie": [
           {
            "automargin": true,
            "type": "pie"
           }
          ],
          "scatter": [
           {
            "marker": {
             "colorbar": {
              "outlinewidth": 0,
              "ticks": ""
             }
            },
            "type": "scatter"
           }
          ],
          "scatter3d": [
           {
            "line": {
             "colorbar": {
              "outlinewidth": 0,
              "ticks": ""
             }
            },
            "marker": {
             "colorbar": {
              "outlinewidth": 0,
              "ticks": ""
             }
            },
            "type": "scatter3d"
           }
          ],
          "scattercarpet": [
           {
            "marker": {
             "colorbar": {
              "outlinewidth": 0,
              "ticks": ""
             }
            },
            "type": "scattercarpet"
           }
          ],
          "scattergeo": [
           {
            "marker": {
             "colorbar": {
              "outlinewidth": 0,
              "ticks": ""
             }
            },
            "type": "scattergeo"
           }
          ],
          "scattergl": [
           {
            "marker": {
             "colorbar": {
              "outlinewidth": 0,
              "ticks": ""
             }
            },
            "type": "scattergl"
           }
          ],
          "scattermapbox": [
           {
            "marker": {
             "colorbar": {
              "outlinewidth": 0,
              "ticks": ""
             }
            },
            "type": "scattermapbox"
           }
          ],
          "scatterpolar": [
           {
            "marker": {
             "colorbar": {
              "outlinewidth": 0,
              "ticks": ""
             }
            },
            "type": "scatterpolar"
           }
          ],
          "scatterpolargl": [
           {
            "marker": {
             "colorbar": {
              "outlinewidth": 0,
              "ticks": ""
             }
            },
            "type": "scatterpolargl"
           }
          ],
          "scatterternary": [
           {
            "marker": {
             "colorbar": {
              "outlinewidth": 0,
              "ticks": ""
             }
            },
            "type": "scatterternary"
           }
          ],
          "surface": [
           {
            "colorbar": {
             "outlinewidth": 0,
             "ticks": ""
            },
            "colorscale": [
             [
              0,
              "#0d0887"
             ],
             [
              0.1111111111111111,
              "#46039f"
             ],
             [
              0.2222222222222222,
              "#7201a8"
             ],
             [
              0.3333333333333333,
              "#9c179e"
             ],
             [
              0.4444444444444444,
              "#bd3786"
             ],
             [
              0.5555555555555556,
              "#d8576b"
             ],
             [
              0.6666666666666666,
              "#ed7953"
             ],
             [
              0.7777777777777778,
              "#fb9f3a"
             ],
             [
              0.8888888888888888,
              "#fdca26"
             ],
             [
              1,
              "#f0f921"
             ]
            ],
            "type": "surface"
           }
          ],
          "table": [
           {
            "cells": {
             "fill": {
              "color": "#EBF0F8"
             },
             "line": {
              "color": "white"
             }
            },
            "header": {
             "fill": {
              "color": "#C8D4E3"
             },
             "line": {
              "color": "white"
             }
            },
            "type": "table"
           }
          ]
         },
         "layout": {
          "annotationdefaults": {
           "arrowcolor": "#2a3f5f",
           "arrowhead": 0,
           "arrowwidth": 1
          },
          "coloraxis": {
           "colorbar": {
            "outlinewidth": 0,
            "ticks": ""
           }
          },
          "colorscale": {
           "diverging": [
            [
             0,
             "#8e0152"
            ],
            [
             0.1,
             "#c51b7d"
            ],
            [
             0.2,
             "#de77ae"
            ],
            [
             0.3,
             "#f1b6da"
            ],
            [
             0.4,
             "#fde0ef"
            ],
            [
             0.5,
             "#f7f7f7"
            ],
            [
             0.6,
             "#e6f5d0"
            ],
            [
             0.7,
             "#b8e186"
            ],
            [
             0.8,
             "#7fbc41"
            ],
            [
             0.9,
             "#4d9221"
            ],
            [
             1,
             "#276419"
            ]
           ],
           "sequential": [
            [
             0,
             "#0d0887"
            ],
            [
             0.1111111111111111,
             "#46039f"
            ],
            [
             0.2222222222222222,
             "#7201a8"
            ],
            [
             0.3333333333333333,
             "#9c179e"
            ],
            [
             0.4444444444444444,
             "#bd3786"
            ],
            [
             0.5555555555555556,
             "#d8576b"
            ],
            [
             0.6666666666666666,
             "#ed7953"
            ],
            [
             0.7777777777777778,
             "#fb9f3a"
            ],
            [
             0.8888888888888888,
             "#fdca26"
            ],
            [
             1,
             "#f0f921"
            ]
           ],
           "sequentialminus": [
            [
             0,
             "#0d0887"
            ],
            [
             0.1111111111111111,
             "#46039f"
            ],
            [
             0.2222222222222222,
             "#7201a8"
            ],
            [
             0.3333333333333333,
             "#9c179e"
            ],
            [
             0.4444444444444444,
             "#bd3786"
            ],
            [
             0.5555555555555556,
             "#d8576b"
            ],
            [
             0.6666666666666666,
             "#ed7953"
            ],
            [
             0.7777777777777778,
             "#fb9f3a"
            ],
            [
             0.8888888888888888,
             "#fdca26"
            ],
            [
             1,
             "#f0f921"
            ]
           ]
          },
          "colorway": [
           "#636efa",
           "#EF553B",
           "#00cc96",
           "#ab63fa",
           "#FFA15A",
           "#19d3f3",
           "#FF6692",
           "#B6E880",
           "#FF97FF",
           "#FECB52"
          ],
          "font": {
           "color": "#2a3f5f"
          },
          "geo": {
           "bgcolor": "white",
           "lakecolor": "white",
           "landcolor": "#E5ECF6",
           "showlakes": true,
           "showland": true,
           "subunitcolor": "white"
          },
          "hoverlabel": {
           "align": "left"
          },
          "hovermode": "closest",
          "mapbox": {
           "style": "light"
          },
          "paper_bgcolor": "white",
          "plot_bgcolor": "#E5ECF6",
          "polar": {
           "angularaxis": {
            "gridcolor": "white",
            "linecolor": "white",
            "ticks": ""
           },
           "bgcolor": "#E5ECF6",
           "radialaxis": {
            "gridcolor": "white",
            "linecolor": "white",
            "ticks": ""
           }
          },
          "scene": {
           "xaxis": {
            "backgroundcolor": "#E5ECF6",
            "gridcolor": "white",
            "gridwidth": 2,
            "linecolor": "white",
            "showbackground": true,
            "ticks": "",
            "zerolinecolor": "white"
           },
           "yaxis": {
            "backgroundcolor": "#E5ECF6",
            "gridcolor": "white",
            "gridwidth": 2,
            "linecolor": "white",
            "showbackground": true,
            "ticks": "",
            "zerolinecolor": "white"
           },
           "zaxis": {
            "backgroundcolor": "#E5ECF6",
            "gridcolor": "white",
            "gridwidth": 2,
            "linecolor": "white",
            "showbackground": true,
            "ticks": "",
            "zerolinecolor": "white"
           }
          },
          "shapedefaults": {
           "line": {
            "color": "#2a3f5f"
           }
          },
          "ternary": {
           "aaxis": {
            "gridcolor": "white",
            "linecolor": "white",
            "ticks": ""
           },
           "baxis": {
            "gridcolor": "white",
            "linecolor": "white",
            "ticks": ""
           },
           "bgcolor": "#E5ECF6",
           "caxis": {
            "gridcolor": "white",
            "linecolor": "white",
            "ticks": ""
           }
          },
          "title": {
           "x": 0.05
          },
          "xaxis": {
           "automargin": true,
           "gridcolor": "white",
           "linecolor": "white",
           "ticks": "",
           "title": {
            "standoff": 15
           },
           "zerolinecolor": "white",
           "zerolinewidth": 2
          },
          "yaxis": {
           "automargin": true,
           "gridcolor": "white",
           "linecolor": "white",
           "ticks": "",
           "title": {
            "standoff": 15
           },
           "zerolinecolor": "white",
           "zerolinewidth": 2
          }
         }
        }
       }
      }
     },
     "metadata": {}
    }
   ],
   "source": [
    "\n",
    "labels = ['Illness Or Disability','Out Of Town','Forgot','Not Interested',\"Too Busy\",\"Transportation Problems\",\"Did Not LikeCandidates Or Campaign Issues\",\"Registration Problems\",\"Bad Weather\",\"Inconvienient Polling or Lines Too Long\",\"Other Reason\",\"Refused\"]\n",
    "values = [14.8, 10.2, 4.0, 12.2,20.9,2.4,7.7,6.9,0.6,2.6,10.2,7.5]\n",
    "\n",
    "Nonvoters2000 = go.Figure(data=[go.Pie(labels=labels, values=values, title=\"Reasons For Not Voting 2000\")])\n",
    "Nonvoters2000.show()"
   ]
  },
  {
   "cell_type": "code",
   "execution_count": 40,
   "metadata": {},
   "outputs": [
    {
     "output_type": "execute_result",
     "data": {
      "text/plain": [
       "   electionyear   nonvoters  illnessordisability  outoftownawayfromhome  \\\n",
       "4        2008.0  1516700000                 14.9                    8.8   \n",
       "\n",
       "   forgot  notinterested  toobusy  transportationproblems  \\\n",
       "4     2.6           13.4     17.5                     2.6   \n",
       "\n",
       "   didnotlikecandidatesorcampaignissues  registrationproblems  \\\n",
       "4                                  12.9                   6.0   \n",
       "\n",
       "   badweatherconditions  inconvenientpollingplaceorhourorlinestoolong  \\\n",
       "4                   0.2                                           2.7   \n",
       "\n",
       "   otherreason  refused  \n",
       "4         11.3      7.0  "
      ],
      "text/html": "<div>\n<style scoped>\n    .dataframe tbody tr th:only-of-type {\n        vertical-align: middle;\n    }\n\n    .dataframe tbody tr th {\n        vertical-align: top;\n    }\n\n    .dataframe thead th {\n        text-align: right;\n    }\n</style>\n<table border=\"1\" class=\"dataframe\">\n  <thead>\n    <tr style=\"text-align: right;\">\n      <th></th>\n      <th>electionyear</th>\n      <th>nonvoters</th>\n      <th>illnessordisability</th>\n      <th>outoftownawayfromhome</th>\n      <th>forgot</th>\n      <th>notinterested</th>\n      <th>toobusy</th>\n      <th>transportationproblems</th>\n      <th>didnotlikecandidatesorcampaignissues</th>\n      <th>registrationproblems</th>\n      <th>badweatherconditions</th>\n      <th>inconvenientpollingplaceorhourorlinestoolong</th>\n      <th>otherreason</th>\n      <th>refused</th>\n    </tr>\n  </thead>\n  <tbody>\n    <tr>\n      <th>4</th>\n      <td>2008.0</td>\n      <td>1516700000</td>\n      <td>14.9</td>\n      <td>8.8</td>\n      <td>2.6</td>\n      <td>13.4</td>\n      <td>17.5</td>\n      <td>2.6</td>\n      <td>12.9</td>\n      <td>6.0</td>\n      <td>0.2</td>\n      <td>2.7</td>\n      <td>11.3</td>\n      <td>7.0</td>\n    </tr>\n  </tbody>\n</table>\n</div>"
     },
     "metadata": {},
     "execution_count": 40
    }
   ],
   "source": [
    "Reasons2008DF=NationalReasonsBigDF[NationalReasonsBigDF['electionyear']==2008]\n",
    "Reasons2008DF"
   ]
  },
  {
   "cell_type": "code",
   "execution_count": 41,
   "metadata": {},
   "outputs": [
    {
     "output_type": "display_data",
     "data": {
      "application/vnd.plotly.v1+json": {
       "config": {
        "plotlyServerURL": "https://plot.ly"
       },
       "data": [
        {
         "labels": [
          "Illness Or Disability",
          "Out Of Town",
          "Forgot",
          "Not Interested",
          "Too Busy",
          "Transportation Problems",
          "Did Not LikeCandidates Or Campaign Issues",
          "Registration Problems",
          "Bad Weather",
          "Inconvienient Polling or Lines Too Long",
          "Other Reason",
          "Refused"
         ],
         "title": {
          "text": "Percent Reasons For Not Voting 2008"
         },
         "type": "pie",
         "values": [
          14.9,
          8.8,
          2.6,
          13.4,
          17.5,
          2.6,
          12.9,
          6,
          0.2,
          2.7,
          11.3,
          7
         ]
        }
       ],
       "layout": {
        "template": {
         "data": {
          "bar": [
           {
            "error_x": {
             "color": "#2a3f5f"
            },
            "error_y": {
             "color": "#2a3f5f"
            },
            "marker": {
             "line": {
              "color": "#E5ECF6",
              "width": 0.5
             }
            },
            "type": "bar"
           }
          ],
          "barpolar": [
           {
            "marker": {
             "line": {
              "color": "#E5ECF6",
              "width": 0.5
             }
            },
            "type": "barpolar"
           }
          ],
          "carpet": [
           {
            "aaxis": {
             "endlinecolor": "#2a3f5f",
             "gridcolor": "white",
             "linecolor": "white",
             "minorgridcolor": "white",
             "startlinecolor": "#2a3f5f"
            },
            "baxis": {
             "endlinecolor": "#2a3f5f",
             "gridcolor": "white",
             "linecolor": "white",
             "minorgridcolor": "white",
             "startlinecolor": "#2a3f5f"
            },
            "type": "carpet"
           }
          ],
          "choropleth": [
           {
            "colorbar": {
             "outlinewidth": 0,
             "ticks": ""
            },
            "type": "choropleth"
           }
          ],
          "contour": [
           {
            "colorbar": {
             "outlinewidth": 0,
             "ticks": ""
            },
            "colorscale": [
             [
              0,
              "#0d0887"
             ],
             [
              0.1111111111111111,
              "#46039f"
             ],
             [
              0.2222222222222222,
              "#7201a8"
             ],
             [
              0.3333333333333333,
              "#9c179e"
             ],
             [
              0.4444444444444444,
              "#bd3786"
             ],
             [
              0.5555555555555556,
              "#d8576b"
             ],
             [
              0.6666666666666666,
              "#ed7953"
             ],
             [
              0.7777777777777778,
              "#fb9f3a"
             ],
             [
              0.8888888888888888,
              "#fdca26"
             ],
             [
              1,
              "#f0f921"
             ]
            ],
            "type": "contour"
           }
          ],
          "contourcarpet": [
           {
            "colorbar": {
             "outlinewidth": 0,
             "ticks": ""
            },
            "type": "contourcarpet"
           }
          ],
          "heatmap": [
           {
            "colorbar": {
             "outlinewidth": 0,
             "ticks": ""
            },
            "colorscale": [
             [
              0,
              "#0d0887"
             ],
             [
              0.1111111111111111,
              "#46039f"
             ],
             [
              0.2222222222222222,
              "#7201a8"
             ],
             [
              0.3333333333333333,
              "#9c179e"
             ],
             [
              0.4444444444444444,
              "#bd3786"
             ],
             [
              0.5555555555555556,
              "#d8576b"
             ],
             [
              0.6666666666666666,
              "#ed7953"
             ],
             [
              0.7777777777777778,
              "#fb9f3a"
             ],
             [
              0.8888888888888888,
              "#fdca26"
             ],
             [
              1,
              "#f0f921"
             ]
            ],
            "type": "heatmap"
           }
          ],
          "heatmapgl": [
           {
            "colorbar": {
             "outlinewidth": 0,
             "ticks": ""
            },
            "colorscale": [
             [
              0,
              "#0d0887"
             ],
             [
              0.1111111111111111,
              "#46039f"
             ],
             [
              0.2222222222222222,
              "#7201a8"
             ],
             [
              0.3333333333333333,
              "#9c179e"
             ],
             [
              0.4444444444444444,
              "#bd3786"
             ],
             [
              0.5555555555555556,
              "#d8576b"
             ],
             [
              0.6666666666666666,
              "#ed7953"
             ],
             [
              0.7777777777777778,
              "#fb9f3a"
             ],
             [
              0.8888888888888888,
              "#fdca26"
             ],
             [
              1,
              "#f0f921"
             ]
            ],
            "type": "heatmapgl"
           }
          ],
          "histogram": [
           {
            "marker": {
             "colorbar": {
              "outlinewidth": 0,
              "ticks": ""
             }
            },
            "type": "histogram"
           }
          ],
          "histogram2d": [
           {
            "colorbar": {
             "outlinewidth": 0,
             "ticks": ""
            },
            "colorscale": [
             [
              0,
              "#0d0887"
             ],
             [
              0.1111111111111111,
              "#46039f"
             ],
             [
              0.2222222222222222,
              "#7201a8"
             ],
             [
              0.3333333333333333,
              "#9c179e"
             ],
             [
              0.4444444444444444,
              "#bd3786"
             ],
             [
              0.5555555555555556,
              "#d8576b"
             ],
             [
              0.6666666666666666,
              "#ed7953"
             ],
             [
              0.7777777777777778,
              "#fb9f3a"
             ],
             [
              0.8888888888888888,
              "#fdca26"
             ],
             [
              1,
              "#f0f921"
             ]
            ],
            "type": "histogram2d"
           }
          ],
          "histogram2dcontour": [
           {
            "colorbar": {
             "outlinewidth": 0,
             "ticks": ""
            },
            "colorscale": [
             [
              0,
              "#0d0887"
             ],
             [
              0.1111111111111111,
              "#46039f"
             ],
             [
              0.2222222222222222,
              "#7201a8"
             ],
             [
              0.3333333333333333,
              "#9c179e"
             ],
             [
              0.4444444444444444,
              "#bd3786"
             ],
             [
              0.5555555555555556,
              "#d8576b"
             ],
             [
              0.6666666666666666,
              "#ed7953"
             ],
             [
              0.7777777777777778,
              "#fb9f3a"
             ],
             [
              0.8888888888888888,
              "#fdca26"
             ],
             [
              1,
              "#f0f921"
             ]
            ],
            "type": "histogram2dcontour"
           }
          ],
          "mesh3d": [
           {
            "colorbar": {
             "outlinewidth": 0,
             "ticks": ""
            },
            "type": "mesh3d"
           }
          ],
          "parcoords": [
           {
            "line": {
             "colorbar": {
              "outlinewidth": 0,
              "ticks": ""
             }
            },
            "type": "parcoords"
           }
          ],
          "pie": [
           {
            "automargin": true,
            "type": "pie"
           }
          ],
          "scatter": [
           {
            "marker": {
             "colorbar": {
              "outlinewidth": 0,
              "ticks": ""
             }
            },
            "type": "scatter"
           }
          ],
          "scatter3d": [
           {
            "line": {
             "colorbar": {
              "outlinewidth": 0,
              "ticks": ""
             }
            },
            "marker": {
             "colorbar": {
              "outlinewidth": 0,
              "ticks": ""
             }
            },
            "type": "scatter3d"
           }
          ],
          "scattercarpet": [
           {
            "marker": {
             "colorbar": {
              "outlinewidth": 0,
              "ticks": ""
             }
            },
            "type": "scattercarpet"
           }
          ],
          "scattergeo": [
           {
            "marker": {
             "colorbar": {
              "outlinewidth": 0,
              "ticks": ""
             }
            },
            "type": "scattergeo"
           }
          ],
          "scattergl": [
           {
            "marker": {
             "colorbar": {
              "outlinewidth": 0,
              "ticks": ""
             }
            },
            "type": "scattergl"
           }
          ],
          "scattermapbox": [
           {
            "marker": {
             "colorbar": {
              "outlinewidth": 0,
              "ticks": ""
             }
            },
            "type": "scattermapbox"
           }
          ],
          "scatterpolar": [
           {
            "marker": {
             "colorbar": {
              "outlinewidth": 0,
              "ticks": ""
             }
            },
            "type": "scatterpolar"
           }
          ],
          "scatterpolargl": [
           {
            "marker": {
             "colorbar": {
              "outlinewidth": 0,
              "ticks": ""
             }
            },
            "type": "scatterpolargl"
           }
          ],
          "scatterternary": [
           {
            "marker": {
             "colorbar": {
              "outlinewidth": 0,
              "ticks": ""
             }
            },
            "type": "scatterternary"
           }
          ],
          "surface": [
           {
            "colorbar": {
             "outlinewidth": 0,
             "ticks": ""
            },
            "colorscale": [
             [
              0,
              "#0d0887"
             ],
             [
              0.1111111111111111,
              "#46039f"
             ],
             [
              0.2222222222222222,
              "#7201a8"
             ],
             [
              0.3333333333333333,
              "#9c179e"
             ],
             [
              0.4444444444444444,
              "#bd3786"
             ],
             [
              0.5555555555555556,
              "#d8576b"
             ],
             [
              0.6666666666666666,
              "#ed7953"
             ],
             [
              0.7777777777777778,
              "#fb9f3a"
             ],
             [
              0.8888888888888888,
              "#fdca26"
             ],
             [
              1,
              "#f0f921"
             ]
            ],
            "type": "surface"
           }
          ],
          "table": [
           {
            "cells": {
             "fill": {
              "color": "#EBF0F8"
             },
             "line": {
              "color": "white"
             }
            },
            "header": {
             "fill": {
              "color": "#C8D4E3"
             },
             "line": {
              "color": "white"
             }
            },
            "type": "table"
           }
          ]
         },
         "layout": {
          "annotationdefaults": {
           "arrowcolor": "#2a3f5f",
           "arrowhead": 0,
           "arrowwidth": 1
          },
          "coloraxis": {
           "colorbar": {
            "outlinewidth": 0,
            "ticks": ""
           }
          },
          "colorscale": {
           "diverging": [
            [
             0,
             "#8e0152"
            ],
            [
             0.1,
             "#c51b7d"
            ],
            [
             0.2,
             "#de77ae"
            ],
            [
             0.3,
             "#f1b6da"
            ],
            [
             0.4,
             "#fde0ef"
            ],
            [
             0.5,
             "#f7f7f7"
            ],
            [
             0.6,
             "#e6f5d0"
            ],
            [
             0.7,
             "#b8e186"
            ],
            [
             0.8,
             "#7fbc41"
            ],
            [
             0.9,
             "#4d9221"
            ],
            [
             1,
             "#276419"
            ]
           ],
           "sequential": [
            [
             0,
             "#0d0887"
            ],
            [
             0.1111111111111111,
             "#46039f"
            ],
            [
             0.2222222222222222,
             "#7201a8"
            ],
            [
             0.3333333333333333,
             "#9c179e"
            ],
            [
             0.4444444444444444,
             "#bd3786"
            ],
            [
             0.5555555555555556,
             "#d8576b"
            ],
            [
             0.6666666666666666,
             "#ed7953"
            ],
            [
             0.7777777777777778,
             "#fb9f3a"
            ],
            [
             0.8888888888888888,
             "#fdca26"
            ],
            [
             1,
             "#f0f921"
            ]
           ],
           "sequentialminus": [
            [
             0,
             "#0d0887"
            ],
            [
             0.1111111111111111,
             "#46039f"
            ],
            [
             0.2222222222222222,
             "#7201a8"
            ],
            [
             0.3333333333333333,
             "#9c179e"
            ],
            [
             0.4444444444444444,
             "#bd3786"
            ],
            [
             0.5555555555555556,
             "#d8576b"
            ],
            [
             0.6666666666666666,
             "#ed7953"
            ],
            [
             0.7777777777777778,
             "#fb9f3a"
            ],
            [
             0.8888888888888888,
             "#fdca26"
            ],
            [
             1,
             "#f0f921"
            ]
           ]
          },
          "colorway": [
           "#636efa",
           "#EF553B",
           "#00cc96",
           "#ab63fa",
           "#FFA15A",
           "#19d3f3",
           "#FF6692",
           "#B6E880",
           "#FF97FF",
           "#FECB52"
          ],
          "font": {
           "color": "#2a3f5f"
          },
          "geo": {
           "bgcolor": "white",
           "lakecolor": "white",
           "landcolor": "#E5ECF6",
           "showlakes": true,
           "showland": true,
           "subunitcolor": "white"
          },
          "hoverlabel": {
           "align": "left"
          },
          "hovermode": "closest",
          "mapbox": {
           "style": "light"
          },
          "paper_bgcolor": "white",
          "plot_bgcolor": "#E5ECF6",
          "polar": {
           "angularaxis": {
            "gridcolor": "white",
            "linecolor": "white",
            "ticks": ""
           },
           "bgcolor": "#E5ECF6",
           "radialaxis": {
            "gridcolor": "white",
            "linecolor": "white",
            "ticks": ""
           }
          },
          "scene": {
           "xaxis": {
            "backgroundcolor": "#E5ECF6",
            "gridcolor": "white",
            "gridwidth": 2,
            "linecolor": "white",
            "showbackground": true,
            "ticks": "",
            "zerolinecolor": "white"
           },
           "yaxis": {
            "backgroundcolor": "#E5ECF6",
            "gridcolor": "white",
            "gridwidth": 2,
            "linecolor": "white",
            "showbackground": true,
            "ticks": "",
            "zerolinecolor": "white"
           },
           "zaxis": {
            "backgroundcolor": "#E5ECF6",
            "gridcolor": "white",
            "gridwidth": 2,
            "linecolor": "white",
            "showbackground": true,
            "ticks": "",
            "zerolinecolor": "white"
           }
          },
          "shapedefaults": {
           "line": {
            "color": "#2a3f5f"
           }
          },
          "ternary": {
           "aaxis": {
            "gridcolor": "white",
            "linecolor": "white",
            "ticks": ""
           },
           "baxis": {
            "gridcolor": "white",
            "linecolor": "white",
            "ticks": ""
           },
           "bgcolor": "#E5ECF6",
           "caxis": {
            "gridcolor": "white",
            "linecolor": "white",
            "ticks": ""
           }
          },
          "title": {
           "x": 0.05
          },
          "xaxis": {
           "automargin": true,
           "gridcolor": "white",
           "linecolor": "white",
           "ticks": "",
           "title": {
            "standoff": 15
           },
           "zerolinecolor": "white",
           "zerolinewidth": 2
          },
          "yaxis": {
           "automargin": true,
           "gridcolor": "white",
           "linecolor": "white",
           "ticks": "",
           "title": {
            "standoff": 15
           },
           "zerolinecolor": "white",
           "zerolinewidth": 2
          }
         }
        }
       }
      }
     },
     "metadata": {}
    }
   ],
   "source": [
    "labels = ['Illness Or Disability','Out Of Town','Forgot','Not Interested',\"Too Busy\",\"Transportation Problems\",\"Did Not LikeCandidates Or Campaign Issues\",\"Registration Problems\",\"Bad Weather\",\"Inconvienient Polling or Lines Too Long\",\"Other Reason\",\"Refused\"]\n",
    "values = [14.9, 8.8, 2.6, 13.4,17.5,2.6,12.9,6.0,0.2,2.7,11.3,7.0]\n",
    "\n",
    "Nonvoters2008 = go.Figure(data=[go.Pie(labels=labels, values=values, title=\"Percent Reasons For Not Voting 2008\")])\n",
    "\n",
    "Nonvoters2008.show()"
   ]
  },
  {
   "cell_type": "code",
   "execution_count": 42,
   "metadata": {},
   "outputs": [
    {
     "output_type": "execute_result",
     "data": {
      "text/plain": [
       "   electionyear   nonvoters  illnessordisability  outoftownawayfromhome  \\\n",
       "1        2004.0  1633400000                 15.4                    9.0   \n",
       "\n",
       "   forgot  notinterested  toobusy  transportationproblems  \\\n",
       "1     3.4           10.7     19.9                     2.1   \n",
       "\n",
       "   didnotlikecandidatesorcampaignissues  registrationproblems  \\\n",
       "1                                   9.9                   6.8   \n",
       "\n",
       "   badweatherconditions  inconvenientpollingplaceorhourorlinestoolong  \\\n",
       "1                   0.5                                           3.0   \n",
       "\n",
       "   otherreason  refused  \n",
       "1         10.9      8.5  "
      ],
      "text/html": "<div>\n<style scoped>\n    .dataframe tbody tr th:only-of-type {\n        vertical-align: middle;\n    }\n\n    .dataframe tbody tr th {\n        vertical-align: top;\n    }\n\n    .dataframe thead th {\n        text-align: right;\n    }\n</style>\n<table border=\"1\" class=\"dataframe\">\n  <thead>\n    <tr style=\"text-align: right;\">\n      <th></th>\n      <th>electionyear</th>\n      <th>nonvoters</th>\n      <th>illnessordisability</th>\n      <th>outoftownawayfromhome</th>\n      <th>forgot</th>\n      <th>notinterested</th>\n      <th>toobusy</th>\n      <th>transportationproblems</th>\n      <th>didnotlikecandidatesorcampaignissues</th>\n      <th>registrationproblems</th>\n      <th>badweatherconditions</th>\n      <th>inconvenientpollingplaceorhourorlinestoolong</th>\n      <th>otherreason</th>\n      <th>refused</th>\n    </tr>\n  </thead>\n  <tbody>\n    <tr>\n      <th>1</th>\n      <td>2004.0</td>\n      <td>1633400000</td>\n      <td>15.4</td>\n      <td>9.0</td>\n      <td>3.4</td>\n      <td>10.7</td>\n      <td>19.9</td>\n      <td>2.1</td>\n      <td>9.9</td>\n      <td>6.8</td>\n      <td>0.5</td>\n      <td>3.0</td>\n      <td>10.9</td>\n      <td>8.5</td>\n    </tr>\n  </tbody>\n</table>\n</div>"
     },
     "metadata": {},
     "execution_count": 42
    }
   ],
   "source": [
    "Reasons2004DF=NationalReasonsBigDF[NationalReasonsBigDF['electionyear']==2004]\n",
    "Reasons2004DF"
   ]
  },
  {
   "cell_type": "code",
   "execution_count": 43,
   "metadata": {},
   "outputs": [
    {
     "output_type": "display_data",
     "data": {
      "application/vnd.plotly.v1+json": {
       "config": {
        "plotlyServerURL": "https://plot.ly"
       },
       "data": [
        {
         "labels": [
          "Illness Or Disability",
          "Out Of Town",
          "Forgot",
          "Not Interested",
          "Too Busy",
          "Transportation Problems",
          "Did Not LikeCandidates Or Campaign Issues",
          "Registration Problems",
          "Bad Weather",
          "Inconvienient Polling or Lines Too Long",
          "Other Reason",
          "Refused"
         ],
         "title": {
          "text": "Percent Reasons For Not Voting 2004"
         },
         "type": "pie",
         "values": [
          15.4,
          9,
          3.4,
          10.7,
          19.9,
          2.1,
          9.9,
          6.8,
          0.5,
          3,
          10.9,
          8.5
         ]
        }
       ],
       "layout": {
        "template": {
         "data": {
          "bar": [
           {
            "error_x": {
             "color": "#2a3f5f"
            },
            "error_y": {
             "color": "#2a3f5f"
            },
            "marker": {
             "line": {
              "color": "#E5ECF6",
              "width": 0.5
             }
            },
            "type": "bar"
           }
          ],
          "barpolar": [
           {
            "marker": {
             "line": {
              "color": "#E5ECF6",
              "width": 0.5
             }
            },
            "type": "barpolar"
           }
          ],
          "carpet": [
           {
            "aaxis": {
             "endlinecolor": "#2a3f5f",
             "gridcolor": "white",
             "linecolor": "white",
             "minorgridcolor": "white",
             "startlinecolor": "#2a3f5f"
            },
            "baxis": {
             "endlinecolor": "#2a3f5f",
             "gridcolor": "white",
             "linecolor": "white",
             "minorgridcolor": "white",
             "startlinecolor": "#2a3f5f"
            },
            "type": "carpet"
           }
          ],
          "choropleth": [
           {
            "colorbar": {
             "outlinewidth": 0,
             "ticks": ""
            },
            "type": "choropleth"
           }
          ],
          "contour": [
           {
            "colorbar": {
             "outlinewidth": 0,
             "ticks": ""
            },
            "colorscale": [
             [
              0,
              "#0d0887"
             ],
             [
              0.1111111111111111,
              "#46039f"
             ],
             [
              0.2222222222222222,
              "#7201a8"
             ],
             [
              0.3333333333333333,
              "#9c179e"
             ],
             [
              0.4444444444444444,
              "#bd3786"
             ],
             [
              0.5555555555555556,
              "#d8576b"
             ],
             [
              0.6666666666666666,
              "#ed7953"
             ],
             [
              0.7777777777777778,
              "#fb9f3a"
             ],
             [
              0.8888888888888888,
              "#fdca26"
             ],
             [
              1,
              "#f0f921"
             ]
            ],
            "type": "contour"
           }
          ],
          "contourcarpet": [
           {
            "colorbar": {
             "outlinewidth": 0,
             "ticks": ""
            },
            "type": "contourcarpet"
           }
          ],
          "heatmap": [
           {
            "colorbar": {
             "outlinewidth": 0,
             "ticks": ""
            },
            "colorscale": [
             [
              0,
              "#0d0887"
             ],
             [
              0.1111111111111111,
              "#46039f"
             ],
             [
              0.2222222222222222,
              "#7201a8"
             ],
             [
              0.3333333333333333,
              "#9c179e"
             ],
             [
              0.4444444444444444,
              "#bd3786"
             ],
             [
              0.5555555555555556,
              "#d8576b"
             ],
             [
              0.6666666666666666,
              "#ed7953"
             ],
             [
              0.7777777777777778,
              "#fb9f3a"
             ],
             [
              0.8888888888888888,
              "#fdca26"
             ],
             [
              1,
              "#f0f921"
             ]
            ],
            "type": "heatmap"
           }
          ],
          "heatmapgl": [
           {
            "colorbar": {
             "outlinewidth": 0,
             "ticks": ""
            },
            "colorscale": [
             [
              0,
              "#0d0887"
             ],
             [
              0.1111111111111111,
              "#46039f"
             ],
             [
              0.2222222222222222,
              "#7201a8"
             ],
             [
              0.3333333333333333,
              "#9c179e"
             ],
             [
              0.4444444444444444,
              "#bd3786"
             ],
             [
              0.5555555555555556,
              "#d8576b"
             ],
             [
              0.6666666666666666,
              "#ed7953"
             ],
             [
              0.7777777777777778,
              "#fb9f3a"
             ],
             [
              0.8888888888888888,
              "#fdca26"
             ],
             [
              1,
              "#f0f921"
             ]
            ],
            "type": "heatmapgl"
           }
          ],
          "histogram": [
           {
            "marker": {
             "colorbar": {
              "outlinewidth": 0,
              "ticks": ""
             }
            },
            "type": "histogram"
           }
          ],
          "histogram2d": [
           {
            "colorbar": {
             "outlinewidth": 0,
             "ticks": ""
            },
            "colorscale": [
             [
              0,
              "#0d0887"
             ],
             [
              0.1111111111111111,
              "#46039f"
             ],
             [
              0.2222222222222222,
              "#7201a8"
             ],
             [
              0.3333333333333333,
              "#9c179e"
             ],
             [
              0.4444444444444444,
              "#bd3786"
             ],
             [
              0.5555555555555556,
              "#d8576b"
             ],
             [
              0.6666666666666666,
              "#ed7953"
             ],
             [
              0.7777777777777778,
              "#fb9f3a"
             ],
             [
              0.8888888888888888,
              "#fdca26"
             ],
             [
              1,
              "#f0f921"
             ]
            ],
            "type": "histogram2d"
           }
          ],
          "histogram2dcontour": [
           {
            "colorbar": {
             "outlinewidth": 0,
             "ticks": ""
            },
            "colorscale": [
             [
              0,
              "#0d0887"
             ],
             [
              0.1111111111111111,
              "#46039f"
             ],
             [
              0.2222222222222222,
              "#7201a8"
             ],
             [
              0.3333333333333333,
              "#9c179e"
             ],
             [
              0.4444444444444444,
              "#bd3786"
             ],
             [
              0.5555555555555556,
              "#d8576b"
             ],
             [
              0.6666666666666666,
              "#ed7953"
             ],
             [
              0.7777777777777778,
              "#fb9f3a"
             ],
             [
              0.8888888888888888,
              "#fdca26"
             ],
             [
              1,
              "#f0f921"
             ]
            ],
            "type": "histogram2dcontour"
           }
          ],
          "mesh3d": [
           {
            "colorbar": {
             "outlinewidth": 0,
             "ticks": ""
            },
            "type": "mesh3d"
           }
          ],
          "parcoords": [
           {
            "line": {
             "colorbar": {
              "outlinewidth": 0,
              "ticks": ""
             }
            },
            "type": "parcoords"
           }
          ],
          "pie": [
           {
            "automargin": true,
            "type": "pie"
           }
          ],
          "scatter": [
           {
            "marker": {
             "colorbar": {
              "outlinewidth": 0,
              "ticks": ""
             }
            },
            "type": "scatter"
           }
          ],
          "scatter3d": [
           {
            "line": {
             "colorbar": {
              "outlinewidth": 0,
              "ticks": ""
             }
            },
            "marker": {
             "colorbar": {
              "outlinewidth": 0,
              "ticks": ""
             }
            },
            "type": "scatter3d"
           }
          ],
          "scattercarpet": [
           {
            "marker": {
             "colorbar": {
              "outlinewidth": 0,
              "ticks": ""
             }
            },
            "type": "scattercarpet"
           }
          ],
          "scattergeo": [
           {
            "marker": {
             "colorbar": {
              "outlinewidth": 0,
              "ticks": ""
             }
            },
            "type": "scattergeo"
           }
          ],
          "scattergl": [
           {
            "marker": {
             "colorbar": {
              "outlinewidth": 0,
              "ticks": ""
             }
            },
            "type": "scattergl"
           }
          ],
          "scattermapbox": [
           {
            "marker": {
             "colorbar": {
              "outlinewidth": 0,
              "ticks": ""
             }
            },
            "type": "scattermapbox"
           }
          ],
          "scatterpolar": [
           {
            "marker": {
             "colorbar": {
              "outlinewidth": 0,
              "ticks": ""
             }
            },
            "type": "scatterpolar"
           }
          ],
          "scatterpolargl": [
           {
            "marker": {
             "colorbar": {
              "outlinewidth": 0,
              "ticks": ""
             }
            },
            "type": "scatterpolargl"
           }
          ],
          "scatterternary": [
           {
            "marker": {
             "colorbar": {
              "outlinewidth": 0,
              "ticks": ""
             }
            },
            "type": "scatterternary"
           }
          ],
          "surface": [
           {
            "colorbar": {
             "outlinewidth": 0,
             "ticks": ""
            },
            "colorscale": [
             [
              0,
              "#0d0887"
             ],
             [
              0.1111111111111111,
              "#46039f"
             ],
             [
              0.2222222222222222,
              "#7201a8"
             ],
             [
              0.3333333333333333,
              "#9c179e"
             ],
             [
              0.4444444444444444,
              "#bd3786"
             ],
             [
              0.5555555555555556,
              "#d8576b"
             ],
             [
              0.6666666666666666,
              "#ed7953"
             ],
             [
              0.7777777777777778,
              "#fb9f3a"
             ],
             [
              0.8888888888888888,
              "#fdca26"
             ],
             [
              1,
              "#f0f921"
             ]
            ],
            "type": "surface"
           }
          ],
          "table": [
           {
            "cells": {
             "fill": {
              "color": "#EBF0F8"
             },
             "line": {
              "color": "white"
             }
            },
            "header": {
             "fill": {
              "color": "#C8D4E3"
             },
             "line": {
              "color": "white"
             }
            },
            "type": "table"
           }
          ]
         },
         "layout": {
          "annotationdefaults": {
           "arrowcolor": "#2a3f5f",
           "arrowhead": 0,
           "arrowwidth": 1
          },
          "coloraxis": {
           "colorbar": {
            "outlinewidth": 0,
            "ticks": ""
           }
          },
          "colorscale": {
           "diverging": [
            [
             0,
             "#8e0152"
            ],
            [
             0.1,
             "#c51b7d"
            ],
            [
             0.2,
             "#de77ae"
            ],
            [
             0.3,
             "#f1b6da"
            ],
            [
             0.4,
             "#fde0ef"
            ],
            [
             0.5,
             "#f7f7f7"
            ],
            [
             0.6,
             "#e6f5d0"
            ],
            [
             0.7,
             "#b8e186"
            ],
            [
             0.8,
             "#7fbc41"
            ],
            [
             0.9,
             "#4d9221"
            ],
            [
             1,
             "#276419"
            ]
           ],
           "sequential": [
            [
             0,
             "#0d0887"
            ],
            [
             0.1111111111111111,
             "#46039f"
            ],
            [
             0.2222222222222222,
             "#7201a8"
            ],
            [
             0.3333333333333333,
             "#9c179e"
            ],
            [
             0.4444444444444444,
             "#bd3786"
            ],
            [
             0.5555555555555556,
             "#d8576b"
            ],
            [
             0.6666666666666666,
             "#ed7953"
            ],
            [
             0.7777777777777778,
             "#fb9f3a"
            ],
            [
             0.8888888888888888,
             "#fdca26"
            ],
            [
             1,
             "#f0f921"
            ]
           ],
           "sequentialminus": [
            [
             0,
             "#0d0887"
            ],
            [
             0.1111111111111111,
             "#46039f"
            ],
            [
             0.2222222222222222,
             "#7201a8"
            ],
            [
             0.3333333333333333,
             "#9c179e"
            ],
            [
             0.4444444444444444,
             "#bd3786"
            ],
            [
             0.5555555555555556,
             "#d8576b"
            ],
            [
             0.6666666666666666,
             "#ed7953"
            ],
            [
             0.7777777777777778,
             "#fb9f3a"
            ],
            [
             0.8888888888888888,
             "#fdca26"
            ],
            [
             1,
             "#f0f921"
            ]
           ]
          },
          "colorway": [
           "#636efa",
           "#EF553B",
           "#00cc96",
           "#ab63fa",
           "#FFA15A",
           "#19d3f3",
           "#FF6692",
           "#B6E880",
           "#FF97FF",
           "#FECB52"
          ],
          "font": {
           "color": "#2a3f5f"
          },
          "geo": {
           "bgcolor": "white",
           "lakecolor": "white",
           "landcolor": "#E5ECF6",
           "showlakes": true,
           "showland": true,
           "subunitcolor": "white"
          },
          "hoverlabel": {
           "align": "left"
          },
          "hovermode": "closest",
          "mapbox": {
           "style": "light"
          },
          "paper_bgcolor": "white",
          "plot_bgcolor": "#E5ECF6",
          "polar": {
           "angularaxis": {
            "gridcolor": "white",
            "linecolor": "white",
            "ticks": ""
           },
           "bgcolor": "#E5ECF6",
           "radialaxis": {
            "gridcolor": "white",
            "linecolor": "white",
            "ticks": ""
           }
          },
          "scene": {
           "xaxis": {
            "backgroundcolor": "#E5ECF6",
            "gridcolor": "white",
            "gridwidth": 2,
            "linecolor": "white",
            "showbackground": true,
            "ticks": "",
            "zerolinecolor": "white"
           },
           "yaxis": {
            "backgroundcolor": "#E5ECF6",
            "gridcolor": "white",
            "gridwidth": 2,
            "linecolor": "white",
            "showbackground": true,
            "ticks": "",
            "zerolinecolor": "white"
           },
           "zaxis": {
            "backgroundcolor": "#E5ECF6",
            "gridcolor": "white",
            "gridwidth": 2,
            "linecolor": "white",
            "showbackground": true,
            "ticks": "",
            "zerolinecolor": "white"
           }
          },
          "shapedefaults": {
           "line": {
            "color": "#2a3f5f"
           }
          },
          "ternary": {
           "aaxis": {
            "gridcolor": "white",
            "linecolor": "white",
            "ticks": ""
           },
           "baxis": {
            "gridcolor": "white",
            "linecolor": "white",
            "ticks": ""
           },
           "bgcolor": "#E5ECF6",
           "caxis": {
            "gridcolor": "white",
            "linecolor": "white",
            "ticks": ""
           }
          },
          "title": {
           "x": 0.05
          },
          "xaxis": {
           "automargin": true,
           "gridcolor": "white",
           "linecolor": "white",
           "ticks": "",
           "title": {
            "standoff": 15
           },
           "zerolinecolor": "white",
           "zerolinewidth": 2
          },
          "yaxis": {
           "automargin": true,
           "gridcolor": "white",
           "linecolor": "white",
           "ticks": "",
           "title": {
            "standoff": 15
           },
           "zerolinecolor": "white",
           "zerolinewidth": 2
          }
         }
        }
       }
      }
     },
     "metadata": {}
    }
   ],
   "source": [
    "labels = ['Illness Or Disability','Out Of Town','Forgot','Not Interested',\"Too Busy\",\"Transportation Problems\",\"Did Not LikeCandidates Or Campaign Issues\",\"Registration Problems\",\"Bad Weather\",\"Inconvienient Polling or Lines Too Long\",\"Other Reason\",\"Refused\"]\n",
    "values = [15.4, 9.0, 3.4, 10.7, 19.9, 2.1, 9.9, 6.8, 0.5, 3.0, 10.9, 8.5]\n",
    "\n",
    "Nonvoters2004 = go.Figure(data=[go.Pie(labels=labels, values=values, title=\"Percent Reasons For Not Voting 2004\")])\n",
    "\n",
    "Nonvoters2004.show()"
   ]
  },
  {
   "cell_type": "code",
   "execution_count": 44,
   "metadata": {},
   "outputs": [
    {
     "output_type": "execute_result",
     "data": {
      "text/plain": [
       "   electionyear   nonvoters  illnessordisability  outoftownawayfromhome  \\\n",
       "3        2012.0  1914100000                 14.0                    8.6   \n",
       "\n",
       "   forgot  notinterested  toobusy  transportationproblems  \\\n",
       "3     3.9           15.7     18.9                     3.3   \n",
       "\n",
       "   didnotlikecandidatesorcampaignissues  registrationproblems  \\\n",
       "3                                  12.7                   5.5   \n",
       "\n",
       "   badweatherconditions  inconvenientpollingplaceorhourorlinestoolong  \\\n",
       "3                   0.8                                           2.7   \n",
       "\n",
       "   otherreason  refused  \n",
       "3         11.1      3.0  "
      ],
      "text/html": "<div>\n<style scoped>\n    .dataframe tbody tr th:only-of-type {\n        vertical-align: middle;\n    }\n\n    .dataframe tbody tr th {\n        vertical-align: top;\n    }\n\n    .dataframe thead th {\n        text-align: right;\n    }\n</style>\n<table border=\"1\" class=\"dataframe\">\n  <thead>\n    <tr style=\"text-align: right;\">\n      <th></th>\n      <th>electionyear</th>\n      <th>nonvoters</th>\n      <th>illnessordisability</th>\n      <th>outoftownawayfromhome</th>\n      <th>forgot</th>\n      <th>notinterested</th>\n      <th>toobusy</th>\n      <th>transportationproblems</th>\n      <th>didnotlikecandidatesorcampaignissues</th>\n      <th>registrationproblems</th>\n      <th>badweatherconditions</th>\n      <th>inconvenientpollingplaceorhourorlinestoolong</th>\n      <th>otherreason</th>\n      <th>refused</th>\n    </tr>\n  </thead>\n  <tbody>\n    <tr>\n      <th>3</th>\n      <td>2012.0</td>\n      <td>1914100000</td>\n      <td>14.0</td>\n      <td>8.6</td>\n      <td>3.9</td>\n      <td>15.7</td>\n      <td>18.9</td>\n      <td>3.3</td>\n      <td>12.7</td>\n      <td>5.5</td>\n      <td>0.8</td>\n      <td>2.7</td>\n      <td>11.1</td>\n      <td>3.0</td>\n    </tr>\n  </tbody>\n</table>\n</div>"
     },
     "metadata": {},
     "execution_count": 44
    }
   ],
   "source": [
    "Reasons2012DF=NationalReasonsBigDF[NationalReasonsBigDF['electionyear']==2012]\n",
    "Reasons2012DF"
   ]
  },
  {
   "cell_type": "code",
   "execution_count": 45,
   "metadata": {},
   "outputs": [
    {
     "output_type": "display_data",
     "data": {
      "application/vnd.plotly.v1+json": {
       "config": {
        "plotlyServerURL": "https://plot.ly"
       },
       "data": [
        {
         "labels": [
          "Illness Or Disability",
          "Out Of Town",
          "Forgot",
          "Not Interested",
          "Too Busy",
          "Transportation Problems",
          "Did Not LikeCandidates Or Campaign Issues",
          "Registration Problems",
          "Bad Weather",
          "Inconvienient Polling or Lines Too Long",
          "Other Reason",
          "Refused"
         ],
         "title": {
          "text": "Percent Reasons For Not Voting 2012"
         },
         "type": "pie",
         "values": [
          12,
          8.6,
          3.9,
          15.7,
          18.9,
          3.3,
          12.7,
          5.5,
          0.8,
          2.7,
          11.1,
          3
         ]
        }
       ],
       "layout": {
        "template": {
         "data": {
          "bar": [
           {
            "error_x": {
             "color": "#2a3f5f"
            },
            "error_y": {
             "color": "#2a3f5f"
            },
            "marker": {
             "line": {
              "color": "#E5ECF6",
              "width": 0.5
             }
            },
            "type": "bar"
           }
          ],
          "barpolar": [
           {
            "marker": {
             "line": {
              "color": "#E5ECF6",
              "width": 0.5
             }
            },
            "type": "barpolar"
           }
          ],
          "carpet": [
           {
            "aaxis": {
             "endlinecolor": "#2a3f5f",
             "gridcolor": "white",
             "linecolor": "white",
             "minorgridcolor": "white",
             "startlinecolor": "#2a3f5f"
            },
            "baxis": {
             "endlinecolor": "#2a3f5f",
             "gridcolor": "white",
             "linecolor": "white",
             "minorgridcolor": "white",
             "startlinecolor": "#2a3f5f"
            },
            "type": "carpet"
           }
          ],
          "choropleth": [
           {
            "colorbar": {
             "outlinewidth": 0,
             "ticks": ""
            },
            "type": "choropleth"
           }
          ],
          "contour": [
           {
            "colorbar": {
             "outlinewidth": 0,
             "ticks": ""
            },
            "colorscale": [
             [
              0,
              "#0d0887"
             ],
             [
              0.1111111111111111,
              "#46039f"
             ],
             [
              0.2222222222222222,
              "#7201a8"
             ],
             [
              0.3333333333333333,
              "#9c179e"
             ],
             [
              0.4444444444444444,
              "#bd3786"
             ],
             [
              0.5555555555555556,
              "#d8576b"
             ],
             [
              0.6666666666666666,
              "#ed7953"
             ],
             [
              0.7777777777777778,
              "#fb9f3a"
             ],
             [
              0.8888888888888888,
              "#fdca26"
             ],
             [
              1,
              "#f0f921"
             ]
            ],
            "type": "contour"
           }
          ],
          "contourcarpet": [
           {
            "colorbar": {
             "outlinewidth": 0,
             "ticks": ""
            },
            "type": "contourcarpet"
           }
          ],
          "heatmap": [
           {
            "colorbar": {
             "outlinewidth": 0,
             "ticks": ""
            },
            "colorscale": [
             [
              0,
              "#0d0887"
             ],
             [
              0.1111111111111111,
              "#46039f"
             ],
             [
              0.2222222222222222,
              "#7201a8"
             ],
             [
              0.3333333333333333,
              "#9c179e"
             ],
             [
              0.4444444444444444,
              "#bd3786"
             ],
             [
              0.5555555555555556,
              "#d8576b"
             ],
             [
              0.6666666666666666,
              "#ed7953"
             ],
             [
              0.7777777777777778,
              "#fb9f3a"
             ],
             [
              0.8888888888888888,
              "#fdca26"
             ],
             [
              1,
              "#f0f921"
             ]
            ],
            "type": "heatmap"
           }
          ],
          "heatmapgl": [
           {
            "colorbar": {
             "outlinewidth": 0,
             "ticks": ""
            },
            "colorscale": [
             [
              0,
              "#0d0887"
             ],
             [
              0.1111111111111111,
              "#46039f"
             ],
             [
              0.2222222222222222,
              "#7201a8"
             ],
             [
              0.3333333333333333,
              "#9c179e"
             ],
             [
              0.4444444444444444,
              "#bd3786"
             ],
             [
              0.5555555555555556,
              "#d8576b"
             ],
             [
              0.6666666666666666,
              "#ed7953"
             ],
             [
              0.7777777777777778,
              "#fb9f3a"
             ],
             [
              0.8888888888888888,
              "#fdca26"
             ],
             [
              1,
              "#f0f921"
             ]
            ],
            "type": "heatmapgl"
           }
          ],
          "histogram": [
           {
            "marker": {
             "colorbar": {
              "outlinewidth": 0,
              "ticks": ""
             }
            },
            "type": "histogram"
           }
          ],
          "histogram2d": [
           {
            "colorbar": {
             "outlinewidth": 0,
             "ticks": ""
            },
            "colorscale": [
             [
              0,
              "#0d0887"
             ],
             [
              0.1111111111111111,
              "#46039f"
             ],
             [
              0.2222222222222222,
              "#7201a8"
             ],
             [
              0.3333333333333333,
              "#9c179e"
             ],
             [
              0.4444444444444444,
              "#bd3786"
             ],
             [
              0.5555555555555556,
              "#d8576b"
             ],
             [
              0.6666666666666666,
              "#ed7953"
             ],
             [
              0.7777777777777778,
              "#fb9f3a"
             ],
             [
              0.8888888888888888,
              "#fdca26"
             ],
             [
              1,
              "#f0f921"
             ]
            ],
            "type": "histogram2d"
           }
          ],
          "histogram2dcontour": [
           {
            "colorbar": {
             "outlinewidth": 0,
             "ticks": ""
            },
            "colorscale": [
             [
              0,
              "#0d0887"
             ],
             [
              0.1111111111111111,
              "#46039f"
             ],
             [
              0.2222222222222222,
              "#7201a8"
             ],
             [
              0.3333333333333333,
              "#9c179e"
             ],
             [
              0.4444444444444444,
              "#bd3786"
             ],
             [
              0.5555555555555556,
              "#d8576b"
             ],
             [
              0.6666666666666666,
              "#ed7953"
             ],
             [
              0.7777777777777778,
              "#fb9f3a"
             ],
             [
              0.8888888888888888,
              "#fdca26"
             ],
             [
              1,
              "#f0f921"
             ]
            ],
            "type": "histogram2dcontour"
           }
          ],
          "mesh3d": [
           {
            "colorbar": {
             "outlinewidth": 0,
             "ticks": ""
            },
            "type": "mesh3d"
           }
          ],
          "parcoords": [
           {
            "line": {
             "colorbar": {
              "outlinewidth": 0,
              "ticks": ""
             }
            },
            "type": "parcoords"
           }
          ],
          "pie": [
           {
            "automargin": true,
            "type": "pie"
           }
          ],
          "scatter": [
           {
            "marker": {
             "colorbar": {
              "outlinewidth": 0,
              "ticks": ""
             }
            },
            "type": "scatter"
           }
          ],
          "scatter3d": [
           {
            "line": {
             "colorbar": {
              "outlinewidth": 0,
              "ticks": ""
             }
            },
            "marker": {
             "colorbar": {
              "outlinewidth": 0,
              "ticks": ""
             }
            },
            "type": "scatter3d"
           }
          ],
          "scattercarpet": [
           {
            "marker": {
             "colorbar": {
              "outlinewidth": 0,
              "ticks": ""
             }
            },
            "type": "scattercarpet"
           }
          ],
          "scattergeo": [
           {
            "marker": {
             "colorbar": {
              "outlinewidth": 0,
              "ticks": ""
             }
            },
            "type": "scattergeo"
           }
          ],
          "scattergl": [
           {
            "marker": {
             "colorbar": {
              "outlinewidth": 0,
              "ticks": ""
             }
            },
            "type": "scattergl"
           }
          ],
          "scattermapbox": [
           {
            "marker": {
             "colorbar": {
              "outlinewidth": 0,
              "ticks": ""
             }
            },
            "type": "scattermapbox"
           }
          ],
          "scatterpolar": [
           {
            "marker": {
             "colorbar": {
              "outlinewidth": 0,
              "ticks": ""
             }
            },
            "type": "scatterpolar"
           }
          ],
          "scatterpolargl": [
           {
            "marker": {
             "colorbar": {
              "outlinewidth": 0,
              "ticks": ""
             }
            },
            "type": "scatterpolargl"
           }
          ],
          "scatterternary": [
           {
            "marker": {
             "colorbar": {
              "outlinewidth": 0,
              "ticks": ""
             }
            },
            "type": "scatterternary"
           }
          ],
          "surface": [
           {
            "colorbar": {
             "outlinewidth": 0,
             "ticks": ""
            },
            "colorscale": [
             [
              0,
              "#0d0887"
             ],
             [
              0.1111111111111111,
              "#46039f"
             ],
             [
              0.2222222222222222,
              "#7201a8"
             ],
             [
              0.3333333333333333,
              "#9c179e"
             ],
             [
              0.4444444444444444,
              "#bd3786"
             ],
             [
              0.5555555555555556,
              "#d8576b"
             ],
             [
              0.6666666666666666,
              "#ed7953"
             ],
             [
              0.7777777777777778,
              "#fb9f3a"
             ],
             [
              0.8888888888888888,
              "#fdca26"
             ],
             [
              1,
              "#f0f921"
             ]
            ],
            "type": "surface"
           }
          ],
          "table": [
           {
            "cells": {
             "fill": {
              "color": "#EBF0F8"
             },
             "line": {
              "color": "white"
             }
            },
            "header": {
             "fill": {
              "color": "#C8D4E3"
             },
             "line": {
              "color": "white"
             }
            },
            "type": "table"
           }
          ]
         },
         "layout": {
          "annotationdefaults": {
           "arrowcolor": "#2a3f5f",
           "arrowhead": 0,
           "arrowwidth": 1
          },
          "coloraxis": {
           "colorbar": {
            "outlinewidth": 0,
            "ticks": ""
           }
          },
          "colorscale": {
           "diverging": [
            [
             0,
             "#8e0152"
            ],
            [
             0.1,
             "#c51b7d"
            ],
            [
             0.2,
             "#de77ae"
            ],
            [
             0.3,
             "#f1b6da"
            ],
            [
             0.4,
             "#fde0ef"
            ],
            [
             0.5,
             "#f7f7f7"
            ],
            [
             0.6,
             "#e6f5d0"
            ],
            [
             0.7,
             "#b8e186"
            ],
            [
             0.8,
             "#7fbc41"
            ],
            [
             0.9,
             "#4d9221"
            ],
            [
             1,
             "#276419"
            ]
           ],
           "sequential": [
            [
             0,
             "#0d0887"
            ],
            [
             0.1111111111111111,
             "#46039f"
            ],
            [
             0.2222222222222222,
             "#7201a8"
            ],
            [
             0.3333333333333333,
             "#9c179e"
            ],
            [
             0.4444444444444444,
             "#bd3786"
            ],
            [
             0.5555555555555556,
             "#d8576b"
            ],
            [
             0.6666666666666666,
             "#ed7953"
            ],
            [
             0.7777777777777778,
             "#fb9f3a"
            ],
            [
             0.8888888888888888,
             "#fdca26"
            ],
            [
             1,
             "#f0f921"
            ]
           ],
           "sequentialminus": [
            [
             0,
             "#0d0887"
            ],
            [
             0.1111111111111111,
             "#46039f"
            ],
            [
             0.2222222222222222,
             "#7201a8"
            ],
            [
             0.3333333333333333,
             "#9c179e"
            ],
            [
             0.4444444444444444,
             "#bd3786"
            ],
            [
             0.5555555555555556,
             "#d8576b"
            ],
            [
             0.6666666666666666,
             "#ed7953"
            ],
            [
             0.7777777777777778,
             "#fb9f3a"
            ],
            [
             0.8888888888888888,
             "#fdca26"
            ],
            [
             1,
             "#f0f921"
            ]
           ]
          },
          "colorway": [
           "#636efa",
           "#EF553B",
           "#00cc96",
           "#ab63fa",
           "#FFA15A",
           "#19d3f3",
           "#FF6692",
           "#B6E880",
           "#FF97FF",
           "#FECB52"
          ],
          "font": {
           "color": "#2a3f5f"
          },
          "geo": {
           "bgcolor": "white",
           "lakecolor": "white",
           "landcolor": "#E5ECF6",
           "showlakes": true,
           "showland": true,
           "subunitcolor": "white"
          },
          "hoverlabel": {
           "align": "left"
          },
          "hovermode": "closest",
          "mapbox": {
           "style": "light"
          },
          "paper_bgcolor": "white",
          "plot_bgcolor": "#E5ECF6",
          "polar": {
           "angularaxis": {
            "gridcolor": "white",
            "linecolor": "white",
            "ticks": ""
           },
           "bgcolor": "#E5ECF6",
           "radialaxis": {
            "gridcolor": "white",
            "linecolor": "white",
            "ticks": ""
           }
          },
          "scene": {
           "xaxis": {
            "backgroundcolor": "#E5ECF6",
            "gridcolor": "white",
            "gridwidth": 2,
            "linecolor": "white",
            "showbackground": true,
            "ticks": "",
            "zerolinecolor": "white"
           },
           "yaxis": {
            "backgroundcolor": "#E5ECF6",
            "gridcolor": "white",
            "gridwidth": 2,
            "linecolor": "white",
            "showbackground": true,
            "ticks": "",
            "zerolinecolor": "white"
           },
           "zaxis": {
            "backgroundcolor": "#E5ECF6",
            "gridcolor": "white",
            "gridwidth": 2,
            "linecolor": "white",
            "showbackground": true,
            "ticks": "",
            "zerolinecolor": "white"
           }
          },
          "shapedefaults": {
           "line": {
            "color": "#2a3f5f"
           }
          },
          "ternary": {
           "aaxis": {
            "gridcolor": "white",
            "linecolor": "white",
            "ticks": ""
           },
           "baxis": {
            "gridcolor": "white",
            "linecolor": "white",
            "ticks": ""
           },
           "bgcolor": "#E5ECF6",
           "caxis": {
            "gridcolor": "white",
            "linecolor": "white",
            "ticks": ""
           }
          },
          "title": {
           "x": 0.05
          },
          "xaxis": {
           "automargin": true,
           "gridcolor": "white",
           "linecolor": "white",
           "ticks": "",
           "title": {
            "standoff": 15
           },
           "zerolinecolor": "white",
           "zerolinewidth": 2
          },
          "yaxis": {
           "automargin": true,
           "gridcolor": "white",
           "linecolor": "white",
           "ticks": "",
           "title": {
            "standoff": 15
           },
           "zerolinecolor": "white",
           "zerolinewidth": 2
          }
         }
        }
       }
      }
     },
     "metadata": {}
    }
   ],
   "source": [
    "labels = ['Illness Or Disability','Out Of Town','Forgot','Not Interested',\"Too Busy\",\"Transportation Problems\",\"Did Not LikeCandidates Or Campaign Issues\",\"Registration Problems\",\"Bad Weather\",\"Inconvienient Polling or Lines Too Long\",\"Other Reason\",\"Refused\"]\n",
    "values = [12.0, 8.6, 3.9, 15.7, 18.9, 3.3, 12.7, 5.5, 0.8, 2.7, 11.1, 3.0]\n",
    "\n",
    "Nonvoters2012 = go.Figure(data=[go.Pie(labels=labels, values=values, title=\"Percent Reasons For Not Voting 2012\")])\n",
    "\n",
    "Nonvoters2012.show()"
   ]
  },
  {
   "cell_type": "code",
   "execution_count": 46,
   "metadata": {},
   "outputs": [
    {
     "output_type": "execute_result",
     "data": {
      "text/plain": [
       "   electionyear   nonvoters  illnessordisability  outoftownawayfromhome  \\\n",
       "2        2016.0  1893300000                 11.7                    7.9   \n",
       "\n",
       "   forgot  notinterested  toobusy  transportationproblems  \\\n",
       "2     3.0           15.4     14.3                     2.6   \n",
       "\n",
       "   didnotlikecandidatesorcampaignissues  registrationproblems  \\\n",
       "2                                  24.8                   4.4   \n",
       "\n",
       "   badweatherconditions  inconvenientpollingplaceorhourorlinestoolong  \\\n",
       "2                   0.0                                           2.1   \n",
       "\n",
       "   otherreason  refused  \n",
       "2         11.1      2.7  "
      ],
      "text/html": "<div>\n<style scoped>\n    .dataframe tbody tr th:only-of-type {\n        vertical-align: middle;\n    }\n\n    .dataframe tbody tr th {\n        vertical-align: top;\n    }\n\n    .dataframe thead th {\n        text-align: right;\n    }\n</style>\n<table border=\"1\" class=\"dataframe\">\n  <thead>\n    <tr style=\"text-align: right;\">\n      <th></th>\n      <th>electionyear</th>\n      <th>nonvoters</th>\n      <th>illnessordisability</th>\n      <th>outoftownawayfromhome</th>\n      <th>forgot</th>\n      <th>notinterested</th>\n      <th>toobusy</th>\n      <th>transportationproblems</th>\n      <th>didnotlikecandidatesorcampaignissues</th>\n      <th>registrationproblems</th>\n      <th>badweatherconditions</th>\n      <th>inconvenientpollingplaceorhourorlinestoolong</th>\n      <th>otherreason</th>\n      <th>refused</th>\n    </tr>\n  </thead>\n  <tbody>\n    <tr>\n      <th>2</th>\n      <td>2016.0</td>\n      <td>1893300000</td>\n      <td>11.7</td>\n      <td>7.9</td>\n      <td>3.0</td>\n      <td>15.4</td>\n      <td>14.3</td>\n      <td>2.6</td>\n      <td>24.8</td>\n      <td>4.4</td>\n      <td>0.0</td>\n      <td>2.1</td>\n      <td>11.1</td>\n      <td>2.7</td>\n    </tr>\n  </tbody>\n</table>\n</div>"
     },
     "metadata": {},
     "execution_count": 46
    }
   ],
   "source": [
    "Reasons2016DF=NationalReasonsBigDF[NationalReasonsBigDF['electionyear']==2016]\n",
    "Reasons2016DF"
   ]
  },
  {
   "cell_type": "code",
   "execution_count": 47,
   "metadata": {},
   "outputs": [
    {
     "output_type": "display_data",
     "data": {
      "application/vnd.plotly.v1+json": {
       "config": {
        "plotlyServerURL": "https://plot.ly"
       },
       "data": [
        {
         "labels": [
          "Illness Or Disability",
          "Out Of Town",
          "Forgot",
          "Not Interested",
          "Too Busy",
          "Transportation Problems",
          "Did Not LikeCandidates Or Campaign Issues",
          "Registration Problems",
          "Bad Weather",
          "Inconvienient Polling or Lines Too Long",
          "Other Reason",
          "Refused"
         ],
         "title": {
          "text": "Percent Reasons For Not Voting 2016"
         },
         "type": "pie",
         "values": [
          11.7,
          7.9,
          3,
          15.4,
          14.3,
          2.6,
          24.8,
          4.4,
          0,
          2.1,
          11.1,
          2.7
         ]
        }
       ],
       "layout": {
        "template": {
         "data": {
          "bar": [
           {
            "error_x": {
             "color": "#2a3f5f"
            },
            "error_y": {
             "color": "#2a3f5f"
            },
            "marker": {
             "line": {
              "color": "#E5ECF6",
              "width": 0.5
             }
            },
            "type": "bar"
           }
          ],
          "barpolar": [
           {
            "marker": {
             "line": {
              "color": "#E5ECF6",
              "width": 0.5
             }
            },
            "type": "barpolar"
           }
          ],
          "carpet": [
           {
            "aaxis": {
             "endlinecolor": "#2a3f5f",
             "gridcolor": "white",
             "linecolor": "white",
             "minorgridcolor": "white",
             "startlinecolor": "#2a3f5f"
            },
            "baxis": {
             "endlinecolor": "#2a3f5f",
             "gridcolor": "white",
             "linecolor": "white",
             "minorgridcolor": "white",
             "startlinecolor": "#2a3f5f"
            },
            "type": "carpet"
           }
          ],
          "choropleth": [
           {
            "colorbar": {
             "outlinewidth": 0,
             "ticks": ""
            },
            "type": "choropleth"
           }
          ],
          "contour": [
           {
            "colorbar": {
             "outlinewidth": 0,
             "ticks": ""
            },
            "colorscale": [
             [
              0,
              "#0d0887"
             ],
             [
              0.1111111111111111,
              "#46039f"
             ],
             [
              0.2222222222222222,
              "#7201a8"
             ],
             [
              0.3333333333333333,
              "#9c179e"
             ],
             [
              0.4444444444444444,
              "#bd3786"
             ],
             [
              0.5555555555555556,
              "#d8576b"
             ],
             [
              0.6666666666666666,
              "#ed7953"
             ],
             [
              0.7777777777777778,
              "#fb9f3a"
             ],
             [
              0.8888888888888888,
              "#fdca26"
             ],
             [
              1,
              "#f0f921"
             ]
            ],
            "type": "contour"
           }
          ],
          "contourcarpet": [
           {
            "colorbar": {
             "outlinewidth": 0,
             "ticks": ""
            },
            "type": "contourcarpet"
           }
          ],
          "heatmap": [
           {
            "colorbar": {
             "outlinewidth": 0,
             "ticks": ""
            },
            "colorscale": [
             [
              0,
              "#0d0887"
             ],
             [
              0.1111111111111111,
              "#46039f"
             ],
             [
              0.2222222222222222,
              "#7201a8"
             ],
             [
              0.3333333333333333,
              "#9c179e"
             ],
             [
              0.4444444444444444,
              "#bd3786"
             ],
             [
              0.5555555555555556,
              "#d8576b"
             ],
             [
              0.6666666666666666,
              "#ed7953"
             ],
             [
              0.7777777777777778,
              "#fb9f3a"
             ],
             [
              0.8888888888888888,
              "#fdca26"
             ],
             [
              1,
              "#f0f921"
             ]
            ],
            "type": "heatmap"
           }
          ],
          "heatmapgl": [
           {
            "colorbar": {
             "outlinewidth": 0,
             "ticks": ""
            },
            "colorscale": [
             [
              0,
              "#0d0887"
             ],
             [
              0.1111111111111111,
              "#46039f"
             ],
             [
              0.2222222222222222,
              "#7201a8"
             ],
             [
              0.3333333333333333,
              "#9c179e"
             ],
             [
              0.4444444444444444,
              "#bd3786"
             ],
             [
              0.5555555555555556,
              "#d8576b"
             ],
             [
              0.6666666666666666,
              "#ed7953"
             ],
             [
              0.7777777777777778,
              "#fb9f3a"
             ],
             [
              0.8888888888888888,
              "#fdca26"
             ],
             [
              1,
              "#f0f921"
             ]
            ],
            "type": "heatmapgl"
           }
          ],
          "histogram": [
           {
            "marker": {
             "colorbar": {
              "outlinewidth": 0,
              "ticks": ""
             }
            },
            "type": "histogram"
           }
          ],
          "histogram2d": [
           {
            "colorbar": {
             "outlinewidth": 0,
             "ticks": ""
            },
            "colorscale": [
             [
              0,
              "#0d0887"
             ],
             [
              0.1111111111111111,
              "#46039f"
             ],
             [
              0.2222222222222222,
              "#7201a8"
             ],
             [
              0.3333333333333333,
              "#9c179e"
             ],
             [
              0.4444444444444444,
              "#bd3786"
             ],
             [
              0.5555555555555556,
              "#d8576b"
             ],
             [
              0.6666666666666666,
              "#ed7953"
             ],
             [
              0.7777777777777778,
              "#fb9f3a"
             ],
             [
              0.8888888888888888,
              "#fdca26"
             ],
             [
              1,
              "#f0f921"
             ]
            ],
            "type": "histogram2d"
           }
          ],
          "histogram2dcontour": [
           {
            "colorbar": {
             "outlinewidth": 0,
             "ticks": ""
            },
            "colorscale": [
             [
              0,
              "#0d0887"
             ],
             [
              0.1111111111111111,
              "#46039f"
             ],
             [
              0.2222222222222222,
              "#7201a8"
             ],
             [
              0.3333333333333333,
              "#9c179e"
             ],
             [
              0.4444444444444444,
              "#bd3786"
             ],
             [
              0.5555555555555556,
              "#d8576b"
             ],
             [
              0.6666666666666666,
              "#ed7953"
             ],
             [
              0.7777777777777778,
              "#fb9f3a"
             ],
             [
              0.8888888888888888,
              "#fdca26"
             ],
             [
              1,
              "#f0f921"
             ]
            ],
            "type": "histogram2dcontour"
           }
          ],
          "mesh3d": [
           {
            "colorbar": {
             "outlinewidth": 0,
             "ticks": ""
            },
            "type": "mesh3d"
           }
          ],
          "parcoords": [
           {
            "line": {
             "colorbar": {
              "outlinewidth": 0,
              "ticks": ""
             }
            },
            "type": "parcoords"
           }
          ],
          "pie": [
           {
            "automargin": true,
            "type": "pie"
           }
          ],
          "scatter": [
           {
            "marker": {
             "colorbar": {
              "outlinewidth": 0,
              "ticks": ""
             }
            },
            "type": "scatter"
           }
          ],
          "scatter3d": [
           {
            "line": {
             "colorbar": {
              "outlinewidth": 0,
              "ticks": ""
             }
            },
            "marker": {
             "colorbar": {
              "outlinewidth": 0,
              "ticks": ""
             }
            },
            "type": "scatter3d"
           }
          ],
          "scattercarpet": [
           {
            "marker": {
             "colorbar": {
              "outlinewidth": 0,
              "ticks": ""
             }
            },
            "type": "scattercarpet"
           }
          ],
          "scattergeo": [
           {
            "marker": {
             "colorbar": {
              "outlinewidth": 0,
              "ticks": ""
             }
            },
            "type": "scattergeo"
           }
          ],
          "scattergl": [
           {
            "marker": {
             "colorbar": {
              "outlinewidth": 0,
              "ticks": ""
             }
            },
            "type": "scattergl"
           }
          ],
          "scattermapbox": [
           {
            "marker": {
             "colorbar": {
              "outlinewidth": 0,
              "ticks": ""
             }
            },
            "type": "scattermapbox"
           }
          ],
          "scatterpolar": [
           {
            "marker": {
             "colorbar": {
              "outlinewidth": 0,
              "ticks": ""
             }
            },
            "type": "scatterpolar"
           }
          ],
          "scatterpolargl": [
           {
            "marker": {
             "colorbar": {
              "outlinewidth": 0,
              "ticks": ""
             }
            },
            "type": "scatterpolargl"
           }
          ],
          "scatterternary": [
           {
            "marker": {
             "colorbar": {
              "outlinewidth": 0,
              "ticks": ""
             }
            },
            "type": "scatterternary"
           }
          ],
          "surface": [
           {
            "colorbar": {
             "outlinewidth": 0,
             "ticks": ""
            },
            "colorscale": [
             [
              0,
              "#0d0887"
             ],
             [
              0.1111111111111111,
              "#46039f"
             ],
             [
              0.2222222222222222,
              "#7201a8"
             ],
             [
              0.3333333333333333,
              "#9c179e"
             ],
             [
              0.4444444444444444,
              "#bd3786"
             ],
             [
              0.5555555555555556,
              "#d8576b"
             ],
             [
              0.6666666666666666,
              "#ed7953"
             ],
             [
              0.7777777777777778,
              "#fb9f3a"
             ],
             [
              0.8888888888888888,
              "#fdca26"
             ],
             [
              1,
              "#f0f921"
             ]
            ],
            "type": "surface"
           }
          ],
          "table": [
           {
            "cells": {
             "fill": {
              "color": "#EBF0F8"
             },
             "line": {
              "color": "white"
             }
            },
            "header": {
             "fill": {
              "color": "#C8D4E3"
             },
             "line": {
              "color": "white"
             }
            },
            "type": "table"
           }
          ]
         },
         "layout": {
          "annotationdefaults": {
           "arrowcolor": "#2a3f5f",
           "arrowhead": 0,
           "arrowwidth": 1
          },
          "coloraxis": {
           "colorbar": {
            "outlinewidth": 0,
            "ticks": ""
           }
          },
          "colorscale": {
           "diverging": [
            [
             0,
             "#8e0152"
            ],
            [
             0.1,
             "#c51b7d"
            ],
            [
             0.2,
             "#de77ae"
            ],
            [
             0.3,
             "#f1b6da"
            ],
            [
             0.4,
             "#fde0ef"
            ],
            [
             0.5,
             "#f7f7f7"
            ],
            [
             0.6,
             "#e6f5d0"
            ],
            [
             0.7,
             "#b8e186"
            ],
            [
             0.8,
             "#7fbc41"
            ],
            [
             0.9,
             "#4d9221"
            ],
            [
             1,
             "#276419"
            ]
           ],
           "sequential": [
            [
             0,
             "#0d0887"
            ],
            [
             0.1111111111111111,
             "#46039f"
            ],
            [
             0.2222222222222222,
             "#7201a8"
            ],
            [
             0.3333333333333333,
             "#9c179e"
            ],
            [
             0.4444444444444444,
             "#bd3786"
            ],
            [
             0.5555555555555556,
             "#d8576b"
            ],
            [
             0.6666666666666666,
             "#ed7953"
            ],
            [
             0.7777777777777778,
             "#fb9f3a"
            ],
            [
             0.8888888888888888,
             "#fdca26"
            ],
            [
             1,
             "#f0f921"
            ]
           ],
           "sequentialminus": [
            [
             0,
             "#0d0887"
            ],
            [
             0.1111111111111111,
             "#46039f"
            ],
            [
             0.2222222222222222,
             "#7201a8"
            ],
            [
             0.3333333333333333,
             "#9c179e"
            ],
            [
             0.4444444444444444,
             "#bd3786"
            ],
            [
             0.5555555555555556,
             "#d8576b"
            ],
            [
             0.6666666666666666,
             "#ed7953"
            ],
            [
             0.7777777777777778,
             "#fb9f3a"
            ],
            [
             0.8888888888888888,
             "#fdca26"
            ],
            [
             1,
             "#f0f921"
            ]
           ]
          },
          "colorway": [
           "#636efa",
           "#EF553B",
           "#00cc96",
           "#ab63fa",
           "#FFA15A",
           "#19d3f3",
           "#FF6692",
           "#B6E880",
           "#FF97FF",
           "#FECB52"
          ],
          "font": {
           "color": "#2a3f5f"
          },
          "geo": {
           "bgcolor": "white",
           "lakecolor": "white",
           "landcolor": "#E5ECF6",
           "showlakes": true,
           "showland": true,
           "subunitcolor": "white"
          },
          "hoverlabel": {
           "align": "left"
          },
          "hovermode": "closest",
          "mapbox": {
           "style": "light"
          },
          "paper_bgcolor": "white",
          "plot_bgcolor": "#E5ECF6",
          "polar": {
           "angularaxis": {
            "gridcolor": "white",
            "linecolor": "white",
            "ticks": ""
           },
           "bgcolor": "#E5ECF6",
           "radialaxis": {
            "gridcolor": "white",
            "linecolor": "white",
            "ticks": ""
           }
          },
          "scene": {
           "xaxis": {
            "backgroundcolor": "#E5ECF6",
            "gridcolor": "white",
            "gridwidth": 2,
            "linecolor": "white",
            "showbackground": true,
            "ticks": "",
            "zerolinecolor": "white"
           },
           "yaxis": {
            "backgroundcolor": "#E5ECF6",
            "gridcolor": "white",
            "gridwidth": 2,
            "linecolor": "white",
            "showbackground": true,
            "ticks": "",
            "zerolinecolor": "white"
           },
           "zaxis": {
            "backgroundcolor": "#E5ECF6",
            "gridcolor": "white",
            "gridwidth": 2,
            "linecolor": "white",
            "showbackground": true,
            "ticks": "",
            "zerolinecolor": "white"
           }
          },
          "shapedefaults": {
           "line": {
            "color": "#2a3f5f"
           }
          },
          "ternary": {
           "aaxis": {
            "gridcolor": "white",
            "linecolor": "white",
            "ticks": ""
           },
           "baxis": {
            "gridcolor": "white",
            "linecolor": "white",
            "ticks": ""
           },
           "bgcolor": "#E5ECF6",
           "caxis": {
            "gridcolor": "white",
            "linecolor": "white",
            "ticks": ""
           }
          },
          "title": {
           "x": 0.05
          },
          "xaxis": {
           "automargin": true,
           "gridcolor": "white",
           "linecolor": "white",
           "ticks": "",
           "title": {
            "standoff": 15
           },
           "zerolinecolor": "white",
           "zerolinewidth": 2
          },
          "yaxis": {
           "automargin": true,
           "gridcolor": "white",
           "linecolor": "white",
           "ticks": "",
           "title": {
            "standoff": 15
           },
           "zerolinecolor": "white",
           "zerolinewidth": 2
          }
         }
        }
       }
      }
     },
     "metadata": {}
    }
   ],
   "source": [
    "labels = ['Illness Or Disability','Out Of Town','Forgot','Not Interested',\"Too Busy\",\"Transportation Problems\",\"Did Not LikeCandidates Or Campaign Issues\",\"Registration Problems\",\"Bad Weather\",\"Inconvienient Polling or Lines Too Long\",\"Other Reason\",\"Refused\"]\n",
    "values = [11.7, 7.9, 3.0, 15.4, 14.3, 2.6, 24.8, 4.4, 0.0, 2.1, 11.1, 2.7]\n",
    "\n",
    "Nonvoters2016 = go.Figure(data=[go.Pie(labels=labels, values=values, title=\"Percent Reasons For Not Voting 2016\")])\n",
    "\n",
    "Nonvoters2016.show()"
   ]
  },
  {
   "cell_type": "code",
   "execution_count": 48,
   "metadata": {},
   "outputs": [],
   "source": [
    "with open('Nonvoters2000_graph.html', 'w') as f:\n",
    "    f.write(Nonvoters2000.to_html(include_plotlyjs='cdn'))"
   ]
  },
  {
   "cell_type": "code",
   "execution_count": 49,
   "metadata": {},
   "outputs": [],
   "source": [
    "with open('Nonvoters2008_graph.html', 'w') as f:\n",
    "    f.write(Nonvoters2008.to_html(include_plotlyjs='cdn'))"
   ]
  },
  {
   "cell_type": "code",
   "execution_count": 50,
   "metadata": {},
   "outputs": [],
   "source": [
    "with open('Nonvoters2016_graph.html', 'w') as f:\n",
    "    f.write(Nonvoters2016.to_html(include_plotlyjs='cdn'))"
   ]
  },
  {
   "cell_type": "code",
   "execution_count": 51,
   "metadata": {},
   "outputs": [],
   "source": [
    "with open('Nonvoters2004_graph.html', 'w') as f:\n",
    "    f.write(Nonvoters2004.to_html(include_plotlyjs='cdn'))"
   ]
  },
  {
   "cell_type": "code",
   "execution_count": 52,
   "metadata": {},
   "outputs": [],
   "source": [
    "with open('Nonvoters2012_graph.html', 'w') as f:\n",
    "    f.write(Nonvoters2012.to_html(include_plotlyjs='cdn'))"
   ]
  },
  {
   "cell_type": "code",
   "execution_count": 53,
   "metadata": {},
   "outputs": [
    {
     "output_type": "execute_result",
     "data": {
      "text/plain": [
       "    electionyear  highestoffice  vep_votingeligiblepopulation  \\\n",
       "0           1980       86339984                     157431825   \n",
       "1           1982       67497953                     161625115   \n",
       "2           1984       92441392                     164946657   \n",
       "3           1986       64859326                     167804555   \n",
       "4           1988       91401814                     170699171   \n",
       "5           1990       67690123                     173644392   \n",
       "6           1992      104177583                     176954186   \n",
       "7           1994       74922211                     180160838   \n",
       "8           1996       96077209                     183628183   \n",
       "9           1998       72401333                     187291160   \n",
       "10          2000      105174131                     191213067   \n",
       "11          2002       78249235                     194906029   \n",
       "12          2004      122067392                     199352847   \n",
       "13          2006       83694972                     203098252   \n",
       "14          2008      131038878                     208197066   \n",
       "15          2010       88966820                     212434063   \n",
       "16          2012      128777142                     217172515   \n",
       "17          2014       81511988                     221553016   \n",
       "18          2016      136442668                     225895098   \n",
       "19          2018      117069210                     232484605   \n",
       "\n",
       "    Nation Wide Turnout  midterm  \n",
       "0              0.548428        0  \n",
       "1              0.417620        2  \n",
       "2              0.560432        0  \n",
       "3              0.386517        2  \n",
       "4              0.535456        0  \n",
       "5              0.389820        2  \n",
       "6              0.588726        0  \n",
       "7              0.415863        2  \n",
       "8              0.523216        0  \n",
       "9              0.386571        2  \n",
       "10             0.550036        0  \n",
       "11             0.401472        2  \n",
       "12             0.612318        0  \n",
       "13             0.412091        2  \n",
       "14             0.629398        0  \n",
       "15             0.418797        2  \n",
       "16             0.592972        0  \n",
       "17             0.367912        2  \n",
       "18             0.604009        0  \n",
       "19             0.503557        2  "
      ],
      "text/html": "<div>\n<style scoped>\n    .dataframe tbody tr th:only-of-type {\n        vertical-align: middle;\n    }\n\n    .dataframe tbody tr th {\n        vertical-align: top;\n    }\n\n    .dataframe thead th {\n        text-align: right;\n    }\n</style>\n<table border=\"1\" class=\"dataframe\">\n  <thead>\n    <tr style=\"text-align: right;\">\n      <th></th>\n      <th>electionyear</th>\n      <th>highestoffice</th>\n      <th>vep_votingeligiblepopulation</th>\n      <th>Nation Wide Turnout</th>\n      <th>midterm</th>\n    </tr>\n  </thead>\n  <tbody>\n    <tr>\n      <th>0</th>\n      <td>1980</td>\n      <td>86339984</td>\n      <td>157431825</td>\n      <td>0.548428</td>\n      <td>0</td>\n    </tr>\n    <tr>\n      <th>1</th>\n      <td>1982</td>\n      <td>67497953</td>\n      <td>161625115</td>\n      <td>0.417620</td>\n      <td>2</td>\n    </tr>\n    <tr>\n      <th>2</th>\n      <td>1984</td>\n      <td>92441392</td>\n      <td>164946657</td>\n      <td>0.560432</td>\n      <td>0</td>\n    </tr>\n    <tr>\n      <th>3</th>\n      <td>1986</td>\n      <td>64859326</td>\n      <td>167804555</td>\n      <td>0.386517</td>\n      <td>2</td>\n    </tr>\n    <tr>\n      <th>4</th>\n      <td>1988</td>\n      <td>91401814</td>\n      <td>170699171</td>\n      <td>0.535456</td>\n      <td>0</td>\n    </tr>\n    <tr>\n      <th>5</th>\n      <td>1990</td>\n      <td>67690123</td>\n      <td>173644392</td>\n      <td>0.389820</td>\n      <td>2</td>\n    </tr>\n    <tr>\n      <th>6</th>\n      <td>1992</td>\n      <td>104177583</td>\n      <td>176954186</td>\n      <td>0.588726</td>\n      <td>0</td>\n    </tr>\n    <tr>\n      <th>7</th>\n      <td>1994</td>\n      <td>74922211</td>\n      <td>180160838</td>\n      <td>0.415863</td>\n      <td>2</td>\n    </tr>\n    <tr>\n      <th>8</th>\n      <td>1996</td>\n      <td>96077209</td>\n      <td>183628183</td>\n      <td>0.523216</td>\n      <td>0</td>\n    </tr>\n    <tr>\n      <th>9</th>\n      <td>1998</td>\n      <td>72401333</td>\n      <td>187291160</td>\n      <td>0.386571</td>\n      <td>2</td>\n    </tr>\n    <tr>\n      <th>10</th>\n      <td>2000</td>\n      <td>105174131</td>\n      <td>191213067</td>\n      <td>0.550036</td>\n      <td>0</td>\n    </tr>\n    <tr>\n      <th>11</th>\n      <td>2002</td>\n      <td>78249235</td>\n      <td>194906029</td>\n      <td>0.401472</td>\n      <td>2</td>\n    </tr>\n    <tr>\n      <th>12</th>\n      <td>2004</td>\n      <td>122067392</td>\n      <td>199352847</td>\n      <td>0.612318</td>\n      <td>0</td>\n    </tr>\n    <tr>\n      <th>13</th>\n      <td>2006</td>\n      <td>83694972</td>\n      <td>203098252</td>\n      <td>0.412091</td>\n      <td>2</td>\n    </tr>\n    <tr>\n      <th>14</th>\n      <td>2008</td>\n      <td>131038878</td>\n      <td>208197066</td>\n      <td>0.629398</td>\n      <td>0</td>\n    </tr>\n    <tr>\n      <th>15</th>\n      <td>2010</td>\n      <td>88966820</td>\n      <td>212434063</td>\n      <td>0.418797</td>\n      <td>2</td>\n    </tr>\n    <tr>\n      <th>16</th>\n      <td>2012</td>\n      <td>128777142</td>\n      <td>217172515</td>\n      <td>0.592972</td>\n      <td>0</td>\n    </tr>\n    <tr>\n      <th>17</th>\n      <td>2014</td>\n      <td>81511988</td>\n      <td>221553016</td>\n      <td>0.367912</td>\n      <td>2</td>\n    </tr>\n    <tr>\n      <th>18</th>\n      <td>2016</td>\n      <td>136442668</td>\n      <td>225895098</td>\n      <td>0.604009</td>\n      <td>0</td>\n    </tr>\n    <tr>\n      <th>19</th>\n      <td>2018</td>\n      <td>117069210</td>\n      <td>232484605</td>\n      <td>0.503557</td>\n      <td>2</td>\n    </tr>\n  </tbody>\n</table>\n</div>"
     },
     "metadata": {},
     "execution_count": 53
    }
   ],
   "source": [
    "# Read data from PostgreSQL database table and load into a DataFrame instance\n",
    "TurnoutDF =  pd.read_sql(\"select * from nationalturnoutdata\", db_conn)\n",
    "AnnualTurnoutDF = TurnoutDF.groupby([\"electionyear\"]).sum()\n",
    "AnnualTurnoutDF['Nation Wide Turnout'] = AnnualTurnoutDF['highestoffice']/AnnualTurnoutDF['vep_votingeligiblepopulation']\n",
    "AnnualTurnoutDF = AnnualTurnoutDF.reset_index()\n",
    "AnnualTurnoutDF[\"midterm\"] = AnnualTurnoutDF['electionyear'] % 4\n",
    "AnnualTurnoutDF"
   ]
  },
  {
   "cell_type": "code",
   "execution_count": 54,
   "metadata": {},
   "outputs": [],
   "source": [
    "PresidentialDF = AnnualTurnoutDF[AnnualTurnoutDF[\"midterm\"] == 0]\n",
    "MidTermDF = AnnualTurnoutDF[AnnualTurnoutDF[\"midterm\"] != 0]\n"
   ]
  },
  {
   "cell_type": "code",
   "execution_count": 55,
   "metadata": {},
   "outputs": [
    {
     "output_type": "display_data",
     "data": {
      "application/vnd.plotly.v1+json": {
       "config": {
        "plotlyServerURL": "https://plot.ly"
       },
       "data": [
        {
         "hovertemplate": "electionyear=%{x}<br>Nation Wide Turnout=%{y}<extra></extra>",
         "legendgroup": "",
         "line": {
          "color": "#636efa",
          "dash": "solid"
         },
         "mode": "lines",
         "name": "",
         "orientation": "v",
         "showlegend": false,
         "type": "scatter",
         "x": [
          1980,
          1984,
          1988,
          1992,
          1996,
          2000,
          2004,
          2008,
          2012,
          2016
         ],
         "xaxis": "x",
         "y": [
          0.5484277654788032,
          0.5604320431907874,
          0.5354555236826546,
          0.5887262989076733,
          0.5232160305153158,
          0.5500363162942207,
          0.6123182780529841,
          0.6293982932497233,
          0.5929716382388444,
          0.6040089811953334
         ],
         "yaxis": "y"
        }
       ],
       "layout": {
        "height": 400,
        "legend": {
         "tracegroupgap": 0
        },
        "template": {
         "data": {
          "bar": [
           {
            "error_x": {
             "color": "#2a3f5f"
            },
            "error_y": {
             "color": "#2a3f5f"
            },
            "marker": {
             "line": {
              "color": "#E5ECF6",
              "width": 0.5
             }
            },
            "type": "bar"
           }
          ],
          "barpolar": [
           {
            "marker": {
             "line": {
              "color": "#E5ECF6",
              "width": 0.5
             }
            },
            "type": "barpolar"
           }
          ],
          "carpet": [
           {
            "aaxis": {
             "endlinecolor": "#2a3f5f",
             "gridcolor": "white",
             "linecolor": "white",
             "minorgridcolor": "white",
             "startlinecolor": "#2a3f5f"
            },
            "baxis": {
             "endlinecolor": "#2a3f5f",
             "gridcolor": "white",
             "linecolor": "white",
             "minorgridcolor": "white",
             "startlinecolor": "#2a3f5f"
            },
            "type": "carpet"
           }
          ],
          "choropleth": [
           {
            "colorbar": {
             "outlinewidth": 0,
             "ticks": ""
            },
            "type": "choropleth"
           }
          ],
          "contour": [
           {
            "colorbar": {
             "outlinewidth": 0,
             "ticks": ""
            },
            "colorscale": [
             [
              0,
              "#0d0887"
             ],
             [
              0.1111111111111111,
              "#46039f"
             ],
             [
              0.2222222222222222,
              "#7201a8"
             ],
             [
              0.3333333333333333,
              "#9c179e"
             ],
             [
              0.4444444444444444,
              "#bd3786"
             ],
             [
              0.5555555555555556,
              "#d8576b"
             ],
             [
              0.6666666666666666,
              "#ed7953"
             ],
             [
              0.7777777777777778,
              "#fb9f3a"
             ],
             [
              0.8888888888888888,
              "#fdca26"
             ],
             [
              1,
              "#f0f921"
             ]
            ],
            "type": "contour"
           }
          ],
          "contourcarpet": [
           {
            "colorbar": {
             "outlinewidth": 0,
             "ticks": ""
            },
            "type": "contourcarpet"
           }
          ],
          "heatmap": [
           {
            "colorbar": {
             "outlinewidth": 0,
             "ticks": ""
            },
            "colorscale": [
             [
              0,
              "#0d0887"
             ],
             [
              0.1111111111111111,
              "#46039f"
             ],
             [
              0.2222222222222222,
              "#7201a8"
             ],
             [
              0.3333333333333333,
              "#9c179e"
             ],
             [
              0.4444444444444444,
              "#bd3786"
             ],
             [
              0.5555555555555556,
              "#d8576b"
             ],
             [
              0.6666666666666666,
              "#ed7953"
             ],
             [
              0.7777777777777778,
              "#fb9f3a"
             ],
             [
              0.8888888888888888,
              "#fdca26"
             ],
             [
              1,
              "#f0f921"
             ]
            ],
            "type": "heatmap"
           }
          ],
          "heatmapgl": [
           {
            "colorbar": {
             "outlinewidth": 0,
             "ticks": ""
            },
            "colorscale": [
             [
              0,
              "#0d0887"
             ],
             [
              0.1111111111111111,
              "#46039f"
             ],
             [
              0.2222222222222222,
              "#7201a8"
             ],
             [
              0.3333333333333333,
              "#9c179e"
             ],
             [
              0.4444444444444444,
              "#bd3786"
             ],
             [
              0.5555555555555556,
              "#d8576b"
             ],
             [
              0.6666666666666666,
              "#ed7953"
             ],
             [
              0.7777777777777778,
              "#fb9f3a"
             ],
             [
              0.8888888888888888,
              "#fdca26"
             ],
             [
              1,
              "#f0f921"
             ]
            ],
            "type": "heatmapgl"
           }
          ],
          "histogram": [
           {
            "marker": {
             "colorbar": {
              "outlinewidth": 0,
              "ticks": ""
             }
            },
            "type": "histogram"
           }
          ],
          "histogram2d": [
           {
            "colorbar": {
             "outlinewidth": 0,
             "ticks": ""
            },
            "colorscale": [
             [
              0,
              "#0d0887"
             ],
             [
              0.1111111111111111,
              "#46039f"
             ],
             [
              0.2222222222222222,
              "#7201a8"
             ],
             [
              0.3333333333333333,
              "#9c179e"
             ],
             [
              0.4444444444444444,
              "#bd3786"
             ],
             [
              0.5555555555555556,
              "#d8576b"
             ],
             [
              0.6666666666666666,
              "#ed7953"
             ],
             [
              0.7777777777777778,
              "#fb9f3a"
             ],
             [
              0.8888888888888888,
              "#fdca26"
             ],
             [
              1,
              "#f0f921"
             ]
            ],
            "type": "histogram2d"
           }
          ],
          "histogram2dcontour": [
           {
            "colorbar": {
             "outlinewidth": 0,
             "ticks": ""
            },
            "colorscale": [
             [
              0,
              "#0d0887"
             ],
             [
              0.1111111111111111,
              "#46039f"
             ],
             [
              0.2222222222222222,
              "#7201a8"
             ],
             [
              0.3333333333333333,
              "#9c179e"
             ],
             [
              0.4444444444444444,
              "#bd3786"
             ],
             [
              0.5555555555555556,
              "#d8576b"
             ],
             [
              0.6666666666666666,
              "#ed7953"
             ],
             [
              0.7777777777777778,
              "#fb9f3a"
             ],
             [
              0.8888888888888888,
              "#fdca26"
             ],
             [
              1,
              "#f0f921"
             ]
            ],
            "type": "histogram2dcontour"
           }
          ],
          "mesh3d": [
           {
            "colorbar": {
             "outlinewidth": 0,
             "ticks": ""
            },
            "type": "mesh3d"
           }
          ],
          "parcoords": [
           {
            "line": {
             "colorbar": {
              "outlinewidth": 0,
              "ticks": ""
             }
            },
            "type": "parcoords"
           }
          ],
          "pie": [
           {
            "automargin": true,
            "type": "pie"
           }
          ],
          "scatter": [
           {
            "marker": {
             "colorbar": {
              "outlinewidth": 0,
              "ticks": ""
             }
            },
            "type": "scatter"
           }
          ],
          "scatter3d": [
           {
            "line": {
             "colorbar": {
              "outlinewidth": 0,
              "ticks": ""
             }
            },
            "marker": {
             "colorbar": {
              "outlinewidth": 0,
              "ticks": ""
             }
            },
            "type": "scatter3d"
           }
          ],
          "scattercarpet": [
           {
            "marker": {
             "colorbar": {
              "outlinewidth": 0,
              "ticks": ""
             }
            },
            "type": "scattercarpet"
           }
          ],
          "scattergeo": [
           {
            "marker": {
             "colorbar": {
              "outlinewidth": 0,
              "ticks": ""
             }
            },
            "type": "scattergeo"
           }
          ],
          "scattergl": [
           {
            "marker": {
             "colorbar": {
              "outlinewidth": 0,
              "ticks": ""
             }
            },
            "type": "scattergl"
           }
          ],
          "scattermapbox": [
           {
            "marker": {
             "colorbar": {
              "outlinewidth": 0,
              "ticks": ""
             }
            },
            "type": "scattermapbox"
           }
          ],
          "scatterpolar": [
           {
            "marker": {
             "colorbar": {
              "outlinewidth": 0,
              "ticks": ""
             }
            },
            "type": "scatterpolar"
           }
          ],
          "scatterpolargl": [
           {
            "marker": {
             "colorbar": {
              "outlinewidth": 0,
              "ticks": ""
             }
            },
            "type": "scatterpolargl"
           }
          ],
          "scatterternary": [
           {
            "marker": {
             "colorbar": {
              "outlinewidth": 0,
              "ticks": ""
             }
            },
            "type": "scatterternary"
           }
          ],
          "surface": [
           {
            "colorbar": {
             "outlinewidth": 0,
             "ticks": ""
            },
            "colorscale": [
             [
              0,
              "#0d0887"
             ],
             [
              0.1111111111111111,
              "#46039f"
             ],
             [
              0.2222222222222222,
              "#7201a8"
             ],
             [
              0.3333333333333333,
              "#9c179e"
             ],
             [
              0.4444444444444444,
              "#bd3786"
             ],
             [
              0.5555555555555556,
              "#d8576b"
             ],
             [
              0.6666666666666666,
              "#ed7953"
             ],
             [
              0.7777777777777778,
              "#fb9f3a"
             ],
             [
              0.8888888888888888,
              "#fdca26"
             ],
             [
              1,
              "#f0f921"
             ]
            ],
            "type": "surface"
           }
          ],
          "table": [
           {
            "cells": {
             "fill": {
              "color": "#EBF0F8"
             },
             "line": {
              "color": "white"
             }
            },
            "header": {
             "fill": {
              "color": "#C8D4E3"
             },
             "line": {
              "color": "white"
             }
            },
            "type": "table"
           }
          ]
         },
         "layout": {
          "annotationdefaults": {
           "arrowcolor": "#2a3f5f",
           "arrowhead": 0,
           "arrowwidth": 1
          },
          "coloraxis": {
           "colorbar": {
            "outlinewidth": 0,
            "ticks": ""
           }
          },
          "colorscale": {
           "diverging": [
            [
             0,
             "#8e0152"
            ],
            [
             0.1,
             "#c51b7d"
            ],
            [
             0.2,
             "#de77ae"
            ],
            [
             0.3,
             "#f1b6da"
            ],
            [
             0.4,
             "#fde0ef"
            ],
            [
             0.5,
             "#f7f7f7"
            ],
            [
             0.6,
             "#e6f5d0"
            ],
            [
             0.7,
             "#b8e186"
            ],
            [
             0.8,
             "#7fbc41"
            ],
            [
             0.9,
             "#4d9221"
            ],
            [
             1,
             "#276419"
            ]
           ],
           "sequential": [
            [
             0,
             "#0d0887"
            ],
            [
             0.1111111111111111,
             "#46039f"
            ],
            [
             0.2222222222222222,
             "#7201a8"
            ],
            [
             0.3333333333333333,
             "#9c179e"
            ],
            [
             0.4444444444444444,
             "#bd3786"
            ],
            [
             0.5555555555555556,
             "#d8576b"
            ],
            [
             0.6666666666666666,
             "#ed7953"
            ],
            [
             0.7777777777777778,
             "#fb9f3a"
            ],
            [
             0.8888888888888888,
             "#fdca26"
            ],
            [
             1,
             "#f0f921"
            ]
           ],
           "sequentialminus": [
            [
             0,
             "#0d0887"
            ],
            [
             0.1111111111111111,
             "#46039f"
            ],
            [
             0.2222222222222222,
             "#7201a8"
            ],
            [
             0.3333333333333333,
             "#9c179e"
            ],
            [
             0.4444444444444444,
             "#bd3786"
            ],
            [
             0.5555555555555556,
             "#d8576b"
            ],
            [
             0.6666666666666666,
             "#ed7953"
            ],
            [
             0.7777777777777778,
             "#fb9f3a"
            ],
            [
             0.8888888888888888,
             "#fdca26"
            ],
            [
             1,
             "#f0f921"
            ]
           ]
          },
          "colorway": [
           "#636efa",
           "#EF553B",
           "#00cc96",
           "#ab63fa",
           "#FFA15A",
           "#19d3f3",
           "#FF6692",
           "#B6E880",
           "#FF97FF",
           "#FECB52"
          ],
          "font": {
           "color": "#2a3f5f"
          },
          "geo": {
           "bgcolor": "white",
           "lakecolor": "white",
           "landcolor": "#E5ECF6",
           "showlakes": true,
           "showland": true,
           "subunitcolor": "white"
          },
          "hoverlabel": {
           "align": "left"
          },
          "hovermode": "closest",
          "mapbox": {
           "style": "light"
          },
          "paper_bgcolor": "white",
          "plot_bgcolor": "#E5ECF6",
          "polar": {
           "angularaxis": {
            "gridcolor": "white",
            "linecolor": "white",
            "ticks": ""
           },
           "bgcolor": "#E5ECF6",
           "radialaxis": {
            "gridcolor": "white",
            "linecolor": "white",
            "ticks": ""
           }
          },
          "scene": {
           "xaxis": {
            "backgroundcolor": "#E5ECF6",
            "gridcolor": "white",
            "gridwidth": 2,
            "linecolor": "white",
            "showbackground": true,
            "ticks": "",
            "zerolinecolor": "white"
           },
           "yaxis": {
            "backgroundcolor": "#E5ECF6",
            "gridcolor": "white",
            "gridwidth": 2,
            "linecolor": "white",
            "showbackground": true,
            "ticks": "",
            "zerolinecolor": "white"
           },
           "zaxis": {
            "backgroundcolor": "#E5ECF6",
            "gridcolor": "white",
            "gridwidth": 2,
            "linecolor": "white",
            "showbackground": true,
            "ticks": "",
            "zerolinecolor": "white"
           }
          },
          "shapedefaults": {
           "line": {
            "color": "#2a3f5f"
           }
          },
          "ternary": {
           "aaxis": {
            "gridcolor": "white",
            "linecolor": "white",
            "ticks": ""
           },
           "baxis": {
            "gridcolor": "white",
            "linecolor": "white",
            "ticks": ""
           },
           "bgcolor": "#E5ECF6",
           "caxis": {
            "gridcolor": "white",
            "linecolor": "white",
            "ticks": ""
           }
          },
          "title": {
           "x": 0.05
          },
          "xaxis": {
           "automargin": true,
           "gridcolor": "white",
           "linecolor": "white",
           "ticks": "",
           "title": {
            "standoff": 15
           },
           "zerolinecolor": "white",
           "zerolinewidth": 2
          },
          "yaxis": {
           "automargin": true,
           "gridcolor": "white",
           "linecolor": "white",
           "ticks": "",
           "title": {
            "standoff": 15
           },
           "zerolinecolor": "white",
           "zerolinewidth": 2
          }
         }
        },
        "title": {
         "text": "Presidential Election Year Turnout"
        },
        "xaxis": {
         "anchor": "y",
         "domain": [
          0,
          1
         ],
         "title": {
          "text": "electionyear"
         }
        },
        "yaxis": {
         "anchor": "x",
         "domain": [
          0,
          1
         ],
         "title": {
          "text": "Nation Wide Turnout"
         }
        }
       }
      }
     },
     "metadata": {}
    }
   ],
   "source": [
    "PresidentialTurnout = pe.line(PresidentialDF, x=\"electionyear\", y=\"Nation Wide Turnout\", title=\"Presidential Election Year Turnout\", height=400)\n",
    "PresidentialTurnout.show()"
   ]
  },
  {
   "cell_type": "code",
   "execution_count": 56,
   "metadata": {},
   "outputs": [
    {
     "output_type": "display_data",
     "data": {
      "application/vnd.plotly.v1+json": {
       "config": {
        "plotlyServerURL": "https://plot.ly"
       },
       "data": [
        {
         "hovertemplate": "electionyear=%{x}<br>Nation Wide Turnout=%{y}<extra></extra>",
         "legendgroup": "",
         "line": {
          "color": "#636efa",
          "dash": "solid"
         },
         "mode": "lines",
         "name": "",
         "orientation": "v",
         "showlegend": false,
         "type": "scatter",
         "x": [
          1982,
          1986,
          1990,
          1994,
          1998,
          2002,
          2006,
          2010,
          2014,
          2018
         ],
         "xaxis": "x",
         "y": [
          0.41762044840617746,
          0.3865170763689937,
          0.3898203807238416,
          0.415862913559494,
          0.3865710106125671,
          0.4014715983978105,
          0.41209105039466315,
          0.41879733760023224,
          0.36791188615550147,
          0.5035568269133348
         ],
         "yaxis": "y"
        }
       ],
       "layout": {
        "height": 400,
        "legend": {
         "tracegroupgap": 0
        },
        "template": {
         "data": {
          "bar": [
           {
            "error_x": {
             "color": "#2a3f5f"
            },
            "error_y": {
             "color": "#2a3f5f"
            },
            "marker": {
             "line": {
              "color": "#E5ECF6",
              "width": 0.5
             }
            },
            "type": "bar"
           }
          ],
          "barpolar": [
           {
            "marker": {
             "line": {
              "color": "#E5ECF6",
              "width": 0.5
             }
            },
            "type": "barpolar"
           }
          ],
          "carpet": [
           {
            "aaxis": {
             "endlinecolor": "#2a3f5f",
             "gridcolor": "white",
             "linecolor": "white",
             "minorgridcolor": "white",
             "startlinecolor": "#2a3f5f"
            },
            "baxis": {
             "endlinecolor": "#2a3f5f",
             "gridcolor": "white",
             "linecolor": "white",
             "minorgridcolor": "white",
             "startlinecolor": "#2a3f5f"
            },
            "type": "carpet"
           }
          ],
          "choropleth": [
           {
            "colorbar": {
             "outlinewidth": 0,
             "ticks": ""
            },
            "type": "choropleth"
           }
          ],
          "contour": [
           {
            "colorbar": {
             "outlinewidth": 0,
             "ticks": ""
            },
            "colorscale": [
             [
              0,
              "#0d0887"
             ],
             [
              0.1111111111111111,
              "#46039f"
             ],
             [
              0.2222222222222222,
              "#7201a8"
             ],
             [
              0.3333333333333333,
              "#9c179e"
             ],
             [
              0.4444444444444444,
              "#bd3786"
             ],
             [
              0.5555555555555556,
              "#d8576b"
             ],
             [
              0.6666666666666666,
              "#ed7953"
             ],
             [
              0.7777777777777778,
              "#fb9f3a"
             ],
             [
              0.8888888888888888,
              "#fdca26"
             ],
             [
              1,
              "#f0f921"
             ]
            ],
            "type": "contour"
           }
          ],
          "contourcarpet": [
           {
            "colorbar": {
             "outlinewidth": 0,
             "ticks": ""
            },
            "type": "contourcarpet"
           }
          ],
          "heatmap": [
           {
            "colorbar": {
             "outlinewidth": 0,
             "ticks": ""
            },
            "colorscale": [
             [
              0,
              "#0d0887"
             ],
             [
              0.1111111111111111,
              "#46039f"
             ],
             [
              0.2222222222222222,
              "#7201a8"
             ],
             [
              0.3333333333333333,
              "#9c179e"
             ],
             [
              0.4444444444444444,
              "#bd3786"
             ],
             [
              0.5555555555555556,
              "#d8576b"
             ],
             [
              0.6666666666666666,
              "#ed7953"
             ],
             [
              0.7777777777777778,
              "#fb9f3a"
             ],
             [
              0.8888888888888888,
              "#fdca26"
             ],
             [
              1,
              "#f0f921"
             ]
            ],
            "type": "heatmap"
           }
          ],
          "heatmapgl": [
           {
            "colorbar": {
             "outlinewidth": 0,
             "ticks": ""
            },
            "colorscale": [
             [
              0,
              "#0d0887"
             ],
             [
              0.1111111111111111,
              "#46039f"
             ],
             [
              0.2222222222222222,
              "#7201a8"
             ],
             [
              0.3333333333333333,
              "#9c179e"
             ],
             [
              0.4444444444444444,
              "#bd3786"
             ],
             [
              0.5555555555555556,
              "#d8576b"
             ],
             [
              0.6666666666666666,
              "#ed7953"
             ],
             [
              0.7777777777777778,
              "#fb9f3a"
             ],
             [
              0.8888888888888888,
              "#fdca26"
             ],
             [
              1,
              "#f0f921"
             ]
            ],
            "type": "heatmapgl"
           }
          ],
          "histogram": [
           {
            "marker": {
             "colorbar": {
              "outlinewidth": 0,
              "ticks": ""
             }
            },
            "type": "histogram"
           }
          ],
          "histogram2d": [
           {
            "colorbar": {
             "outlinewidth": 0,
             "ticks": ""
            },
            "colorscale": [
             [
              0,
              "#0d0887"
             ],
             [
              0.1111111111111111,
              "#46039f"
             ],
             [
              0.2222222222222222,
              "#7201a8"
             ],
             [
              0.3333333333333333,
              "#9c179e"
             ],
             [
              0.4444444444444444,
              "#bd3786"
             ],
             [
              0.5555555555555556,
              "#d8576b"
             ],
             [
              0.6666666666666666,
              "#ed7953"
             ],
             [
              0.7777777777777778,
              "#fb9f3a"
             ],
             [
              0.8888888888888888,
              "#fdca26"
             ],
             [
              1,
              "#f0f921"
             ]
            ],
            "type": "histogram2d"
           }
          ],
          "histogram2dcontour": [
           {
            "colorbar": {
             "outlinewidth": 0,
             "ticks": ""
            },
            "colorscale": [
             [
              0,
              "#0d0887"
             ],
             [
              0.1111111111111111,
              "#46039f"
             ],
             [
              0.2222222222222222,
              "#7201a8"
             ],
             [
              0.3333333333333333,
              "#9c179e"
             ],
             [
              0.4444444444444444,
              "#bd3786"
             ],
             [
              0.5555555555555556,
              "#d8576b"
             ],
             [
              0.6666666666666666,
              "#ed7953"
             ],
             [
              0.7777777777777778,
              "#fb9f3a"
             ],
             [
              0.8888888888888888,
              "#fdca26"
             ],
             [
              1,
              "#f0f921"
             ]
            ],
            "type": "histogram2dcontour"
           }
          ],
          "mesh3d": [
           {
            "colorbar": {
             "outlinewidth": 0,
             "ticks": ""
            },
            "type": "mesh3d"
           }
          ],
          "parcoords": [
           {
            "line": {
             "colorbar": {
              "outlinewidth": 0,
              "ticks": ""
             }
            },
            "type": "parcoords"
           }
          ],
          "pie": [
           {
            "automargin": true,
            "type": "pie"
           }
          ],
          "scatter": [
           {
            "marker": {
             "colorbar": {
              "outlinewidth": 0,
              "ticks": ""
             }
            },
            "type": "scatter"
           }
          ],
          "scatter3d": [
           {
            "line": {
             "colorbar": {
              "outlinewidth": 0,
              "ticks": ""
             }
            },
            "marker": {
             "colorbar": {
              "outlinewidth": 0,
              "ticks": ""
             }
            },
            "type": "scatter3d"
           }
          ],
          "scattercarpet": [
           {
            "marker": {
             "colorbar": {
              "outlinewidth": 0,
              "ticks": ""
             }
            },
            "type": "scattercarpet"
           }
          ],
          "scattergeo": [
           {
            "marker": {
             "colorbar": {
              "outlinewidth": 0,
              "ticks": ""
             }
            },
            "type": "scattergeo"
           }
          ],
          "scattergl": [
           {
            "marker": {
             "colorbar": {
              "outlinewidth": 0,
              "ticks": ""
             }
            },
            "type": "scattergl"
           }
          ],
          "scattermapbox": [
           {
            "marker": {
             "colorbar": {
              "outlinewidth": 0,
              "ticks": ""
             }
            },
            "type": "scattermapbox"
           }
          ],
          "scatterpolar": [
           {
            "marker": {
             "colorbar": {
              "outlinewidth": 0,
              "ticks": ""
             }
            },
            "type": "scatterpolar"
           }
          ],
          "scatterpolargl": [
           {
            "marker": {
             "colorbar": {
              "outlinewidth": 0,
              "ticks": ""
             }
            },
            "type": "scatterpolargl"
           }
          ],
          "scatterternary": [
           {
            "marker": {
             "colorbar": {
              "outlinewidth": 0,
              "ticks": ""
             }
            },
            "type": "scatterternary"
           }
          ],
          "surface": [
           {
            "colorbar": {
             "outlinewidth": 0,
             "ticks": ""
            },
            "colorscale": [
             [
              0,
              "#0d0887"
             ],
             [
              0.1111111111111111,
              "#46039f"
             ],
             [
              0.2222222222222222,
              "#7201a8"
             ],
             [
              0.3333333333333333,
              "#9c179e"
             ],
             [
              0.4444444444444444,
              "#bd3786"
             ],
             [
              0.5555555555555556,
              "#d8576b"
             ],
             [
              0.6666666666666666,
              "#ed7953"
             ],
             [
              0.7777777777777778,
              "#fb9f3a"
             ],
             [
              0.8888888888888888,
              "#fdca26"
             ],
             [
              1,
              "#f0f921"
             ]
            ],
            "type": "surface"
           }
          ],
          "table": [
           {
            "cells": {
             "fill": {
              "color": "#EBF0F8"
             },
             "line": {
              "color": "white"
             }
            },
            "header": {
             "fill": {
              "color": "#C8D4E3"
             },
             "line": {
              "color": "white"
             }
            },
            "type": "table"
           }
          ]
         },
         "layout": {
          "annotationdefaults": {
           "arrowcolor": "#2a3f5f",
           "arrowhead": 0,
           "arrowwidth": 1
          },
          "coloraxis": {
           "colorbar": {
            "outlinewidth": 0,
            "ticks": ""
           }
          },
          "colorscale": {
           "diverging": [
            [
             0,
             "#8e0152"
            ],
            [
             0.1,
             "#c51b7d"
            ],
            [
             0.2,
             "#de77ae"
            ],
            [
             0.3,
             "#f1b6da"
            ],
            [
             0.4,
             "#fde0ef"
            ],
            [
             0.5,
             "#f7f7f7"
            ],
            [
             0.6,
             "#e6f5d0"
            ],
            [
             0.7,
             "#b8e186"
            ],
            [
             0.8,
             "#7fbc41"
            ],
            [
             0.9,
             "#4d9221"
            ],
            [
             1,
             "#276419"
            ]
           ],
           "sequential": [
            [
             0,
             "#0d0887"
            ],
            [
             0.1111111111111111,
             "#46039f"
            ],
            [
             0.2222222222222222,
             "#7201a8"
            ],
            [
             0.3333333333333333,
             "#9c179e"
            ],
            [
             0.4444444444444444,
             "#bd3786"
            ],
            [
             0.5555555555555556,
             "#d8576b"
            ],
            [
             0.6666666666666666,
             "#ed7953"
            ],
            [
             0.7777777777777778,
             "#fb9f3a"
            ],
            [
             0.8888888888888888,
             "#fdca26"
            ],
            [
             1,
             "#f0f921"
            ]
           ],
           "sequentialminus": [
            [
             0,
             "#0d0887"
            ],
            [
             0.1111111111111111,
             "#46039f"
            ],
            [
             0.2222222222222222,
             "#7201a8"
            ],
            [
             0.3333333333333333,
             "#9c179e"
            ],
            [
             0.4444444444444444,
             "#bd3786"
            ],
            [
             0.5555555555555556,
             "#d8576b"
            ],
            [
             0.6666666666666666,
             "#ed7953"
            ],
            [
             0.7777777777777778,
             "#fb9f3a"
            ],
            [
             0.8888888888888888,
             "#fdca26"
            ],
            [
             1,
             "#f0f921"
            ]
           ]
          },
          "colorway": [
           "#636efa",
           "#EF553B",
           "#00cc96",
           "#ab63fa",
           "#FFA15A",
           "#19d3f3",
           "#FF6692",
           "#B6E880",
           "#FF97FF",
           "#FECB52"
          ],
          "font": {
           "color": "#2a3f5f"
          },
          "geo": {
           "bgcolor": "white",
           "lakecolor": "white",
           "landcolor": "#E5ECF6",
           "showlakes": true,
           "showland": true,
           "subunitcolor": "white"
          },
          "hoverlabel": {
           "align": "left"
          },
          "hovermode": "closest",
          "mapbox": {
           "style": "light"
          },
          "paper_bgcolor": "white",
          "plot_bgcolor": "#E5ECF6",
          "polar": {
           "angularaxis": {
            "gridcolor": "white",
            "linecolor": "white",
            "ticks": ""
           },
           "bgcolor": "#E5ECF6",
           "radialaxis": {
            "gridcolor": "white",
            "linecolor": "white",
            "ticks": ""
           }
          },
          "scene": {
           "xaxis": {
            "backgroundcolor": "#E5ECF6",
            "gridcolor": "white",
            "gridwidth": 2,
            "linecolor": "white",
            "showbackground": true,
            "ticks": "",
            "zerolinecolor": "white"
           },
           "yaxis": {
            "backgroundcolor": "#E5ECF6",
            "gridcolor": "white",
            "gridwidth": 2,
            "linecolor": "white",
            "showbackground": true,
            "ticks": "",
            "zerolinecolor": "white"
           },
           "zaxis": {
            "backgroundcolor": "#E5ECF6",
            "gridcolor": "white",
            "gridwidth": 2,
            "linecolor": "white",
            "showbackground": true,
            "ticks": "",
            "zerolinecolor": "white"
           }
          },
          "shapedefaults": {
           "line": {
            "color": "#2a3f5f"
           }
          },
          "ternary": {
           "aaxis": {
            "gridcolor": "white",
            "linecolor": "white",
            "ticks": ""
           },
           "baxis": {
            "gridcolor": "white",
            "linecolor": "white",
            "ticks": ""
           },
           "bgcolor": "#E5ECF6",
           "caxis": {
            "gridcolor": "white",
            "linecolor": "white",
            "ticks": ""
           }
          },
          "title": {
           "x": 0.05
          },
          "xaxis": {
           "automargin": true,
           "gridcolor": "white",
           "linecolor": "white",
           "ticks": "",
           "title": {
            "standoff": 15
           },
           "zerolinecolor": "white",
           "zerolinewidth": 2
          },
          "yaxis": {
           "automargin": true,
           "gridcolor": "white",
           "linecolor": "white",
           "ticks": "",
           "title": {
            "standoff": 15
           },
           "zerolinecolor": "white",
           "zerolinewidth": 2
          }
         }
        },
        "title": {
         "text": "MidTerm Election Year Turnout"
        },
        "xaxis": {
         "anchor": "y",
         "domain": [
          0,
          1
         ],
         "title": {
          "text": "electionyear"
         }
        },
        "yaxis": {
         "anchor": "x",
         "domain": [
          0,
          1
         ],
         "title": {
          "text": "Nation Wide Turnout"
         }
        }
       }
      }
     },
     "metadata": {}
    }
   ],
   "source": [
    "MidTermTurnout = pe.line(MidTermDF, x=\"electionyear\", y=\"Nation Wide Turnout\", title=\"MidTerm Election Year Turnout\", height=400)\n",
    "MidTermTurnout.show()"
   ]
  },
  {
   "cell_type": "code",
   "execution_count": null,
   "metadata": {},
   "outputs": [],
   "source": []
  }
 ],
 "metadata": {
  "language_info": {
   "codemirror_mode": {
    "name": "ipython",
    "version": 3
   },
   "file_extension": ".py",
   "mimetype": "text/x-python",
   "name": "python",
   "nbconvert_exporter": "python",
   "pygments_lexer": "ipython3",
   "version": "3.7.7-final"
  },
  "orig_nbformat": 2,
  "kernelspec": {
   "name": "python3",
   "display_name": "Python 3.7.7 64-bit ('PythonData': conda)",
   "metadata": {
    "interpreter": {
     "hash": "8eb93c95bd66bb1c37e84a7a0539426e5182ed0a06a9d52f414e0eeb4198a997"
    }
   }
  }
 },
 "nbformat": 4,
 "nbformat_minor": 2
}