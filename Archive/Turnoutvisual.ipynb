{
 "cells": [
  {
   "cell_type": "code",
   "execution_count": 2,
   "metadata": {},
   "outputs": [],
   "source": [
    "import datetime as dt\n",
    "import numpy as np\n",
    "import pandas as pd\n",
    "import sqlalchemy\n",
    "from sqlalchemy.ext.automap import automap_base\n",
    "from sqlalchemy.orm import Session\n",
    "from sqlalchemy import create_engine, func\n",
    "from flask import Flask, jsonify\n",
    "from flask import Flask, render_template\n",
    "import psycopg2\n",
    "from bokeh.models import ColumnDataSource\n",
    "from bokeh.plotting import figure, output_file, show\n",
    "import matplotlib.pyplot as plt\n"
   ]
  },
  {
   "cell_type": "code",
   "execution_count": 3,
   "metadata": {},
   "outputs": [],
   "source": [
    "t_host = \"provisionaldb2.cpvxmi357s0k.us-east-2.rds.amazonaws.com\" # either \"localhost\", a domain name, or an IP address.\n",
    "t_port = \"5432\" # default postgres port\n",
    "t_dbname = \"GroupProjectDB\"\n",
    "t_user = \"postgres\"\n",
    "t_pw = \"postgres\"\n",
    "db_conn = psycopg2.connect(host=t_host, port=t_port, dbname=t_dbname, user=t_user, password=t_pw)\n",
    "db_cursor = db_conn.cursor()"
   ]
  },
  {
   "cell_type": "code",
   "execution_count": 4,
   "metadata": {},
   "outputs": [],
   "source": [
    "# Read data from PostgreSQL database table and load into a DataFrame instance\n",
    "DashboardDataDF =  pd.read_sql(\"select * from \\\"turnoutanalysisdata\\\"\", db_conn)\n",
    "PercentRegisteredData =  [DashboardDataDF[\"electionyear\"],DashboardDataDF[\"stateabbreviation\"], DashboardDataDF[\"statename\"] , DashboardDataDF[\"pct_reg_of_vep_vrs\"],DashboardDataDF[\"voterturnout\"]]\n",
    "PercentRegisteredHeaders = [\"ElectionYear\",\"StateAbbreviation\",\"StateName\",\"PercentOfRegisteredVoters\",\"PercentTurnout\" ]\n",
    "PercentRegisteredDF = pd.concat(PercentRegisteredData, axis=1, keys=PercentRegisteredHeaders)"
   ]
  },
  {
   "cell_type": "code",
   "execution_count": 6,
   "metadata": {},
   "outputs": [],
   "source": [
    "PercentRegisteredDF2008=PercentRegisteredDF[PercentRegisteredDF['ElectionYear']==2008]"
   ]
  },
  {
   "cell_type": "code",
   "execution_count": 7,
   "metadata": {},
   "outputs": [
    {
     "output_type": "execute_result",
     "data": {
      "text/plain": "    ElectionYear StateAbbreviation       StateName  PercentOfRegisteredVoters  \\\n0           2008                AL         Alabama                   0.852208   \n1           2008                AK          Alaska                   0.875693   \n2           2008                AZ         Arizona                   0.829416   \n3           2008                AR        Arkansas                   0.742385   \n4           2008                CA      California                   0.824846   \n5           2008                CO        Colorado                   0.840033   \n6           2008                CT     Connecticut                   0.855638   \n7           2008                DE        Delaware                   0.857940   \n8           2008                FL         Florida                   0.876890   \n9           2008                GA         Georgia                   0.849353   \n10          2008                HI          Hawaii                   0.696120   \n11          2008                ID           Idaho                   0.771011   \n12          2008                IL        Illinois                   0.852006   \n13          2008                IN         Indiana                   0.810648   \n14          2008                IA            Iowa                   0.853158   \n15          2008                KS          Kansas                   0.771795   \n16          2008                KY        Kentucky                   0.831679   \n17          2008                LA       Louisiana                   0.880880   \n18          2008                ME           Maine                   0.864557   \n19          2008                MD        Maryland                   0.870055   \n20          2008                MA   Massachusetts                   0.870557   \n21          2008                MI        Michigan                   0.904447   \n22          2008                MN       Minnesota                   0.918129   \n23          2008                MS     Mississippi                   0.868227   \n24          2008                MO        Missouri                   0.854682   \n25          2008                MT         Montana                   0.802069   \n26          2008                NE        Nebraska                   0.827338   \n27          2008                NV          Nevada                   0.776005   \n28          2008                NH   New Hampshire                   0.843120   \n29          2008                NJ      New Jersey                   0.854699   \n30          2008                NM      New Mexico                   0.808256   \n31          2008                NY        New York                   0.839322   \n32          2008                NC  North Carolina                   0.845099   \n33          2008                ND    North Dakota                        NaN   \n34          2008                OH            Ohio                   0.844206   \n35          2008                OK        Oklahoma                   0.810813   \n36          2008                OR          Oregon                   0.850467   \n37          2008                PA    Pennsylvania                   0.813880   \n38          2008                RI    Rhode Island                   0.841730   \n39          2008                SC  South Carolina                   0.806624   \n40          2008                SD    South Dakota                   0.836161   \n41          2008                TN       Tennessee                   0.802247   \n42          2008                TX           Texas                   0.794732   \n43          2008                UT            Utah                   0.758163   \n44          2008                VT         Vermont                   0.834251   \n45          2008                VA        Virginia                   0.873056   \n46          2008                WA      Washington                   0.841908   \n47          2008                WV   West Virginia                   0.781425   \n48          2008                WI       Wisconsin                   0.869157   \n49          2008                WY         Wyoming                   0.782883   \n\n    PercentTurnout  \n0            0.608  \n1            0.680  \n2            0.567  \n3            0.525  \n4            0.609  \n5            0.710  \n6            0.666  \n7            0.656  \n8            0.661  \n9            0.625  \n10           0.488  \n11           0.636  \n12           0.636  \n13           0.591  \n14           0.694  \n15           0.620  \n16           0.579  \n17           0.612  \n18           0.706  \n19           0.670  \n20           0.668  \n21           0.692  \n22           0.778  \n23           0.610  \n24           0.676  \n25           0.663  \n26           0.629  \n27           0.570  \n28           0.717  \n29           0.670  \n30           0.609  \n31           0.590  \n32           0.655  \n33           0.627  \n34           0.669  \n35           0.558  \n36           0.677  \n37           0.636  \n38           0.618  \n39           0.580  \n40           0.647  \n41           0.570  \n42           0.541  \n43           0.560  \n44           0.673  \n45           0.670  \n46           0.666  \n47           0.499  \n48           0.724  \n49           0.628  ",
      "text/html": "<div>\n<style scoped>\n    .dataframe tbody tr th:only-of-type {\n        vertical-align: middle;\n    }\n\n    .dataframe tbody tr th {\n        vertical-align: top;\n    }\n\n    .dataframe thead th {\n        text-align: right;\n    }\n</style>\n<table border=\"1\" class=\"dataframe\">\n  <thead>\n    <tr style=\"text-align: right;\">\n      <th></th>\n      <th>ElectionYear</th>\n      <th>StateAbbreviation</th>\n      <th>StateName</th>\n      <th>PercentOfRegisteredVoters</th>\n      <th>PercentTurnout</th>\n    </tr>\n  </thead>\n  <tbody>\n    <tr>\n      <th>0</th>\n      <td>2008</td>\n      <td>AL</td>\n      <td>Alabama</td>\n      <td>0.852208</td>\n      <td>0.608</td>\n    </tr>\n    <tr>\n      <th>1</th>\n      <td>2008</td>\n      <td>AK</td>\n      <td>Alaska</td>\n      <td>0.875693</td>\n      <td>0.680</td>\n    </tr>\n    <tr>\n      <th>2</th>\n      <td>2008</td>\n      <td>AZ</td>\n      <td>Arizona</td>\n      <td>0.829416</td>\n      <td>0.567</td>\n    </tr>\n    <tr>\n      <th>3</th>\n      <td>2008</td>\n      <td>AR</td>\n      <td>Arkansas</td>\n      <td>0.742385</td>\n      <td>0.525</td>\n    </tr>\n    <tr>\n      <th>4</th>\n      <td>2008</td>\n      <td>CA</td>\n      <td>California</td>\n      <td>0.824846</td>\n      <td>0.609</td>\n    </tr>\n    <tr>\n      <th>5</th>\n      <td>2008</td>\n      <td>CO</td>\n      <td>Colorado</td>\n      <td>0.840033</td>\n      <td>0.710</td>\n    </tr>\n    <tr>\n      <th>6</th>\n      <td>2008</td>\n      <td>CT</td>\n      <td>Connecticut</td>\n      <td>0.855638</td>\n      <td>0.666</td>\n    </tr>\n    <tr>\n      <th>7</th>\n      <td>2008</td>\n      <td>DE</td>\n      <td>Delaware</td>\n      <td>0.857940</td>\n      <td>0.656</td>\n    </tr>\n    <tr>\n      <th>8</th>\n      <td>2008</td>\n      <td>FL</td>\n      <td>Florida</td>\n      <td>0.876890</td>\n      <td>0.661</td>\n    </tr>\n    <tr>\n      <th>9</th>\n      <td>2008</td>\n      <td>GA</td>\n      <td>Georgia</td>\n      <td>0.849353</td>\n      <td>0.625</td>\n    </tr>\n    <tr>\n      <th>10</th>\n      <td>2008</td>\n      <td>HI</td>\n      <td>Hawaii</td>\n      <td>0.696120</td>\n      <td>0.488</td>\n    </tr>\n    <tr>\n      <th>11</th>\n      <td>2008</td>\n      <td>ID</td>\n      <td>Idaho</td>\n      <td>0.771011</td>\n      <td>0.636</td>\n    </tr>\n    <tr>\n      <th>12</th>\n      <td>2008</td>\n      <td>IL</td>\n      <td>Illinois</td>\n      <td>0.852006</td>\n      <td>0.636</td>\n    </tr>\n    <tr>\n      <th>13</th>\n      <td>2008</td>\n      <td>IN</td>\n      <td>Indiana</td>\n      <td>0.810648</td>\n      <td>0.591</td>\n    </tr>\n    <tr>\n      <th>14</th>\n      <td>2008</td>\n      <td>IA</td>\n      <td>Iowa</td>\n      <td>0.853158</td>\n      <td>0.694</td>\n    </tr>\n    <tr>\n      <th>15</th>\n      <td>2008</td>\n      <td>KS</td>\n      <td>Kansas</td>\n      <td>0.771795</td>\n      <td>0.620</td>\n    </tr>\n    <tr>\n      <th>16</th>\n      <td>2008</td>\n      <td>KY</td>\n      <td>Kentucky</td>\n      <td>0.831679</td>\n      <td>0.579</td>\n    </tr>\n    <tr>\n      <th>17</th>\n      <td>2008</td>\n      <td>LA</td>\n      <td>Louisiana</td>\n      <td>0.880880</td>\n      <td>0.612</td>\n    </tr>\n    <tr>\n      <th>18</th>\n      <td>2008</td>\n      <td>ME</td>\n      <td>Maine</td>\n      <td>0.864557</td>\n      <td>0.706</td>\n    </tr>\n    <tr>\n      <th>19</th>\n      <td>2008</td>\n      <td>MD</td>\n      <td>Maryland</td>\n      <td>0.870055</td>\n      <td>0.670</td>\n    </tr>\n    <tr>\n      <th>20</th>\n      <td>2008</td>\n      <td>MA</td>\n      <td>Massachusetts</td>\n      <td>0.870557</td>\n      <td>0.668</td>\n    </tr>\n    <tr>\n      <th>21</th>\n      <td>2008</td>\n      <td>MI</td>\n      <td>Michigan</td>\n      <td>0.904447</td>\n      <td>0.692</td>\n    </tr>\n    <tr>\n      <th>22</th>\n      <td>2008</td>\n      <td>MN</td>\n      <td>Minnesota</td>\n      <td>0.918129</td>\n      <td>0.778</td>\n    </tr>\n    <tr>\n      <th>23</th>\n      <td>2008</td>\n      <td>MS</td>\n      <td>Mississippi</td>\n      <td>0.868227</td>\n      <td>0.610</td>\n    </tr>\n    <tr>\n      <th>24</th>\n      <td>2008</td>\n      <td>MO</td>\n      <td>Missouri</td>\n      <td>0.854682</td>\n      <td>0.676</td>\n    </tr>\n    <tr>\n      <th>25</th>\n      <td>2008</td>\n      <td>MT</td>\n      <td>Montana</td>\n      <td>0.802069</td>\n      <td>0.663</td>\n    </tr>\n    <tr>\n      <th>26</th>\n      <td>2008</td>\n      <td>NE</td>\n      <td>Nebraska</td>\n      <td>0.827338</td>\n      <td>0.629</td>\n    </tr>\n    <tr>\n      <th>27</th>\n      <td>2008</td>\n      <td>NV</td>\n      <td>Nevada</td>\n      <td>0.776005</td>\n      <td>0.570</td>\n    </tr>\n    <tr>\n      <th>28</th>\n      <td>2008</td>\n      <td>NH</td>\n      <td>New Hampshire</td>\n      <td>0.843120</td>\n      <td>0.717</td>\n    </tr>\n    <tr>\n      <th>29</th>\n      <td>2008</td>\n      <td>NJ</td>\n      <td>New Jersey</td>\n      <td>0.854699</td>\n      <td>0.670</td>\n    </tr>\n    <tr>\n      <th>30</th>\n      <td>2008</td>\n      <td>NM</td>\n      <td>New Mexico</td>\n      <td>0.808256</td>\n      <td>0.609</td>\n    </tr>\n    <tr>\n      <th>31</th>\n      <td>2008</td>\n      <td>NY</td>\n      <td>New York</td>\n      <td>0.839322</td>\n      <td>0.590</td>\n    </tr>\n    <tr>\n      <th>32</th>\n      <td>2008</td>\n      <td>NC</td>\n      <td>North Carolina</td>\n      <td>0.845099</td>\n      <td>0.655</td>\n    </tr>\n    <tr>\n      <th>33</th>\n      <td>2008</td>\n      <td>ND</td>\n      <td>North Dakota</td>\n      <td>NaN</td>\n      <td>0.627</td>\n    </tr>\n    <tr>\n      <th>34</th>\n      <td>2008</td>\n      <td>OH</td>\n      <td>Ohio</td>\n      <td>0.844206</td>\n      <td>0.669</td>\n    </tr>\n    <tr>\n      <th>35</th>\n      <td>2008</td>\n      <td>OK</td>\n      <td>Oklahoma</td>\n      <td>0.810813</td>\n      <td>0.558</td>\n    </tr>\n    <tr>\n      <th>36</th>\n      <td>2008</td>\n      <td>OR</td>\n      <td>Oregon</td>\n      <td>0.850467</td>\n      <td>0.677</td>\n    </tr>\n    <tr>\n      <th>37</th>\n      <td>2008</td>\n      <td>PA</td>\n      <td>Pennsylvania</td>\n      <td>0.813880</td>\n      <td>0.636</td>\n    </tr>\n    <tr>\n      <th>38</th>\n      <td>2008</td>\n      <td>RI</td>\n      <td>Rhode Island</td>\n      <td>0.841730</td>\n      <td>0.618</td>\n    </tr>\n    <tr>\n      <th>39</th>\n      <td>2008</td>\n      <td>SC</td>\n      <td>South Carolina</td>\n      <td>0.806624</td>\n      <td>0.580</td>\n    </tr>\n    <tr>\n      <th>40</th>\n      <td>2008</td>\n      <td>SD</td>\n      <td>South Dakota</td>\n      <td>0.836161</td>\n      <td>0.647</td>\n    </tr>\n    <tr>\n      <th>41</th>\n      <td>2008</td>\n      <td>TN</td>\n      <td>Tennessee</td>\n      <td>0.802247</td>\n      <td>0.570</td>\n    </tr>\n    <tr>\n      <th>42</th>\n      <td>2008</td>\n      <td>TX</td>\n      <td>Texas</td>\n      <td>0.794732</td>\n      <td>0.541</td>\n    </tr>\n    <tr>\n      <th>43</th>\n      <td>2008</td>\n      <td>UT</td>\n      <td>Utah</td>\n      <td>0.758163</td>\n      <td>0.560</td>\n    </tr>\n    <tr>\n      <th>44</th>\n      <td>2008</td>\n      <td>VT</td>\n      <td>Vermont</td>\n      <td>0.834251</td>\n      <td>0.673</td>\n    </tr>\n    <tr>\n      <th>45</th>\n      <td>2008</td>\n      <td>VA</td>\n      <td>Virginia</td>\n      <td>0.873056</td>\n      <td>0.670</td>\n    </tr>\n    <tr>\n      <th>46</th>\n      <td>2008</td>\n      <td>WA</td>\n      <td>Washington</td>\n      <td>0.841908</td>\n      <td>0.666</td>\n    </tr>\n    <tr>\n      <th>47</th>\n      <td>2008</td>\n      <td>WV</td>\n      <td>West Virginia</td>\n      <td>0.781425</td>\n      <td>0.499</td>\n    </tr>\n    <tr>\n      <th>48</th>\n      <td>2008</td>\n      <td>WI</td>\n      <td>Wisconsin</td>\n      <td>0.869157</td>\n      <td>0.724</td>\n    </tr>\n    <tr>\n      <th>49</th>\n      <td>2008</td>\n      <td>WY</td>\n      <td>Wyoming</td>\n      <td>0.782883</td>\n      <td>0.628</td>\n    </tr>\n  </tbody>\n</table>\n</div>"
     },
     "metadata": {},
     "execution_count": 7
    }
   ],
   "source": [
    "PercentRegisteredDF2008"
   ]
  },
  {
   "cell_type": "code",
   "execution_count": 8,
   "metadata": {},
   "outputs": [],
   "source": [
    "import plotly.express as pe"
   ]
  },
  {
   "cell_type": "code",
   "execution_count": 9,
   "metadata": {},
   "outputs": [],
   "source": [
    "PercentRegisteredData =  [DashboardDataDF[\"electionyear\"],DashboardDataDF[\"stateabbreviation\"], DashboardDataDF[\"statename\"] , DashboardDataDF[\"pct_reg_of_vep_vrs\"], DashboardDataDF[\"voterturnout\"]]"
   ]
  },
  {
   "cell_type": "code",
   "execution_count": 10,
   "metadata": {},
   "outputs": [
    {
     "output_type": "execute_result",
     "data": {
      "text/plain": "[0      2008\n 1      2008\n 2      2008\n 3      2008\n 4      2008\n        ... \n 296    2018\n 297    2018\n 298    2018\n 299    2018\n 300    2018\n Name: electionyear, Length: 301, dtype: int64,\n 0      AL\n 1      AK\n 2      AZ\n 3      AR\n 4      CA\n        ..\n 296    VA\n 297    WA\n 298    WV\n 299    WI\n 300    WY\n Name: stateabbreviation, Length: 301, dtype: object,\n 0            Alabama\n 1             Alaska\n 2            Arizona\n 3           Arkansas\n 4         California\n            ...      \n 296         Virginia\n 297       Washington\n 298    West Virginia\n 299        Wisconsin\n 300          Wyoming\n Name: statename, Length: 301, dtype: object,\n 0      0.852208\n 1      0.875693\n 2      0.829416\n 3      0.742385\n 4      0.824846\n          ...   \n 296    0.874413\n 297    0.855181\n 298    0.778394\n 299    0.828831\n 300    0.750195\n Name: pct_reg_of_vep_vrs, Length: 301, dtype: float64,\n 0      0.608\n 1      0.680\n 2      0.567\n 3      0.525\n 4      0.609\n        ...  \n 296    0.544\n 297    0.583\n 298    0.425\n 299    0.614\n 300    0.479\n Name: voterturnout, Length: 301, dtype: float64]"
     },
     "metadata": {},
     "execution_count": 10
    }
   ],
   "source": [
    "PercentRegisteredData"
   ]
  },
  {
   "cell_type": "code",
   "execution_count": 11,
   "metadata": {},
   "outputs": [],
   "source": [
    "PercentTurnoutDF2008 = PercentRegisteredDF2008"
   ]
  },
  {
   "cell_type": "code",
   "execution_count": 12,
   "metadata": {},
   "outputs": [
    {
     "output_type": "display_data",
     "data": {
      "application/vnd.plotly.v1+json": {
       "config": {
        "plotlyServerURL": "https://plot.ly"
       },
       "data": [
        {
         "alignmentgroup": "True",
         "hovertemplate": "StateAbbreviation=%{x}<br>PercentTurnout=%{y}<extra></extra>",
         "legendgroup": "",
         "marker": {
          "color": "green"
         },
         "name": "",
         "offsetgroup": "",
         "orientation": "v",
         "showlegend": false,
         "textposition": "auto",
         "type": "bar",
         "x": [
          "AL",
          "AK",
          "AZ",
          "AR",
          "CA",
          "CO",
          "CT",
          "DE",
          "FL",
          "GA",
          "HI",
          "ID",
          "IL",
          "IN",
          "IA",
          "KS",
          "KY",
          "LA",
          "ME",
          "MD",
          "MA",
          "MI",
          "MN",
          "MS",
          "MO",
          "MT",
          "NE",
          "NV",
          "NH",
          "NJ",
          "NM",
          "NY",
          "NC",
          "ND",
          "OH",
          "OK",
          "OR",
          "PA",
          "RI",
          "SC",
          "SD",
          "TN",
          "TX",
          "UT",
          "VT",
          "VA",
          "WA",
          "WV",
          "WI",
          "WY"
         ],
         "xaxis": "x",
         "y": [
          0.608,
          0.68,
          0.567,
          0.525,
          0.609,
          0.71,
          0.666,
          0.656,
          0.661,
          0.625,
          0.488,
          0.636,
          0.636,
          0.591,
          0.694,
          0.62,
          0.579,
          0.612,
          0.706,
          0.67,
          0.668,
          0.692,
          0.778,
          0.61,
          0.676,
          0.663,
          0.629,
          0.57,
          0.717,
          0.67,
          0.609,
          0.59,
          0.655,
          0.627,
          0.669,
          0.558,
          0.677,
          0.636,
          0.618,
          0.58,
          0.647,
          0.57,
          0.541,
          0.56,
          0.673,
          0.67,
          0.666,
          0.499,
          0.724,
          0.628
         ],
         "yaxis": "y"
        }
       ],
       "layout": {
        "barmode": "group",
        "height": 400,
        "legend": {
         "tracegroupgap": 0
        },
        "template": {
         "data": {
          "bar": [
           {
            "error_x": {
             "color": "#2a3f5f"
            },
            "error_y": {
             "color": "#2a3f5f"
            },
            "marker": {
             "line": {
              "color": "#E5ECF6",
              "width": 0.5
             }
            },
            "type": "bar"
           }
          ],
          "barpolar": [
           {
            "marker": {
             "line": {
              "color": "#E5ECF6",
              "width": 0.5
             }
            },
            "type": "barpolar"
           }
          ],
          "carpet": [
           {
            "aaxis": {
             "endlinecolor": "#2a3f5f",
             "gridcolor": "white",
             "linecolor": "white",
             "minorgridcolor": "white",
             "startlinecolor": "#2a3f5f"
            },
            "baxis": {
             "endlinecolor": "#2a3f5f",
             "gridcolor": "white",
             "linecolor": "white",
             "minorgridcolor": "white",
             "startlinecolor": "#2a3f5f"
            },
            "type": "carpet"
           }
          ],
          "choropleth": [
           {
            "colorbar": {
             "outlinewidth": 0,
             "ticks": ""
            },
            "type": "choropleth"
           }
          ],
          "contour": [
           {
            "colorbar": {
             "outlinewidth": 0,
             "ticks": ""
            },
            "colorscale": [
             [
              0,
              "#0d0887"
             ],
             [
              0.1111111111111111,
              "#46039f"
             ],
             [
              0.2222222222222222,
              "#7201a8"
             ],
             [
              0.3333333333333333,
              "#9c179e"
             ],
             [
              0.4444444444444444,
              "#bd3786"
             ],
             [
              0.5555555555555556,
              "#d8576b"
             ],
             [
              0.6666666666666666,
              "#ed7953"
             ],
             [
              0.7777777777777778,
              "#fb9f3a"
             ],
             [
              0.8888888888888888,
              "#fdca26"
             ],
             [
              1,
              "#f0f921"
             ]
            ],
            "type": "contour"
           }
          ],
          "contourcarpet": [
           {
            "colorbar": {
             "outlinewidth": 0,
             "ticks": ""
            },
            "type": "contourcarpet"
           }
          ],
          "heatmap": [
           {
            "colorbar": {
             "outlinewidth": 0,
             "ticks": ""
            },
            "colorscale": [
             [
              0,
              "#0d0887"
             ],
             [
              0.1111111111111111,
              "#46039f"
             ],
             [
              0.2222222222222222,
              "#7201a8"
             ],
             [
              0.3333333333333333,
              "#9c179e"
             ],
             [
              0.4444444444444444,
              "#bd3786"
             ],
             [
              0.5555555555555556,
              "#d8576b"
             ],
             [
              0.6666666666666666,
              "#ed7953"
             ],
             [
              0.7777777777777778,
              "#fb9f3a"
             ],
             [
              0.8888888888888888,
              "#fdca26"
             ],
             [
              1,
              "#f0f921"
             ]
            ],
            "type": "heatmap"
           }
          ],
          "heatmapgl": [
           {
            "colorbar": {
             "outlinewidth": 0,
             "ticks": ""
            },
            "colorscale": [
             [
              0,
              "#0d0887"
             ],
             [
              0.1111111111111111,
              "#46039f"
             ],
             [
              0.2222222222222222,
              "#7201a8"
             ],
             [
              0.3333333333333333,
              "#9c179e"
             ],
             [
              0.4444444444444444,
              "#bd3786"
             ],
             [
              0.5555555555555556,
              "#d8576b"
             ],
             [
              0.6666666666666666,
              "#ed7953"
             ],
             [
              0.7777777777777778,
              "#fb9f3a"
             ],
             [
              0.8888888888888888,
              "#fdca26"
             ],
             [
              1,
              "#f0f921"
             ]
            ],
            "type": "heatmapgl"
           }
          ],
          "histogram": [
           {
            "marker": {
             "colorbar": {
              "outlinewidth": 0,
              "ticks": ""
             }
            },
            "type": "histogram"
           }
          ],
          "histogram2d": [
           {
            "colorbar": {
             "outlinewidth": 0,
             "ticks": ""
            },
            "colorscale": [
             [
              0,
              "#0d0887"
             ],
             [
              0.1111111111111111,
              "#46039f"
             ],
             [
              0.2222222222222222,
              "#7201a8"
             ],
             [
              0.3333333333333333,
              "#9c179e"
             ],
             [
              0.4444444444444444,
              "#bd3786"
             ],
             [
              0.5555555555555556,
              "#d8576b"
             ],
             [
              0.6666666666666666,
              "#ed7953"
             ],
             [
              0.7777777777777778,
              "#fb9f3a"
             ],
             [
              0.8888888888888888,
              "#fdca26"
             ],
             [
              1,
              "#f0f921"
             ]
            ],
            "type": "histogram2d"
           }
          ],
          "histogram2dcontour": [
           {
            "colorbar": {
             "outlinewidth": 0,
             "ticks": ""
            },
            "colorscale": [
             [
              0,
              "#0d0887"
             ],
             [
              0.1111111111111111,
              "#46039f"
             ],
             [
              0.2222222222222222,
              "#7201a8"
             ],
             [
              0.3333333333333333,
              "#9c179e"
             ],
             [
              0.4444444444444444,
              "#bd3786"
             ],
             [
              0.5555555555555556,
              "#d8576b"
             ],
             [
              0.6666666666666666,
              "#ed7953"
             ],
             [
              0.7777777777777778,
              "#fb9f3a"
             ],
             [
              0.8888888888888888,
              "#fdca26"
             ],
             [
              1,
              "#f0f921"
             ]
            ],
            "type": "histogram2dcontour"
           }
          ],
          "mesh3d": [
           {
            "colorbar": {
             "outlinewidth": 0,
             "ticks": ""
            },
            "type": "mesh3d"
           }
          ],
          "parcoords": [
           {
            "line": {
             "colorbar": {
              "outlinewidth": 0,
              "ticks": ""
             }
            },
            "type": "parcoords"
           }
          ],
          "pie": [
           {
            "automargin": true,
            "type": "pie"
           }
          ],
          "scatter": [
           {
            "marker": {
             "colorbar": {
              "outlinewidth": 0,
              "ticks": ""
             }
            },
            "type": "scatter"
           }
          ],
          "scatter3d": [
           {
            "line": {
             "colorbar": {
              "outlinewidth": 0,
              "ticks": ""
             }
            },
            "marker": {
             "colorbar": {
              "outlinewidth": 0,
              "ticks": ""
             }
            },
            "type": "scatter3d"
           }
          ],
          "scattercarpet": [
           {
            "marker": {
             "colorbar": {
              "outlinewidth": 0,
              "ticks": ""
             }
            },
            "type": "scattercarpet"
           }
          ],
          "scattergeo": [
           {
            "marker": {
             "colorbar": {
              "outlinewidth": 0,
              "ticks": ""
             }
            },
            "type": "scattergeo"
           }
          ],
          "scattergl": [
           {
            "marker": {
             "colorbar": {
              "outlinewidth": 0,
              "ticks": ""
             }
            },
            "type": "scattergl"
           }
          ],
          "scattermapbox": [
           {
            "marker": {
             "colorbar": {
              "outlinewidth": 0,
              "ticks": ""
             }
            },
            "type": "scattermapbox"
           }
          ],
          "scatterpolar": [
           {
            "marker": {
             "colorbar": {
              "outlinewidth": 0,
              "ticks": ""
             }
            },
            "type": "scatterpolar"
           }
          ],
          "scatterpolargl": [
           {
            "marker": {
             "colorbar": {
              "outlinewidth": 0,
              "ticks": ""
             }
            },
            "type": "scatterpolargl"
           }
          ],
          "scatterternary": [
           {
            "marker": {
             "colorbar": {
              "outlinewidth": 0,
              "ticks": ""
             }
            },
            "type": "scatterternary"
           }
          ],
          "surface": [
           {
            "colorbar": {
             "outlinewidth": 0,
             "ticks": ""
            },
            "colorscale": [
             [
              0,
              "#0d0887"
             ],
             [
              0.1111111111111111,
              "#46039f"
             ],
             [
              0.2222222222222222,
              "#7201a8"
             ],
             [
              0.3333333333333333,
              "#9c179e"
             ],
             [
              0.4444444444444444,
              "#bd3786"
             ],
             [
              0.5555555555555556,
              "#d8576b"
             ],
             [
              0.6666666666666666,
              "#ed7953"
             ],
             [
              0.7777777777777778,
              "#fb9f3a"
             ],
             [
              0.8888888888888888,
              "#fdca26"
             ],
             [
              1,
              "#f0f921"
             ]
            ],
            "type": "surface"
           }
          ],
          "table": [
           {
            "cells": {
             "fill": {
              "color": "#EBF0F8"
             },
             "line": {
              "color": "white"
             }
            },
            "header": {
             "fill": {
              "color": "#C8D4E3"
             },
             "line": {
              "color": "white"
             }
            },
            "type": "table"
           }
          ]
         },
         "layout": {
          "annotationdefaults": {
           "arrowcolor": "#2a3f5f",
           "arrowhead": 0,
           "arrowwidth": 1
          },
          "coloraxis": {
           "colorbar": {
            "outlinewidth": 0,
            "ticks": ""
           }
          },
          "colorscale": {
           "diverging": [
            [
             0,
             "#8e0152"
            ],
            [
             0.1,
             "#c51b7d"
            ],
            [
             0.2,
             "#de77ae"
            ],
            [
             0.3,
             "#f1b6da"
            ],
            [
             0.4,
             "#fde0ef"
            ],
            [
             0.5,
             "#f7f7f7"
            ],
            [
             0.6,
             "#e6f5d0"
            ],
            [
             0.7,
             "#b8e186"
            ],
            [
             0.8,
             "#7fbc41"
            ],
            [
             0.9,
             "#4d9221"
            ],
            [
             1,
             "#276419"
            ]
           ],
           "sequential": [
            [
             0,
             "#0d0887"
            ],
            [
             0.1111111111111111,
             "#46039f"
            ],
            [
             0.2222222222222222,
             "#7201a8"
            ],
            [
             0.3333333333333333,
             "#9c179e"
            ],
            [
             0.4444444444444444,
             "#bd3786"
            ],
            [
             0.5555555555555556,
             "#d8576b"
            ],
            [
             0.6666666666666666,
             "#ed7953"
            ],
            [
             0.7777777777777778,
             "#fb9f3a"
            ],
            [
             0.8888888888888888,
             "#fdca26"
            ],
            [
             1,
             "#f0f921"
            ]
           ],
           "sequentialminus": [
            [
             0,
             "#0d0887"
            ],
            [
             0.1111111111111111,
             "#46039f"
            ],
            [
             0.2222222222222222,
             "#7201a8"
            ],
            [
             0.3333333333333333,
             "#9c179e"
            ],
            [
             0.4444444444444444,
             "#bd3786"
            ],
            [
             0.5555555555555556,
             "#d8576b"
            ],
            [
             0.6666666666666666,
             "#ed7953"
            ],
            [
             0.7777777777777778,
             "#fb9f3a"
            ],
            [
             0.8888888888888888,
             "#fdca26"
            ],
            [
             1,
             "#f0f921"
            ]
           ]
          },
          "colorway": [
           "#636efa",
           "#EF553B",
           "#00cc96",
           "#ab63fa",
           "#FFA15A",
           "#19d3f3",
           "#FF6692",
           "#B6E880",
           "#FF97FF",
           "#FECB52"
          ],
          "font": {
           "color": "#2a3f5f"
          },
          "geo": {
           "bgcolor": "white",
           "lakecolor": "white",
           "landcolor": "#E5ECF6",
           "showlakes": true,
           "showland": true,
           "subunitcolor": "white"
          },
          "hoverlabel": {
           "align": "left"
          },
          "hovermode": "closest",
          "mapbox": {
           "style": "light"
          },
          "paper_bgcolor": "white",
          "plot_bgcolor": "#E5ECF6",
          "polar": {
           "angularaxis": {
            "gridcolor": "white",
            "linecolor": "white",
            "ticks": ""
           },
           "bgcolor": "#E5ECF6",
           "radialaxis": {
            "gridcolor": "white",
            "linecolor": "white",
            "ticks": ""
           }
          },
          "scene": {
           "xaxis": {
            "backgroundcolor": "#E5ECF6",
            "gridcolor": "white",
            "gridwidth": 2,
            "linecolor": "white",
            "showbackground": true,
            "ticks": "",
            "zerolinecolor": "white"
           },
           "yaxis": {
            "backgroundcolor": "#E5ECF6",
            "gridcolor": "white",
            "gridwidth": 2,
            "linecolor": "white",
            "showbackground": true,
            "ticks": "",
            "zerolinecolor": "white"
           },
           "zaxis": {
            "backgroundcolor": "#E5ECF6",
            "gridcolor": "white",
            "gridwidth": 2,
            "linecolor": "white",
            "showbackground": true,
            "ticks": "",
            "zerolinecolor": "white"
           }
          },
          "shapedefaults": {
           "line": {
            "color": "#2a3f5f"
           }
          },
          "ternary": {
           "aaxis": {
            "gridcolor": "white",
            "linecolor": "white",
            "ticks": ""
           },
           "baxis": {
            "gridcolor": "white",
            "linecolor": "white",
            "ticks": ""
           },
           "bgcolor": "#E5ECF6",
           "caxis": {
            "gridcolor": "white",
            "linecolor": "white",
            "ticks": ""
           }
          },
          "title": {
           "x": 0.05
          },
          "xaxis": {
           "automargin": true,
           "gridcolor": "white",
           "linecolor": "white",
           "ticks": "",
           "title": {
            "standoff": 15
           },
           "zerolinecolor": "white",
           "zerolinewidth": 2
          },
          "yaxis": {
           "automargin": true,
           "gridcolor": "white",
           "linecolor": "white",
           "ticks": "",
           "title": {
            "standoff": 15
           },
           "zerolinecolor": "white",
           "zerolinewidth": 2
          }
         }
        },
        "title": {
         "text": "Turnout Data 2008"
        },
        "width": 1000,
        "xaxis": {
         "anchor": "y",
         "domain": [
          0,
          1
         ],
         "title": {
          "text": "StateAbbreviation"
         }
        },
        "yaxis": {
         "anchor": "x",
         "domain": [
          0,
          1
         ],
         "title": {
          "text": "PercentTurnout"
         }
        }
       }
      }
     },
     "metadata": {}
    }
   ],
   "source": [
    "Turnout2008 = pe.bar(PercentTurnoutDF2008, x=\"StateAbbreviation\", y=\"PercentTurnout\", title=\"Turnout Data 2008\",\n",
    "            color_discrete_sequence =['green']*len(PercentTurnoutDF2008),\n",
    "             barmode='group',\n",
    "             height=400, width=1000)\n",
    "Turnout2008.show()"
   ]
  },
  {
   "cell_type": "code",
   "execution_count": 13,
   "metadata": {},
   "outputs": [
    {
     "output_type": "execute_result",
     "data": {
      "text/plain": "     ElectionYear StateAbbreviation       StateName  \\\n100          2016                AL         Alabama   \n101          2016                AK          Alaska   \n102          2016                AZ         Arizona   \n103          2016                AR        Arkansas   \n104          2016                CA      California   \n105          2016                CO        Colorado   \n106          2016                CT     Connecticut   \n107          2016                DE        Delaware   \n108          2016                FL         Florida   \n109          2016                GA         Georgia   \n110          2016                HI          Hawaii   \n111          2016                ID           Idaho   \n112          2016                IL        Illinois   \n113          2016                IN         Indiana   \n114          2016                IA            Iowa   \n115          2016                KS          Kansas   \n116          2016                KY        Kentucky   \n117          2016                LA       Louisiana   \n118          2016                ME           Maine   \n119          2016                MD        Maryland   \n120          2016                MA   Massachusetts   \n121          2016                MI        Michigan   \n122          2016                MN       Minnesota   \n123          2016                MS     Mississippi   \n124          2016                MO        Missouri   \n125          2016                MT         Montana   \n126          2016                NE        Nebraska   \n127          2016                NV          Nevada   \n128          2016                NH   New Hampshire   \n129          2016                NJ      New Jersey   \n130          2016                NM      New Mexico   \n131          2016                NY        New York   \n132          2016                NC  North Carolina   \n133          2016                ND    North Dakota   \n134          2016                OH            Ohio   \n135          2016                OK        Oklahoma   \n136          2016                OR          Oregon   \n137          2016                PA    Pennsylvania   \n138          2016                RI    Rhode Island   \n139          2016                SC  South Carolina   \n140          2016                SD    South Dakota   \n141          2016                TN       Tennessee   \n142          2016                TX           Texas   \n143          2016                UT            Utah   \n144          2016                VT         Vermont   \n145          2016                VA        Virginia   \n146          2016                WA      Washington   \n147          2016                WV   West Virginia   \n148          2016                WI       Wisconsin   \n149          2016                WY         Wyoming   \n\n     PercentOfRegisteredVoters  PercentTurnout  \n100                   0.862128           0.588  \n101                   0.875029           0.610  \n102                   0.809389           0.549  \n103                   0.837059           0.528  \n104                   0.797656           0.565  \n105                   0.900481           0.700  \n106                   0.865454           0.637  \n107                   0.869869           0.642  \n108                   0.870113           0.645  \n109                   0.833031           0.591  \n110                   0.718759           0.423  \n111                   0.780347           0.592  \n112                   0.884108           0.622  \n113                   0.813590           0.564  \n114                   0.858447           0.684  \n115                   0.807515           0.577  \n116                   0.829663           0.586  \n117                   0.864150           0.600  \n118                   0.876575           0.707  \n119                   0.884727           0.664  \n120                   0.876749           0.672  \n121                   0.889097           0.647  \n122                   0.886566           0.741  \n123                   0.870409           0.552  \n124                   0.853853           0.622  \n125                   0.822394           0.618  \n126                   0.855644           0.628  \n127                   0.804357           0.574  \n128                   0.868324           0.714  \n129                   0.867823           0.644  \n130                   0.755271           0.545  \n131                   0.830549           0.568  \n132                   0.879837           0.645  \n133                        NaN           0.608  \n134                   0.815843           0.629  \n135                   0.782611           0.523  \n136                   0.886364           0.662  \n137                   0.820514           0.636  \n138                   0.858531           0.591  \n139                   0.833021           0.567  \n140                   0.841782           0.586  \n141                   0.785164           0.511  \n142                   0.803469           0.514  \n143                   0.813415           0.568  \n144                   0.866877           0.637  \n145                   0.865253           0.661  \n146                   0.871618           0.647  \n147                   0.774906           0.502  \n148                   0.841669           0.695  \n149                   0.795159           0.595  ",
      "text/html": "<div>\n<style scoped>\n    .dataframe tbody tr th:only-of-type {\n        vertical-align: middle;\n    }\n\n    .dataframe tbody tr th {\n        vertical-align: top;\n    }\n\n    .dataframe thead th {\n        text-align: right;\n    }\n</style>\n<table border=\"1\" class=\"dataframe\">\n  <thead>\n    <tr style=\"text-align: right;\">\n      <th></th>\n      <th>ElectionYear</th>\n      <th>StateAbbreviation</th>\n      <th>StateName</th>\n      <th>PercentOfRegisteredVoters</th>\n      <th>PercentTurnout</th>\n    </tr>\n  </thead>\n  <tbody>\n    <tr>\n      <th>100</th>\n      <td>2016</td>\n      <td>AL</td>\n      <td>Alabama</td>\n      <td>0.862128</td>\n      <td>0.588</td>\n    </tr>\n    <tr>\n      <th>101</th>\n      <td>2016</td>\n      <td>AK</td>\n      <td>Alaska</td>\n      <td>0.875029</td>\n      <td>0.610</td>\n    </tr>\n    <tr>\n      <th>102</th>\n      <td>2016</td>\n      <td>AZ</td>\n      <td>Arizona</td>\n      <td>0.809389</td>\n      <td>0.549</td>\n    </tr>\n    <tr>\n      <th>103</th>\n      <td>2016</td>\n      <td>AR</td>\n      <td>Arkansas</td>\n      <td>0.837059</td>\n      <td>0.528</td>\n    </tr>\n    <tr>\n      <th>104</th>\n      <td>2016</td>\n      <td>CA</td>\n      <td>California</td>\n      <td>0.797656</td>\n      <td>0.565</td>\n    </tr>\n    <tr>\n      <th>105</th>\n      <td>2016</td>\n      <td>CO</td>\n      <td>Colorado</td>\n      <td>0.900481</td>\n      <td>0.700</td>\n    </tr>\n    <tr>\n      <th>106</th>\n      <td>2016</td>\n      <td>CT</td>\n      <td>Connecticut</td>\n      <td>0.865454</td>\n      <td>0.637</td>\n    </tr>\n    <tr>\n      <th>107</th>\n      <td>2016</td>\n      <td>DE</td>\n      <td>Delaware</td>\n      <td>0.869869</td>\n      <td>0.642</td>\n    </tr>\n    <tr>\n      <th>108</th>\n      <td>2016</td>\n      <td>FL</td>\n      <td>Florida</td>\n      <td>0.870113</td>\n      <td>0.645</td>\n    </tr>\n    <tr>\n      <th>109</th>\n      <td>2016</td>\n      <td>GA</td>\n      <td>Georgia</td>\n      <td>0.833031</td>\n      <td>0.591</td>\n    </tr>\n    <tr>\n      <th>110</th>\n      <td>2016</td>\n      <td>HI</td>\n      <td>Hawaii</td>\n      <td>0.718759</td>\n      <td>0.423</td>\n    </tr>\n    <tr>\n      <th>111</th>\n      <td>2016</td>\n      <td>ID</td>\n      <td>Idaho</td>\n      <td>0.780347</td>\n      <td>0.592</td>\n    </tr>\n    <tr>\n      <th>112</th>\n      <td>2016</td>\n      <td>IL</td>\n      <td>Illinois</td>\n      <td>0.884108</td>\n      <td>0.622</td>\n    </tr>\n    <tr>\n      <th>113</th>\n      <td>2016</td>\n      <td>IN</td>\n      <td>Indiana</td>\n      <td>0.813590</td>\n      <td>0.564</td>\n    </tr>\n    <tr>\n      <th>114</th>\n      <td>2016</td>\n      <td>IA</td>\n      <td>Iowa</td>\n      <td>0.858447</td>\n      <td>0.684</td>\n    </tr>\n    <tr>\n      <th>115</th>\n      <td>2016</td>\n      <td>KS</td>\n      <td>Kansas</td>\n      <td>0.807515</td>\n      <td>0.577</td>\n    </tr>\n    <tr>\n      <th>116</th>\n      <td>2016</td>\n      <td>KY</td>\n      <td>Kentucky</td>\n      <td>0.829663</td>\n      <td>0.586</td>\n    </tr>\n    <tr>\n      <th>117</th>\n      <td>2016</td>\n      <td>LA</td>\n      <td>Louisiana</td>\n      <td>0.864150</td>\n      <td>0.600</td>\n    </tr>\n    <tr>\n      <th>118</th>\n      <td>2016</td>\n      <td>ME</td>\n      <td>Maine</td>\n      <td>0.876575</td>\n      <td>0.707</td>\n    </tr>\n    <tr>\n      <th>119</th>\n      <td>2016</td>\n      <td>MD</td>\n      <td>Maryland</td>\n      <td>0.884727</td>\n      <td>0.664</td>\n    </tr>\n    <tr>\n      <th>120</th>\n      <td>2016</td>\n      <td>MA</td>\n      <td>Massachusetts</td>\n      <td>0.876749</td>\n      <td>0.672</td>\n    </tr>\n    <tr>\n      <th>121</th>\n      <td>2016</td>\n      <td>MI</td>\n      <td>Michigan</td>\n      <td>0.889097</td>\n      <td>0.647</td>\n    </tr>\n    <tr>\n      <th>122</th>\n      <td>2016</td>\n      <td>MN</td>\n      <td>Minnesota</td>\n      <td>0.886566</td>\n      <td>0.741</td>\n    </tr>\n    <tr>\n      <th>123</th>\n      <td>2016</td>\n      <td>MS</td>\n      <td>Mississippi</td>\n      <td>0.870409</td>\n      <td>0.552</td>\n    </tr>\n    <tr>\n      <th>124</th>\n      <td>2016</td>\n      <td>MO</td>\n      <td>Missouri</td>\n      <td>0.853853</td>\n      <td>0.622</td>\n    </tr>\n    <tr>\n      <th>125</th>\n      <td>2016</td>\n      <td>MT</td>\n      <td>Montana</td>\n      <td>0.822394</td>\n      <td>0.618</td>\n    </tr>\n    <tr>\n      <th>126</th>\n      <td>2016</td>\n      <td>NE</td>\n      <td>Nebraska</td>\n      <td>0.855644</td>\n      <td>0.628</td>\n    </tr>\n    <tr>\n      <th>127</th>\n      <td>2016</td>\n      <td>NV</td>\n      <td>Nevada</td>\n      <td>0.804357</td>\n      <td>0.574</td>\n    </tr>\n    <tr>\n      <th>128</th>\n      <td>2016</td>\n      <td>NH</td>\n      <td>New Hampshire</td>\n      <td>0.868324</td>\n      <td>0.714</td>\n    </tr>\n    <tr>\n      <th>129</th>\n      <td>2016</td>\n      <td>NJ</td>\n      <td>New Jersey</td>\n      <td>0.867823</td>\n      <td>0.644</td>\n    </tr>\n    <tr>\n      <th>130</th>\n      <td>2016</td>\n      <td>NM</td>\n      <td>New Mexico</td>\n      <td>0.755271</td>\n      <td>0.545</td>\n    </tr>\n    <tr>\n      <th>131</th>\n      <td>2016</td>\n      <td>NY</td>\n      <td>New York</td>\n      <td>0.830549</td>\n      <td>0.568</td>\n    </tr>\n    <tr>\n      <th>132</th>\n      <td>2016</td>\n      <td>NC</td>\n      <td>North Carolina</td>\n      <td>0.879837</td>\n      <td>0.645</td>\n    </tr>\n    <tr>\n      <th>133</th>\n      <td>2016</td>\n      <td>ND</td>\n      <td>North Dakota</td>\n      <td>NaN</td>\n      <td>0.608</td>\n    </tr>\n    <tr>\n      <th>134</th>\n      <td>2016</td>\n      <td>OH</td>\n      <td>Ohio</td>\n      <td>0.815843</td>\n      <td>0.629</td>\n    </tr>\n    <tr>\n      <th>135</th>\n      <td>2016</td>\n      <td>OK</td>\n      <td>Oklahoma</td>\n      <td>0.782611</td>\n      <td>0.523</td>\n    </tr>\n    <tr>\n      <th>136</th>\n      <td>2016</td>\n      <td>OR</td>\n      <td>Oregon</td>\n      <td>0.886364</td>\n      <td>0.662</td>\n    </tr>\n    <tr>\n      <th>137</th>\n      <td>2016</td>\n      <td>PA</td>\n      <td>Pennsylvania</td>\n      <td>0.820514</td>\n      <td>0.636</td>\n    </tr>\n    <tr>\n      <th>138</th>\n      <td>2016</td>\n      <td>RI</td>\n      <td>Rhode Island</td>\n      <td>0.858531</td>\n      <td>0.591</td>\n    </tr>\n    <tr>\n      <th>139</th>\n      <td>2016</td>\n      <td>SC</td>\n      <td>South Carolina</td>\n      <td>0.833021</td>\n      <td>0.567</td>\n    </tr>\n    <tr>\n      <th>140</th>\n      <td>2016</td>\n      <td>SD</td>\n      <td>South Dakota</td>\n      <td>0.841782</td>\n      <td>0.586</td>\n    </tr>\n    <tr>\n      <th>141</th>\n      <td>2016</td>\n      <td>TN</td>\n      <td>Tennessee</td>\n      <td>0.785164</td>\n      <td>0.511</td>\n    </tr>\n    <tr>\n      <th>142</th>\n      <td>2016</td>\n      <td>TX</td>\n      <td>Texas</td>\n      <td>0.803469</td>\n      <td>0.514</td>\n    </tr>\n    <tr>\n      <th>143</th>\n      <td>2016</td>\n      <td>UT</td>\n      <td>Utah</td>\n      <td>0.813415</td>\n      <td>0.568</td>\n    </tr>\n    <tr>\n      <th>144</th>\n      <td>2016</td>\n      <td>VT</td>\n      <td>Vermont</td>\n      <td>0.866877</td>\n      <td>0.637</td>\n    </tr>\n    <tr>\n      <th>145</th>\n      <td>2016</td>\n      <td>VA</td>\n      <td>Virginia</td>\n      <td>0.865253</td>\n      <td>0.661</td>\n    </tr>\n    <tr>\n      <th>146</th>\n      <td>2016</td>\n      <td>WA</td>\n      <td>Washington</td>\n      <td>0.871618</td>\n      <td>0.647</td>\n    </tr>\n    <tr>\n      <th>147</th>\n      <td>2016</td>\n      <td>WV</td>\n      <td>West Virginia</td>\n      <td>0.774906</td>\n      <td>0.502</td>\n    </tr>\n    <tr>\n      <th>148</th>\n      <td>2016</td>\n      <td>WI</td>\n      <td>Wisconsin</td>\n      <td>0.841669</td>\n      <td>0.695</td>\n    </tr>\n    <tr>\n      <th>149</th>\n      <td>2016</td>\n      <td>WY</td>\n      <td>Wyoming</td>\n      <td>0.795159</td>\n      <td>0.595</td>\n    </tr>\n  </tbody>\n</table>\n</div>"
     },
     "metadata": {},
     "execution_count": 13
    }
   ],
   "source": [
    "TurnoutDF2016=PercentRegisteredDF[PercentRegisteredDF['ElectionYear']==2016]\n",
    "TurnoutDF2016"
   ]
  },
  {
   "cell_type": "code",
   "execution_count": 14,
   "metadata": {},
   "outputs": [
    {
     "output_type": "display_data",
     "data": {
      "application/vnd.plotly.v1+json": {
       "config": {
        "plotlyServerURL": "https://plot.ly"
       },
       "data": [
        {
         "alignmentgroup": "True",
         "hovertemplate": "StateAbbreviation=%{x}<br>PercentTurnout=%{y}<extra></extra>",
         "legendgroup": "",
         "marker": {
          "color": "blue"
         },
         "name": "",
         "offsetgroup": "",
         "orientation": "v",
         "showlegend": false,
         "textposition": "auto",
         "type": "bar",
         "x": [
          "AL",
          "AK",
          "AZ",
          "AR",
          "CA",
          "CO",
          "CT",
          "DE",
          "FL",
          "GA",
          "HI",
          "ID",
          "IL",
          "IN",
          "IA",
          "KS",
          "KY",
          "LA",
          "ME",
          "MD",
          "MA",
          "MI",
          "MN",
          "MS",
          "MO",
          "MT",
          "NE",
          "NV",
          "NH",
          "NJ",
          "NM",
          "NY",
          "NC",
          "ND",
          "OH",
          "OK",
          "OR",
          "PA",
          "RI",
          "SC",
          "SD",
          "TN",
          "TX",
          "UT",
          "VT",
          "VA",
          "WA",
          "WV",
          "WI",
          "WY"
         ],
         "xaxis": "x",
         "y": [
          0.588,
          0.61,
          0.549,
          0.528,
          0.565,
          0.7,
          0.637,
          0.642,
          0.645,
          0.591,
          0.423,
          0.592,
          0.622,
          0.564,
          0.684,
          0.577,
          0.586,
          0.6,
          0.707,
          0.664,
          0.672,
          0.647,
          0.741,
          0.552,
          0.622,
          0.618,
          0.628,
          0.574,
          0.714,
          0.644,
          0.545,
          0.568,
          0.645,
          0.608,
          0.629,
          0.523,
          0.662,
          0.636,
          0.591,
          0.567,
          0.586,
          0.511,
          0.514,
          0.568,
          0.637,
          0.661,
          0.647,
          0.502,
          0.695,
          0.595
         ],
         "yaxis": "y"
        }
       ],
       "layout": {
        "barmode": "group",
        "height": 400,
        "legend": {
         "tracegroupgap": 0
        },
        "template": {
         "data": {
          "bar": [
           {
            "error_x": {
             "color": "#2a3f5f"
            },
            "error_y": {
             "color": "#2a3f5f"
            },
            "marker": {
             "line": {
              "color": "#E5ECF6",
              "width": 0.5
             }
            },
            "type": "bar"
           }
          ],
          "barpolar": [
           {
            "marker": {
             "line": {
              "color": "#E5ECF6",
              "width": 0.5
             }
            },
            "type": "barpolar"
           }
          ],
          "carpet": [
           {
            "aaxis": {
             "endlinecolor": "#2a3f5f",
             "gridcolor": "white",
             "linecolor": "white",
             "minorgridcolor": "white",
             "startlinecolor": "#2a3f5f"
            },
            "baxis": {
             "endlinecolor": "#2a3f5f",
             "gridcolor": "white",
             "linecolor": "white",
             "minorgridcolor": "white",
             "startlinecolor": "#2a3f5f"
            },
            "type": "carpet"
           }
          ],
          "choropleth": [
           {
            "colorbar": {
             "outlinewidth": 0,
             "ticks": ""
            },
            "type": "choropleth"
           }
          ],
          "contour": [
           {
            "colorbar": {
             "outlinewidth": 0,
             "ticks": ""
            },
            "colorscale": [
             [
              0,
              "#0d0887"
             ],
             [
              0.1111111111111111,
              "#46039f"
             ],
             [
              0.2222222222222222,
              "#7201a8"
             ],
             [
              0.3333333333333333,
              "#9c179e"
             ],
             [
              0.4444444444444444,
              "#bd3786"
             ],
             [
              0.5555555555555556,
              "#d8576b"
             ],
             [
              0.6666666666666666,
              "#ed7953"
             ],
             [
              0.7777777777777778,
              "#fb9f3a"
             ],
             [
              0.8888888888888888,
              "#fdca26"
             ],
             [
              1,
              "#f0f921"
             ]
            ],
            "type": "contour"
           }
          ],
          "contourcarpet": [
           {
            "colorbar": {
             "outlinewidth": 0,
             "ticks": ""
            },
            "type": "contourcarpet"
           }
          ],
          "heatmap": [
           {
            "colorbar": {
             "outlinewidth": 0,
             "ticks": ""
            },
            "colorscale": [
             [
              0,
              "#0d0887"
             ],
             [
              0.1111111111111111,
              "#46039f"
             ],
             [
              0.2222222222222222,
              "#7201a8"
             ],
             [
              0.3333333333333333,
              "#9c179e"
             ],
             [
              0.4444444444444444,
              "#bd3786"
             ],
             [
              0.5555555555555556,
              "#d8576b"
             ],
             [
              0.6666666666666666,
              "#ed7953"
             ],
             [
              0.7777777777777778,
              "#fb9f3a"
             ],
             [
              0.8888888888888888,
              "#fdca26"
             ],
             [
              1,
              "#f0f921"
             ]
            ],
            "type": "heatmap"
           }
          ],
          "heatmapgl": [
           {
            "colorbar": {
             "outlinewidth": 0,
             "ticks": ""
            },
            "colorscale": [
             [
              0,
              "#0d0887"
             ],
             [
              0.1111111111111111,
              "#46039f"
             ],
             [
              0.2222222222222222,
              "#7201a8"
             ],
             [
              0.3333333333333333,
              "#9c179e"
             ],
             [
              0.4444444444444444,
              "#bd3786"
             ],
             [
              0.5555555555555556,
              "#d8576b"
             ],
             [
              0.6666666666666666,
              "#ed7953"
             ],
             [
              0.7777777777777778,
              "#fb9f3a"
             ],
             [
              0.8888888888888888,
              "#fdca26"
             ],
             [
              1,
              "#f0f921"
             ]
            ],
            "type": "heatmapgl"
           }
          ],
          "histogram": [
           {
            "marker": {
             "colorbar": {
              "outlinewidth": 0,
              "ticks": ""
             }
            },
            "type": "histogram"
           }
          ],
          "histogram2d": [
           {
            "colorbar": {
             "outlinewidth": 0,
             "ticks": ""
            },
            "colorscale": [
             [
              0,
              "#0d0887"
             ],
             [
              0.1111111111111111,
              "#46039f"
             ],
             [
              0.2222222222222222,
              "#7201a8"
             ],
             [
              0.3333333333333333,
              "#9c179e"
             ],
             [
              0.4444444444444444,
              "#bd3786"
             ],
             [
              0.5555555555555556,
              "#d8576b"
             ],
             [
              0.6666666666666666,
              "#ed7953"
             ],
             [
              0.7777777777777778,
              "#fb9f3a"
             ],
             [
              0.8888888888888888,
              "#fdca26"
             ],
             [
              1,
              "#f0f921"
             ]
            ],
            "type": "histogram2d"
           }
          ],
          "histogram2dcontour": [
           {
            "colorbar": {
             "outlinewidth": 0,
             "ticks": ""
            },
            "colorscale": [
             [
              0,
              "#0d0887"
             ],
             [
              0.1111111111111111,
              "#46039f"
             ],
             [
              0.2222222222222222,
              "#7201a8"
             ],
             [
              0.3333333333333333,
              "#9c179e"
             ],
             [
              0.4444444444444444,
              "#bd3786"
             ],
             [
              0.5555555555555556,
              "#d8576b"
             ],
             [
              0.6666666666666666,
              "#ed7953"
             ],
             [
              0.7777777777777778,
              "#fb9f3a"
             ],
             [
              0.8888888888888888,
              "#fdca26"
             ],
             [
              1,
              "#f0f921"
             ]
            ],
            "type": "histogram2dcontour"
           }
          ],
          "mesh3d": [
           {
            "colorbar": {
             "outlinewidth": 0,
             "ticks": ""
            },
            "type": "mesh3d"
           }
          ],
          "parcoords": [
           {
            "line": {
             "colorbar": {
              "outlinewidth": 0,
              "ticks": ""
             }
            },
            "type": "parcoords"
           }
          ],
          "pie": [
           {
            "automargin": true,
            "type": "pie"
           }
          ],
          "scatter": [
           {
            "marker": {
             "colorbar": {
              "outlinewidth": 0,
              "ticks": ""
             }
            },
            "type": "scatter"
           }
          ],
          "scatter3d": [
           {
            "line": {
             "colorbar": {
              "outlinewidth": 0,
              "ticks": ""
             }
            },
            "marker": {
             "colorbar": {
              "outlinewidth": 0,
              "ticks": ""
             }
            },
            "type": "scatter3d"
           }
          ],
          "scattercarpet": [
           {
            "marker": {
             "colorbar": {
              "outlinewidth": 0,
              "ticks": ""
             }
            },
            "type": "scattercarpet"
           }
          ],
          "scattergeo": [
           {
            "marker": {
             "colorbar": {
              "outlinewidth": 0,
              "ticks": ""
             }
            },
            "type": "scattergeo"
           }
          ],
          "scattergl": [
           {
            "marker": {
             "colorbar": {
              "outlinewidth": 0,
              "ticks": ""
             }
            },
            "type": "scattergl"
           }
          ],
          "scattermapbox": [
           {
            "marker": {
             "colorbar": {
              "outlinewidth": 0,
              "ticks": ""
             }
            },
            "type": "scattermapbox"
           }
          ],
          "scatterpolar": [
           {
            "marker": {
             "colorbar": {
              "outlinewidth": 0,
              "ticks": ""
             }
            },
            "type": "scatterpolar"
           }
          ],
          "scatterpolargl": [
           {
            "marker": {
             "colorbar": {
              "outlinewidth": 0,
              "ticks": ""
             }
            },
            "type": "scatterpolargl"
           }
          ],
          "scatterternary": [
           {
            "marker": {
             "colorbar": {
              "outlinewidth": 0,
              "ticks": ""
             }
            },
            "type": "scatterternary"
           }
          ],
          "surface": [
           {
            "colorbar": {
             "outlinewidth": 0,
             "ticks": ""
            },
            "colorscale": [
             [
              0,
              "#0d0887"
             ],
             [
              0.1111111111111111,
              "#46039f"
             ],
             [
              0.2222222222222222,
              "#7201a8"
             ],
             [
              0.3333333333333333,
              "#9c179e"
             ],
             [
              0.4444444444444444,
              "#bd3786"
             ],
             [
              0.5555555555555556,
              "#d8576b"
             ],
             [
              0.6666666666666666,
              "#ed7953"
             ],
             [
              0.7777777777777778,
              "#fb9f3a"
             ],
             [
              0.8888888888888888,
              "#fdca26"
             ],
             [
              1,
              "#f0f921"
             ]
            ],
            "type": "surface"
           }
          ],
          "table": [
           {
            "cells": {
             "fill": {
              "color": "#EBF0F8"
             },
             "line": {
              "color": "white"
             }
            },
            "header": {
             "fill": {
              "color": "#C8D4E3"
             },
             "line": {
              "color": "white"
             }
            },
            "type": "table"
           }
          ]
         },
         "layout": {
          "annotationdefaults": {
           "arrowcolor": "#2a3f5f",
           "arrowhead": 0,
           "arrowwidth": 1
          },
          "coloraxis": {
           "colorbar": {
            "outlinewidth": 0,
            "ticks": ""
           }
          },
          "colorscale": {
           "diverging": [
            [
             0,
             "#8e0152"
            ],
            [
             0.1,
             "#c51b7d"
            ],
            [
             0.2,
             "#de77ae"
            ],
            [
             0.3,
             "#f1b6da"
            ],
            [
             0.4,
             "#fde0ef"
            ],
            [
             0.5,
             "#f7f7f7"
            ],
            [
             0.6,
             "#e6f5d0"
            ],
            [
             0.7,
             "#b8e186"
            ],
            [
             0.8,
             "#7fbc41"
            ],
            [
             0.9,
             "#4d9221"
            ],
            [
             1,
             "#276419"
            ]
           ],
           "sequential": [
            [
             0,
             "#0d0887"
            ],
            [
             0.1111111111111111,
             "#46039f"
            ],
            [
             0.2222222222222222,
             "#7201a8"
            ],
            [
             0.3333333333333333,
             "#9c179e"
            ],
            [
             0.4444444444444444,
             "#bd3786"
            ],
            [
             0.5555555555555556,
             "#d8576b"
            ],
            [
             0.6666666666666666,
             "#ed7953"
            ],
            [
             0.7777777777777778,
             "#fb9f3a"
            ],
            [
             0.8888888888888888,
             "#fdca26"
            ],
            [
             1,
             "#f0f921"
            ]
           ],
           "sequentialminus": [
            [
             0,
             "#0d0887"
            ],
            [
             0.1111111111111111,
             "#46039f"
            ],
            [
             0.2222222222222222,
             "#7201a8"
            ],
            [
             0.3333333333333333,
             "#9c179e"
            ],
            [
             0.4444444444444444,
             "#bd3786"
            ],
            [
             0.5555555555555556,
             "#d8576b"
            ],
            [
             0.6666666666666666,
             "#ed7953"
            ],
            [
             0.7777777777777778,
             "#fb9f3a"
            ],
            [
             0.8888888888888888,
             "#fdca26"
            ],
            [
             1,
             "#f0f921"
            ]
           ]
          },
          "colorway": [
           "#636efa",
           "#EF553B",
           "#00cc96",
           "#ab63fa",
           "#FFA15A",
           "#19d3f3",
           "#FF6692",
           "#B6E880",
           "#FF97FF",
           "#FECB52"
          ],
          "font": {
           "color": "#2a3f5f"
          },
          "geo": {
           "bgcolor": "white",
           "lakecolor": "white",
           "landcolor": "#E5ECF6",
           "showlakes": true,
           "showland": true,
           "subunitcolor": "white"
          },
          "hoverlabel": {
           "align": "left"
          },
          "hovermode": "closest",
          "mapbox": {
           "style": "light"
          },
          "paper_bgcolor": "white",
          "plot_bgcolor": "#E5ECF6",
          "polar": {
           "angularaxis": {
            "gridcolor": "white",
            "linecolor": "white",
            "ticks": ""
           },
           "bgcolor": "#E5ECF6",
           "radialaxis": {
            "gridcolor": "white",
            "linecolor": "white",
            "ticks": ""
           }
          },
          "scene": {
           "xaxis": {
            "backgroundcolor": "#E5ECF6",
            "gridcolor": "white",
            "gridwidth": 2,
            "linecolor": "white",
            "showbackground": true,
            "ticks": "",
            "zerolinecolor": "white"
           },
           "yaxis": {
            "backgroundcolor": "#E5ECF6",
            "gridcolor": "white",
            "gridwidth": 2,
            "linecolor": "white",
            "showbackground": true,
            "ticks": "",
            "zerolinecolor": "white"
           },
           "zaxis": {
            "backgroundcolor": "#E5ECF6",
            "gridcolor": "white",
            "gridwidth": 2,
            "linecolor": "white",
            "showbackground": true,
            "ticks": "",
            "zerolinecolor": "white"
           }
          },
          "shapedefaults": {
           "line": {
            "color": "#2a3f5f"
           }
          },
          "ternary": {
           "aaxis": {
            "gridcolor": "white",
            "linecolor": "white",
            "ticks": ""
           },
           "baxis": {
            "gridcolor": "white",
            "linecolor": "white",
            "ticks": ""
           },
           "bgcolor": "#E5ECF6",
           "caxis": {
            "gridcolor": "white",
            "linecolor": "white",
            "ticks": ""
           }
          },
          "title": {
           "x": 0.05
          },
          "xaxis": {
           "automargin": true,
           "gridcolor": "white",
           "linecolor": "white",
           "ticks": "",
           "title": {
            "standoff": 15
           },
           "zerolinecolor": "white",
           "zerolinewidth": 2
          },
          "yaxis": {
           "automargin": true,
           "gridcolor": "white",
           "linecolor": "white",
           "ticks": "",
           "title": {
            "standoff": 15
           },
           "zerolinecolor": "white",
           "zerolinewidth": 2
          }
         }
        },
        "title": {
         "text": "Turnout Data 2016"
        },
        "width": 1000,
        "xaxis": {
         "anchor": "y",
         "domain": [
          0,
          1
         ],
         "title": {
          "text": "StateAbbreviation"
         }
        },
        "yaxis": {
         "anchor": "x",
         "domain": [
          0,
          1
         ],
         "title": {
          "text": "PercentTurnout"
         }
        }
       }
      }
     },
     "metadata": {}
    }
   ],
   "source": [
    "Turnout2016 = pe.bar(TurnoutDF2016, x=\"StateAbbreviation\", y=\"PercentTurnout\", title=\"Turnout Data 2016\",\n",
    "            color_discrete_sequence =['blue']*len(PercentTurnoutDF2008),\n",
    "             barmode='group',\n",
    "             height=400, width=1000)\n",
    "Turnout2016.show()"
   ]
  },
  {
   "cell_type": "code",
   "execution_count": 15,
   "metadata": {},
   "outputs": [
    {
     "output_type": "execute_result",
     "data": {
      "text/plain": "    ElectionYear StateAbbreviation       StateName  PercentOfRegisteredVoters  \\\n50          2012                AL         Alabama                   0.863281   \n51          2012                AK          Alaska                   0.868472   \n52          2012                AZ         Arizona                   0.774522   \n53          2012                AR        Arkansas                   0.759484   \n54          2012                CA      California                   0.801004   \n55          2012                CO        Colorado                   0.878434   \n56          2012                CT     Connecticut                   0.844919   \n57          2012                DE        Delaware                   0.862704   \n58          2012                FL         Florida                   0.852604   \n59          2012                GA         Georgia                   0.863209   \n60          2012                HI          Hawaii                   0.709173   \n61          2012                ID           Idaho                   0.770536   \n62          2012                IL        Illinois                   0.848232   \n63          2012                IN         Indiana                   0.784238   \n64          2012                IA            Iowa                   0.864816   \n65          2012                KS          Kansas                   0.812868   \n66          2012                KY        Kentucky                   0.808119   \n67          2012                LA       Louisiana                   0.850255   \n68          2012                ME           Maine                   0.854557   \n69          2012                MD        Maryland                   0.870717   \n70          2012                MA   Massachusetts                   0.877361   \n71          2012                MI        Michigan                   0.895289   \n72          2012                MN       Minnesota                   0.876896   \n73          2012                MS     Mississippi                   0.901981   \n74          2012                MO        Missouri                   0.867941   \n75          2012                MT         Montana                   0.827205   \n76          2012                NE        Nebraska                   0.814917   \n77          2012                NV          Nevada                   0.789902   \n78          2012                NH   New Hampshire                   0.841584   \n79          2012                NJ      New Jersey                   0.865412   \n80          2012                NM      New Mexico                   0.824948   \n81          2012                NY        New York                   0.825425   \n82          2012                NC  North Carolina                   0.888212   \n83          2012                ND    North Dakota                        NaN   \n84          2012                OH            Ohio                   0.849661   \n85          2012                OK        Oklahoma                   0.769624   \n86          2012                OR          Oregon                   0.858678   \n87          2012                PA    Pennsylvania                   0.809868   \n88          2012                RI    Rhode Island                   0.835654   \n89          2012                SC  South Carolina                   0.824908   \n90          2012                SD    South Dakota                   0.831365   \n91          2012                TN       Tennessee                   0.786240   \n92          2012                TX           Texas                   0.770875   \n93          2012                UT            Utah                   0.767897   \n94          2012                VT         Vermont                   0.826686   \n95          2012                VA        Virginia                   0.861230   \n96          2012                WA      Washington                   0.840118   \n97          2012                WV   West Virginia                   0.788750   \n98          2012                WI       Wisconsin                   0.877778   \n99          2012                WY         Wyoming                   0.746732   \n\n    PercentTurnout  \n50           0.586  \n51           0.587  \n52           0.526  \n53           0.507  \n54           0.551  \n55           0.699  \n56           0.613  \n57           0.623  \n58           0.628  \n59           0.590  \n60           0.442  \n61           0.598  \n62           0.589  \n63           0.552  \n64           0.703  \n65           0.569  \n66           0.557  \n67           0.602  \n68           0.682  \n69           0.666  \n70           0.659  \n71           0.647  \n72           0.760  \n73           0.593  \n74           0.622  \n75           0.625  \n76           0.603  \n77           0.564  \n78           0.702  \n79           0.615  \n80           0.546  \n81           0.531  \n82           0.648  \n83           0.598  \n84           0.645  \n85           0.492  \n86           0.631  \n87           0.595  \n88           0.580  \n89           0.563  \n90           0.593  \n91           0.519  \n92           0.496  \n93           0.555  \n94           0.607  \n95           0.661  \n96           0.648  \n97           0.463  \n98           0.729  \n99           0.586  ",
      "text/html": "<div>\n<style scoped>\n    .dataframe tbody tr th:only-of-type {\n        vertical-align: middle;\n    }\n\n    .dataframe tbody tr th {\n        vertical-align: top;\n    }\n\n    .dataframe thead th {\n        text-align: right;\n    }\n</style>\n<table border=\"1\" class=\"dataframe\">\n  <thead>\n    <tr style=\"text-align: right;\">\n      <th></th>\n      <th>ElectionYear</th>\n      <th>StateAbbreviation</th>\n      <th>StateName</th>\n      <th>PercentOfRegisteredVoters</th>\n      <th>PercentTurnout</th>\n    </tr>\n  </thead>\n  <tbody>\n    <tr>\n      <th>50</th>\n      <td>2012</td>\n      <td>AL</td>\n      <td>Alabama</td>\n      <td>0.863281</td>\n      <td>0.586</td>\n    </tr>\n    <tr>\n      <th>51</th>\n      <td>2012</td>\n      <td>AK</td>\n      <td>Alaska</td>\n      <td>0.868472</td>\n      <td>0.587</td>\n    </tr>\n    <tr>\n      <th>52</th>\n      <td>2012</td>\n      <td>AZ</td>\n      <td>Arizona</td>\n      <td>0.774522</td>\n      <td>0.526</td>\n    </tr>\n    <tr>\n      <th>53</th>\n      <td>2012</td>\n      <td>AR</td>\n      <td>Arkansas</td>\n      <td>0.759484</td>\n      <td>0.507</td>\n    </tr>\n    <tr>\n      <th>54</th>\n      <td>2012</td>\n      <td>CA</td>\n      <td>California</td>\n      <td>0.801004</td>\n      <td>0.551</td>\n    </tr>\n    <tr>\n      <th>55</th>\n      <td>2012</td>\n      <td>CO</td>\n      <td>Colorado</td>\n      <td>0.878434</td>\n      <td>0.699</td>\n    </tr>\n    <tr>\n      <th>56</th>\n      <td>2012</td>\n      <td>CT</td>\n      <td>Connecticut</td>\n      <td>0.844919</td>\n      <td>0.613</td>\n    </tr>\n    <tr>\n      <th>57</th>\n      <td>2012</td>\n      <td>DE</td>\n      <td>Delaware</td>\n      <td>0.862704</td>\n      <td>0.623</td>\n    </tr>\n    <tr>\n      <th>58</th>\n      <td>2012</td>\n      <td>FL</td>\n      <td>Florida</td>\n      <td>0.852604</td>\n      <td>0.628</td>\n    </tr>\n    <tr>\n      <th>59</th>\n      <td>2012</td>\n      <td>GA</td>\n      <td>Georgia</td>\n      <td>0.863209</td>\n      <td>0.590</td>\n    </tr>\n    <tr>\n      <th>60</th>\n      <td>2012</td>\n      <td>HI</td>\n      <td>Hawaii</td>\n      <td>0.709173</td>\n      <td>0.442</td>\n    </tr>\n    <tr>\n      <th>61</th>\n      <td>2012</td>\n      <td>ID</td>\n      <td>Idaho</td>\n      <td>0.770536</td>\n      <td>0.598</td>\n    </tr>\n    <tr>\n      <th>62</th>\n      <td>2012</td>\n      <td>IL</td>\n      <td>Illinois</td>\n      <td>0.848232</td>\n      <td>0.589</td>\n    </tr>\n    <tr>\n      <th>63</th>\n      <td>2012</td>\n      <td>IN</td>\n      <td>Indiana</td>\n      <td>0.784238</td>\n      <td>0.552</td>\n    </tr>\n    <tr>\n      <th>64</th>\n      <td>2012</td>\n      <td>IA</td>\n      <td>Iowa</td>\n      <td>0.864816</td>\n      <td>0.703</td>\n    </tr>\n    <tr>\n      <th>65</th>\n      <td>2012</td>\n      <td>KS</td>\n      <td>Kansas</td>\n      <td>0.812868</td>\n      <td>0.569</td>\n    </tr>\n    <tr>\n      <th>66</th>\n      <td>2012</td>\n      <td>KY</td>\n      <td>Kentucky</td>\n      <td>0.808119</td>\n      <td>0.557</td>\n    </tr>\n    <tr>\n      <th>67</th>\n      <td>2012</td>\n      <td>LA</td>\n      <td>Louisiana</td>\n      <td>0.850255</td>\n      <td>0.602</td>\n    </tr>\n    <tr>\n      <th>68</th>\n      <td>2012</td>\n      <td>ME</td>\n      <td>Maine</td>\n      <td>0.854557</td>\n      <td>0.682</td>\n    </tr>\n    <tr>\n      <th>69</th>\n      <td>2012</td>\n      <td>MD</td>\n      <td>Maryland</td>\n      <td>0.870717</td>\n      <td>0.666</td>\n    </tr>\n    <tr>\n      <th>70</th>\n      <td>2012</td>\n      <td>MA</td>\n      <td>Massachusetts</td>\n      <td>0.877361</td>\n      <td>0.659</td>\n    </tr>\n    <tr>\n      <th>71</th>\n      <td>2012</td>\n      <td>MI</td>\n      <td>Michigan</td>\n      <td>0.895289</td>\n      <td>0.647</td>\n    </tr>\n    <tr>\n      <th>72</th>\n      <td>2012</td>\n      <td>MN</td>\n      <td>Minnesota</td>\n      <td>0.876896</td>\n      <td>0.760</td>\n    </tr>\n    <tr>\n      <th>73</th>\n      <td>2012</td>\n      <td>MS</td>\n      <td>Mississippi</td>\n      <td>0.901981</td>\n      <td>0.593</td>\n    </tr>\n    <tr>\n      <th>74</th>\n      <td>2012</td>\n      <td>MO</td>\n      <td>Missouri</td>\n      <td>0.867941</td>\n      <td>0.622</td>\n    </tr>\n    <tr>\n      <th>75</th>\n      <td>2012</td>\n      <td>MT</td>\n      <td>Montana</td>\n      <td>0.827205</td>\n      <td>0.625</td>\n    </tr>\n    <tr>\n      <th>76</th>\n      <td>2012</td>\n      <td>NE</td>\n      <td>Nebraska</td>\n      <td>0.814917</td>\n      <td>0.603</td>\n    </tr>\n    <tr>\n      <th>77</th>\n      <td>2012</td>\n      <td>NV</td>\n      <td>Nevada</td>\n      <td>0.789902</td>\n      <td>0.564</td>\n    </tr>\n    <tr>\n      <th>78</th>\n      <td>2012</td>\n      <td>NH</td>\n      <td>New Hampshire</td>\n      <td>0.841584</td>\n      <td>0.702</td>\n    </tr>\n    <tr>\n      <th>79</th>\n      <td>2012</td>\n      <td>NJ</td>\n      <td>New Jersey</td>\n      <td>0.865412</td>\n      <td>0.615</td>\n    </tr>\n    <tr>\n      <th>80</th>\n      <td>2012</td>\n      <td>NM</td>\n      <td>New Mexico</td>\n      <td>0.824948</td>\n      <td>0.546</td>\n    </tr>\n    <tr>\n      <th>81</th>\n      <td>2012</td>\n      <td>NY</td>\n      <td>New York</td>\n      <td>0.825425</td>\n      <td>0.531</td>\n    </tr>\n    <tr>\n      <th>82</th>\n      <td>2012</td>\n      <td>NC</td>\n      <td>North Carolina</td>\n      <td>0.888212</td>\n      <td>0.648</td>\n    </tr>\n    <tr>\n      <th>83</th>\n      <td>2012</td>\n      <td>ND</td>\n      <td>North Dakota</td>\n      <td>NaN</td>\n      <td>0.598</td>\n    </tr>\n    <tr>\n      <th>84</th>\n      <td>2012</td>\n      <td>OH</td>\n      <td>Ohio</td>\n      <td>0.849661</td>\n      <td>0.645</td>\n    </tr>\n    <tr>\n      <th>85</th>\n      <td>2012</td>\n      <td>OK</td>\n      <td>Oklahoma</td>\n      <td>0.769624</td>\n      <td>0.492</td>\n    </tr>\n    <tr>\n      <th>86</th>\n      <td>2012</td>\n      <td>OR</td>\n      <td>Oregon</td>\n      <td>0.858678</td>\n      <td>0.631</td>\n    </tr>\n    <tr>\n      <th>87</th>\n      <td>2012</td>\n      <td>PA</td>\n      <td>Pennsylvania</td>\n      <td>0.809868</td>\n      <td>0.595</td>\n    </tr>\n    <tr>\n      <th>88</th>\n      <td>2012</td>\n      <td>RI</td>\n      <td>Rhode Island</td>\n      <td>0.835654</td>\n      <td>0.580</td>\n    </tr>\n    <tr>\n      <th>89</th>\n      <td>2012</td>\n      <td>SC</td>\n      <td>South Carolina</td>\n      <td>0.824908</td>\n      <td>0.563</td>\n    </tr>\n    <tr>\n      <th>90</th>\n      <td>2012</td>\n      <td>SD</td>\n      <td>South Dakota</td>\n      <td>0.831365</td>\n      <td>0.593</td>\n    </tr>\n    <tr>\n      <th>91</th>\n      <td>2012</td>\n      <td>TN</td>\n      <td>Tennessee</td>\n      <td>0.786240</td>\n      <td>0.519</td>\n    </tr>\n    <tr>\n      <th>92</th>\n      <td>2012</td>\n      <td>TX</td>\n      <td>Texas</td>\n      <td>0.770875</td>\n      <td>0.496</td>\n    </tr>\n    <tr>\n      <th>93</th>\n      <td>2012</td>\n      <td>UT</td>\n      <td>Utah</td>\n      <td>0.767897</td>\n      <td>0.555</td>\n    </tr>\n    <tr>\n      <th>94</th>\n      <td>2012</td>\n      <td>VT</td>\n      <td>Vermont</td>\n      <td>0.826686</td>\n      <td>0.607</td>\n    </tr>\n    <tr>\n      <th>95</th>\n      <td>2012</td>\n      <td>VA</td>\n      <td>Virginia</td>\n      <td>0.861230</td>\n      <td>0.661</td>\n    </tr>\n    <tr>\n      <th>96</th>\n      <td>2012</td>\n      <td>WA</td>\n      <td>Washington</td>\n      <td>0.840118</td>\n      <td>0.648</td>\n    </tr>\n    <tr>\n      <th>97</th>\n      <td>2012</td>\n      <td>WV</td>\n      <td>West Virginia</td>\n      <td>0.788750</td>\n      <td>0.463</td>\n    </tr>\n    <tr>\n      <th>98</th>\n      <td>2012</td>\n      <td>WI</td>\n      <td>Wisconsin</td>\n      <td>0.877778</td>\n      <td>0.729</td>\n    </tr>\n    <tr>\n      <th>99</th>\n      <td>2012</td>\n      <td>WY</td>\n      <td>Wyoming</td>\n      <td>0.746732</td>\n      <td>0.586</td>\n    </tr>\n  </tbody>\n</table>\n</div>"
     },
     "metadata": {},
     "execution_count": 15
    }
   ],
   "source": [
    "TurnoutDF2012=PercentRegisteredDF[PercentRegisteredDF['ElectionYear']==2012]\n",
    "TurnoutDF2012"
   ]
  },
  {
   "cell_type": "code",
   "execution_count": 16,
   "metadata": {},
   "outputs": [
    {
     "output_type": "display_data",
     "data": {
      "application/vnd.plotly.v1+json": {
       "config": {
        "plotlyServerURL": "https://plot.ly"
       },
       "data": [
        {
         "alignmentgroup": "True",
         "hovertemplate": "StateAbbreviation=%{x}<br>PercentTurnout=%{y}<extra></extra>",
         "legendgroup": "",
         "marker": {
          "color": "red"
         },
         "name": "",
         "offsetgroup": "",
         "orientation": "v",
         "showlegend": false,
         "textposition": "auto",
         "type": "bar",
         "x": [
          "AL",
          "AK",
          "AZ",
          "AR",
          "CA",
          "CO",
          "CT",
          "DE",
          "FL",
          "GA",
          "HI",
          "ID",
          "IL",
          "IN",
          "IA",
          "KS",
          "KY",
          "LA",
          "ME",
          "MD",
          "MA",
          "MI",
          "MN",
          "MS",
          "MO",
          "MT",
          "NE",
          "NV",
          "NH",
          "NJ",
          "NM",
          "NY",
          "NC",
          "ND",
          "OH",
          "OK",
          "OR",
          "PA",
          "RI",
          "SC",
          "SD",
          "TN",
          "TX",
          "UT",
          "VT",
          "VA",
          "WA",
          "WV",
          "WI",
          "WY"
         ],
         "xaxis": "x",
         "y": [
          0.586,
          0.587,
          0.526,
          0.507,
          0.551,
          0.699,
          0.613,
          0.623,
          0.628,
          0.59,
          0.442,
          0.598,
          0.589,
          0.552,
          0.703,
          0.569,
          0.557,
          0.602,
          0.682,
          0.666,
          0.659,
          0.647,
          0.76,
          0.593,
          0.622,
          0.625,
          0.603,
          0.564,
          0.702,
          0.615,
          0.546,
          0.531,
          0.648,
          0.598,
          0.645,
          0.492,
          0.631,
          0.595,
          0.58,
          0.563,
          0.593,
          0.519,
          0.496,
          0.555,
          0.607,
          0.661,
          0.648,
          0.463,
          0.729,
          0.586
         ],
         "yaxis": "y"
        }
       ],
       "layout": {
        "barmode": "group",
        "height": 400,
        "legend": {
         "tracegroupgap": 0
        },
        "template": {
         "data": {
          "bar": [
           {
            "error_x": {
             "color": "#2a3f5f"
            },
            "error_y": {
             "color": "#2a3f5f"
            },
            "marker": {
             "line": {
              "color": "#E5ECF6",
              "width": 0.5
             }
            },
            "type": "bar"
           }
          ],
          "barpolar": [
           {
            "marker": {
             "line": {
              "color": "#E5ECF6",
              "width": 0.5
             }
            },
            "type": "barpolar"
           }
          ],
          "carpet": [
           {
            "aaxis": {
             "endlinecolor": "#2a3f5f",
             "gridcolor": "white",
             "linecolor": "white",
             "minorgridcolor": "white",
             "startlinecolor": "#2a3f5f"
            },
            "baxis": {
             "endlinecolor": "#2a3f5f",
             "gridcolor": "white",
             "linecolor": "white",
             "minorgridcolor": "white",
             "startlinecolor": "#2a3f5f"
            },
            "type": "carpet"
           }
          ],
          "choropleth": [
           {
            "colorbar": {
             "outlinewidth": 0,
             "ticks": ""
            },
            "type": "choropleth"
           }
          ],
          "contour": [
           {
            "colorbar": {
             "outlinewidth": 0,
             "ticks": ""
            },
            "colorscale": [
             [
              0,
              "#0d0887"
             ],
             [
              0.1111111111111111,
              "#46039f"
             ],
             [
              0.2222222222222222,
              "#7201a8"
             ],
             [
              0.3333333333333333,
              "#9c179e"
             ],
             [
              0.4444444444444444,
              "#bd3786"
             ],
             [
              0.5555555555555556,
              "#d8576b"
             ],
             [
              0.6666666666666666,
              "#ed7953"
             ],
             [
              0.7777777777777778,
              "#fb9f3a"
             ],
             [
              0.8888888888888888,
              "#fdca26"
             ],
             [
              1,
              "#f0f921"
             ]
            ],
            "type": "contour"
           }
          ],
          "contourcarpet": [
           {
            "colorbar": {
             "outlinewidth": 0,
             "ticks": ""
            },
            "type": "contourcarpet"
           }
          ],
          "heatmap": [
           {
            "colorbar": {
             "outlinewidth": 0,
             "ticks": ""
            },
            "colorscale": [
             [
              0,
              "#0d0887"
             ],
             [
              0.1111111111111111,
              "#46039f"
             ],
             [
              0.2222222222222222,
              "#7201a8"
             ],
             [
              0.3333333333333333,
              "#9c179e"
             ],
             [
              0.4444444444444444,
              "#bd3786"
             ],
             [
              0.5555555555555556,
              "#d8576b"
             ],
             [
              0.6666666666666666,
              "#ed7953"
             ],
             [
              0.7777777777777778,
              "#fb9f3a"
             ],
             [
              0.8888888888888888,
              "#fdca26"
             ],
             [
              1,
              "#f0f921"
             ]
            ],
            "type": "heatmap"
           }
          ],
          "heatmapgl": [
           {
            "colorbar": {
             "outlinewidth": 0,
             "ticks": ""
            },
            "colorscale": [
             [
              0,
              "#0d0887"
             ],
             [
              0.1111111111111111,
              "#46039f"
             ],
             [
              0.2222222222222222,
              "#7201a8"
             ],
             [
              0.3333333333333333,
              "#9c179e"
             ],
             [
              0.4444444444444444,
              "#bd3786"
             ],
             [
              0.5555555555555556,
              "#d8576b"
             ],
             [
              0.6666666666666666,
              "#ed7953"
             ],
             [
              0.7777777777777778,
              "#fb9f3a"
             ],
             [
              0.8888888888888888,
              "#fdca26"
             ],
             [
              1,
              "#f0f921"
             ]
            ],
            "type": "heatmapgl"
           }
          ],
          "histogram": [
           {
            "marker": {
             "colorbar": {
              "outlinewidth": 0,
              "ticks": ""
             }
            },
            "type": "histogram"
           }
          ],
          "histogram2d": [
           {
            "colorbar": {
             "outlinewidth": 0,
             "ticks": ""
            },
            "colorscale": [
             [
              0,
              "#0d0887"
             ],
             [
              0.1111111111111111,
              "#46039f"
             ],
             [
              0.2222222222222222,
              "#7201a8"
             ],
             [
              0.3333333333333333,
              "#9c179e"
             ],
             [
              0.4444444444444444,
              "#bd3786"
             ],
             [
              0.5555555555555556,
              "#d8576b"
             ],
             [
              0.6666666666666666,
              "#ed7953"
             ],
             [
              0.7777777777777778,
              "#fb9f3a"
             ],
             [
              0.8888888888888888,
              "#fdca26"
             ],
             [
              1,
              "#f0f921"
             ]
            ],
            "type": "histogram2d"
           }
          ],
          "histogram2dcontour": [
           {
            "colorbar": {
             "outlinewidth": 0,
             "ticks": ""
            },
            "colorscale": [
             [
              0,
              "#0d0887"
             ],
             [
              0.1111111111111111,
              "#46039f"
             ],
             [
              0.2222222222222222,
              "#7201a8"
             ],
             [
              0.3333333333333333,
              "#9c179e"
             ],
             [
              0.4444444444444444,
              "#bd3786"
             ],
             [
              0.5555555555555556,
              "#d8576b"
             ],
             [
              0.6666666666666666,
              "#ed7953"
             ],
             [
              0.7777777777777778,
              "#fb9f3a"
             ],
             [
              0.8888888888888888,
              "#fdca26"
             ],
             [
              1,
              "#f0f921"
             ]
            ],
            "type": "histogram2dcontour"
           }
          ],
          "mesh3d": [
           {
            "colorbar": {
             "outlinewidth": 0,
             "ticks": ""
            },
            "type": "mesh3d"
           }
          ],
          "parcoords": [
           {
            "line": {
             "colorbar": {
              "outlinewidth": 0,
              "ticks": ""
             }
            },
            "type": "parcoords"
           }
          ],
          "pie": [
           {
            "automargin": true,
            "type": "pie"
           }
          ],
          "scatter": [
           {
            "marker": {
             "colorbar": {
              "outlinewidth": 0,
              "ticks": ""
             }
            },
            "type": "scatter"
           }
          ],
          "scatter3d": [
           {
            "line": {
             "colorbar": {
              "outlinewidth": 0,
              "ticks": ""
             }
            },
            "marker": {
             "colorbar": {
              "outlinewidth": 0,
              "ticks": ""
             }
            },
            "type": "scatter3d"
           }
          ],
          "scattercarpet": [
           {
            "marker": {
             "colorbar": {
              "outlinewidth": 0,
              "ticks": ""
             }
            },
            "type": "scattercarpet"
           }
          ],
          "scattergeo": [
           {
            "marker": {
             "colorbar": {
              "outlinewidth": 0,
              "ticks": ""
             }
            },
            "type": "scattergeo"
           }
          ],
          "scattergl": [
           {
            "marker": {
             "colorbar": {
              "outlinewidth": 0,
              "ticks": ""
             }
            },
            "type": "scattergl"
           }
          ],
          "scattermapbox": [
           {
            "marker": {
             "colorbar": {
              "outlinewidth": 0,
              "ticks": ""
             }
            },
            "type": "scattermapbox"
           }
          ],
          "scatterpolar": [
           {
            "marker": {
             "colorbar": {
              "outlinewidth": 0,
              "ticks": ""
             }
            },
            "type": "scatterpolar"
           }
          ],
          "scatterpolargl": [
           {
            "marker": {
             "colorbar": {
              "outlinewidth": 0,
              "ticks": ""
             }
            },
            "type": "scatterpolargl"
           }
          ],
          "scatterternary": [
           {
            "marker": {
             "colorbar": {
              "outlinewidth": 0,
              "ticks": ""
             }
            },
            "type": "scatterternary"
           }
          ],
          "surface": [
           {
            "colorbar": {
             "outlinewidth": 0,
             "ticks": ""
            },
            "colorscale": [
             [
              0,
              "#0d0887"
             ],
             [
              0.1111111111111111,
              "#46039f"
             ],
             [
              0.2222222222222222,
              "#7201a8"
             ],
             [
              0.3333333333333333,
              "#9c179e"
             ],
             [
              0.4444444444444444,
              "#bd3786"
             ],
             [
              0.5555555555555556,
              "#d8576b"
             ],
             [
              0.6666666666666666,
              "#ed7953"
             ],
             [
              0.7777777777777778,
              "#fb9f3a"
             ],
             [
              0.8888888888888888,
              "#fdca26"
             ],
             [
              1,
              "#f0f921"
             ]
            ],
            "type": "surface"
           }
          ],
          "table": [
           {
            "cells": {
             "fill": {
              "color": "#EBF0F8"
             },
             "line": {
              "color": "white"
             }
            },
            "header": {
             "fill": {
              "color": "#C8D4E3"
             },
             "line": {
              "color": "white"
             }
            },
            "type": "table"
           }
          ]
         },
         "layout": {
          "annotationdefaults": {
           "arrowcolor": "#2a3f5f",
           "arrowhead": 0,
           "arrowwidth": 1
          },
          "coloraxis": {
           "colorbar": {
            "outlinewidth": 0,
            "ticks": ""
           }
          },
          "colorscale": {
           "diverging": [
            [
             0,
             "#8e0152"
            ],
            [
             0.1,
             "#c51b7d"
            ],
            [
             0.2,
             "#de77ae"
            ],
            [
             0.3,
             "#f1b6da"
            ],
            [
             0.4,
             "#fde0ef"
            ],
            [
             0.5,
             "#f7f7f7"
            ],
            [
             0.6,
             "#e6f5d0"
            ],
            [
             0.7,
             "#b8e186"
            ],
            [
             0.8,
             "#7fbc41"
            ],
            [
             0.9,
             "#4d9221"
            ],
            [
             1,
             "#276419"
            ]
           ],
           "sequential": [
            [
             0,
             "#0d0887"
            ],
            [
             0.1111111111111111,
             "#46039f"
            ],
            [
             0.2222222222222222,
             "#7201a8"
            ],
            [
             0.3333333333333333,
             "#9c179e"
            ],
            [
             0.4444444444444444,
             "#bd3786"
            ],
            [
             0.5555555555555556,
             "#d8576b"
            ],
            [
             0.6666666666666666,
             "#ed7953"
            ],
            [
             0.7777777777777778,
             "#fb9f3a"
            ],
            [
             0.8888888888888888,
             "#fdca26"
            ],
            [
             1,
             "#f0f921"
            ]
           ],
           "sequentialminus": [
            [
             0,
             "#0d0887"
            ],
            [
             0.1111111111111111,
             "#46039f"
            ],
            [
             0.2222222222222222,
             "#7201a8"
            ],
            [
             0.3333333333333333,
             "#9c179e"
            ],
            [
             0.4444444444444444,
             "#bd3786"
            ],
            [
             0.5555555555555556,
             "#d8576b"
            ],
            [
             0.6666666666666666,
             "#ed7953"
            ],
            [
             0.7777777777777778,
             "#fb9f3a"
            ],
            [
             0.8888888888888888,
             "#fdca26"
            ],
            [
             1,
             "#f0f921"
            ]
           ]
          },
          "colorway": [
           "#636efa",
           "#EF553B",
           "#00cc96",
           "#ab63fa",
           "#FFA15A",
           "#19d3f3",
           "#FF6692",
           "#B6E880",
           "#FF97FF",
           "#FECB52"
          ],
          "font": {
           "color": "#2a3f5f"
          },
          "geo": {
           "bgcolor": "white",
           "lakecolor": "white",
           "landcolor": "#E5ECF6",
           "showlakes": true,
           "showland": true,
           "subunitcolor": "white"
          },
          "hoverlabel": {
           "align": "left"
          },
          "hovermode": "closest",
          "mapbox": {
           "style": "light"
          },
          "paper_bgcolor": "white",
          "plot_bgcolor": "#E5ECF6",
          "polar": {
           "angularaxis": {
            "gridcolor": "white",
            "linecolor": "white",
            "ticks": ""
           },
           "bgcolor": "#E5ECF6",
           "radialaxis": {
            "gridcolor": "white",
            "linecolor": "white",
            "ticks": ""
           }
          },
          "scene": {
           "xaxis": {
            "backgroundcolor": "#E5ECF6",
            "gridcolor": "white",
            "gridwidth": 2,
            "linecolor": "white",
            "showbackground": true,
            "ticks": "",
            "zerolinecolor": "white"
           },
           "yaxis": {
            "backgroundcolor": "#E5ECF6",
            "gridcolor": "white",
            "gridwidth": 2,
            "linecolor": "white",
            "showbackground": true,
            "ticks": "",
            "zerolinecolor": "white"
           },
           "zaxis": {
            "backgroundcolor": "#E5ECF6",
            "gridcolor": "white",
            "gridwidth": 2,
            "linecolor": "white",
            "showbackground": true,
            "ticks": "",
            "zerolinecolor": "white"
           }
          },
          "shapedefaults": {
           "line": {
            "color": "#2a3f5f"
           }
          },
          "ternary": {
           "aaxis": {
            "gridcolor": "white",
            "linecolor": "white",
            "ticks": ""
           },
           "baxis": {
            "gridcolor": "white",
            "linecolor": "white",
            "ticks": ""
           },
           "bgcolor": "#E5ECF6",
           "caxis": {
            "gridcolor": "white",
            "linecolor": "white",
            "ticks": ""
           }
          },
          "title": {
           "x": 0.05
          },
          "xaxis": {
           "automargin": true,
           "gridcolor": "white",
           "linecolor": "white",
           "ticks": "",
           "title": {
            "standoff": 15
           },
           "zerolinecolor": "white",
           "zerolinewidth": 2
          },
          "yaxis": {
           "automargin": true,
           "gridcolor": "white",
           "linecolor": "white",
           "ticks": "",
           "title": {
            "standoff": 15
           },
           "zerolinecolor": "white",
           "zerolinewidth": 2
          }
         }
        },
        "title": {
         "text": "Turnout Data 2012"
        },
        "width": 1000,
        "xaxis": {
         "anchor": "y",
         "domain": [
          0,
          1
         ],
         "title": {
          "text": "StateAbbreviation"
         }
        },
        "yaxis": {
         "anchor": "x",
         "domain": [
          0,
          1
         ],
         "title": {
          "text": "PercentTurnout"
         }
        }
       }
      }
     },
     "metadata": {}
    }
   ],
   "source": [
    "Turnout2012 = pe.bar(TurnoutDF2012, x=\"StateAbbreviation\", y=\"PercentTurnout\", title=\"Turnout Data 2012\",\n",
    "            color_discrete_sequence =['red']*len(TurnoutDF2012),\n",
    "             barmode='group',\n",
    "             height=400, width=1000)\n",
    "Turnout2012.show()"
   ]
  },
  {
   "cell_type": "code",
   "execution_count": 17,
   "metadata": {},
   "outputs": [
    {
     "output_type": "execute_result",
     "data": {
      "text/plain": "     ElectionYear StateAbbreviation       StateName  \\\n200          2014                AL         Alabama   \n201          2014                AK          Alaska   \n202          2014                AZ         Arizona   \n203          2014                AR        Arkansas   \n204          2014                CA      California   \n205          2014                CO        Colorado   \n206          2014                CT     Connecticut   \n207          2014                DE        Delaware   \n208          2014                FL         Florida   \n209          2014                GA         Georgia   \n210          2014                HI          Hawaii   \n211          2014                ID           Idaho   \n212          2014                IL        Illinois   \n213          2014                IN         Indiana   \n214          2014                IA            Iowa   \n215          2014                KS          Kansas   \n216          2014                KY        Kentucky   \n217          2014                LA       Louisiana   \n218          2014                ME           Maine   \n219          2014                MD        Maryland   \n220          2014                MA   Massachusetts   \n221          2014                MI        Michigan   \n222          2014                MN       Minnesota   \n223          2014                MS     Mississippi   \n224          2014                MO        Missouri   \n225          2014                MT         Montana   \n226          2014                NE        Nebraska   \n227          2014                NV          Nevada   \n228          2014                NH   New Hampshire   \n229          2014                NJ      New Jersey   \n230          2014                NM      New Mexico   \n231          2014                NY        New York   \n232          2014                NC  North Carolina   \n233          2014                ND    North Dakota   \n234          2014                OH            Ohio   \n235          2014                OK        Oklahoma   \n236          2014                OR          Oregon   \n237          2014                PA    Pennsylvania   \n238          2014                RI    Rhode Island   \n239          2014                SC  South Carolina   \n240          2014                SD    South Dakota   \n241          2014                TN       Tennessee   \n242          2014                TX           Texas   \n243          2014                UT            Utah   \n244          2014                VT         Vermont   \n245          2014                VA        Virginia   \n246          2014                WA      Washington   \n247          2014                WV   West Virginia   \n248          2014                WI       Wisconsin   \n249          2014                WY         Wyoming   \n\n     PercentOfRegisteredVoters  PercentTurnout  \n200                   0.801846           0.329  \n201                   0.826949           0.542  \n202                   0.774479           0.334  \n203                   0.747297           0.401  \n204                   0.741494           0.299  \n205                   0.866747           0.537  \n206                   0.811415           0.423  \n207                   0.824842           0.343  \n208                   0.822848           0.428  \n209                   0.778035           0.382  \n210                   0.640036           0.362  \n211                   0.701522           0.393  \n212                   0.802402           0.402  \n213                   0.751587           0.278  \n214                   0.847691           0.498  \n215                   0.750579           0.425  \n216                   0.807573           0.442  \n217                   0.821286           0.439  \n218                   0.848236           0.581  \n219                   0.851854           0.417  \n220                   0.805996           0.441  \n221                   0.866478           0.427  \n222                   0.825280           0.504  \n223                   0.852437           0.290  \n224                   0.834504           0.317  \n225                   0.741809           0.469  \n226                   0.775799           0.405  \n227                   0.685297           0.293  \n228                   0.783223           0.476  \n229                   0.811916           0.311  \n230                   0.740992           0.354  \n231                   0.764596           0.282  \n232                   0.830446           0.408  \n233                        NaN           0.438  \n234                   0.772956           0.351  \n235                   0.740372           0.299  \n236                   0.841576           0.509  \n237                   0.765750           0.361  \n238                   0.792128           0.417  \n239                   0.794805           0.348  \n240                   0.752527           0.443  \n241                   0.743123           0.286  \n242                   0.728038           0.283  \n243                   0.698871           0.297  \n244                   0.767933           0.389  \n245                   0.835605           0.366  \n246                   0.816906           0.412  \n247                   0.756622           0.312  \n248                   0.818323           0.566  \n249                   0.674434           0.390  ",
      "text/html": "<div>\n<style scoped>\n    .dataframe tbody tr th:only-of-type {\n        vertical-align: middle;\n    }\n\n    .dataframe tbody tr th {\n        vertical-align: top;\n    }\n\n    .dataframe thead th {\n        text-align: right;\n    }\n</style>\n<table border=\"1\" class=\"dataframe\">\n  <thead>\n    <tr style=\"text-align: right;\">\n      <th></th>\n      <th>ElectionYear</th>\n      <th>StateAbbreviation</th>\n      <th>StateName</th>\n      <th>PercentOfRegisteredVoters</th>\n      <th>PercentTurnout</th>\n    </tr>\n  </thead>\n  <tbody>\n    <tr>\n      <th>200</th>\n      <td>2014</td>\n      <td>AL</td>\n      <td>Alabama</td>\n      <td>0.801846</td>\n      <td>0.329</td>\n    </tr>\n    <tr>\n      <th>201</th>\n      <td>2014</td>\n      <td>AK</td>\n      <td>Alaska</td>\n      <td>0.826949</td>\n      <td>0.542</td>\n    </tr>\n    <tr>\n      <th>202</th>\n      <td>2014</td>\n      <td>AZ</td>\n      <td>Arizona</td>\n      <td>0.774479</td>\n      <td>0.334</td>\n    </tr>\n    <tr>\n      <th>203</th>\n      <td>2014</td>\n      <td>AR</td>\n      <td>Arkansas</td>\n      <td>0.747297</td>\n      <td>0.401</td>\n    </tr>\n    <tr>\n      <th>204</th>\n      <td>2014</td>\n      <td>CA</td>\n      <td>California</td>\n      <td>0.741494</td>\n      <td>0.299</td>\n    </tr>\n    <tr>\n      <th>205</th>\n      <td>2014</td>\n      <td>CO</td>\n      <td>Colorado</td>\n      <td>0.866747</td>\n      <td>0.537</td>\n    </tr>\n    <tr>\n      <th>206</th>\n      <td>2014</td>\n      <td>CT</td>\n      <td>Connecticut</td>\n      <td>0.811415</td>\n      <td>0.423</td>\n    </tr>\n    <tr>\n      <th>207</th>\n      <td>2014</td>\n      <td>DE</td>\n      <td>Delaware</td>\n      <td>0.824842</td>\n      <td>0.343</td>\n    </tr>\n    <tr>\n      <th>208</th>\n      <td>2014</td>\n      <td>FL</td>\n      <td>Florida</td>\n      <td>0.822848</td>\n      <td>0.428</td>\n    </tr>\n    <tr>\n      <th>209</th>\n      <td>2014</td>\n      <td>GA</td>\n      <td>Georgia</td>\n      <td>0.778035</td>\n      <td>0.382</td>\n    </tr>\n    <tr>\n      <th>210</th>\n      <td>2014</td>\n      <td>HI</td>\n      <td>Hawaii</td>\n      <td>0.640036</td>\n      <td>0.362</td>\n    </tr>\n    <tr>\n      <th>211</th>\n      <td>2014</td>\n      <td>ID</td>\n      <td>Idaho</td>\n      <td>0.701522</td>\n      <td>0.393</td>\n    </tr>\n    <tr>\n      <th>212</th>\n      <td>2014</td>\n      <td>IL</td>\n      <td>Illinois</td>\n      <td>0.802402</td>\n      <td>0.402</td>\n    </tr>\n    <tr>\n      <th>213</th>\n      <td>2014</td>\n      <td>IN</td>\n      <td>Indiana</td>\n      <td>0.751587</td>\n      <td>0.278</td>\n    </tr>\n    <tr>\n      <th>214</th>\n      <td>2014</td>\n      <td>IA</td>\n      <td>Iowa</td>\n      <td>0.847691</td>\n      <td>0.498</td>\n    </tr>\n    <tr>\n      <th>215</th>\n      <td>2014</td>\n      <td>KS</td>\n      <td>Kansas</td>\n      <td>0.750579</td>\n      <td>0.425</td>\n    </tr>\n    <tr>\n      <th>216</th>\n      <td>2014</td>\n      <td>KY</td>\n      <td>Kentucky</td>\n      <td>0.807573</td>\n      <td>0.442</td>\n    </tr>\n    <tr>\n      <th>217</th>\n      <td>2014</td>\n      <td>LA</td>\n      <td>Louisiana</td>\n      <td>0.821286</td>\n      <td>0.439</td>\n    </tr>\n    <tr>\n      <th>218</th>\n      <td>2014</td>\n      <td>ME</td>\n      <td>Maine</td>\n      <td>0.848236</td>\n      <td>0.581</td>\n    </tr>\n    <tr>\n      <th>219</th>\n      <td>2014</td>\n      <td>MD</td>\n      <td>Maryland</td>\n      <td>0.851854</td>\n      <td>0.417</td>\n    </tr>\n    <tr>\n      <th>220</th>\n      <td>2014</td>\n      <td>MA</td>\n      <td>Massachusetts</td>\n      <td>0.805996</td>\n      <td>0.441</td>\n    </tr>\n    <tr>\n      <th>221</th>\n      <td>2014</td>\n      <td>MI</td>\n      <td>Michigan</td>\n      <td>0.866478</td>\n      <td>0.427</td>\n    </tr>\n    <tr>\n      <th>222</th>\n      <td>2014</td>\n      <td>MN</td>\n      <td>Minnesota</td>\n      <td>0.825280</td>\n      <td>0.504</td>\n    </tr>\n    <tr>\n      <th>223</th>\n      <td>2014</td>\n      <td>MS</td>\n      <td>Mississippi</td>\n      <td>0.852437</td>\n      <td>0.290</td>\n    </tr>\n    <tr>\n      <th>224</th>\n      <td>2014</td>\n      <td>MO</td>\n      <td>Missouri</td>\n      <td>0.834504</td>\n      <td>0.317</td>\n    </tr>\n    <tr>\n      <th>225</th>\n      <td>2014</td>\n      <td>MT</td>\n      <td>Montana</td>\n      <td>0.741809</td>\n      <td>0.469</td>\n    </tr>\n    <tr>\n      <th>226</th>\n      <td>2014</td>\n      <td>NE</td>\n      <td>Nebraska</td>\n      <td>0.775799</td>\n      <td>0.405</td>\n    </tr>\n    <tr>\n      <th>227</th>\n      <td>2014</td>\n      <td>NV</td>\n      <td>Nevada</td>\n      <td>0.685297</td>\n      <td>0.293</td>\n    </tr>\n    <tr>\n      <th>228</th>\n      <td>2014</td>\n      <td>NH</td>\n      <td>New Hampshire</td>\n      <td>0.783223</td>\n      <td>0.476</td>\n    </tr>\n    <tr>\n      <th>229</th>\n      <td>2014</td>\n      <td>NJ</td>\n      <td>New Jersey</td>\n      <td>0.811916</td>\n      <td>0.311</td>\n    </tr>\n    <tr>\n      <th>230</th>\n      <td>2014</td>\n      <td>NM</td>\n      <td>New Mexico</td>\n      <td>0.740992</td>\n      <td>0.354</td>\n    </tr>\n    <tr>\n      <th>231</th>\n      <td>2014</td>\n      <td>NY</td>\n      <td>New York</td>\n      <td>0.764596</td>\n      <td>0.282</td>\n    </tr>\n    <tr>\n      <th>232</th>\n      <td>2014</td>\n      <td>NC</td>\n      <td>North Carolina</td>\n      <td>0.830446</td>\n      <td>0.408</td>\n    </tr>\n    <tr>\n      <th>233</th>\n      <td>2014</td>\n      <td>ND</td>\n      <td>North Dakota</td>\n      <td>NaN</td>\n      <td>0.438</td>\n    </tr>\n    <tr>\n      <th>234</th>\n      <td>2014</td>\n      <td>OH</td>\n      <td>Ohio</td>\n      <td>0.772956</td>\n      <td>0.351</td>\n    </tr>\n    <tr>\n      <th>235</th>\n      <td>2014</td>\n      <td>OK</td>\n      <td>Oklahoma</td>\n      <td>0.740372</td>\n      <td>0.299</td>\n    </tr>\n    <tr>\n      <th>236</th>\n      <td>2014</td>\n      <td>OR</td>\n      <td>Oregon</td>\n      <td>0.841576</td>\n      <td>0.509</td>\n    </tr>\n    <tr>\n      <th>237</th>\n      <td>2014</td>\n      <td>PA</td>\n      <td>Pennsylvania</td>\n      <td>0.765750</td>\n      <td>0.361</td>\n    </tr>\n    <tr>\n      <th>238</th>\n      <td>2014</td>\n      <td>RI</td>\n      <td>Rhode Island</td>\n      <td>0.792128</td>\n      <td>0.417</td>\n    </tr>\n    <tr>\n      <th>239</th>\n      <td>2014</td>\n      <td>SC</td>\n      <td>South Carolina</td>\n      <td>0.794805</td>\n      <td>0.348</td>\n    </tr>\n    <tr>\n      <th>240</th>\n      <td>2014</td>\n      <td>SD</td>\n      <td>South Dakota</td>\n      <td>0.752527</td>\n      <td>0.443</td>\n    </tr>\n    <tr>\n      <th>241</th>\n      <td>2014</td>\n      <td>TN</td>\n      <td>Tennessee</td>\n      <td>0.743123</td>\n      <td>0.286</td>\n    </tr>\n    <tr>\n      <th>242</th>\n      <td>2014</td>\n      <td>TX</td>\n      <td>Texas</td>\n      <td>0.728038</td>\n      <td>0.283</td>\n    </tr>\n    <tr>\n      <th>243</th>\n      <td>2014</td>\n      <td>UT</td>\n      <td>Utah</td>\n      <td>0.698871</td>\n      <td>0.297</td>\n    </tr>\n    <tr>\n      <th>244</th>\n      <td>2014</td>\n      <td>VT</td>\n      <td>Vermont</td>\n      <td>0.767933</td>\n      <td>0.389</td>\n    </tr>\n    <tr>\n      <th>245</th>\n      <td>2014</td>\n      <td>VA</td>\n      <td>Virginia</td>\n      <td>0.835605</td>\n      <td>0.366</td>\n    </tr>\n    <tr>\n      <th>246</th>\n      <td>2014</td>\n      <td>WA</td>\n      <td>Washington</td>\n      <td>0.816906</td>\n      <td>0.412</td>\n    </tr>\n    <tr>\n      <th>247</th>\n      <td>2014</td>\n      <td>WV</td>\n      <td>West Virginia</td>\n      <td>0.756622</td>\n      <td>0.312</td>\n    </tr>\n    <tr>\n      <th>248</th>\n      <td>2014</td>\n      <td>WI</td>\n      <td>Wisconsin</td>\n      <td>0.818323</td>\n      <td>0.566</td>\n    </tr>\n    <tr>\n      <th>249</th>\n      <td>2014</td>\n      <td>WY</td>\n      <td>Wyoming</td>\n      <td>0.674434</td>\n      <td>0.390</td>\n    </tr>\n  </tbody>\n</table>\n</div>"
     },
     "metadata": {},
     "execution_count": 17
    }
   ],
   "source": [
    "TurnoutDF2014=PercentRegisteredDF[PercentRegisteredDF['ElectionYear']==2014]\n",
    "TurnoutDF2014"
   ]
  },
  {
   "cell_type": "code",
   "execution_count": 18,
   "metadata": {},
   "outputs": [
    {
     "output_type": "display_data",
     "data": {
      "application/vnd.plotly.v1+json": {
       "config": {
        "plotlyServerURL": "https://plot.ly"
       },
       "data": [
        {
         "alignmentgroup": "True",
         "hovertemplate": "StateAbbreviation=%{x}<br>PercentTurnout=%{y}<extra></extra>",
         "legendgroup": "",
         "marker": {
          "color": "purple"
         },
         "name": "",
         "offsetgroup": "",
         "orientation": "v",
         "showlegend": false,
         "textposition": "auto",
         "type": "bar",
         "x": [
          "AL",
          "AK",
          "AZ",
          "AR",
          "CA",
          "CO",
          "CT",
          "DE",
          "FL",
          "GA",
          "HI",
          "ID",
          "IL",
          "IN",
          "IA",
          "KS",
          "KY",
          "LA",
          "ME",
          "MD",
          "MA",
          "MI",
          "MN",
          "MS",
          "MO",
          "MT",
          "NE",
          "NV",
          "NH",
          "NJ",
          "NM",
          "NY",
          "NC",
          "ND",
          "OH",
          "OK",
          "OR",
          "PA",
          "RI",
          "SC",
          "SD",
          "TN",
          "TX",
          "UT",
          "VT",
          "VA",
          "WA",
          "WV",
          "WI",
          "WY"
         ],
         "xaxis": "x",
         "y": [
          0.329,
          0.542,
          0.334,
          0.401,
          0.299,
          0.537,
          0.423,
          0.343,
          0.428,
          0.382,
          0.362,
          0.393,
          0.402,
          0.278,
          0.498,
          0.425,
          0.442,
          0.439,
          0.581,
          0.417,
          0.441,
          0.427,
          0.504,
          0.29,
          0.317,
          0.469,
          0.405,
          0.293,
          0.476,
          0.311,
          0.354,
          0.282,
          0.408,
          0.438,
          0.351,
          0.299,
          0.509,
          0.361,
          0.417,
          0.348,
          0.443,
          0.286,
          0.283,
          0.297,
          0.389,
          0.366,
          0.412,
          0.312,
          0.566,
          0.39
         ],
         "yaxis": "y"
        }
       ],
       "layout": {
        "barmode": "group",
        "height": 400,
        "legend": {
         "tracegroupgap": 0
        },
        "template": {
         "data": {
          "bar": [
           {
            "error_x": {
             "color": "#2a3f5f"
            },
            "error_y": {
             "color": "#2a3f5f"
            },
            "marker": {
             "line": {
              "color": "#E5ECF6",
              "width": 0.5
             }
            },
            "type": "bar"
           }
          ],
          "barpolar": [
           {
            "marker": {
             "line": {
              "color": "#E5ECF6",
              "width": 0.5
             }
            },
            "type": "barpolar"
           }
          ],
          "carpet": [
           {
            "aaxis": {
             "endlinecolor": "#2a3f5f",
             "gridcolor": "white",
             "linecolor": "white",
             "minorgridcolor": "white",
             "startlinecolor": "#2a3f5f"
            },
            "baxis": {
             "endlinecolor": "#2a3f5f",
             "gridcolor": "white",
             "linecolor": "white",
             "minorgridcolor": "white",
             "startlinecolor": "#2a3f5f"
            },
            "type": "carpet"
           }
          ],
          "choropleth": [
           {
            "colorbar": {
             "outlinewidth": 0,
             "ticks": ""
            },
            "type": "choropleth"
           }
          ],
          "contour": [
           {
            "colorbar": {
             "outlinewidth": 0,
             "ticks": ""
            },
            "colorscale": [
             [
              0,
              "#0d0887"
             ],
             [
              0.1111111111111111,
              "#46039f"
             ],
             [
              0.2222222222222222,
              "#7201a8"
             ],
             [
              0.3333333333333333,
              "#9c179e"
             ],
             [
              0.4444444444444444,
              "#bd3786"
             ],
             [
              0.5555555555555556,
              "#d8576b"
             ],
             [
              0.6666666666666666,
              "#ed7953"
             ],
             [
              0.7777777777777778,
              "#fb9f3a"
             ],
             [
              0.8888888888888888,
              "#fdca26"
             ],
             [
              1,
              "#f0f921"
             ]
            ],
            "type": "contour"
           }
          ],
          "contourcarpet": [
           {
            "colorbar": {
             "outlinewidth": 0,
             "ticks": ""
            },
            "type": "contourcarpet"
           }
          ],
          "heatmap": [
           {
            "colorbar": {
             "outlinewidth": 0,
             "ticks": ""
            },
            "colorscale": [
             [
              0,
              "#0d0887"
             ],
             [
              0.1111111111111111,
              "#46039f"
             ],
             [
              0.2222222222222222,
              "#7201a8"
             ],
             [
              0.3333333333333333,
              "#9c179e"
             ],
             [
              0.4444444444444444,
              "#bd3786"
             ],
             [
              0.5555555555555556,
              "#d8576b"
             ],
             [
              0.6666666666666666,
              "#ed7953"
             ],
             [
              0.7777777777777778,
              "#fb9f3a"
             ],
             [
              0.8888888888888888,
              "#fdca26"
             ],
             [
              1,
              "#f0f921"
             ]
            ],
            "type": "heatmap"
           }
          ],
          "heatmapgl": [
           {
            "colorbar": {
             "outlinewidth": 0,
             "ticks": ""
            },
            "colorscale": [
             [
              0,
              "#0d0887"
             ],
             [
              0.1111111111111111,
              "#46039f"
             ],
             [
              0.2222222222222222,
              "#7201a8"
             ],
             [
              0.3333333333333333,
              "#9c179e"
             ],
             [
              0.4444444444444444,
              "#bd3786"
             ],
             [
              0.5555555555555556,
              "#d8576b"
             ],
             [
              0.6666666666666666,
              "#ed7953"
             ],
             [
              0.7777777777777778,
              "#fb9f3a"
             ],
             [
              0.8888888888888888,
              "#fdca26"
             ],
             [
              1,
              "#f0f921"
             ]
            ],
            "type": "heatmapgl"
           }
          ],
          "histogram": [
           {
            "marker": {
             "colorbar": {
              "outlinewidth": 0,
              "ticks": ""
             }
            },
            "type": "histogram"
           }
          ],
          "histogram2d": [
           {
            "colorbar": {
             "outlinewidth": 0,
             "ticks": ""
            },
            "colorscale": [
             [
              0,
              "#0d0887"
             ],
             [
              0.1111111111111111,
              "#46039f"
             ],
             [
              0.2222222222222222,
              "#7201a8"
             ],
             [
              0.3333333333333333,
              "#9c179e"
             ],
             [
              0.4444444444444444,
              "#bd3786"
             ],
             [
              0.5555555555555556,
              "#d8576b"
             ],
             [
              0.6666666666666666,
              "#ed7953"
             ],
             [
              0.7777777777777778,
              "#fb9f3a"
             ],
             [
              0.8888888888888888,
              "#fdca26"
             ],
             [
              1,
              "#f0f921"
             ]
            ],
            "type": "histogram2d"
           }
          ],
          "histogram2dcontour": [
           {
            "colorbar": {
             "outlinewidth": 0,
             "ticks": ""
            },
            "colorscale": [
             [
              0,
              "#0d0887"
             ],
             [
              0.1111111111111111,
              "#46039f"
             ],
             [
              0.2222222222222222,
              "#7201a8"
             ],
             [
              0.3333333333333333,
              "#9c179e"
             ],
             [
              0.4444444444444444,
              "#bd3786"
             ],
             [
              0.5555555555555556,
              "#d8576b"
             ],
             [
              0.6666666666666666,
              "#ed7953"
             ],
             [
              0.7777777777777778,
              "#fb9f3a"
             ],
             [
              0.8888888888888888,
              "#fdca26"
             ],
             [
              1,
              "#f0f921"
             ]
            ],
            "type": "histogram2dcontour"
           }
          ],
          "mesh3d": [
           {
            "colorbar": {
             "outlinewidth": 0,
             "ticks": ""
            },
            "type": "mesh3d"
           }
          ],
          "parcoords": [
           {
            "line": {
             "colorbar": {
              "outlinewidth": 0,
              "ticks": ""
             }
            },
            "type": "parcoords"
           }
          ],
          "pie": [
           {
            "automargin": true,
            "type": "pie"
           }
          ],
          "scatter": [
           {
            "marker": {
             "colorbar": {
              "outlinewidth": 0,
              "ticks": ""
             }
            },
            "type": "scatter"
           }
          ],
          "scatter3d": [
           {
            "line": {
             "colorbar": {
              "outlinewidth": 0,
              "ticks": ""
             }
            },
            "marker": {
             "colorbar": {
              "outlinewidth": 0,
              "ticks": ""
             }
            },
            "type": "scatter3d"
           }
          ],
          "scattercarpet": [
           {
            "marker": {
             "colorbar": {
              "outlinewidth": 0,
              "ticks": ""
             }
            },
            "type": "scattercarpet"
           }
          ],
          "scattergeo": [
           {
            "marker": {
             "colorbar": {
              "outlinewidth": 0,
              "ticks": ""
             }
            },
            "type": "scattergeo"
           }
          ],
          "scattergl": [
           {
            "marker": {
             "colorbar": {
              "outlinewidth": 0,
              "ticks": ""
             }
            },
            "type": "scattergl"
           }
          ],
          "scattermapbox": [
           {
            "marker": {
             "colorbar": {
              "outlinewidth": 0,
              "ticks": ""
             }
            },
            "type": "scattermapbox"
           }
          ],
          "scatterpolar": [
           {
            "marker": {
             "colorbar": {
              "outlinewidth": 0,
              "ticks": ""
             }
            },
            "type": "scatterpolar"
           }
          ],
          "scatterpolargl": [
           {
            "marker": {
             "colorbar": {
              "outlinewidth": 0,
              "ticks": ""
             }
            },
            "type": "scatterpolargl"
           }
          ],
          "scatterternary": [
           {
            "marker": {
             "colorbar": {
              "outlinewidth": 0,
              "ticks": ""
             }
            },
            "type": "scatterternary"
           }
          ],
          "surface": [
           {
            "colorbar": {
             "outlinewidth": 0,
             "ticks": ""
            },
            "colorscale": [
             [
              0,
              "#0d0887"
             ],
             [
              0.1111111111111111,
              "#46039f"
             ],
             [
              0.2222222222222222,
              "#7201a8"
             ],
             [
              0.3333333333333333,
              "#9c179e"
             ],
             [
              0.4444444444444444,
              "#bd3786"
             ],
             [
              0.5555555555555556,
              "#d8576b"
             ],
             [
              0.6666666666666666,
              "#ed7953"
             ],
             [
              0.7777777777777778,
              "#fb9f3a"
             ],
             [
              0.8888888888888888,
              "#fdca26"
             ],
             [
              1,
              "#f0f921"
             ]
            ],
            "type": "surface"
           }
          ],
          "table": [
           {
            "cells": {
             "fill": {
              "color": "#EBF0F8"
             },
             "line": {
              "color": "white"
             }
            },
            "header": {
             "fill": {
              "color": "#C8D4E3"
             },
             "line": {
              "color": "white"
             }
            },
            "type": "table"
           }
          ]
         },
         "layout": {
          "annotationdefaults": {
           "arrowcolor": "#2a3f5f",
           "arrowhead": 0,
           "arrowwidth": 1
          },
          "coloraxis": {
           "colorbar": {
            "outlinewidth": 0,
            "ticks": ""
           }
          },
          "colorscale": {
           "diverging": [
            [
             0,
             "#8e0152"
            ],
            [
             0.1,
             "#c51b7d"
            ],
            [
             0.2,
             "#de77ae"
            ],
            [
             0.3,
             "#f1b6da"
            ],
            [
             0.4,
             "#fde0ef"
            ],
            [
             0.5,
             "#f7f7f7"
            ],
            [
             0.6,
             "#e6f5d0"
            ],
            [
             0.7,
             "#b8e186"
            ],
            [
             0.8,
             "#7fbc41"
            ],
            [
             0.9,
             "#4d9221"
            ],
            [
             1,
             "#276419"
            ]
           ],
           "sequential": [
            [
             0,
             "#0d0887"
            ],
            [
             0.1111111111111111,
             "#46039f"
            ],
            [
             0.2222222222222222,
             "#7201a8"
            ],
            [
             0.3333333333333333,
             "#9c179e"
            ],
            [
             0.4444444444444444,
             "#bd3786"
            ],
            [
             0.5555555555555556,
             "#d8576b"
            ],
            [
             0.6666666666666666,
             "#ed7953"
            ],
            [
             0.7777777777777778,
             "#fb9f3a"
            ],
            [
             0.8888888888888888,
             "#fdca26"
            ],
            [
             1,
             "#f0f921"
            ]
           ],
           "sequentialminus": [
            [
             0,
             "#0d0887"
            ],
            [
             0.1111111111111111,
             "#46039f"
            ],
            [
             0.2222222222222222,
             "#7201a8"
            ],
            [
             0.3333333333333333,
             "#9c179e"
            ],
            [
             0.4444444444444444,
             "#bd3786"
            ],
            [
             0.5555555555555556,
             "#d8576b"
            ],
            [
             0.6666666666666666,
             "#ed7953"
            ],
            [
             0.7777777777777778,
             "#fb9f3a"
            ],
            [
             0.8888888888888888,
             "#fdca26"
            ],
            [
             1,
             "#f0f921"
            ]
           ]
          },
          "colorway": [
           "#636efa",
           "#EF553B",
           "#00cc96",
           "#ab63fa",
           "#FFA15A",
           "#19d3f3",
           "#FF6692",
           "#B6E880",
           "#FF97FF",
           "#FECB52"
          ],
          "font": {
           "color": "#2a3f5f"
          },
          "geo": {
           "bgcolor": "white",
           "lakecolor": "white",
           "landcolor": "#E5ECF6",
           "showlakes": true,
           "showland": true,
           "subunitcolor": "white"
          },
          "hoverlabel": {
           "align": "left"
          },
          "hovermode": "closest",
          "mapbox": {
           "style": "light"
          },
          "paper_bgcolor": "white",
          "plot_bgcolor": "#E5ECF6",
          "polar": {
           "angularaxis": {
            "gridcolor": "white",
            "linecolor": "white",
            "ticks": ""
           },
           "bgcolor": "#E5ECF6",
           "radialaxis": {
            "gridcolor": "white",
            "linecolor": "white",
            "ticks": ""
           }
          },
          "scene": {
           "xaxis": {
            "backgroundcolor": "#E5ECF6",
            "gridcolor": "white",
            "gridwidth": 2,
            "linecolor": "white",
            "showbackground": true,
            "ticks": "",
            "zerolinecolor": "white"
           },
           "yaxis": {
            "backgroundcolor": "#E5ECF6",
            "gridcolor": "white",
            "gridwidth": 2,
            "linecolor": "white",
            "showbackground": true,
            "ticks": "",
            "zerolinecolor": "white"
           },
           "zaxis": {
            "backgroundcolor": "#E5ECF6",
            "gridcolor": "white",
            "gridwidth": 2,
            "linecolor": "white",
            "showbackground": true,
            "ticks": "",
            "zerolinecolor": "white"
           }
          },
          "shapedefaults": {
           "line": {
            "color": "#2a3f5f"
           }
          },
          "ternary": {
           "aaxis": {
            "gridcolor": "white",
            "linecolor": "white",
            "ticks": ""
           },
           "baxis": {
            "gridcolor": "white",
            "linecolor": "white",
            "ticks": ""
           },
           "bgcolor": "#E5ECF6",
           "caxis": {
            "gridcolor": "white",
            "linecolor": "white",
            "ticks": ""
           }
          },
          "title": {
           "x": 0.05
          },
          "xaxis": {
           "automargin": true,
           "gridcolor": "white",
           "linecolor": "white",
           "ticks": "",
           "title": {
            "standoff": 15
           },
           "zerolinecolor": "white",
           "zerolinewidth": 2
          },
          "yaxis": {
           "automargin": true,
           "gridcolor": "white",
           "linecolor": "white",
           "ticks": "",
           "title": {
            "standoff": 15
           },
           "zerolinecolor": "white",
           "zerolinewidth": 2
          }
         }
        },
        "title": {
         "text": "Turnout Data 2014"
        },
        "width": 1000,
        "xaxis": {
         "anchor": "y",
         "domain": [
          0,
          1
         ],
         "title": {
          "text": "StateAbbreviation"
         }
        },
        "yaxis": {
         "anchor": "x",
         "domain": [
          0,
          1
         ],
         "title": {
          "text": "PercentTurnout"
         }
        }
       }
      }
     },
     "metadata": {}
    }
   ],
   "source": [
    "Turnout2014 = pe.bar(TurnoutDF2014, x=\"StateAbbreviation\", y=\"PercentTurnout\", title=\"Turnout Data 2014\",\n",
    "            color_discrete_sequence =['purple']*len(TurnoutDF2014),\n",
    "             barmode='group',\n",
    "             height=400, width=1000)\n",
    "Turnout2014.show()"
   ]
  },
  {
   "cell_type": "code",
   "execution_count": 19,
   "metadata": {},
   "outputs": [],
   "source": [
    "####### Now we will get data from other demographics"
   ]
  },
  {
   "cell_type": "code",
   "execution_count": 20,
   "metadata": {},
   "outputs": [
    {
     "output_type": "execute_result",
     "data": {
      "text/plain": "Index(['yearstate', 'electionyear', 'stateabbreviation', 'statename',\n       'voterturnout', 'competivness', 'website_pollingplace',\n       'website_reg_status', 'website_precinct_ballot',\n       'website_absentee_status', 'website_provisional_status', 'reg_rej',\n       'prov_partic', 'prov_rej_all', 'abs_rej_all_ballots', 'abs_nonret',\n       'uocava_rej', 'uocava_nonret', 'eavs_completeness',\n       'post_election_audit', 'nonvoter_illness_pct', 'nonvoter_reg_pct',\n       'online_reg', 'wait', 'residual', 'pct_reg_of_vep_vrs', 'midterm',\n       'percentcitizenwhite', 'percentcitizenblack', 'percentcitizenasian',\n       'percentcitizenhispanic'],\n      dtype='object')"
     },
     "metadata": {},
     "execution_count": 20
    }
   ],
   "source": [
    "DashboardDataDF.columns"
   ]
  },
  {
   "cell_type": "code",
   "execution_count": 21,
   "metadata": {},
   "outputs": [],
   "source": [
    "NationalReasonsBigDF =  pd.read_sql(\"select * from \\\"nationalreasonsdata\\\"\", db_conn)"
   ]
  },
  {
   "cell_type": "code",
   "execution_count": 22,
   "metadata": {},
   "outputs": [
    {
     "output_type": "execute_result",
     "data": {
      "text/plain": "   electionyear  nonvotersinthousands  illnessordisability  \\\n0          2000                 18724                0.148   \n1          2004                 16334                0.154   \n2          2016                 18933                0.117   \n3          2012                 19141                0.140   \n4          2008                 15167                0.149   \n\n   outoftownawayfromhome  forgot  notinterested  toobusy  \\\n0                  0.102   0.040          0.122    0.209   \n1                  0.090   0.034          0.107    0.199   \n2                  0.079   0.030          0.154    0.143   \n3                  0.086   0.039          0.157    0.189   \n4                  0.088   0.026          0.134    0.175   \n\n   transportationproblems  didnotlikecandidatesorcampaignissues  \\\n0                   0.024                                 0.077   \n1                   0.021                                 0.099   \n2                   0.026                                 0.248   \n3                   0.033                                 0.127   \n4                   0.026                                 0.129   \n\n   registrationproblems  badweatherconditions  \\\n0                 0.069                 0.006   \n1                 0.068                 0.005   \n2                 0.044                 0.000   \n3                 0.055                 0.008   \n4                 0.060                 0.002   \n\n   inconvenientpollingplaceorhourorlinestoolong  otherreason  refused  \n0                                         0.026        0.102    0.075  \n1                                         0.030        0.109    0.085  \n2                                         0.021        0.111    0.027  \n3                                         0.027        0.111    0.030  \n4                                         0.027        0.113    0.070  ",
      "text/html": "<div>\n<style scoped>\n    .dataframe tbody tr th:only-of-type {\n        vertical-align: middle;\n    }\n\n    .dataframe tbody tr th {\n        vertical-align: top;\n    }\n\n    .dataframe thead th {\n        text-align: right;\n    }\n</style>\n<table border=\"1\" class=\"dataframe\">\n  <thead>\n    <tr style=\"text-align: right;\">\n      <th></th>\n      <th>electionyear</th>\n      <th>nonvotersinthousands</th>\n      <th>illnessordisability</th>\n      <th>outoftownawayfromhome</th>\n      <th>forgot</th>\n      <th>notinterested</th>\n      <th>toobusy</th>\n      <th>transportationproblems</th>\n      <th>didnotlikecandidatesorcampaignissues</th>\n      <th>registrationproblems</th>\n      <th>badweatherconditions</th>\n      <th>inconvenientpollingplaceorhourorlinestoolong</th>\n      <th>otherreason</th>\n      <th>refused</th>\n    </tr>\n  </thead>\n  <tbody>\n    <tr>\n      <th>0</th>\n      <td>2000</td>\n      <td>18724</td>\n      <td>0.148</td>\n      <td>0.102</td>\n      <td>0.040</td>\n      <td>0.122</td>\n      <td>0.209</td>\n      <td>0.024</td>\n      <td>0.077</td>\n      <td>0.069</td>\n      <td>0.006</td>\n      <td>0.026</td>\n      <td>0.102</td>\n      <td>0.075</td>\n    </tr>\n    <tr>\n      <th>1</th>\n      <td>2004</td>\n      <td>16334</td>\n      <td>0.154</td>\n      <td>0.090</td>\n      <td>0.034</td>\n      <td>0.107</td>\n      <td>0.199</td>\n      <td>0.021</td>\n      <td>0.099</td>\n      <td>0.068</td>\n      <td>0.005</td>\n      <td>0.030</td>\n      <td>0.109</td>\n      <td>0.085</td>\n    </tr>\n    <tr>\n      <th>2</th>\n      <td>2016</td>\n      <td>18933</td>\n      <td>0.117</td>\n      <td>0.079</td>\n      <td>0.030</td>\n      <td>0.154</td>\n      <td>0.143</td>\n      <td>0.026</td>\n      <td>0.248</td>\n      <td>0.044</td>\n      <td>0.000</td>\n      <td>0.021</td>\n      <td>0.111</td>\n      <td>0.027</td>\n    </tr>\n    <tr>\n      <th>3</th>\n      <td>2012</td>\n      <td>19141</td>\n      <td>0.140</td>\n      <td>0.086</td>\n      <td>0.039</td>\n      <td>0.157</td>\n      <td>0.189</td>\n      <td>0.033</td>\n      <td>0.127</td>\n      <td>0.055</td>\n      <td>0.008</td>\n      <td>0.027</td>\n      <td>0.111</td>\n      <td>0.030</td>\n    </tr>\n    <tr>\n      <th>4</th>\n      <td>2008</td>\n      <td>15167</td>\n      <td>0.149</td>\n      <td>0.088</td>\n      <td>0.026</td>\n      <td>0.134</td>\n      <td>0.175</td>\n      <td>0.026</td>\n      <td>0.129</td>\n      <td>0.060</td>\n      <td>0.002</td>\n      <td>0.027</td>\n      <td>0.113</td>\n      <td>0.070</td>\n    </tr>\n  </tbody>\n</table>\n</div>"
     },
     "metadata": {},
     "execution_count": 22
    }
   ],
   "source": [
    "NationalReasonsBigDF"
   ]
  },
  {
   "cell_type": "code",
   "execution_count": 23,
   "metadata": {},
   "outputs": [],
   "source": [
    "NationalReasonsBigDF[\"nonvotersinthousands\"]=NationalReasonsBigDF[\"nonvotersinthousands\"].apply(lambda x: x*1000)"
   ]
  },
  {
   "cell_type": "code",
   "execution_count": 24,
   "metadata": {},
   "outputs": [
    {
     "output_type": "execute_result",
     "data": {
      "text/plain": "   electionyear  nonvotersinthousands  illnessordisability  \\\n0          2000              18724000                0.148   \n1          2004              16334000                0.154   \n2          2016              18933000                0.117   \n3          2012              19141000                0.140   \n4          2008              15167000                0.149   \n\n   outoftownawayfromhome  forgot  notinterested  toobusy  \\\n0                  0.102   0.040          0.122    0.209   \n1                  0.090   0.034          0.107    0.199   \n2                  0.079   0.030          0.154    0.143   \n3                  0.086   0.039          0.157    0.189   \n4                  0.088   0.026          0.134    0.175   \n\n   transportationproblems  didnotlikecandidatesorcampaignissues  \\\n0                   0.024                                 0.077   \n1                   0.021                                 0.099   \n2                   0.026                                 0.248   \n3                   0.033                                 0.127   \n4                   0.026                                 0.129   \n\n   registrationproblems  badweatherconditions  \\\n0                 0.069                 0.006   \n1                 0.068                 0.005   \n2                 0.044                 0.000   \n3                 0.055                 0.008   \n4                 0.060                 0.002   \n\n   inconvenientpollingplaceorhourorlinestoolong  otherreason  refused  \n0                                         0.026        0.102    0.075  \n1                                         0.030        0.109    0.085  \n2                                         0.021        0.111    0.027  \n3                                         0.027        0.111    0.030  \n4                                         0.027        0.113    0.070  ",
      "text/html": "<div>\n<style scoped>\n    .dataframe tbody tr th:only-of-type {\n        vertical-align: middle;\n    }\n\n    .dataframe tbody tr th {\n        vertical-align: top;\n    }\n\n    .dataframe thead th {\n        text-align: right;\n    }\n</style>\n<table border=\"1\" class=\"dataframe\">\n  <thead>\n    <tr style=\"text-align: right;\">\n      <th></th>\n      <th>electionyear</th>\n      <th>nonvotersinthousands</th>\n      <th>illnessordisability</th>\n      <th>outoftownawayfromhome</th>\n      <th>forgot</th>\n      <th>notinterested</th>\n      <th>toobusy</th>\n      <th>transportationproblems</th>\n      <th>didnotlikecandidatesorcampaignissues</th>\n      <th>registrationproblems</th>\n      <th>badweatherconditions</th>\n      <th>inconvenientpollingplaceorhourorlinestoolong</th>\n      <th>otherreason</th>\n      <th>refused</th>\n    </tr>\n  </thead>\n  <tbody>\n    <tr>\n      <th>0</th>\n      <td>2000</td>\n      <td>18724000</td>\n      <td>0.148</td>\n      <td>0.102</td>\n      <td>0.040</td>\n      <td>0.122</td>\n      <td>0.209</td>\n      <td>0.024</td>\n      <td>0.077</td>\n      <td>0.069</td>\n      <td>0.006</td>\n      <td>0.026</td>\n      <td>0.102</td>\n      <td>0.075</td>\n    </tr>\n    <tr>\n      <th>1</th>\n      <td>2004</td>\n      <td>16334000</td>\n      <td>0.154</td>\n      <td>0.090</td>\n      <td>0.034</td>\n      <td>0.107</td>\n      <td>0.199</td>\n      <td>0.021</td>\n      <td>0.099</td>\n      <td>0.068</td>\n      <td>0.005</td>\n      <td>0.030</td>\n      <td>0.109</td>\n      <td>0.085</td>\n    </tr>\n    <tr>\n      <th>2</th>\n      <td>2016</td>\n      <td>18933000</td>\n      <td>0.117</td>\n      <td>0.079</td>\n      <td>0.030</td>\n      <td>0.154</td>\n      <td>0.143</td>\n      <td>0.026</td>\n      <td>0.248</td>\n      <td>0.044</td>\n      <td>0.000</td>\n      <td>0.021</td>\n      <td>0.111</td>\n      <td>0.027</td>\n    </tr>\n    <tr>\n      <th>3</th>\n      <td>2012</td>\n      <td>19141000</td>\n      <td>0.140</td>\n      <td>0.086</td>\n      <td>0.039</td>\n      <td>0.157</td>\n      <td>0.189</td>\n      <td>0.033</td>\n      <td>0.127</td>\n      <td>0.055</td>\n      <td>0.008</td>\n      <td>0.027</td>\n      <td>0.111</td>\n      <td>0.030</td>\n    </tr>\n    <tr>\n      <th>4</th>\n      <td>2008</td>\n      <td>15167000</td>\n      <td>0.149</td>\n      <td>0.088</td>\n      <td>0.026</td>\n      <td>0.134</td>\n      <td>0.175</td>\n      <td>0.026</td>\n      <td>0.129</td>\n      <td>0.060</td>\n      <td>0.002</td>\n      <td>0.027</td>\n      <td>0.113</td>\n      <td>0.070</td>\n    </tr>\n  </tbody>\n</table>\n</div>"
     },
     "metadata": {},
     "execution_count": 24
    }
   ],
   "source": [
    "NationalReasonsBigDF"
   ]
  },
  {
   "cell_type": "code",
   "execution_count": 25,
   "metadata": {},
   "outputs": [],
   "source": [
    "NationalReasonsBigDF.rename(columns={'nonvotersinthousands': 'nonvoters'}, inplace=True)"
   ]
  },
  {
   "cell_type": "code",
   "execution_count": 26,
   "metadata": {},
   "outputs": [
    {
     "output_type": "execute_result",
     "data": {
      "text/plain": "   electionyear  nonvoters  illnessordisability  outoftownawayfromhome  \\\n0          2000   18724000                0.148                  0.102   \n1          2004   16334000                0.154                  0.090   \n2          2016   18933000                0.117                  0.079   \n3          2012   19141000                0.140                  0.086   \n4          2008   15167000                0.149                  0.088   \n\n   forgot  notinterested  toobusy  transportationproblems  \\\n0   0.040          0.122    0.209                   0.024   \n1   0.034          0.107    0.199                   0.021   \n2   0.030          0.154    0.143                   0.026   \n3   0.039          0.157    0.189                   0.033   \n4   0.026          0.134    0.175                   0.026   \n\n   didnotlikecandidatesorcampaignissues  registrationproblems  \\\n0                                 0.077                 0.069   \n1                                 0.099                 0.068   \n2                                 0.248                 0.044   \n3                                 0.127                 0.055   \n4                                 0.129                 0.060   \n\n   badweatherconditions  inconvenientpollingplaceorhourorlinestoolong  \\\n0                 0.006                                         0.026   \n1                 0.005                                         0.030   \n2                 0.000                                         0.021   \n3                 0.008                                         0.027   \n4                 0.002                                         0.027   \n\n   otherreason  refused  \n0        0.102    0.075  \n1        0.109    0.085  \n2        0.111    0.027  \n3        0.111    0.030  \n4        0.113    0.070  ",
      "text/html": "<div>\n<style scoped>\n    .dataframe tbody tr th:only-of-type {\n        vertical-align: middle;\n    }\n\n    .dataframe tbody tr th {\n        vertical-align: top;\n    }\n\n    .dataframe thead th {\n        text-align: right;\n    }\n</style>\n<table border=\"1\" class=\"dataframe\">\n  <thead>\n    <tr style=\"text-align: right;\">\n      <th></th>\n      <th>electionyear</th>\n      <th>nonvoters</th>\n      <th>illnessordisability</th>\n      <th>outoftownawayfromhome</th>\n      <th>forgot</th>\n      <th>notinterested</th>\n      <th>toobusy</th>\n      <th>transportationproblems</th>\n      <th>didnotlikecandidatesorcampaignissues</th>\n      <th>registrationproblems</th>\n      <th>badweatherconditions</th>\n      <th>inconvenientpollingplaceorhourorlinestoolong</th>\n      <th>otherreason</th>\n      <th>refused</th>\n    </tr>\n  </thead>\n  <tbody>\n    <tr>\n      <th>0</th>\n      <td>2000</td>\n      <td>18724000</td>\n      <td>0.148</td>\n      <td>0.102</td>\n      <td>0.040</td>\n      <td>0.122</td>\n      <td>0.209</td>\n      <td>0.024</td>\n      <td>0.077</td>\n      <td>0.069</td>\n      <td>0.006</td>\n      <td>0.026</td>\n      <td>0.102</td>\n      <td>0.075</td>\n    </tr>\n    <tr>\n      <th>1</th>\n      <td>2004</td>\n      <td>16334000</td>\n      <td>0.154</td>\n      <td>0.090</td>\n      <td>0.034</td>\n      <td>0.107</td>\n      <td>0.199</td>\n      <td>0.021</td>\n      <td>0.099</td>\n      <td>0.068</td>\n      <td>0.005</td>\n      <td>0.030</td>\n      <td>0.109</td>\n      <td>0.085</td>\n    </tr>\n    <tr>\n      <th>2</th>\n      <td>2016</td>\n      <td>18933000</td>\n      <td>0.117</td>\n      <td>0.079</td>\n      <td>0.030</td>\n      <td>0.154</td>\n      <td>0.143</td>\n      <td>0.026</td>\n      <td>0.248</td>\n      <td>0.044</td>\n      <td>0.000</td>\n      <td>0.021</td>\n      <td>0.111</td>\n      <td>0.027</td>\n    </tr>\n    <tr>\n      <th>3</th>\n      <td>2012</td>\n      <td>19141000</td>\n      <td>0.140</td>\n      <td>0.086</td>\n      <td>0.039</td>\n      <td>0.157</td>\n      <td>0.189</td>\n      <td>0.033</td>\n      <td>0.127</td>\n      <td>0.055</td>\n      <td>0.008</td>\n      <td>0.027</td>\n      <td>0.111</td>\n      <td>0.030</td>\n    </tr>\n    <tr>\n      <th>4</th>\n      <td>2008</td>\n      <td>15167000</td>\n      <td>0.149</td>\n      <td>0.088</td>\n      <td>0.026</td>\n      <td>0.134</td>\n      <td>0.175</td>\n      <td>0.026</td>\n      <td>0.129</td>\n      <td>0.060</td>\n      <td>0.002</td>\n      <td>0.027</td>\n      <td>0.113</td>\n      <td>0.070</td>\n    </tr>\n  </tbody>\n</table>\n</div>"
     },
     "metadata": {},
     "execution_count": 26
    }
   ],
   "source": [
    "NationalReasonsBigDF"
   ]
  },
  {
   "cell_type": "code",
   "execution_count": 27,
   "metadata": {},
   "outputs": [],
   "source": [
    "NonvotersYear= pe.bar(NationalReasonsBigDF, x=\"electionyear\", y=\"nonvoters\", title=\"Nonvoters by Election Year\",\n",
    "            color_discrete_sequence =['Blue']*len(NationalReasonsBigDF),\n",
    "             barmode='group',\n",
    "             height=400)"
   ]
  },
  {
   "cell_type": "code",
   "execution_count": 28,
   "metadata": {},
   "outputs": [
    {
     "output_type": "display_data",
     "data": {
      "application/vnd.plotly.v1+json": {
       "config": {
        "plotlyServerURL": "https://plot.ly"
       },
       "data": [
        {
         "alignmentgroup": "True",
         "hovertemplate": "electionyear=%{x}<br>nonvoters=%{y}<extra></extra>",
         "legendgroup": "",
         "marker": {
          "color": "Blue"
         },
         "name": "",
         "offsetgroup": "",
         "orientation": "v",
         "showlegend": false,
         "textposition": "auto",
         "type": "bar",
         "x": [
          2000,
          2004,
          2016,
          2012,
          2008
         ],
         "xaxis": "x",
         "y": [
          18724000,
          16334000,
          18933000,
          19141000,
          15167000
         ],
         "yaxis": "y"
        }
       ],
       "layout": {
        "barmode": "group",
        "height": 400,
        "legend": {
         "tracegroupgap": 0
        },
        "template": {
         "data": {
          "bar": [
           {
            "error_x": {
             "color": "#2a3f5f"
            },
            "error_y": {
             "color": "#2a3f5f"
            },
            "marker": {
             "line": {
              "color": "#E5ECF6",
              "width": 0.5
             }
            },
            "type": "bar"
           }
          ],
          "barpolar": [
           {
            "marker": {
             "line": {
              "color": "#E5ECF6",
              "width": 0.5
             }
            },
            "type": "barpolar"
           }
          ],
          "carpet": [
           {
            "aaxis": {
             "endlinecolor": "#2a3f5f",
             "gridcolor": "white",
             "linecolor": "white",
             "minorgridcolor": "white",
             "startlinecolor": "#2a3f5f"
            },
            "baxis": {
             "endlinecolor": "#2a3f5f",
             "gridcolor": "white",
             "linecolor": "white",
             "minorgridcolor": "white",
             "startlinecolor": "#2a3f5f"
            },
            "type": "carpet"
           }
          ],
          "choropleth": [
           {
            "colorbar": {
             "outlinewidth": 0,
             "ticks": ""
            },
            "type": "choropleth"
           }
          ],
          "contour": [
           {
            "colorbar": {
             "outlinewidth": 0,
             "ticks": ""
            },
            "colorscale": [
             [
              0,
              "#0d0887"
             ],
             [
              0.1111111111111111,
              "#46039f"
             ],
             [
              0.2222222222222222,
              "#7201a8"
             ],
             [
              0.3333333333333333,
              "#9c179e"
             ],
             [
              0.4444444444444444,
              "#bd3786"
             ],
             [
              0.5555555555555556,
              "#d8576b"
             ],
             [
              0.6666666666666666,
              "#ed7953"
             ],
             [
              0.7777777777777778,
              "#fb9f3a"
             ],
             [
              0.8888888888888888,
              "#fdca26"
             ],
             [
              1,
              "#f0f921"
             ]
            ],
            "type": "contour"
           }
          ],
          "contourcarpet": [
           {
            "colorbar": {
             "outlinewidth": 0,
             "ticks": ""
            },
            "type": "contourcarpet"
           }
          ],
          "heatmap": [
           {
            "colorbar": {
             "outlinewidth": 0,
             "ticks": ""
            },
            "colorscale": [
             [
              0,
              "#0d0887"
             ],
             [
              0.1111111111111111,
              "#46039f"
             ],
             [
              0.2222222222222222,
              "#7201a8"
             ],
             [
              0.3333333333333333,
              "#9c179e"
             ],
             [
              0.4444444444444444,
              "#bd3786"
             ],
             [
              0.5555555555555556,
              "#d8576b"
             ],
             [
              0.6666666666666666,
              "#ed7953"
             ],
             [
              0.7777777777777778,
              "#fb9f3a"
             ],
             [
              0.8888888888888888,
              "#fdca26"
             ],
             [
              1,
              "#f0f921"
             ]
            ],
            "type": "heatmap"
           }
          ],
          "heatmapgl": [
           {
            "colorbar": {
             "outlinewidth": 0,
             "ticks": ""
            },
            "colorscale": [
             [
              0,
              "#0d0887"
             ],
             [
              0.1111111111111111,
              "#46039f"
             ],
             [
              0.2222222222222222,
              "#7201a8"
             ],
             [
              0.3333333333333333,
              "#9c179e"
             ],
             [
              0.4444444444444444,
              "#bd3786"
             ],
             [
              0.5555555555555556,
              "#d8576b"
             ],
             [
              0.6666666666666666,
              "#ed7953"
             ],
             [
              0.7777777777777778,
              "#fb9f3a"
             ],
             [
              0.8888888888888888,
              "#fdca26"
             ],
             [
              1,
              "#f0f921"
             ]
            ],
            "type": "heatmapgl"
           }
          ],
          "histogram": [
           {
            "marker": {
             "colorbar": {
              "outlinewidth": 0,
              "ticks": ""
             }
            },
            "type": "histogram"
           }
          ],
          "histogram2d": [
           {
            "colorbar": {
             "outlinewidth": 0,
             "ticks": ""
            },
            "colorscale": [
             [
              0,
              "#0d0887"
             ],
             [
              0.1111111111111111,
              "#46039f"
             ],
             [
              0.2222222222222222,
              "#7201a8"
             ],
             [
              0.3333333333333333,
              "#9c179e"
             ],
             [
              0.4444444444444444,
              "#bd3786"
             ],
             [
              0.5555555555555556,
              "#d8576b"
             ],
             [
              0.6666666666666666,
              "#ed7953"
             ],
             [
              0.7777777777777778,
              "#fb9f3a"
             ],
             [
              0.8888888888888888,
              "#fdca26"
             ],
             [
              1,
              "#f0f921"
             ]
            ],
            "type": "histogram2d"
           }
          ],
          "histogram2dcontour": [
           {
            "colorbar": {
             "outlinewidth": 0,
             "ticks": ""
            },
            "colorscale": [
             [
              0,
              "#0d0887"
             ],
             [
              0.1111111111111111,
              "#46039f"
             ],
             [
              0.2222222222222222,
              "#7201a8"
             ],
             [
              0.3333333333333333,
              "#9c179e"
             ],
             [
              0.4444444444444444,
              "#bd3786"
             ],
             [
              0.5555555555555556,
              "#d8576b"
             ],
             [
              0.6666666666666666,
              "#ed7953"
             ],
             [
              0.7777777777777778,
              "#fb9f3a"
             ],
             [
              0.8888888888888888,
              "#fdca26"
             ],
             [
              1,
              "#f0f921"
             ]
            ],
            "type": "histogram2dcontour"
           }
          ],
          "mesh3d": [
           {
            "colorbar": {
             "outlinewidth": 0,
             "ticks": ""
            },
            "type": "mesh3d"
           }
          ],
          "parcoords": [
           {
            "line": {
             "colorbar": {
              "outlinewidth": 0,
              "ticks": ""
             }
            },
            "type": "parcoords"
           }
          ],
          "pie": [
           {
            "automargin": true,
            "type": "pie"
           }
          ],
          "scatter": [
           {
            "marker": {
             "colorbar": {
              "outlinewidth": 0,
              "ticks": ""
             }
            },
            "type": "scatter"
           }
          ],
          "scatter3d": [
           {
            "line": {
             "colorbar": {
              "outlinewidth": 0,
              "ticks": ""
             }
            },
            "marker": {
             "colorbar": {
              "outlinewidth": 0,
              "ticks": ""
             }
            },
            "type": "scatter3d"
           }
          ],
          "scattercarpet": [
           {
            "marker": {
             "colorbar": {
              "outlinewidth": 0,
              "ticks": ""
             }
            },
            "type": "scattercarpet"
           }
          ],
          "scattergeo": [
           {
            "marker": {
             "colorbar": {
              "outlinewidth": 0,
              "ticks": ""
             }
            },
            "type": "scattergeo"
           }
          ],
          "scattergl": [
           {
            "marker": {
             "colorbar": {
              "outlinewidth": 0,
              "ticks": ""
             }
            },
            "type": "scattergl"
           }
          ],
          "scattermapbox": [
           {
            "marker": {
             "colorbar": {
              "outlinewidth": 0,
              "ticks": ""
             }
            },
            "type": "scattermapbox"
           }
          ],
          "scatterpolar": [
           {
            "marker": {
             "colorbar": {
              "outlinewidth": 0,
              "ticks": ""
             }
            },
            "type": "scatterpolar"
           }
          ],
          "scatterpolargl": [
           {
            "marker": {
             "colorbar": {
              "outlinewidth": 0,
              "ticks": ""
             }
            },
            "type": "scatterpolargl"
           }
          ],
          "scatterternary": [
           {
            "marker": {
             "colorbar": {
              "outlinewidth": 0,
              "ticks": ""
             }
            },
            "type": "scatterternary"
           }
          ],
          "surface": [
           {
            "colorbar": {
             "outlinewidth": 0,
             "ticks": ""
            },
            "colorscale": [
             [
              0,
              "#0d0887"
             ],
             [
              0.1111111111111111,
              "#46039f"
             ],
             [
              0.2222222222222222,
              "#7201a8"
             ],
             [
              0.3333333333333333,
              "#9c179e"
             ],
             [
              0.4444444444444444,
              "#bd3786"
             ],
             [
              0.5555555555555556,
              "#d8576b"
             ],
             [
              0.6666666666666666,
              "#ed7953"
             ],
             [
              0.7777777777777778,
              "#fb9f3a"
             ],
             [
              0.8888888888888888,
              "#fdca26"
             ],
             [
              1,
              "#f0f921"
             ]
            ],
            "type": "surface"
           }
          ],
          "table": [
           {
            "cells": {
             "fill": {
              "color": "#EBF0F8"
             },
             "line": {
              "color": "white"
             }
            },
            "header": {
             "fill": {
              "color": "#C8D4E3"
             },
             "line": {
              "color": "white"
             }
            },
            "type": "table"
           }
          ]
         },
         "layout": {
          "annotationdefaults": {
           "arrowcolor": "#2a3f5f",
           "arrowhead": 0,
           "arrowwidth": 1
          },
          "coloraxis": {
           "colorbar": {
            "outlinewidth": 0,
            "ticks": ""
           }
          },
          "colorscale": {
           "diverging": [
            [
             0,
             "#8e0152"
            ],
            [
             0.1,
             "#c51b7d"
            ],
            [
             0.2,
             "#de77ae"
            ],
            [
             0.3,
             "#f1b6da"
            ],
            [
             0.4,
             "#fde0ef"
            ],
            [
             0.5,
             "#f7f7f7"
            ],
            [
             0.6,
             "#e6f5d0"
            ],
            [
             0.7,
             "#b8e186"
            ],
            [
             0.8,
             "#7fbc41"
            ],
            [
             0.9,
             "#4d9221"
            ],
            [
             1,
             "#276419"
            ]
           ],
           "sequential": [
            [
             0,
             "#0d0887"
            ],
            [
             0.1111111111111111,
             "#46039f"
            ],
            [
             0.2222222222222222,
             "#7201a8"
            ],
            [
             0.3333333333333333,
             "#9c179e"
            ],
            [
             0.4444444444444444,
             "#bd3786"
            ],
            [
             0.5555555555555556,
             "#d8576b"
            ],
            [
             0.6666666666666666,
             "#ed7953"
            ],
            [
             0.7777777777777778,
             "#fb9f3a"
            ],
            [
             0.8888888888888888,
             "#fdca26"
            ],
            [
             1,
             "#f0f921"
            ]
           ],
           "sequentialminus": [
            [
             0,
             "#0d0887"
            ],
            [
             0.1111111111111111,
             "#46039f"
            ],
            [
             0.2222222222222222,
             "#7201a8"
            ],
            [
             0.3333333333333333,
             "#9c179e"
            ],
            [
             0.4444444444444444,
             "#bd3786"
            ],
            [
             0.5555555555555556,
             "#d8576b"
            ],
            [
             0.6666666666666666,
             "#ed7953"
            ],
            [
             0.7777777777777778,
             "#fb9f3a"
            ],
            [
             0.8888888888888888,
             "#fdca26"
            ],
            [
             1,
             "#f0f921"
            ]
           ]
          },
          "colorway": [
           "#636efa",
           "#EF553B",
           "#00cc96",
           "#ab63fa",
           "#FFA15A",
           "#19d3f3",
           "#FF6692",
           "#B6E880",
           "#FF97FF",
           "#FECB52"
          ],
          "font": {
           "color": "#2a3f5f"
          },
          "geo": {
           "bgcolor": "white",
           "lakecolor": "white",
           "landcolor": "#E5ECF6",
           "showlakes": true,
           "showland": true,
           "subunitcolor": "white"
          },
          "hoverlabel": {
           "align": "left"
          },
          "hovermode": "closest",
          "mapbox": {
           "style": "light"
          },
          "paper_bgcolor": "white",
          "plot_bgcolor": "#E5ECF6",
          "polar": {
           "angularaxis": {
            "gridcolor": "white",
            "linecolor": "white",
            "ticks": ""
           },
           "bgcolor": "#E5ECF6",
           "radialaxis": {
            "gridcolor": "white",
            "linecolor": "white",
            "ticks": ""
           }
          },
          "scene": {
           "xaxis": {
            "backgroundcolor": "#E5ECF6",
            "gridcolor": "white",
            "gridwidth": 2,
            "linecolor": "white",
            "showbackground": true,
            "ticks": "",
            "zerolinecolor": "white"
           },
           "yaxis": {
            "backgroundcolor": "#E5ECF6",
            "gridcolor": "white",
            "gridwidth": 2,
            "linecolor": "white",
            "showbackground": true,
            "ticks": "",
            "zerolinecolor": "white"
           },
           "zaxis": {
            "backgroundcolor": "#E5ECF6",
            "gridcolor": "white",
            "gridwidth": 2,
            "linecolor": "white",
            "showbackground": true,
            "ticks": "",
            "zerolinecolor": "white"
           }
          },
          "shapedefaults": {
           "line": {
            "color": "#2a3f5f"
           }
          },
          "ternary": {
           "aaxis": {
            "gridcolor": "white",
            "linecolor": "white",
            "ticks": ""
           },
           "baxis": {
            "gridcolor": "white",
            "linecolor": "white",
            "ticks": ""
           },
           "bgcolor": "#E5ECF6",
           "caxis": {
            "gridcolor": "white",
            "linecolor": "white",
            "ticks": ""
           }
          },
          "title": {
           "x": 0.05
          },
          "xaxis": {
           "automargin": true,
           "gridcolor": "white",
           "linecolor": "white",
           "ticks": "",
           "title": {
            "standoff": 15
           },
           "zerolinecolor": "white",
           "zerolinewidth": 2
          },
          "yaxis": {
           "automargin": true,
           "gridcolor": "white",
           "linecolor": "white",
           "ticks": "",
           "title": {
            "standoff": 15
           },
           "zerolinecolor": "white",
           "zerolinewidth": 2
          }
         }
        },
        "title": {
         "text": "Nonvoters by Election Year"
        },
        "xaxis": {
         "anchor": "y",
         "domain": [
          0,
          1
         ],
         "title": {
          "text": "electionyear"
         }
        },
        "yaxis": {
         "anchor": "x",
         "domain": [
          0,
          1
         ],
         "title": {
          "text": "nonvoters"
         }
        }
       }
      }
     },
     "metadata": {}
    }
   ],
   "source": [
    "NonvotersYear.show()"
   ]
  },
  {
   "cell_type": "code",
   "execution_count": 29,
   "metadata": {},
   "outputs": [],
   "source": [
    "with open('plotly_graph.html', 'w') as f:\n",
    "    f.write(NonvotersYear.to_html(include_plotlyjs='cdn'))"
   ]
  },
  {
   "cell_type": "code",
   "execution_count": 30,
   "metadata": {},
   "outputs": [],
   "source": [
    "with open('Turnoput2008_graph.html', 'w') as f:\n",
    "    f.write(Turnout2008.to_html(include_plotlyjs='cdn'))"
   ]
  },
  {
   "cell_type": "code",
   "execution_count": null,
   "metadata": {},
   "outputs": [],
   "source": []
  }
 ],
 "metadata": {
  "language_info": {
   "codemirror_mode": {
    "name": "ipython",
    "version": 3
   },
   "file_extension": ".py",
   "mimetype": "text/x-python",
   "name": "python",
   "nbconvert_exporter": "python",
   "pygments_lexer": "ipython3",
   "version": 3
  },
  "orig_nbformat": 2,
  "kernelspec": {
   "name": "python_defaultSpec_1604961129675",
   "display_name": "Python 3.7.7 64-bit ('PythonData': conda)"
  }
 },
 "nbformat": 4,
 "nbformat_minor": 2
}