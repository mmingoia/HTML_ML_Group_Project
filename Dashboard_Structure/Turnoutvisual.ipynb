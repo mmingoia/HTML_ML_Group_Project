{
 "cells": [
  {
   "cell_type": "code",
   "execution_count": 1,
   "metadata": {},
   "outputs": [],
   "source": [
    "import datetime as dt\n",
    "import numpy as np\n",
    "import pandas as pd\n",
    "import sqlalchemy\n",
    "from sqlalchemy.ext.automap import automap_base\n",
    "from sqlalchemy.orm import Session\n",
    "from sqlalchemy import create_engine, func\n",
    "from flask import Flask, jsonify\n",
    "from flask import Flask, render_template\n",
    "import psycopg2\n",
    "from bokeh.models import ColumnDataSource\n",
    "from bokeh.plotting import figure, output_file, show\n",
    "import matplotlib.pyplot as plt\n"
   ]
  },
  {
   "cell_type": "code",
   "execution_count": 2,
   "metadata": {},
   "outputs": [],
   "source": [
    "t_host = \"provisionaldb2.cpvxmi357s0k.us-east-2.rds.amazonaws.com\" # either \"localhost\", a domain name, or an IP address.\n",
    "t_port = \"5432\" # default postgres port\n",
    "t_dbname = \"GroupProjectDB\"\n",
    "t_user = \"postgres\"\n",
    "t_pw = \"postgres\"\n",
    "db_conn = psycopg2.connect(host=t_host, port=t_port, dbname=t_dbname, user=t_user, password=t_pw)\n",
    "db_cursor = db_conn.cursor()"
   ]
  },
  {
   "cell_type": "code",
   "execution_count": 3,
   "metadata": {},
   "outputs": [],
   "source": [
    "# Read data from PostgreSQL database table and load into a DataFrame instance\n",
    "DashboardDataDF =  pd.read_sql(\"select * from \\\"turnoutanalysisdata\\\"\", db_conn)\n",
    "PercentRegisteredData =  [DashboardDataDF[\"electionyear\"],DashboardDataDF[\"stateabbreviation\"], DashboardDataDF[\"statename\"] , DashboardDataDF[\"pct_reg_of_vep_vrs\"],DashboardDataDF[\"voterturnout\"]]\n",
    "PercentRegisteredHeaders = [\"ElectionYear\",\"StateAbbreviation\",\"StateName\",\"PercentOfRegisteredVoters\",\"PercentTurnout\" ]\n",
    "PercentRegisteredDF = pd.concat(PercentRegisteredData, axis=1, keys=PercentRegisteredHeaders)"
   ]
  },
  {
   "cell_type": "code",
   "execution_count": 4,
   "metadata": {},
   "outputs": [
    {
     "output_type": "execute_result",
     "data": {
      "text/plain": "     ElectionYear StateAbbreviation      StateName  PercentOfRegisteredVoters  \\\n0            2008                AL        Alabama                   0.852208   \n1            2008                AK         Alaska                   0.875693   \n2            2008                AZ        Arizona                   0.829416   \n3            2008                AR       Arkansas                   0.742385   \n4            2008                CA     California                   0.824846   \n..            ...               ...            ...                        ...   \n296          2018                VA       Virginia                   0.874413   \n297          2018                WA     Washington                   0.855181   \n298          2018                WV  West Virginia                   0.778394   \n299          2018                WI      Wisconsin                   0.828831   \n300          2018                WY        Wyoming                   0.750195   \n\n     PercentTurnout  \n0             0.608  \n1             0.680  \n2             0.567  \n3             0.525  \n4             0.609  \n..              ...  \n296           0.544  \n297           0.583  \n298           0.425  \n299           0.614  \n300           0.479  \n\n[301 rows x 5 columns]",
      "text/html": "<div>\n<style scoped>\n    .dataframe tbody tr th:only-of-type {\n        vertical-align: middle;\n    }\n\n    .dataframe tbody tr th {\n        vertical-align: top;\n    }\n\n    .dataframe thead th {\n        text-align: right;\n    }\n</style>\n<table border=\"1\" class=\"dataframe\">\n  <thead>\n    <tr style=\"text-align: right;\">\n      <th></th>\n      <th>ElectionYear</th>\n      <th>StateAbbreviation</th>\n      <th>StateName</th>\n      <th>PercentOfRegisteredVoters</th>\n      <th>PercentTurnout</th>\n    </tr>\n  </thead>\n  <tbody>\n    <tr>\n      <th>0</th>\n      <td>2008</td>\n      <td>AL</td>\n      <td>Alabama</td>\n      <td>0.852208</td>\n      <td>0.608</td>\n    </tr>\n    <tr>\n      <th>1</th>\n      <td>2008</td>\n      <td>AK</td>\n      <td>Alaska</td>\n      <td>0.875693</td>\n      <td>0.680</td>\n    </tr>\n    <tr>\n      <th>2</th>\n      <td>2008</td>\n      <td>AZ</td>\n      <td>Arizona</td>\n      <td>0.829416</td>\n      <td>0.567</td>\n    </tr>\n    <tr>\n      <th>3</th>\n      <td>2008</td>\n      <td>AR</td>\n      <td>Arkansas</td>\n      <td>0.742385</td>\n      <td>0.525</td>\n    </tr>\n    <tr>\n      <th>4</th>\n      <td>2008</td>\n      <td>CA</td>\n      <td>California</td>\n      <td>0.824846</td>\n      <td>0.609</td>\n    </tr>\n    <tr>\n      <th>...</th>\n      <td>...</td>\n      <td>...</td>\n      <td>...</td>\n      <td>...</td>\n      <td>...</td>\n    </tr>\n    <tr>\n      <th>296</th>\n      <td>2018</td>\n      <td>VA</td>\n      <td>Virginia</td>\n      <td>0.874413</td>\n      <td>0.544</td>\n    </tr>\n    <tr>\n      <th>297</th>\n      <td>2018</td>\n      <td>WA</td>\n      <td>Washington</td>\n      <td>0.855181</td>\n      <td>0.583</td>\n    </tr>\n    <tr>\n      <th>298</th>\n      <td>2018</td>\n      <td>WV</td>\n      <td>West Virginia</td>\n      <td>0.778394</td>\n      <td>0.425</td>\n    </tr>\n    <tr>\n      <th>299</th>\n      <td>2018</td>\n      <td>WI</td>\n      <td>Wisconsin</td>\n      <td>0.828831</td>\n      <td>0.614</td>\n    </tr>\n    <tr>\n      <th>300</th>\n      <td>2018</td>\n      <td>WY</td>\n      <td>Wyoming</td>\n      <td>0.750195</td>\n      <td>0.479</td>\n    </tr>\n  </tbody>\n</table>\n<p>301 rows × 5 columns</p>\n</div>"
     },
     "metadata": {},
     "execution_count": 4
    }
   ],
   "source": [
    "PercentRegisteredDF"
   ]
  },
  {
   "cell_type": "code",
   "execution_count": 5,
   "metadata": {},
   "outputs": [],
   "source": [
    "PercentRegisteredDF2008=PercentRegisteredDF[PercentRegisteredDF['ElectionYear']==2008]"
   ]
  },
  {
   "cell_type": "code",
   "execution_count": 6,
   "metadata": {},
   "outputs": [
    {
     "output_type": "execute_result",
     "data": {
      "text/plain": "    ElectionYear StateAbbreviation       StateName  PercentOfRegisteredVoters  \\\n0           2008                AL         Alabama                   0.852208   \n1           2008                AK          Alaska                   0.875693   \n2           2008                AZ         Arizona                   0.829416   \n3           2008                AR        Arkansas                   0.742385   \n4           2008                CA      California                   0.824846   \n5           2008                CO        Colorado                   0.840033   \n6           2008                CT     Connecticut                   0.855638   \n7           2008                DE        Delaware                   0.857940   \n8           2008                FL         Florida                   0.876890   \n9           2008                GA         Georgia                   0.849353   \n10          2008                HI          Hawaii                   0.696120   \n11          2008                ID           Idaho                   0.771011   \n12          2008                IL        Illinois                   0.852006   \n13          2008                IN         Indiana                   0.810648   \n14          2008                IA            Iowa                   0.853158   \n15          2008                KS          Kansas                   0.771795   \n16          2008                KY        Kentucky                   0.831679   \n17          2008                LA       Louisiana                   0.880880   \n18          2008                ME           Maine                   0.864557   \n19          2008                MD        Maryland                   0.870055   \n20          2008                MA   Massachusetts                   0.870557   \n21          2008                MI        Michigan                   0.904447   \n22          2008                MN       Minnesota                   0.918129   \n23          2008                MS     Mississippi                   0.868227   \n24          2008                MO        Missouri                   0.854682   \n25          2008                MT         Montana                   0.802069   \n26          2008                NE        Nebraska                   0.827338   \n27          2008                NV          Nevada                   0.776005   \n28          2008                NH   New Hampshire                   0.843120   \n29          2008                NJ      New Jersey                   0.854699   \n30          2008                NM      New Mexico                   0.808256   \n31          2008                NY        New York                   0.839322   \n32          2008                NC  North Carolina                   0.845099   \n33          2008                ND    North Dakota                        NaN   \n34          2008                OH            Ohio                   0.844206   \n35          2008                OK        Oklahoma                   0.810813   \n36          2008                OR          Oregon                   0.850467   \n37          2008                PA    Pennsylvania                   0.813880   \n38          2008                RI    Rhode Island                   0.841730   \n39          2008                SC  South Carolina                   0.806624   \n40          2008                SD    South Dakota                   0.836161   \n41          2008                TN       Tennessee                   0.802247   \n42          2008                TX           Texas                   0.794732   \n43          2008                UT            Utah                   0.758163   \n44          2008                VT         Vermont                   0.834251   \n45          2008                VA        Virginia                   0.873056   \n46          2008                WA      Washington                   0.841908   \n47          2008                WV   West Virginia                   0.781425   \n48          2008                WI       Wisconsin                   0.869157   \n49          2008                WY         Wyoming                   0.782883   \n\n    PercentTurnout  \n0            0.608  \n1            0.680  \n2            0.567  \n3            0.525  \n4            0.609  \n5            0.710  \n6            0.666  \n7            0.656  \n8            0.661  \n9            0.625  \n10           0.488  \n11           0.636  \n12           0.636  \n13           0.591  \n14           0.694  \n15           0.620  \n16           0.579  \n17           0.612  \n18           0.706  \n19           0.670  \n20           0.668  \n21           0.692  \n22           0.778  \n23           0.610  \n24           0.676  \n25           0.663  \n26           0.629  \n27           0.570  \n28           0.717  \n29           0.670  \n30           0.609  \n31           0.590  \n32           0.655  \n33           0.627  \n34           0.669  \n35           0.558  \n36           0.677  \n37           0.636  \n38           0.618  \n39           0.580  \n40           0.647  \n41           0.570  \n42           0.541  \n43           0.560  \n44           0.673  \n45           0.670  \n46           0.666  \n47           0.499  \n48           0.724  \n49           0.628  ",
      "text/html": "<div>\n<style scoped>\n    .dataframe tbody tr th:only-of-type {\n        vertical-align: middle;\n    }\n\n    .dataframe tbody tr th {\n        vertical-align: top;\n    }\n\n    .dataframe thead th {\n        text-align: right;\n    }\n</style>\n<table border=\"1\" class=\"dataframe\">\n  <thead>\n    <tr style=\"text-align: right;\">\n      <th></th>\n      <th>ElectionYear</th>\n      <th>StateAbbreviation</th>\n      <th>StateName</th>\n      <th>PercentOfRegisteredVoters</th>\n      <th>PercentTurnout</th>\n    </tr>\n  </thead>\n  <tbody>\n    <tr>\n      <th>0</th>\n      <td>2008</td>\n      <td>AL</td>\n      <td>Alabama</td>\n      <td>0.852208</td>\n      <td>0.608</td>\n    </tr>\n    <tr>\n      <th>1</th>\n      <td>2008</td>\n      <td>AK</td>\n      <td>Alaska</td>\n      <td>0.875693</td>\n      <td>0.680</td>\n    </tr>\n    <tr>\n      <th>2</th>\n      <td>2008</td>\n      <td>AZ</td>\n      <td>Arizona</td>\n      <td>0.829416</td>\n      <td>0.567</td>\n    </tr>\n    <tr>\n      <th>3</th>\n      <td>2008</td>\n      <td>AR</td>\n      <td>Arkansas</td>\n      <td>0.742385</td>\n      <td>0.525</td>\n    </tr>\n    <tr>\n      <th>4</th>\n      <td>2008</td>\n      <td>CA</td>\n      <td>California</td>\n      <td>0.824846</td>\n      <td>0.609</td>\n    </tr>\n    <tr>\n      <th>5</th>\n      <td>2008</td>\n      <td>CO</td>\n      <td>Colorado</td>\n      <td>0.840033</td>\n      <td>0.710</td>\n    </tr>\n    <tr>\n      <th>6</th>\n      <td>2008</td>\n      <td>CT</td>\n      <td>Connecticut</td>\n      <td>0.855638</td>\n      <td>0.666</td>\n    </tr>\n    <tr>\n      <th>7</th>\n      <td>2008</td>\n      <td>DE</td>\n      <td>Delaware</td>\n      <td>0.857940</td>\n      <td>0.656</td>\n    </tr>\n    <tr>\n      <th>8</th>\n      <td>2008</td>\n      <td>FL</td>\n      <td>Florida</td>\n      <td>0.876890</td>\n      <td>0.661</td>\n    </tr>\n    <tr>\n      <th>9</th>\n      <td>2008</td>\n      <td>GA</td>\n      <td>Georgia</td>\n      <td>0.849353</td>\n      <td>0.625</td>\n    </tr>\n    <tr>\n      <th>10</th>\n      <td>2008</td>\n      <td>HI</td>\n      <td>Hawaii</td>\n      <td>0.696120</td>\n      <td>0.488</td>\n    </tr>\n    <tr>\n      <th>11</th>\n      <td>2008</td>\n      <td>ID</td>\n      <td>Idaho</td>\n      <td>0.771011</td>\n      <td>0.636</td>\n    </tr>\n    <tr>\n      <th>12</th>\n      <td>2008</td>\n      <td>IL</td>\n      <td>Illinois</td>\n      <td>0.852006</td>\n      <td>0.636</td>\n    </tr>\n    <tr>\n      <th>13</th>\n      <td>2008</td>\n      <td>IN</td>\n      <td>Indiana</td>\n      <td>0.810648</td>\n      <td>0.591</td>\n    </tr>\n    <tr>\n      <th>14</th>\n      <td>2008</td>\n      <td>IA</td>\n      <td>Iowa</td>\n      <td>0.853158</td>\n      <td>0.694</td>\n    </tr>\n    <tr>\n      <th>15</th>\n      <td>2008</td>\n      <td>KS</td>\n      <td>Kansas</td>\n      <td>0.771795</td>\n      <td>0.620</td>\n    </tr>\n    <tr>\n      <th>16</th>\n      <td>2008</td>\n      <td>KY</td>\n      <td>Kentucky</td>\n      <td>0.831679</td>\n      <td>0.579</td>\n    </tr>\n    <tr>\n      <th>17</th>\n      <td>2008</td>\n      <td>LA</td>\n      <td>Louisiana</td>\n      <td>0.880880</td>\n      <td>0.612</td>\n    </tr>\n    <tr>\n      <th>18</th>\n      <td>2008</td>\n      <td>ME</td>\n      <td>Maine</td>\n      <td>0.864557</td>\n      <td>0.706</td>\n    </tr>\n    <tr>\n      <th>19</th>\n      <td>2008</td>\n      <td>MD</td>\n      <td>Maryland</td>\n      <td>0.870055</td>\n      <td>0.670</td>\n    </tr>\n    <tr>\n      <th>20</th>\n      <td>2008</td>\n      <td>MA</td>\n      <td>Massachusetts</td>\n      <td>0.870557</td>\n      <td>0.668</td>\n    </tr>\n    <tr>\n      <th>21</th>\n      <td>2008</td>\n      <td>MI</td>\n      <td>Michigan</td>\n      <td>0.904447</td>\n      <td>0.692</td>\n    </tr>\n    <tr>\n      <th>22</th>\n      <td>2008</td>\n      <td>MN</td>\n      <td>Minnesota</td>\n      <td>0.918129</td>\n      <td>0.778</td>\n    </tr>\n    <tr>\n      <th>23</th>\n      <td>2008</td>\n      <td>MS</td>\n      <td>Mississippi</td>\n      <td>0.868227</td>\n      <td>0.610</td>\n    </tr>\n    <tr>\n      <th>24</th>\n      <td>2008</td>\n      <td>MO</td>\n      <td>Missouri</td>\n      <td>0.854682</td>\n      <td>0.676</td>\n    </tr>\n    <tr>\n      <th>25</th>\n      <td>2008</td>\n      <td>MT</td>\n      <td>Montana</td>\n      <td>0.802069</td>\n      <td>0.663</td>\n    </tr>\n    <tr>\n      <th>26</th>\n      <td>2008</td>\n      <td>NE</td>\n      <td>Nebraska</td>\n      <td>0.827338</td>\n      <td>0.629</td>\n    </tr>\n    <tr>\n      <th>27</th>\n      <td>2008</td>\n      <td>NV</td>\n      <td>Nevada</td>\n      <td>0.776005</td>\n      <td>0.570</td>\n    </tr>\n    <tr>\n      <th>28</th>\n      <td>2008</td>\n      <td>NH</td>\n      <td>New Hampshire</td>\n      <td>0.843120</td>\n      <td>0.717</td>\n    </tr>\n    <tr>\n      <th>29</th>\n      <td>2008</td>\n      <td>NJ</td>\n      <td>New Jersey</td>\n      <td>0.854699</td>\n      <td>0.670</td>\n    </tr>\n    <tr>\n      <th>30</th>\n      <td>2008</td>\n      <td>NM</td>\n      <td>New Mexico</td>\n      <td>0.808256</td>\n      <td>0.609</td>\n    </tr>\n    <tr>\n      <th>31</th>\n      <td>2008</td>\n      <td>NY</td>\n      <td>New York</td>\n      <td>0.839322</td>\n      <td>0.590</td>\n    </tr>\n    <tr>\n      <th>32</th>\n      <td>2008</td>\n      <td>NC</td>\n      <td>North Carolina</td>\n      <td>0.845099</td>\n      <td>0.655</td>\n    </tr>\n    <tr>\n      <th>33</th>\n      <td>2008</td>\n      <td>ND</td>\n      <td>North Dakota</td>\n      <td>NaN</td>\n      <td>0.627</td>\n    </tr>\n    <tr>\n      <th>34</th>\n      <td>2008</td>\n      <td>OH</td>\n      <td>Ohio</td>\n      <td>0.844206</td>\n      <td>0.669</td>\n    </tr>\n    <tr>\n      <th>35</th>\n      <td>2008</td>\n      <td>OK</td>\n      <td>Oklahoma</td>\n      <td>0.810813</td>\n      <td>0.558</td>\n    </tr>\n    <tr>\n      <th>36</th>\n      <td>2008</td>\n      <td>OR</td>\n      <td>Oregon</td>\n      <td>0.850467</td>\n      <td>0.677</td>\n    </tr>\n    <tr>\n      <th>37</th>\n      <td>2008</td>\n      <td>PA</td>\n      <td>Pennsylvania</td>\n      <td>0.813880</td>\n      <td>0.636</td>\n    </tr>\n    <tr>\n      <th>38</th>\n      <td>2008</td>\n      <td>RI</td>\n      <td>Rhode Island</td>\n      <td>0.841730</td>\n      <td>0.618</td>\n    </tr>\n    <tr>\n      <th>39</th>\n      <td>2008</td>\n      <td>SC</td>\n      <td>South Carolina</td>\n      <td>0.806624</td>\n      <td>0.580</td>\n    </tr>\n    <tr>\n      <th>40</th>\n      <td>2008</td>\n      <td>SD</td>\n      <td>South Dakota</td>\n      <td>0.836161</td>\n      <td>0.647</td>\n    </tr>\n    <tr>\n      <th>41</th>\n      <td>2008</td>\n      <td>TN</td>\n      <td>Tennessee</td>\n      <td>0.802247</td>\n      <td>0.570</td>\n    </tr>\n    <tr>\n      <th>42</th>\n      <td>2008</td>\n      <td>TX</td>\n      <td>Texas</td>\n      <td>0.794732</td>\n      <td>0.541</td>\n    </tr>\n    <tr>\n      <th>43</th>\n      <td>2008</td>\n      <td>UT</td>\n      <td>Utah</td>\n      <td>0.758163</td>\n      <td>0.560</td>\n    </tr>\n    <tr>\n      <th>44</th>\n      <td>2008</td>\n      <td>VT</td>\n      <td>Vermont</td>\n      <td>0.834251</td>\n      <td>0.673</td>\n    </tr>\n    <tr>\n      <th>45</th>\n      <td>2008</td>\n      <td>VA</td>\n      <td>Virginia</td>\n      <td>0.873056</td>\n      <td>0.670</td>\n    </tr>\n    <tr>\n      <th>46</th>\n      <td>2008</td>\n      <td>WA</td>\n      <td>Washington</td>\n      <td>0.841908</td>\n      <td>0.666</td>\n    </tr>\n    <tr>\n      <th>47</th>\n      <td>2008</td>\n      <td>WV</td>\n      <td>West Virginia</td>\n      <td>0.781425</td>\n      <td>0.499</td>\n    </tr>\n    <tr>\n      <th>48</th>\n      <td>2008</td>\n      <td>WI</td>\n      <td>Wisconsin</td>\n      <td>0.869157</td>\n      <td>0.724</td>\n    </tr>\n    <tr>\n      <th>49</th>\n      <td>2008</td>\n      <td>WY</td>\n      <td>Wyoming</td>\n      <td>0.782883</td>\n      <td>0.628</td>\n    </tr>\n  </tbody>\n</table>\n</div>"
     },
     "metadata": {},
     "execution_count": 6
    }
   ],
   "source": [
    "PercentRegisteredDF2008"
   ]
  },
  {
   "cell_type": "code",
   "execution_count": 11,
   "metadata": {},
   "outputs": [],
   "source": [
    "import plotly.express as pe"
   ]
  },
  {
   "cell_type": "code",
   "execution_count": 8,
   "metadata": {},
   "outputs": [],
   "source": [
    "PercentRegisteredData =  [DashboardDataDF[\"electionyear\"],DashboardDataDF[\"stateabbreviation\"], DashboardDataDF[\"statename\"] , DashboardDataDF[\"pct_reg_of_vep_vrs\"], DashboardDataDF[\"voterturnout\"]]"
   ]
  },
  {
   "cell_type": "code",
   "execution_count": 9,
   "metadata": {},
   "outputs": [
    {
     "output_type": "execute_result",
     "data": {
      "text/plain": "[0      2008\n 1      2008\n 2      2008\n 3      2008\n 4      2008\n        ... \n 296    2018\n 297    2018\n 298    2018\n 299    2018\n 300    2018\n Name: electionyear, Length: 301, dtype: int64,\n 0      AL\n 1      AK\n 2      AZ\n 3      AR\n 4      CA\n        ..\n 296    VA\n 297    WA\n 298    WV\n 299    WI\n 300    WY\n Name: stateabbreviation, Length: 301, dtype: object,\n 0            Alabama\n 1             Alaska\n 2            Arizona\n 3           Arkansas\n 4         California\n            ...      \n 296         Virginia\n 297       Washington\n 298    West Virginia\n 299        Wisconsin\n 300          Wyoming\n Name: statename, Length: 301, dtype: object,\n 0      0.852208\n 1      0.875693\n 2      0.829416\n 3      0.742385\n 4      0.824846\n          ...   \n 296    0.874413\n 297    0.855181\n 298    0.778394\n 299    0.828831\n 300    0.750195\n Name: pct_reg_of_vep_vrs, Length: 301, dtype: float64,\n 0      0.608\n 1      0.680\n 2      0.567\n 3      0.525\n 4      0.609\n        ...  \n 296    0.544\n 297    0.583\n 298    0.425\n 299    0.614\n 300    0.479\n Name: voterturnout, Length: 301, dtype: float64]"
     },
     "metadata": {},
     "execution_count": 9
    }
   ],
   "source": [
    "PercentRegisteredData"
   ]
  },
  {
   "cell_type": "code",
   "execution_count": 12,
   "metadata": {},
   "outputs": [],
   "source": [
    "PercentTurnoutDF2008 = PercentRegisteredDF2008"
   ]
  },
  {
   "cell_type": "code",
   "execution_count": 19,
   "metadata": {},
   "outputs": [
    {
     "output_type": "display_data",
     "data": {
      "application/vnd.plotly.v1+json": {
       "config": {
        "plotlyServerURL": "https://plot.ly"
       },
       "data": [
        {
         "alignmentgroup": "True",
         "hovertemplate": "StateAbbreviation=%{x}<br>PercentTurnout=%{y}<extra></extra>",
         "legendgroup": "",
         "marker": {
          "color": "#636efa"
         },
         "name": "",
         "offsetgroup": "",
         "orientation": "v",
         "showlegend": false,
         "textposition": "auto",
         "type": "bar",
         "x": [
          "AL",
          "AK",
          "AZ",
          "AR",
          "CA",
          "CO",
          "CT",
          "DE",
          "FL",
          "GA",
          "HI",
          "ID",
          "IL",
          "IN",
          "IA",
          "KS",
          "KY",
          "LA",
          "ME",
          "MD",
          "MA",
          "MI",
          "MN",
          "MS",
          "MO",
          "MT",
          "NE",
          "NV",
          "NH",
          "NJ",
          "NM",
          "NY",
          "NC",
          "ND",
          "OH",
          "OK",
          "OR",
          "PA",
          "RI",
          "SC",
          "SD",
          "TN",
          "TX",
          "UT",
          "VT",
          "VA",
          "WA",
          "WV",
          "WI",
          "WY"
         ],
         "xaxis": "x",
         "y": [
          0.608,
          0.68,
          0.567,
          0.525,
          0.609,
          0.71,
          0.666,
          0.656,
          0.661,
          0.625,
          0.488,
          0.636,
          0.636,
          0.591,
          0.694,
          0.62,
          0.579,
          0.612,
          0.706,
          0.67,
          0.668,
          0.692,
          0.778,
          0.61,
          0.676,
          0.663,
          0.629,
          0.57,
          0.717,
          0.67,
          0.609,
          0.59,
          0.655,
          0.627,
          0.669,
          0.558,
          0.677,
          0.636,
          0.618,
          0.58,
          0.647,
          0.57,
          0.541,
          0.56,
          0.673,
          0.67,
          0.666,
          0.499,
          0.724,
          0.628
         ],
         "yaxis": "y"
        }
       ],
       "layout": {
        "barmode": "group",
        "height": 400,
        "legend": {
         "tracegroupgap": 0
        },
        "margin": {
         "t": 60
        },
        "template": {
         "data": {
          "bar": [
           {
            "error_x": {
             "color": "#2a3f5f"
            },
            "error_y": {
             "color": "#2a3f5f"
            },
            "marker": {
             "line": {
              "color": "#E5ECF6",
              "width": 0.5
             }
            },
            "type": "bar"
           }
          ],
          "barpolar": [
           {
            "marker": {
             "line": {
              "color": "#E5ECF6",
              "width": 0.5
             }
            },
            "type": "barpolar"
           }
          ],
          "carpet": [
           {
            "aaxis": {
             "endlinecolor": "#2a3f5f",
             "gridcolor": "white",
             "linecolor": "white",
             "minorgridcolor": "white",
             "startlinecolor": "#2a3f5f"
            },
            "baxis": {
             "endlinecolor": "#2a3f5f",
             "gridcolor": "white",
             "linecolor": "white",
             "minorgridcolor": "white",
             "startlinecolor": "#2a3f5f"
            },
            "type": "carpet"
           }
          ],
          "choropleth": [
           {
            "colorbar": {
             "outlinewidth": 0,
             "ticks": ""
            },
            "type": "choropleth"
           }
          ],
          "contour": [
           {
            "colorbar": {
             "outlinewidth": 0,
             "ticks": ""
            },
            "colorscale": [
             [
              0,
              "#0d0887"
             ],
             [
              0.1111111111111111,
              "#46039f"
             ],
             [
              0.2222222222222222,
              "#7201a8"
             ],
             [
              0.3333333333333333,
              "#9c179e"
             ],
             [
              0.4444444444444444,
              "#bd3786"
             ],
             [
              0.5555555555555556,
              "#d8576b"
             ],
             [
              0.6666666666666666,
              "#ed7953"
             ],
             [
              0.7777777777777778,
              "#fb9f3a"
             ],
             [
              0.8888888888888888,
              "#fdca26"
             ],
             [
              1,
              "#f0f921"
             ]
            ],
            "type": "contour"
           }
          ],
          "contourcarpet": [
           {
            "colorbar": {
             "outlinewidth": 0,
             "ticks": ""
            },
            "type": "contourcarpet"
           }
          ],
          "heatmap": [
           {
            "colorbar": {
             "outlinewidth": 0,
             "ticks": ""
            },
            "colorscale": [
             [
              0,
              "#0d0887"
             ],
             [
              0.1111111111111111,
              "#46039f"
             ],
             [
              0.2222222222222222,
              "#7201a8"
             ],
             [
              0.3333333333333333,
              "#9c179e"
             ],
             [
              0.4444444444444444,
              "#bd3786"
             ],
             [
              0.5555555555555556,
              "#d8576b"
             ],
             [
              0.6666666666666666,
              "#ed7953"
             ],
             [
              0.7777777777777778,
              "#fb9f3a"
             ],
             [
              0.8888888888888888,
              "#fdca26"
             ],
             [
              1,
              "#f0f921"
             ]
            ],
            "type": "heatmap"
           }
          ],
          "heatmapgl": [
           {
            "colorbar": {
             "outlinewidth": 0,
             "ticks": ""
            },
            "colorscale": [
             [
              0,
              "#0d0887"
             ],
             [
              0.1111111111111111,
              "#46039f"
             ],
             [
              0.2222222222222222,
              "#7201a8"
             ],
             [
              0.3333333333333333,
              "#9c179e"
             ],
             [
              0.4444444444444444,
              "#bd3786"
             ],
             [
              0.5555555555555556,
              "#d8576b"
             ],
             [
              0.6666666666666666,
              "#ed7953"
             ],
             [
              0.7777777777777778,
              "#fb9f3a"
             ],
             [
              0.8888888888888888,
              "#fdca26"
             ],
             [
              1,
              "#f0f921"
             ]
            ],
            "type": "heatmapgl"
           }
          ],
          "histogram": [
           {
            "marker": {
             "colorbar": {
              "outlinewidth": 0,
              "ticks": ""
             }
            },
            "type": "histogram"
           }
          ],
          "histogram2d": [
           {
            "colorbar": {
             "outlinewidth": 0,
             "ticks": ""
            },
            "colorscale": [
             [
              0,
              "#0d0887"
             ],
             [
              0.1111111111111111,
              "#46039f"
             ],
             [
              0.2222222222222222,
              "#7201a8"
             ],
             [
              0.3333333333333333,
              "#9c179e"
             ],
             [
              0.4444444444444444,
              "#bd3786"
             ],
             [
              0.5555555555555556,
              "#d8576b"
             ],
             [
              0.6666666666666666,
              "#ed7953"
             ],
             [
              0.7777777777777778,
              "#fb9f3a"
             ],
             [
              0.8888888888888888,
              "#fdca26"
             ],
             [
              1,
              "#f0f921"
             ]
            ],
            "type": "histogram2d"
           }
          ],
          "histogram2dcontour": [
           {
            "colorbar": {
             "outlinewidth": 0,
             "ticks": ""
            },
            "colorscale": [
             [
              0,
              "#0d0887"
             ],
             [
              0.1111111111111111,
              "#46039f"
             ],
             [
              0.2222222222222222,
              "#7201a8"
             ],
             [
              0.3333333333333333,
              "#9c179e"
             ],
             [
              0.4444444444444444,
              "#bd3786"
             ],
             [
              0.5555555555555556,
              "#d8576b"
             ],
             [
              0.6666666666666666,
              "#ed7953"
             ],
             [
              0.7777777777777778,
              "#fb9f3a"
             ],
             [
              0.8888888888888888,
              "#fdca26"
             ],
             [
              1,
              "#f0f921"
             ]
            ],
            "type": "histogram2dcontour"
           }
          ],
          "mesh3d": [
           {
            "colorbar": {
             "outlinewidth": 0,
             "ticks": ""
            },
            "type": "mesh3d"
           }
          ],
          "parcoords": [
           {
            "line": {
             "colorbar": {
              "outlinewidth": 0,
              "ticks": ""
             }
            },
            "type": "parcoords"
           }
          ],
          "pie": [
           {
            "automargin": true,
            "type": "pie"
           }
          ],
          "scatter": [
           {
            "marker": {
             "colorbar": {
              "outlinewidth": 0,
              "ticks": ""
             }
            },
            "type": "scatter"
           }
          ],
          "scatter3d": [
           {
            "line": {
             "colorbar": {
              "outlinewidth": 0,
              "ticks": ""
             }
            },
            "marker": {
             "colorbar": {
              "outlinewidth": 0,
              "ticks": ""
             }
            },
            "type": "scatter3d"
           }
          ],
          "scattercarpet": [
           {
            "marker": {
             "colorbar": {
              "outlinewidth": 0,
              "ticks": ""
             }
            },
            "type": "scattercarpet"
           }
          ],
          "scattergeo": [
           {
            "marker": {
             "colorbar": {
              "outlinewidth": 0,
              "ticks": ""
             }
            },
            "type": "scattergeo"
           }
          ],
          "scattergl": [
           {
            "marker": {
             "colorbar": {
              "outlinewidth": 0,
              "ticks": ""
             }
            },
            "type": "scattergl"
           }
          ],
          "scattermapbox": [
           {
            "marker": {
             "colorbar": {
              "outlinewidth": 0,
              "ticks": ""
             }
            },
            "type": "scattermapbox"
           }
          ],
          "scatterpolar": [
           {
            "marker": {
             "colorbar": {
              "outlinewidth": 0,
              "ticks": ""
             }
            },
            "type": "scatterpolar"
           }
          ],
          "scatterpolargl": [
           {
            "marker": {
             "colorbar": {
              "outlinewidth": 0,
              "ticks": ""
             }
            },
            "type": "scatterpolargl"
           }
          ],
          "scatterternary": [
           {
            "marker": {
             "colorbar": {
              "outlinewidth": 0,
              "ticks": ""
             }
            },
            "type": "scatterternary"
           }
          ],
          "surface": [
           {
            "colorbar": {
             "outlinewidth": 0,
             "ticks": ""
            },
            "colorscale": [
             [
              0,
              "#0d0887"
             ],
             [
              0.1111111111111111,
              "#46039f"
             ],
             [
              0.2222222222222222,
              "#7201a8"
             ],
             [
              0.3333333333333333,
              "#9c179e"
             ],
             [
              0.4444444444444444,
              "#bd3786"
             ],
             [
              0.5555555555555556,
              "#d8576b"
             ],
             [
              0.6666666666666666,
              "#ed7953"
             ],
             [
              0.7777777777777778,
              "#fb9f3a"
             ],
             [
              0.8888888888888888,
              "#fdca26"
             ],
             [
              1,
              "#f0f921"
             ]
            ],
            "type": "surface"
           }
          ],
          "table": [
           {
            "cells": {
             "fill": {
              "color": "#EBF0F8"
             },
             "line": {
              "color": "white"
             }
            },
            "header": {
             "fill": {
              "color": "#C8D4E3"
             },
             "line": {
              "color": "white"
             }
            },
            "type": "table"
           }
          ]
         },
         "layout": {
          "annotationdefaults": {
           "arrowcolor": "#2a3f5f",
           "arrowhead": 0,
           "arrowwidth": 1
          },
          "coloraxis": {
           "colorbar": {
            "outlinewidth": 0,
            "ticks": ""
           }
          },
          "colorscale": {
           "diverging": [
            [
             0,
             "#8e0152"
            ],
            [
             0.1,
             "#c51b7d"
            ],
            [
             0.2,
             "#de77ae"
            ],
            [
             0.3,
             "#f1b6da"
            ],
            [
             0.4,
             "#fde0ef"
            ],
            [
             0.5,
             "#f7f7f7"
            ],
            [
             0.6,
             "#e6f5d0"
            ],
            [
             0.7,
             "#b8e186"
            ],
            [
             0.8,
             "#7fbc41"
            ],
            [
             0.9,
             "#4d9221"
            ],
            [
             1,
             "#276419"
            ]
           ],
           "sequential": [
            [
             0,
             "#0d0887"
            ],
            [
             0.1111111111111111,
             "#46039f"
            ],
            [
             0.2222222222222222,
             "#7201a8"
            ],
            [
             0.3333333333333333,
             "#9c179e"
            ],
            [
             0.4444444444444444,
             "#bd3786"
            ],
            [
             0.5555555555555556,
             "#d8576b"
            ],
            [
             0.6666666666666666,
             "#ed7953"
            ],
            [
             0.7777777777777778,
             "#fb9f3a"
            ],
            [
             0.8888888888888888,
             "#fdca26"
            ],
            [
             1,
             "#f0f921"
            ]
           ],
           "sequentialminus": [
            [
             0,
             "#0d0887"
            ],
            [
             0.1111111111111111,
             "#46039f"
            ],
            [
             0.2222222222222222,
             "#7201a8"
            ],
            [
             0.3333333333333333,
             "#9c179e"
            ],
            [
             0.4444444444444444,
             "#bd3786"
            ],
            [
             0.5555555555555556,
             "#d8576b"
            ],
            [
             0.6666666666666666,
             "#ed7953"
            ],
            [
             0.7777777777777778,
             "#fb9f3a"
            ],
            [
             0.8888888888888888,
             "#fdca26"
            ],
            [
             1,
             "#f0f921"
            ]
           ]
          },
          "colorway": [
           "#636efa",
           "#EF553B",
           "#00cc96",
           "#ab63fa",
           "#FFA15A",
           "#19d3f3",
           "#FF6692",
           "#B6E880",
           "#FF97FF",
           "#FECB52"
          ],
          "font": {
           "color": "#2a3f5f"
          },
          "geo": {
           "bgcolor": "white",
           "lakecolor": "white",
           "landcolor": "#E5ECF6",
           "showlakes": true,
           "showland": true,
           "subunitcolor": "white"
          },
          "hoverlabel": {
           "align": "left"
          },
          "hovermode": "closest",
          "mapbox": {
           "style": "light"
          },
          "paper_bgcolor": "white",
          "plot_bgcolor": "#E5ECF6",
          "polar": {
           "angularaxis": {
            "gridcolor": "white",
            "linecolor": "white",
            "ticks": ""
           },
           "bgcolor": "#E5ECF6",
           "radialaxis": {
            "gridcolor": "white",
            "linecolor": "white",
            "ticks": ""
           }
          },
          "scene": {
           "xaxis": {
            "backgroundcolor": "#E5ECF6",
            "gridcolor": "white",
            "gridwidth": 2,
            "linecolor": "white",
            "showbackground": true,
            "ticks": "",
            "zerolinecolor": "white"
           },
           "yaxis": {
            "backgroundcolor": "#E5ECF6",
            "gridcolor": "white",
            "gridwidth": 2,
            "linecolor": "white",
            "showbackground": true,
            "ticks": "",
            "zerolinecolor": "white"
           },
           "zaxis": {
            "backgroundcolor": "#E5ECF6",
            "gridcolor": "white",
            "gridwidth": 2,
            "linecolor": "white",
            "showbackground": true,
            "ticks": "",
            "zerolinecolor": "white"
           }
          },
          "shapedefaults": {
           "line": {
            "color": "#2a3f5f"
           }
          },
          "ternary": {
           "aaxis": {
            "gridcolor": "white",
            "linecolor": "white",
            "ticks": ""
           },
           "baxis": {
            "gridcolor": "white",
            "linecolor": "white",
            "ticks": ""
           },
           "bgcolor": "#E5ECF6",
           "caxis": {
            "gridcolor": "white",
            "linecolor": "white",
            "ticks": ""
           }
          },
          "title": {
           "x": 0.05
          },
          "xaxis": {
           "automargin": true,
           "gridcolor": "white",
           "linecolor": "white",
           "ticks": "",
           "title": {
            "standoff": 15
           },
           "zerolinecolor": "white",
           "zerolinewidth": 2
          },
          "yaxis": {
           "automargin": true,
           "gridcolor": "white",
           "linecolor": "white",
           "ticks": "",
           "title": {
            "standoff": 15
           },
           "zerolinecolor": "white",
           "zerolinewidth": 2
          }
         }
        },
        "width": 1000,
        "xaxis": {
         "anchor": "y",
         "domain": [
          0,
          1
         ],
         "title": {
          "text": "StateAbbreviation"
         }
        },
        "yaxis": {
         "anchor": "x",
         "domain": [
          0,
          1
         ],
         "title": {
          "text": "PercentTurnout"
         }
        }
       }
      }
     },
     "metadata": {}
    }
   ],
   "source": [
    "Turnout2008 = pe.bar(PercentTurnoutDF2008, x=\"StateAbbreviation\", y=\"PercentTurnout\",\n",
    "             barmode='group',\n",
    "             height=400, width=1000)\n",
    "Turnout2008.show()"
   ]
  },
  {
   "cell_type": "code",
   "execution_count": 20,
   "metadata": {},
   "outputs": [
    {
     "output_type": "error",
     "ename": "SyntaxError",
     "evalue": "invalid syntax (<ipython-input-20-ace6bd1ef2ea>, line 6)",
     "traceback": [
      "\u001b[0;36m  File \u001b[0;32m\"<ipython-input-20-ace6bd1ef2ea>\"\u001b[0;36m, line \u001b[0;32m6\u001b[0m\n\u001b[0;31m    ])\u001b[0m\n\u001b[0m    ^\u001b[0m\n\u001b[0;31mSyntaxError\u001b[0m\u001b[0;31m:\u001b[0m invalid syntax\n"
     ]
    }
   ],
   "source": [
    "import plotly.graph_objects as go\n",
    "\n",
    "fig = go.Figure(data=PercentTurnoutDF2008[\n",
    "    go.Bar(name='Percent Turnout', x=\"StateAbbreviation\", y=\"PercentTurnout\",\n",
    "    go.Bar(name='Percent Registered', x=\"StateAbbreviation\", y=\"PercentOfRegisteredVoters\")\n",
    "])\n",
    "# Change the bar mode\n",
    "fig.update_layout(barmode='group')\n",
    "fig.show()"
   ]
  },
  {
   "cell_type": "code",
   "execution_count": null,
   "metadata": {},
   "outputs": [],
   "source": []
  }
 ],
 "metadata": {
  "language_info": {
   "codemirror_mode": {
    "name": "ipython",
    "version": 3
   },
   "file_extension": ".py",
   "mimetype": "text/x-python",
   "name": "python",
   "nbconvert_exporter": "python",
   "pygments_lexer": "ipython3",
   "version": 3
  },
  "orig_nbformat": 2,
  "kernelspec": {
   "name": "python_defaultSpec_1604872246912",
   "display_name": "Python 3.7.7 64-bit ('PythonData': conda)"
  }
 },
 "nbformat": 4,
 "nbformat_minor": 2
}