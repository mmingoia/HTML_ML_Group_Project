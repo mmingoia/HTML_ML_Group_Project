{
  "cells": [
    {
      "cell_type": "code",
      "metadata": {
        "id": "WGbu2rIckIrE",
        "colab_type": "code",
        "colab": {
          "base_uri": "https://localhost:8080/",
          "height": 780
        },
        "outputId": "5c5d4b89-e2f8-4a52-ea8c-717ef1f86c7c"
      },
      "source": [
        "import datetime as dt\n",
        "import numpy as np\n",
        "import pandas as pd\n",
        "import sqlalchemy\n",
        "import psycopg2\n",
        "from sqlalchemy.ext.automap import automap_base\n",
        "from sqlalchemy.orm import Session\n",
        "from sqlalchemy import create_engine, func\n",
        "from flask import Flask, jsonify\n",
        "from flask import Flask, render_template"
      ],
      "execution_count": 1,
      "outputs": []
    },
    {
      "cell_type": "code",
      "execution_count": 2,
      "metadata": {},
      "outputs": [],
      "source": [
        "t_host = \"provisionaldb2.cpvxmi357s0k.us-east-2.rds.amazonaws.com\" # either \"localhost\", a domain name, or an IP address.\n",
        "t_port = \"5432\" # default postgres port\n",
        "t_dbname = \"GroupProjectDB\"\n",
        "t_user = \"postgres\"\n",
        "t_pw = \"postgres\"\n",
        "db_conn = psycopg2.connect(host=t_host, port=t_port, dbname=t_dbname, user=t_user, password=t_pw)\n",
        "db_cursor = db_conn.cursor()"
      ]
    },
    {
      "cell_type": "code",
      "execution_count": 3,
      "metadata": {},
      "outputs": [],
      "source": [
        "s = \"SELECT yearstate FROM turnoutanalysisdata\""
      ]
    },
    {
      "cell_type": "code",
      "execution_count": 4,
      "metadata": {},
      "outputs": [],
      "source": [
        "db_cursor.execute(s)"
      ]
    },
    {
      "cell_type": "code",
      "execution_count": 5,
      "metadata": {},
      "outputs": [],
      "source": [
        "list_data = db_cursor.fetchall()"
      ]
    },
    {
      "cell_type": "code",
      "execution_count": 6,
      "metadata": {},
      "outputs": [],
      "source": [
        "  #Testing connection\n",
        "  #  for i in range(len(list_data)):\n",
        "   #     print(\"Year State \" + list_data[i][0] + \"\\n\")"
      ]
    },
    {
      "cell_type": "code",
      "execution_count": 7,
      "metadata": {},
      "outputs": [],
      "source": [
        "# Read data from PostgreSQL database table and load into a DataFrame instance\n",
        "DashboardDataDF =  pd.read_sql(\"select * from \\\"turnoutanalysisdata\\\"\", db_conn)"
      ]
    },
    {
      "cell_type": "code",
      "execution_count": 10,
      "metadata": {},
      "outputs": [
        {
          "output_type": "execute_result",
          "data": {
            "text/plain": "    yearstate  electionyear stateabbreviation      statename  voterturnout  \\\n0     2008-AL          2008                AL        Alabama         0.608   \n1     2008-AK          2008                AK         Alaska         0.680   \n2     2008-AZ          2008                AZ        Arizona         0.567   \n3     2008-AR          2008                AR       Arkansas         0.525   \n4     2008-CA          2008                CA     California         0.609   \n..        ...           ...               ...            ...           ...   \n296   2018-VA          2018                VA       Virginia         0.544   \n297   2018-WA          2018                WA     Washington         0.583   \n298   2018-WV          2018                WV  West Virginia         0.425   \n299   2018-WI          2018                WI      Wisconsin         0.614   \n300   2018-WY          2018                WY        Wyoming         0.479   \n\n     competivness  website_pollingplace  website_reg_status  \\\n0        0.215800                     0                 0.0   \n1        0.215300                     0                 0.0   \n2        0.085200                     0                 0.0   \n3        0.198600                     1                 1.0   \n4        0.240600                     0                 0.0   \n..            ...                   ...                 ...   \n296      0.149201                     1                 1.0   \n297      0.247115                     1                 1.0   \n298      0.071460                     1                 1.0   \n299      0.102147                     1                 1.0   \n300      0.353485                     1                 1.0   \n\n     website_precinct_ballot  website_absentee_status  ...  nonvoter_reg_pct  \\\n0                        NaN                      NaN  ...          0.075939   \n1                        NaN                      NaN  ...          0.052107   \n2                        NaN                      NaN  ...          0.091859   \n3                        NaN                      NaN  ...          0.037977   \n4                        NaN                      NaN  ...          0.085750   \n..                       ...                      ...  ...               ...   \n296                      1.0                      1.0  ...          0.026476   \n297                      1.0                      1.0  ...          0.075943   \n298                      1.0                      1.0  ...          0.030747   \n299                      1.0                      1.0  ...          0.009670   \n300                      0.0                      0.0  ...          0.022555   \n\n     online_reg       wait  residual  pct_reg_of_vep_vrs  midterm  \\\n0           0.0  14.260800       NaN            0.852208        0   \n1           0.0   5.712700  0.003495            0.875693        0   \n2           1.0  23.714240  0.011796            0.829416        0   \n3           0.0  21.483610  0.008528            0.742385        0   \n4           0.0  13.643650  0.013190            0.824846        0   \n..          ...        ...       ...                 ...      ...   \n296         1.0   5.906732       NaN            0.874413        1   \n297         1.0   2.604187       NaN            0.855181        1   \n298         1.0   6.583784       NaN            0.778394        1   \n299         1.0   6.090339       NaN            0.828831        1   \n300         0.0   2.375983       NaN            0.750195        1   \n\n     percentcitizenwhite  percentcitizenblack  percentcitizenasian  \\\n0               0.725617             0.257051             0.002350   \n1               0.735043             0.032051             0.036325   \n2               0.699448             0.043656             0.019189   \n3               0.816749             0.148276             0.002956   \n4               0.552255             0.075449             0.117437   \n..                   ...                  ...                  ...   \n296             0.659622             0.195739             0.063745   \n297             0.746940             0.044376             0.068095   \n298             0.929191             0.033960             0.004335   \n299             0.875000             0.055633             0.018389   \n300             0.872038             0.009479             0.002370   \n\n     percentcitizenhispanic  \n0                  0.002056  \n1                  0.027778  \n2                  0.190933  \n3                  0.009852  \n4                  0.238036  \n..                      ...  \n296                0.056123  \n297                0.089518  \n298                0.014451  \n299                0.033054  \n300                0.087678  \n\n[301 rows x 31 columns]",
            "text/html": "<div>\n<style scoped>\n    .dataframe tbody tr th:only-of-type {\n        vertical-align: middle;\n    }\n\n    .dataframe tbody tr th {\n        vertical-align: top;\n    }\n\n    .dataframe thead th {\n        text-align: right;\n    }\n</style>\n<table border=\"1\" class=\"dataframe\">\n  <thead>\n    <tr style=\"text-align: right;\">\n      <th></th>\n      <th>yearstate</th>\n      <th>electionyear</th>\n      <th>stateabbreviation</th>\n      <th>statename</th>\n      <th>voterturnout</th>\n      <th>competivness</th>\n      <th>website_pollingplace</th>\n      <th>website_reg_status</th>\n      <th>website_precinct_ballot</th>\n      <th>website_absentee_status</th>\n      <th>...</th>\n      <th>nonvoter_reg_pct</th>\n      <th>online_reg</th>\n      <th>wait</th>\n      <th>residual</th>\n      <th>pct_reg_of_vep_vrs</th>\n      <th>midterm</th>\n      <th>percentcitizenwhite</th>\n      <th>percentcitizenblack</th>\n      <th>percentcitizenasian</th>\n      <th>percentcitizenhispanic</th>\n    </tr>\n  </thead>\n  <tbody>\n    <tr>\n      <th>0</th>\n      <td>2008-AL</td>\n      <td>2008</td>\n      <td>AL</td>\n      <td>Alabama</td>\n      <td>0.608</td>\n      <td>0.215800</td>\n      <td>0</td>\n      <td>0.0</td>\n      <td>NaN</td>\n      <td>NaN</td>\n      <td>...</td>\n      <td>0.075939</td>\n      <td>0.0</td>\n      <td>14.260800</td>\n      <td>NaN</td>\n      <td>0.852208</td>\n      <td>0</td>\n      <td>0.725617</td>\n      <td>0.257051</td>\n      <td>0.002350</td>\n      <td>0.002056</td>\n    </tr>\n    <tr>\n      <th>1</th>\n      <td>2008-AK</td>\n      <td>2008</td>\n      <td>AK</td>\n      <td>Alaska</td>\n      <td>0.680</td>\n      <td>0.215300</td>\n      <td>0</td>\n      <td>0.0</td>\n      <td>NaN</td>\n      <td>NaN</td>\n      <td>...</td>\n      <td>0.052107</td>\n      <td>0.0</td>\n      <td>5.712700</td>\n      <td>0.003495</td>\n      <td>0.875693</td>\n      <td>0</td>\n      <td>0.735043</td>\n      <td>0.032051</td>\n      <td>0.036325</td>\n      <td>0.027778</td>\n    </tr>\n    <tr>\n      <th>2</th>\n      <td>2008-AZ</td>\n      <td>2008</td>\n      <td>AZ</td>\n      <td>Arizona</td>\n      <td>0.567</td>\n      <td>0.085200</td>\n      <td>0</td>\n      <td>0.0</td>\n      <td>NaN</td>\n      <td>NaN</td>\n      <td>...</td>\n      <td>0.091859</td>\n      <td>1.0</td>\n      <td>23.714240</td>\n      <td>0.011796</td>\n      <td>0.829416</td>\n      <td>0</td>\n      <td>0.699448</td>\n      <td>0.043656</td>\n      <td>0.019189</td>\n      <td>0.190933</td>\n    </tr>\n    <tr>\n      <th>3</th>\n      <td>2008-AR</td>\n      <td>2008</td>\n      <td>AR</td>\n      <td>Arkansas</td>\n      <td>0.525</td>\n      <td>0.198600</td>\n      <td>1</td>\n      <td>1.0</td>\n      <td>NaN</td>\n      <td>NaN</td>\n      <td>...</td>\n      <td>0.037977</td>\n      <td>0.0</td>\n      <td>21.483610</td>\n      <td>0.008528</td>\n      <td>0.742385</td>\n      <td>0</td>\n      <td>0.816749</td>\n      <td>0.148276</td>\n      <td>0.002956</td>\n      <td>0.009852</td>\n    </tr>\n    <tr>\n      <th>4</th>\n      <td>2008-CA</td>\n      <td>2008</td>\n      <td>CA</td>\n      <td>California</td>\n      <td>0.609</td>\n      <td>0.240600</td>\n      <td>0</td>\n      <td>0.0</td>\n      <td>NaN</td>\n      <td>NaN</td>\n      <td>...</td>\n      <td>0.085750</td>\n      <td>0.0</td>\n      <td>13.643650</td>\n      <td>0.013190</td>\n      <td>0.824846</td>\n      <td>0</td>\n      <td>0.552255</td>\n      <td>0.075449</td>\n      <td>0.117437</td>\n      <td>0.238036</td>\n    </tr>\n    <tr>\n      <th>...</th>\n      <td>...</td>\n      <td>...</td>\n      <td>...</td>\n      <td>...</td>\n      <td>...</td>\n      <td>...</td>\n      <td>...</td>\n      <td>...</td>\n      <td>...</td>\n      <td>...</td>\n      <td>...</td>\n      <td>...</td>\n      <td>...</td>\n      <td>...</td>\n      <td>...</td>\n      <td>...</td>\n      <td>...</td>\n      <td>...</td>\n      <td>...</td>\n      <td>...</td>\n      <td>...</td>\n    </tr>\n    <tr>\n      <th>296</th>\n      <td>2018-VA</td>\n      <td>2018</td>\n      <td>VA</td>\n      <td>Virginia</td>\n      <td>0.544</td>\n      <td>0.149201</td>\n      <td>1</td>\n      <td>1.0</td>\n      <td>1.0</td>\n      <td>1.0</td>\n      <td>...</td>\n      <td>0.026476</td>\n      <td>1.0</td>\n      <td>5.906732</td>\n      <td>NaN</td>\n      <td>0.874413</td>\n      <td>1</td>\n      <td>0.659622</td>\n      <td>0.195739</td>\n      <td>0.063745</td>\n      <td>0.056123</td>\n    </tr>\n    <tr>\n      <th>297</th>\n      <td>2018-WA</td>\n      <td>2018</td>\n      <td>WA</td>\n      <td>Washington</td>\n      <td>0.583</td>\n      <td>0.247115</td>\n      <td>1</td>\n      <td>1.0</td>\n      <td>1.0</td>\n      <td>1.0</td>\n      <td>...</td>\n      <td>0.075943</td>\n      <td>1.0</td>\n      <td>2.604187</td>\n      <td>NaN</td>\n      <td>0.855181</td>\n      <td>1</td>\n      <td>0.746940</td>\n      <td>0.044376</td>\n      <td>0.068095</td>\n      <td>0.089518</td>\n    </tr>\n    <tr>\n      <th>298</th>\n      <td>2018-WV</td>\n      <td>2018</td>\n      <td>WV</td>\n      <td>West Virginia</td>\n      <td>0.425</td>\n      <td>0.071460</td>\n      <td>1</td>\n      <td>1.0</td>\n      <td>1.0</td>\n      <td>1.0</td>\n      <td>...</td>\n      <td>0.030747</td>\n      <td>1.0</td>\n      <td>6.583784</td>\n      <td>NaN</td>\n      <td>0.778394</td>\n      <td>1</td>\n      <td>0.929191</td>\n      <td>0.033960</td>\n      <td>0.004335</td>\n      <td>0.014451</td>\n    </tr>\n    <tr>\n      <th>299</th>\n      <td>2018-WI</td>\n      <td>2018</td>\n      <td>WI</td>\n      <td>Wisconsin</td>\n      <td>0.614</td>\n      <td>0.102147</td>\n      <td>1</td>\n      <td>1.0</td>\n      <td>1.0</td>\n      <td>1.0</td>\n      <td>...</td>\n      <td>0.009670</td>\n      <td>1.0</td>\n      <td>6.090339</td>\n      <td>NaN</td>\n      <td>0.828831</td>\n      <td>1</td>\n      <td>0.875000</td>\n      <td>0.055633</td>\n      <td>0.018389</td>\n      <td>0.033054</td>\n    </tr>\n    <tr>\n      <th>300</th>\n      <td>2018-WY</td>\n      <td>2018</td>\n      <td>WY</td>\n      <td>Wyoming</td>\n      <td>0.479</td>\n      <td>0.353485</td>\n      <td>1</td>\n      <td>1.0</td>\n      <td>0.0</td>\n      <td>0.0</td>\n      <td>...</td>\n      <td>0.022555</td>\n      <td>0.0</td>\n      <td>2.375983</td>\n      <td>NaN</td>\n      <td>0.750195</td>\n      <td>1</td>\n      <td>0.872038</td>\n      <td>0.009479</td>\n      <td>0.002370</td>\n      <td>0.087678</td>\n    </tr>\n  </tbody>\n</table>\n<p>301 rows × 31 columns</p>\n</div>"
          },
          "metadata": {},
          "execution_count": 10
        }
      ],
      "source": [
        "DashboardDataDF"
      ]
    },
    {
      "cell_type": "code",
      "execution_count": 9,
      "metadata": {},
      "outputs": [
        {
          "output_type": "error",
          "ename": "TypeError",
          "evalue": "'Index' object is not callable",
          "traceback": [
            "\u001b[0;31m---------------------------------------------------------------------------\u001b[0m",
            "\u001b[0;31mTypeError\u001b[0m                                 Traceback (most recent call last)",
            "\u001b[0;32m<ipython-input-9-e26a4c4dcdf9>\u001b[0m in \u001b[0;36m<module>\u001b[0;34m\u001b[0m\n\u001b[0;32m----> 1\u001b[0;31m \u001b[0mDashboardDataDF\u001b[0m\u001b[0;34m.\u001b[0m\u001b[0mcolumns\u001b[0m\u001b[0;34m(\u001b[0m\u001b[0;34m)\u001b[0m\u001b[0;34m\u001b[0m\u001b[0;34m\u001b[0m\u001b[0m\n\u001b[0m",
            "\u001b[0;31mTypeError\u001b[0m: 'Index' object is not callable"
          ]
        }
      ],
      "source": []
    },
    {
      "cell_type": "code",
      "execution_count": null,
      "metadata": {},
      "outputs": [],
      "source": []
    }
  ],
  "metadata": {
    "colab": {
      "name": "ETLExample.ipynb",
      "provenance": [],
      "collapsed_sections": []
    },
    "kernelspec": {
      "name": "python_defaultSpec_1604712211103",
      "display_name": "Python 3.7.7 64-bit ('PythonData': conda)",
      "metadata": {
        "interpreter": {
          "hash": "8eb93c95bd66bb1c37e84a7a0539426e5182ed0a06a9d52f414e0eeb4198a997"
        }
      }
    }
  },
  "nbformat": 4,
  "nbformat_minor": 0
}