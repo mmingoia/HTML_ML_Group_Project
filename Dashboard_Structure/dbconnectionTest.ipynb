{
  "nbformat": 4,
  "nbformat_minor": 0,
  "metadata": {
    "colab": {
      "name": "ETLExample.ipynb",
      "provenance": [],
      "collapsed_sections": []
    },
    "kernelspec": {
      "name": "Python 3.7.7 64-bit ('PythonData': conda)",
      "display_name": "Python 3.7.7 64-bit ('PythonData': conda)",
      "metadata": {
        "interpreter": {
          "hash": "8eb93c95bd66bb1c37e84a7a0539426e5182ed0a06a9d52f414e0eeb4198a997"
        }
      }
    }
  },
  "cells": [
    {
      "cell_type": "code",
      "metadata": {
        "id": "WGbu2rIckIrE",
        "colab_type": "code",
        "colab": {
          "base_uri": "https://localhost:8080/",
          "height": 780
        },
        "outputId": "5c5d4b89-e2f8-4a52-ea8c-717ef1f86c7c"
      },
      "source": [
        "import datetime as dt\n",
        "import numpy as np\n",
        "import pandas as pd\n",
        "import sqlalchemy\n",
        "import psycopg2\n",
        "from sqlalchemy.ext.automap import automap_base\n",
        "from sqlalchemy.orm import Session\n",
        "from sqlalchemy import create_engine, func\n",
        "from flask import Flask, jsonify\n",
        "from flask import Flask, render_template"
      ],
      "execution_count": 1,
      "outputs": []
    },
    {
      "cell_type": "code",
      "execution_count": 2,
      "metadata": {},
      "outputs": [],
      "source": [
        "t_host = \"provisionaldb2.cpvxmi357s0k.us-east-2.rds.amazonaws.com\" # either \"localhost\", a domain name, or an IP address.\n",
        "t_port = \"5432\" # default postgres port\n",
        "t_dbname = \"GroupProjectDB\"\n",
        "t_user = \"postgres\"\n",
        "t_pw = \"postgres\"\n",
        "db_conn = psycopg2.connect(host=t_host, port=t_port, dbname=t_dbname, user=t_user, password=t_pw)\n",
        "db_cursor = db_conn.cursor()"
      ]
    },
    {
      "cell_type": "code",
      "execution_count": 3,
      "metadata": {},
      "outputs": [],
      "source": [
        "s = \"SELECT yearstate FROM turnoutanalysisdata\""
      ]
    },
    {
      "cell_type": "code",
      "execution_count": 4,
      "metadata": {},
      "outputs": [],
      "source": [
        "db_cursor.execute(s)"
      ]
    },
    {
      "cell_type": "code",
      "execution_count": 5,
      "metadata": {},
      "outputs": [],
      "source": [
        "list_data = db_cursor.fetchall()"
      ]
    },
    {
      "cell_type": "code",
      "execution_count": 10,
      "metadata": {},
      "outputs": [
        {
          "output_type": "stream",
          "name": "stdout",
          "text": [
            "Year State 2008-AL\n\nYear State 2008-AK\n\nYear State 2008-AZ\n\nYear State 2008-AR\n\nYear State 2008-CA\n\nYear State 2008-CO\n\nYear State 2008-CT\n\nYear State 2008-DE\n\nYear State 2008-FL\n\nYear State 2008-GA\n\nYear State 2008-HI\n\nYear State 2008-ID\n\nYear State 2008-IL\n\nYear State 2008-IN\n\nYear State 2008-IA\n\nYear State 2008-KS\n\nYear State 2008-KY\n\nYear State 2008-LA\n\nYear State 2008-ME\n\nYear State 2008-MD\n\nYear State 2008-MA\n\nYear State 2008-MI\n\nYear State 2008-MN\n\nYear State 2008-MS\n\nYear State 2008-MO\n\nYear State 2008-MT\n\nYear State 2008-NE\n\nYear State 2008-NV\n\nYear State 2008-NH\n\nYear State 2008-NJ\n\nYear State 2008-NM\n\nYear State 2008-NY\n\nYear State 2008-NC\n\nYear State 2008-ND\n\nYear State 2008-OH\n\nYear State 2008-OK\n\nYear State 2008-OR\n\nYear State 2008-PA\n\nYear State 2008-RI\n\nYear State 2008-SC\n\nYear State 2008-SD\n\nYear State 2008-TN\n\nYear State 2008-TX\n\nYear State 2008-UT\n\nYear State 2008-VT\n\nYear State 2008-VA\n\nYear State 2008-WA\n\nYear State 2008-WV\n\nYear State 2008-WI\n\nYear State 2008-WY\n\nYear State 2012-AL\n\nYear State 2012-AK\n\nYear State 2012-AZ\n\nYear State 2012-AR\n\nYear State 2012-CA\n\nYear State 2012-CO\n\nYear State 2012-CT\n\nYear State 2012-DE\n\nYear State 2012-FL\n\nYear State 2012-GA\n\nYear State 2012-HI\n\nYear State 2012-ID\n\nYear State 2012-IL\n\nYear State 2012-IN\n\nYear State 2012-IA\n\nYear State 2012-KS\n\nYear State 2012-KY\n\nYear State 2012-LA\n\nYear State 2012-ME\n\nYear State 2012-MD\n\nYear State 2012-MA\n\nYear State 2012-MI\n\nYear State 2012-MN\n\nYear State 2012-MS\n\nYear State 2012-MO\n\nYear State 2012-MT\n\nYear State 2012-NE\n\nYear State 2012-NV\n\nYear State 2012-NH\n\nYear State 2012-NJ\n\nYear State 2012-NM\n\nYear State 2012-NY\n\nYear State 2012-NC\n\nYear State 2012-ND\n\nYear State 2012-OH\n\nYear State 2012-OK\n\nYear State 2012-OR\n\nYear State 2012-PA\n\nYear State 2012-RI\n\nYear State 2012-SC\n\nYear State 2012-SD\n\nYear State 2012-TN\n\nYear State 2012-TX\n\nYear State 2012-UT\n\nYear State 2012-VT\n\nYear State 2012-VA\n\nYear State 2012-WA\n\nYear State 2012-WV\n\nYear State 2012-WI\n\nYear State 2012-WY\n\nYear State 2016-AL\n\nYear State 2016-AK\n\nYear State 2016-AZ\n\nYear State 2016-AR\n\nYear State 2016-CA\n\nYear State 2016-CO\n\nYear State 2016-CT\n\nYear State 2016-DE\n\nYear State 2016-FL\n\nYear State 2016-GA\n\nYear State 2016-HI\n\nYear State 2016-ID\n\nYear State 2016-IL\n\nYear State 2016-IN\n\nYear State 2016-IA\n\nYear State 2016-KS\n\nYear State 2016-KY\n\nYear State 2016-LA\n\nYear State 2016-ME\n\nYear State 2016-MD\n\nYear State 2016-MA\n\nYear State 2016-MI\n\nYear State 2016-MN\n\nYear State 2016-MS\n\nYear State 2016-MO\n\nYear State 2016-MT\n\nYear State 2016-NE\n\nYear State 2016-NV\n\nYear State 2016-NH\n\nYear State 2016-NJ\n\nYear State 2016-NM\n\nYear State 2016-NY\n\nYear State 2016-NC\n\nYear State 2016-ND\n\nYear State 2016-OH\n\nYear State 2016-OK\n\nYear State 2016-OR\n\nYear State 2016-PA\n\nYear State 2016-RI\n\nYear State 2016-SC\n\nYear State 2016-SD\n\nYear State 2016-TN\n\nYear State 2016-TX\n\nYear State 2016-UT\n\nYear State 2016-VT\n\nYear State 2016-VA\n\nYear State 2016-WA\n\nYear State 2016-WV\n\nYear State 2016-WI\n\nYear State 2016-WY\n\nYear State 2010-AL\n\nYear State 2010-AK\n\nYear State 2010-AZ\n\nYear State 2010-AR\n\nYear State 2010-CA\n\nYear State 2010-CO\n\nYear State 2010-CT\n\nYear State 2010-DE\n\nYear State 2010-FL\n\nYear State 2010-GA\n\nYear State 2010-HI\n\nYear State 2010-ID\n\nYear State 2010-IL\n\nYear State 2010-IN\n\nYear State 2010-IA\n\nYear State 2010-KS\n\nYear State 2010-KY\n\nYear State 2010-LA\n\nYear State 2010-ME\n\nYear State 2010-MD\n\nYear State 2010-MA\n\nYear State 2010-MI\n\nYear State 2010-MN\n\nYear State 2010-MS\n\nYear State 2010-MO\n\nYear State 2010-MT\n\nYear State 2010-NE\n\nYear State 2010-NV\n\nYear State 2010-NH\n\nYear State 2010-NJ\n\nYear State 2010-NM\n\nYear State 2010-NY\n\nYear State 2010-NC\n\nYear State 2010-ND\n\nYear State 2010-OH\n\nYear State 2010-OK\n\nYear State 2010-OR\n\nYear State 2010-PA\n\nYear State 2010-RI\n\nYear State 2010-SC\n\nYear State 2010-SD\n\nYear State 2010-TN\n\nYear State 2010-TX\n\nYear State 2010-UT\n\nYear State 2010-VT\n\nYear State 2010-VA\n\nYear State 2010-WA\n\nYear State 2010-WV\n\nYear State 2010-WI\n\nYear State 2010-WY\n\nYear State 2014-AL\n\nYear State 2014-AK\n\nYear State 2014-AZ\n\nYear State 2014-AR\n\nYear State 2014-CA\n\nYear State 2014-CO\n\nYear State 2014-CT\n\nYear State 2014-DE\n\nYear State 2014-FL\n\nYear State 2014-GA\n\nYear State 2014-HI\n\nYear State 2014-ID\n\nYear State 2014-IL\n\nYear State 2014-IN\n\nYear State 2014-IA\n\nYear State 2014-KS\n\nYear State 2014-KY\n\nYear State 2014-LA\n\nYear State 2014-ME\n\nYear State 2014-MD\n\nYear State 2014-MA\n\nYear State 2014-MI\n\nYear State 2014-MN\n\nYear State 2014-MS\n\nYear State 2014-MO\n\nYear State 2014-MT\n\nYear State 2014-NE\n\nYear State 2014-NV\n\nYear State 2014-NH\n\nYear State 2014-NJ\n\nYear State 2014-NM\n\nYear State 2014-NY\n\nYear State 2014-NC\n\nYear State 2014-ND\n\nYear State 2014-OH\n\nYear State 2014-OK\n\nYear State 2014-OR\n\nYear State 2014-PA\n\nYear State 2014-RI\n\nYear State 2014-SC\n\nYear State 2014-SD\n\nYear State 2014-TN\n\nYear State 2014-TX\n\nYear State 2014-UT\n\nYear State 2014-VT\n\nYear State 2014-VA\n\nYear State 2014-WA\n\nYear State 2014-WV\n\nYear State 2014-WI\n\nYear State 2014-WY\n\nYear State 2018-AL\n\nYear State 2018-AK\n\nYear State 2018-AZ\n\nYear State 2018-AR\n\nYear State 2018-CA\n\nYear State 2018-CO\n\nYear State 2018-CT\n\nYear State 2018-DE\n\nYear State 2018-DC\n\nYear State 2018-FL\n\nYear State 2018-GA\n\nYear State 2018-HI\n\nYear State 2018-ID\n\nYear State 2018-IL\n\nYear State 2018-IN\n\nYear State 2018-IA\n\nYear State 2018-KS\n\nYear State 2018-KY\n\nYear State 2018-LA\n\nYear State 2018-ME\n\nYear State 2018-MD\n\nYear State 2018-MA\n\nYear State 2018-MI\n\nYear State 2018-MN\n\nYear State 2018-MS\n\nYear State 2018-MO\n\nYear State 2018-MT\n\nYear State 2018-NE\n\nYear State 2018-NV\n\nYear State 2018-NH\n\nYear State 2018-NJ\n\nYear State 2018-NM\n\nYear State 2018-NY\n\nYear State 2018-NC\n\nYear State 2018-ND\n\nYear State 2018-OH\n\nYear State 2018-OK\n\nYear State 2018-OR\n\nYear State 2018-PA\n\nYear State 2018-RI\n\nYear State 2018-SC\n\nYear State 2018-SD\n\nYear State 2018-TN\n\nYear State 2018-TX\n\nYear State 2018-UT\n\nYear State 2018-VT\n\nYear State 2018-VA\n\nYear State 2018-WA\n\nYear State 2018-WV\n\nYear State 2018-WI\n\nYear State 2018-WY\n\n"
          ]
        }
      ],
      "source": [
        "    for i in range(len(list_data)):\n",
        "        print(\"Year State \" + list_data[i][0] + \"\\n\")"
      ]
    },
    {
      "cell_type": "code",
      "execution_count": null,
      "metadata": {},
      "outputs": [],
      "source": []
    }
  ]
}